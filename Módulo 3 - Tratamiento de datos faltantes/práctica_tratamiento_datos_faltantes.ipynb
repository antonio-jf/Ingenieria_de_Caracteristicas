{
 "cells": [
  {
   "cell_type": "markdown",
   "metadata": {
    "id": "k113Yf1rMrs-"
   },
   "source": [
    "<img style=\"float: left;;\" src='Figures/iteso.jpg' width=\"100\" height=\"200\"/></a>\n",
    "\n",
    "# <center> <font color= #000047> Tratamiento de datos Faltantes Práctica</font> </center>"
   ]
  },
  {
   "cell_type": "markdown",
   "metadata": {
    "id": "cv7-A1V-UXZk"
   },
   "source": [
    "# Ejercicio 1:\n",
    "\n",
    "## Procesamiento de datos nulos\n"
   ]
  },
  {
   "cell_type": "markdown",
   "metadata": {
    "id": "b1DbRqOGOKz_"
   },
   "source": [
    "El dataset adult.csv fue extraído por Barry Becke de la base de datos de Censos de  1994. Contiene tanto variables numéricas como categóricas. La información de las variables y su contenido se presentan a continuación:\n",
    "\n",
    "**age:** continuo \n",
    "\n",
    "**workclass:** Private, Self-emp-not-inc, Self-emp-inc, Federal-gov, Local-gov, State-gov, Without-pay, Never-worked. \n",
    "\n",
    "**fnlwgt:** continuo. \n",
    "\n",
    "**education:** Bachelors, Some-college, 11th, HS-grad, Prof-school, Assoc-acdm, Assoc-voc, 9th, 7th-8th, 12th, Masters, 1st-4th, 10th, Doctorate, 5th-6th, Preschool. \n",
    "\n",
    "**education-num:** continuo. \n",
    "\n",
    "**marital-status:** Married-civ-spouse, Divorced, Never-married, Separated, Widowed, Married-spouse-absent, Married-AF-spouse. \n",
    "\n",
    "**occupation:** Tech-support, Craft-repair, Other-service, Sales, Exec-managerial, Prof-specialty, Handlers-cleaners, Machine-op-inspct, Adm-clerical, Farming-fishing, Transport-moving, Priv-house-serv, Protective-serv, Armed-Forces. \n",
    "\n",
    "**relationship:** Wife, Own-child, Husband, Not-in-family, Other-relative, Unmarried. \n",
    "\n",
    "**race:** White, Asian-Pac-Islander, Amer-Indian-Eskimo, Other, Black. \n",
    "\n",
    "**sex:** Female, Male. \n",
    "\n",
    "**capital-gain:** continuo. \n",
    "\n",
    "**capital-loss:** continuo. \n",
    "\n",
    "**hours-per-week:** continuo. \n",
    "\n",
    "**native-country:** United-States, Cambodia, England, Puerto-Rico, Canada, Germany, Outlying-US(Guam-USVI-etc), India, Japan, Greece, South, China, Cuba, Iran, Honduras, Philippines, Italy, Poland, Jamaica, Vietnam, Mexico, Portugal, Ireland, France, Dominican-Republic, Laos, Ecuador, Taiwan, Haiti, Columbia, Hungary, Guatemala, Nicaragua, Scotland, Thailand, Yugoslavia, El-Salvador, Trinadad&Tobago, Peru, Hong, Holand-Netherlands."
   ]
  },
  {
   "cell_type": "code",
   "execution_count": null,
   "metadata": {
    "id": "LBd42EOZ73kb"
   },
   "outputs": [],
   "source": [
    "import pandas as pd\n",
    "from matplotlib import pyplot as plt\n",
    "df=pd.read_csv('adult.csv') "
   ]
  },
  {
   "cell_type": "code",
   "execution_count": null,
   "metadata": {
    "colab": {
     "base_uri": "https://localhost:8080/",
     "height": 316
    },
    "id": "tzJR--BvJIBB",
    "outputId": "33072414-14e0-41cd-914d-be2d9bd00731"
   },
   "outputs": [],
   "source": [
    "df.head()"
   ]
  },
  {
   "cell_type": "markdown",
   "metadata": {
    "id": "bDTdexkg8Mha"
   },
   "source": [
    "**1.1- Encontrar el número de valores faltantes por columna**"
   ]
  },
  {
   "cell_type": "code",
   "execution_count": null,
   "metadata": {
    "colab": {
     "base_uri": "https://localhost:8080/",
     "height": 289
    },
    "id": "XLO7RwAS758J",
    "outputId": "f74dc4a2-7fdf-422d-d65d-66cfc3c5778d"
   },
   "outputs": [],
   "source": []
  },
  {
   "cell_type": "markdown",
   "metadata": {},
   "source": [
    "**1.2.- Encontrar el porcentaje de información faltante**"
   ]
  },
  {
   "cell_type": "code",
   "execution_count": null,
   "metadata": {
    "colab": {
     "base_uri": "https://localhost:8080/",
     "height": 289
    },
    "id": "hgpbqN9Y8vmz",
    "outputId": "35471a40-58bf-438a-bff9-2c7157d87fbe"
   },
   "outputs": [],
   "source": [
    "# Porcentaje de información faltante\n"
   ]
  },
  {
   "cell_type": "markdown",
   "metadata": {},
   "source": [
    "## Tratamiento de Datos Faltantes"
   ]
  },
  {
   "cell_type": "markdown",
   "metadata": {
    "id": "YLf7L32I9Btl"
   },
   "source": [
    " \n",
    "1.  Reemplazar con un valor constante\n",
    "2.  Reemplazar con un valor estadístico  (promedio, media, moda )\n",
    "3.  Ignorar la fila de datos\n"
   ]
  },
  {
   "cell_type": "markdown",
   "metadata": {
    "id": "8ePjiNh8_jBc"
   },
   "source": [
    "## Ignorar fila de datos\n",
    "\n",
    "**1.3.- El comando `dropna()` permite eliminar las filas y/o columnas en las que hayan datos faltantes. Cree una copia del dataset (`df_copy`) y elimine las filas y/o columnas de `df_copy` y el dataframe resultante guardelo en `df_filtered`.**"
   ]
  },
  {
   "cell_type": "code",
   "execution_count": null,
   "metadata": {},
   "outputs": [],
   "source": []
  },
  {
   "cell_type": "code",
   "execution_count": null,
   "metadata": {
    "id": "8Dn_mQbR_zLg"
   },
   "outputs": [],
   "source": []
  },
  {
   "cell_type": "code",
   "execution_count": null,
   "metadata": {
    "colab": {
     "base_uri": "https://localhost:8080/",
     "height": 67
    },
    "id": "vn7dg2X1AM6u",
    "outputId": "e31a5ed6-26bf-4a2b-8a13-0ceca0437e16"
   },
   "outputs": [],
   "source": [
    "#Sustituya None por lo que corresponda\n",
    "print('Número de filas iniciales', None)\n",
    "print('Número de filas después de filtrar', None)\n",
    "print('Porcentaje de filas eliminadas',None)"
   ]
  },
  {
   "cell_type": "markdown",
   "metadata": {
    "id": "r_P2_HhmCCLe"
   },
   "source": [
    "**1.4.- Note que los índices no cambian. Lo que realiza es la eliminación de la fila (por ejemplo la 14 no está), pero mantiene la indexación. Por tanto, estos no coinciden con el número total de filas. Para reasignar los índices se puede hacer uso del comando `reset_index(drop=True, inplace=True)`. Realice un reseteo del índice de df_filtered.**"
   ]
  },
  {
   "cell_type": "code",
   "execution_count": null,
   "metadata": {
    "id": "adhecv_2CTPA"
   },
   "outputs": [],
   "source": []
  },
  {
   "cell_type": "markdown",
   "metadata": {
    "id": "-ACDLQ-RBPz8"
   },
   "source": [
    "**1.5.- Se puede usar el argumento `subset` en el método dropna para seleccionar solo las columnas sobre las que se desea analizar si hay valores nulos para eliminar las filas. Elimine los datos nulos de `df_copy` para la columna: native-country** "
   ]
  },
  {
   "cell_type": "code",
   "execution_count": null,
   "metadata": {},
   "outputs": [],
   "source": []
  },
  {
   "cell_type": "markdown",
   "metadata": {
    "id": "QjdnLa4JDODa"
   },
   "source": [
    "## Llenado con valores vecinos\n",
    "\n",
    "**1.6.-El comando `fillna()` tiene el argumento `method` que permite hacer un llenado hacia atrás ('bfill') o hacia adelante ('ffill'). Utilice `bfill` y `bfill` con el método `fillna` para el dataframe `df_copy` de los índices 25 hasta 30. Tenga en cuenta que al usar ésta opción si el dato con el que se intenta hacer el llenado también es un NaN, éste permanece.**"
   ]
  },
  {
   "cell_type": "code",
   "execution_count": null,
   "metadata": {
    "colab": {
     "base_uri": "https://localhost:8080/",
     "height": 343
    },
    "id": "zVtmiOQND4-g",
    "outputId": "c3b40f09-f59f-46d6-e716-1c7fad000bc7"
   },
   "outputs": [],
   "source": []
  },
  {
   "cell_type": "code",
   "execution_count": null,
   "metadata": {
    "colab": {
     "base_uri": "https://localhost:8080/",
     "height": 343
    },
    "id": "30JsrTp7Dp-r",
    "outputId": "1457158f-6a85-49c6-fc23-ee0dcfe2b995"
   },
   "outputs": [],
   "source": []
  },
  {
   "cell_type": "markdown",
   "metadata": {
    "id": "PdW_nqqpJ237"
   },
   "source": [
    "## Llenado de datos usando sklearn\n",
    "\n"
   ]
  },
  {
   "cell_type": "markdown",
   "metadata": {
    "id": "fMDq2jrnNAeY"
   },
   "source": [
    "**1.7.- Es posible también usar el metodo 'SimpleImputer' de la libreria sklearn para hacer llenado, éste nos permite definir cual estrategia usar para el llenado de los datos (media, mediana o moda). importe la clase `SimpleImputer` de `sklearn.impute`. Aplique el llenado de los datos nulos mediante la estrategia 'most_frequent'**"
   ]
  },
  {
   "cell_type": "code",
   "execution_count": null,
   "metadata": {
    "colab": {
     "base_uri": "https://localhost:8080/",
     "height": 279
    },
    "id": "3JWrMndDKwOB",
    "outputId": "33b1344b-232a-42ef-b09b-4c9a8507c3f2"
   },
   "outputs": [],
   "source": []
  },
  {
   "cell_type": "markdown",
   "metadata": {
    "id": "tN2r1caMMvAQ"
   },
   "source": [
    "\n",
    "# Ejemplo2: Preprocesado de datos con datos faltantes\n"
   ]
  },
  {
   "cell_type": "markdown",
   "metadata": {
    "id": "pRAYQDogZ0yr"
   },
   "source": [
    "Trataremos un ejemplo de una base de datos de una tabla de características de marcas de carros."
   ]
  },
  {
   "cell_type": "code",
   "execution_count": null,
   "metadata": {
    "id": "y8-iWqavbaoE"
   },
   "outputs": [],
   "source": []
  },
  {
   "cell_type": "markdown",
   "metadata": {
    "id": "69fQkpx1cGyI"
   },
   "source": [
    "### Lectura de los datos desde un url"
   ]
  },
  {
   "cell_type": "code",
   "execution_count": null,
   "metadata": {
    "id": "5sZHvpPqbqzr"
   },
   "outputs": [],
   "source": [
    "archivo = \"https://s3-api.us-geo.objectstorage.softlayer.net/cf-courses-data/CognitiveClass/DA0101EN/auto.csv\""
   ]
  },
  {
   "cell_type": "markdown",
   "metadata": {
    "id": "Hq-dV0N8cVKn"
   },
   "source": [
    "### Cabecera"
   ]
  },
  {
   "cell_type": "code",
   "execution_count": null,
   "metadata": {
    "id": "llFJjCx-cMPb"
   },
   "outputs": [],
   "source": [
    "headers = [\"symboling\",\"normalized-losses\",\"make\",\"fuel-type\",\"aspiration\", \"num-of-doors\",\"body-style\",\n",
    "         \"drive-wheels\",\"engine-location\",\"wheel-base\", \"length\",\"width\",\"height\",\"curb-weight\",\"engine-type\",\n",
    "         \"num-of-cylinders\", \"engine-size\",\"fuel-system\",\"bore\",\"stroke\",\"compression-ratio\",\"horsepower\",\n",
    "         \"peak-rpm\",\"city-mpg\",\"highway-mpg\",\"price\"]"
   ]
  },
  {
   "cell_type": "markdown",
   "metadata": {
    "id": "fupH_mkickj0"
   },
   "source": [
    "### Carga de datos desde el url\n",
    "\n",
    "Para esto usamos el método `read_csv()`"
   ]
  },
  {
   "cell_type": "code",
   "execution_count": null,
   "metadata": {
    "id": "jVUmT3u8cZ9g"
   },
   "outputs": [],
   "source": [
    "df = pd.read_csv(archivo, names = headers)"
   ]
  },
  {
   "cell_type": "markdown",
   "metadata": {
    "id": "9ubmfMU_c3xx"
   },
   "source": [
    "**2.1.- Inspección del archivo. Recordemos que podemos usar el método head().**"
   ]
  },
  {
   "cell_type": "code",
   "execution_count": null,
   "metadata": {
    "colab": {
     "base_uri": "https://localhost:8080/",
     "height": 299
    },
    "id": "NxstRO2GczBe",
    "outputId": "f243b0bf-0296-43ab-a8a9-fae3dc57a9cd"
   },
   "outputs": [],
   "source": []
  },
  {
   "cell_type": "markdown",
   "metadata": {
    "id": "3pd2EIDidHG9"
   },
   "source": [
    "**Podemos observar que muchas de las entradas están etiquetadas con el símbolo `?`. Esto corresponde datos faltantes que pueden dificultar un análisis posterior.**\n",
    "\n",
    "Los pasos que debemos seguir a continuación son:\n",
    "\n",
    "> 1.   Identificar los valores faltantes\n",
    "> 2.   Tratar los valores faltantes.\n",
    "> 3.   Corregir el formato de los datos.\n"
   ]
  },
  {
   "cell_type": "markdown",
   "metadata": {
    "id": "LBJ2AECseJ75"
   },
   "source": [
    "#### Identificación de valores faltantes y tratamiento.\n"
   ]
  },
  {
   "cell_type": "markdown",
   "metadata": {
    "id": "O0Nlya09eay-"
   },
   "source": [
    "**2.2.-Conversión de `?` a `NaN`. Quienes llenaron esta tabla, identificaron los valores faltantes como `?`.  Por razones de tiempo de computo y conveniencia, replazaremos estos signos de interrogación por `NaN`, para lo cual debemos importantar antes la librería numéricas de python numpy. Realice el reemplazo del caracter `?` por np.nan.**\n",
    "\n",
    "**Hint: puede hacer uso del método `replace()` de pandas.**"
   ]
  },
  {
   "cell_type": "code",
   "execution_count": null,
   "metadata": {
    "colab": {
     "base_uri": "https://localhost:8080/",
     "height": 309
    },
    "id": "ulNb4KK8diL6",
    "outputId": "37c5ddd3-1656-45be-a7f6-aae7744816ef"
   },
   "outputs": [],
   "source": []
  },
  {
   "cell_type": "markdown",
   "metadata": {
    "id": "qdYJgpbhfvbG"
   },
   "source": [
    "**2.3.- Identificación y conteo de valores faltantes. Aplique el método `isnull()` y utilice la función de agregación `sum()` guarde este onbjeto tipo serie en la variable `datos_faltantes`.- Comente cuales son las columnas con el número y porcentaje de datos faltantes**"
   ]
  },
  {
   "cell_type": "code",
   "execution_count": null,
   "metadata": {
    "colab": {
     "base_uri": "https://localhost:8080/",
     "height": 476
    },
    "id": "c4CMjE7RgDyT",
    "outputId": "8b596eef-b7ba-4dbb-9e77-81ae0f4490ab"
   },
   "outputs": [],
   "source": []
  },
  {
   "cell_type": "markdown",
   "metadata": {
    "id": "ZA50X7gBjrtC"
   },
   "source": [
    "### Tratamiento de los datos faltantes\n",
    "\n",
    "<ol>\n",
    "    <li>Eliminar el dato entero<br>\n",
    "        a. Eliminar la fila entera<br>\n",
    "        b. Eliminar la columna entera\n",
    "    </li>\n",
    "    <li>Reemplazar el dato<br>\n",
    "        a. Reemplazar por la media<br>\n",
    "        b. Reemplazar por la moda<br>\n",
    "        c. Reemplazar basados en otra función\n",
    "    </li>\n",
    "</ol>"
   ]
  },
  {
   "cell_type": "markdown",
   "metadata": {
    "id": "9zQg9S97kgOc"
   },
   "source": [
    "Solo debemos eliminar una columna si la mayoria de entradas son vacias. En nuestro caso, ninguna de las columnas cumplen con este criterio como para ser eliminadas. \n",
    "\n",
    "En este caso tenemos cierta libertad para aplicar diferences métodos de llenado de datos faltantes; no obstante, algunos métodos pueden resultar más adecuados que otros. Aplique los siguientes métodos para cada columna:\n"
   ]
  },
  {
   "cell_type": "markdown",
   "metadata": {},
   "source": [
    "\n",
    "**2.4.- Reemplazo por la media:**\n",
    "<ul>\n",
    "    <li>\"normalized-losses\"</li>\n",
    "    <li>\"stroke\"</li>\n",
    "    <li>\"bore\"</li>\n",
    "    <li>\"horsepower\"</li>\n",
    "    <li>\"peak-rpm\"</li>\n",
    "</ul>\n",
    "\n",
    "**2.5.- Replace por la moda:**\n",
    "<ul>\n",
    "    <li>\"num-of-doors\" \n",
    "        <ul>\n",
    "            <li>Razón: 84% de los sedan son 4 puertas. Dado que los carros cuatro puertas son los más frecuentes, la probabilidad de ocurrencia es mayor.</li>\n",
    "        </ul>\n",
    "    </li>\n",
    "</ul>\n",
    "\n",
    "**2.5.- Eliminación de una fila entera:**\n",
    "<ul>\n",
    "    <li>\"price\": 4 datos faltantes\n",
    "        <ul>\n",
    "            <li>Razón: Como, eventualmente, el precio es algo que se puede predecir, ninguna entrada sin precio puede ser usada para una predicción; por ende, cualquier fila sin precio no será útil.</li>\n",
    "        </ul>\n",
    "    </li>\n",
    "</ul>"
   ]
  },
  {
   "cell_type": "code",
   "execution_count": null,
   "metadata": {},
   "outputs": [],
   "source": []
  },
  {
   "cell_type": "markdown",
   "metadata": {
    "id": "uMRKEg60srEb"
   },
   "source": [
    "### Corrección de datos\n",
    "\n",
    "**El último paso en el preprocesado de los datos consiste en revisar de que todos los datos estén en el formato adecuado(int, float, text u otro).**\n",
    "\n",
    "**Podemos usar en Pandas**\n",
    "<p><b>.dtypes()</b>  para ver el tipo</p>\n",
    "<p><b>.astype()</b> para cambiar el tipo</p>"
   ]
  },
  {
   "cell_type": "markdown",
   "metadata": {
    "id": "SZGBYLf8tS1m"
   },
   "source": [
    "**2.6.- obtenga la lista de tipos de dato del dataframe**"
   ]
  },
  {
   "cell_type": "code",
   "execution_count": null,
   "metadata": {
    "colab": {
     "base_uri": "https://localhost:8080/",
     "height": 470
    },
    "id": "YgDt4jo5sTqT",
    "outputId": "bb423554-e2b7-4007-86dc-1265634d5141"
   },
   "outputs": [],
   "source": []
  },
  {
   "cell_type": "markdown",
   "metadata": {
    "id": "WckNYiM5tbzo"
   },
   "source": [
    "**2.7.- Se puede observa que algunas columnas no tienen el tipo correcto. Las variables numéricas deben ser de tipo 'float' o 'int', y las variables con caracteres, como categorias, deben ser del tipo 'object'. Por ejemplo, 'bore' (diámetro del cilindro) y 'stroke' (ciclos/tiempos) son variables numéricas que describen el motor, esperamos entonces que sean de tipo 'float' o 'int'; no obstante, son de tipo 'object'. convierta los tipos de datos a un tipo adecuado usantdo el método \"astype()\".**\n"
   ]
  },
  {
   "cell_type": "code",
   "execution_count": null,
   "metadata": {
    "id": "kdRYH7CytVtQ"
   },
   "outputs": [],
   "source": []
  },
  {
   "cell_type": "code",
   "execution_count": null,
   "metadata": {
    "id": "3KndFXXhzGtG"
   },
   "outputs": [],
   "source": []
  }
 ],
 "metadata": {
  "colab": {
   "collapsed_sections": [],
   "include_colab_link": true,
   "name": "s04.ipynb",
   "provenance": []
  },
  "kernelspec": {
   "display_name": "Python 3 (ipykernel)",
   "language": "python",
   "name": "python3"
  },
  "language_info": {
   "codemirror_mode": {
    "name": "ipython",
    "version": 3
   },
   "file_extension": ".py",
   "mimetype": "text/x-python",
   "name": "python",
   "nbconvert_exporter": "python",
   "pygments_lexer": "ipython3",
   "version": "3.8.8"
  }
 },
 "nbformat": 4,
 "nbformat_minor": 1
}
