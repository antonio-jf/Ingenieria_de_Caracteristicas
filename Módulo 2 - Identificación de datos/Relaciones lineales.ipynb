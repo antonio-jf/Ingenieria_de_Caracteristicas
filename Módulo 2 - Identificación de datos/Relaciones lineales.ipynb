{
 "cells": [
  {
   "cell_type": "markdown",
   "metadata": {},
   "source": [
    "<img style=\"float: left;;\" src='Figures/iteso.jpg' width=\"100\" height=\"200\"/></a>\n",
    "\n",
    "# <center> <font color= #000047> Relaciones Lineales </font> </center>"
   ]
  },
  {
   "cell_type": "markdown",
   "metadata": {
    "id": "6PKkey4K6NGc"
   },
   "source": [
    "---\n",
    "# Relaciones lineales"
   ]
  },
  {
   "cell_type": "code",
   "execution_count": null,
   "metadata": {
    "colab": {
     "base_uri": "https://localhost:8080/",
     "height": 270
    },
    "executionInfo": {
     "elapsed": 7,
     "status": "ok",
     "timestamp": 1675213872173,
     "user": {
      "displayName": "Carlos Arellano",
      "userId": "03055712073717640513"
     },
     "user_tz": 360
    },
    "id": "9QE4Nf-3_QXV",
    "outputId": "6d48738e-56bb-46e1-9315-9a01766e606c"
   },
   "outputs": [],
   "source": []
  },
  {
   "cell_type": "markdown",
   "metadata": {
    "id": "5XZXxtumZ8FB"
   },
   "source": [
    "## Relación entre `flavanoids` y `ash`"
   ]
  },
  {
   "cell_type": "code",
   "execution_count": null,
   "metadata": {
    "colab": {
     "base_uri": "https://localhost:8080/",
     "height": 265
    },
    "executionInfo": {
     "elapsed": 440,
     "status": "ok",
     "timestamp": 1675213872607,
     "user": {
      "displayName": "Carlos Arellano",
      "userId": "03055712073717640513"
     },
     "user_tz": 360
    },
    "id": "dWcGFt9QZ86k",
    "outputId": "e01d29d9-79c2-427c-b921-857fadb3a209"
   },
   "outputs": [],
   "source": [
    "# Gráfica flavanoids vs ash\n"
   ]
  },
  {
   "cell_type": "markdown",
   "metadata": {
    "id": "Wz9YVB2PaBop"
   },
   "source": [
    "## Relación entre `alcalinity_of_ash` y `ash`"
   ]
  },
  {
   "cell_type": "code",
   "execution_count": null,
   "metadata": {
    "colab": {
     "base_uri": "https://localhost:8080/",
     "height": 265
    },
    "executionInfo": {
     "elapsed": 437,
     "status": "ok",
     "timestamp": 1675213875191,
     "user": {
      "displayName": "Carlos Arellano",
      "userId": "03055712073717640513"
     },
     "user_tz": 360
    },
    "id": "E_1qsGLUZ_H6",
    "outputId": "65ab0f0d-223e-4265-a253-84e95c0b8fda"
   },
   "outputs": [],
   "source": [
    "# Gráfica alcalinity_of_ash vs ash\n"
   ]
  },
  {
   "cell_type": "markdown",
   "metadata": {
    "id": "1hhjqsGEaG9e"
   },
   "source": [
    "Encontrar la mejor función lineal que relacione a las variables"
   ]
  },
  {
   "cell_type": "code",
   "execution_count": null,
   "metadata": {
    "executionInfo": {
     "elapsed": 193,
     "status": "ok",
     "timestamp": 1675213912077,
     "user": {
      "displayName": "Carlos Arellano",
      "userId": "03055712073717640513"
     },
     "user_tz": 360
    },
    "id": "IFQnP_V1h5D8"
   },
   "outputs": [],
   "source": []
  },
  {
   "cell_type": "code",
   "execution_count": null,
   "metadata": {
    "executionInfo": {
     "elapsed": 165,
     "status": "ok",
     "timestamp": 1675214218750,
     "user": {
      "displayName": "Carlos Arellano",
      "userId": "03055712073717640513"
     },
     "user_tz": 360
    },
    "id": "5IdQZadRaMeE"
   },
   "outputs": [],
   "source": [
    "# Definimos 'fun', el criterio de minimizacion\n",
    "#\n",
    "# ash=a[0]+a[1]*flavanoids\n"
   ]
  },
  {
   "cell_type": "code",
   "execution_count": null,
   "metadata": {
    "colab": {
     "base_uri": "https://localhost:8080/"
    },
    "executionInfo": {
     "elapsed": 162,
     "status": "ok",
     "timestamp": 1675214359391,
     "user": {
      "displayName": "Carlos Arellano",
      "userId": "03055712073717640513"
     },
     "user_tz": 360
    },
    "id": "DDYiTS6JjGQQ",
    "outputId": "33c5ad6d-181e-4e4d-bb80-e179753a3a70"
   },
   "outputs": [],
   "source": []
  },
  {
   "cell_type": "markdown",
   "metadata": {
    "id": "wgFvzX5-kDE1"
   },
   "source": [
    "---\n",
    "La ecuación óptima que relaciona `flavanoids` y `ash` es \n",
    "$$\n",
    "ash=2.3+0.0316\\;flavanoids,\n",
    "$$\n",
    "con un $mse=0.07385$."
   ]
  },
  {
   "cell_type": "code",
   "execution_count": null,
   "metadata": {
    "colab": {
     "base_uri": "https://localhost:8080/",
     "height": 265
    },
    "executionInfo": {
     "elapsed": 616,
     "status": "ok",
     "timestamp": 1675214759662,
     "user": {
      "displayName": "Carlos Arellano",
      "userId": "03055712073717640513"
     },
     "user_tz": 360
    },
    "id": "xlNbzIkbaNVk",
    "outputId": "8f7b2a35-92bc-430e-bd1f-85d9605f6fb0"
   },
   "outputs": [],
   "source": [
    "# Flavanoids vs ash\n",
    " # 'r'=red\n",
    " # Cuadrícula de fondo"
   ]
  },
  {
   "cell_type": "code",
   "execution_count": null,
   "metadata": {
    "colab": {
     "base_uri": "https://localhost:8080/"
    },
    "executionInfo": {
     "elapsed": 153,
     "status": "ok",
     "timestamp": 1675214944465,
     "user": {
      "displayName": "Carlos Arellano",
      "userId": "03055712073717640513"
     },
     "user_tz": 360
    },
    "id": "hQAd_gPeaPbm",
    "outputId": "333e681c-d5b6-4ea8-b797-f6cf49df9239"
   },
   "outputs": [],
   "source": [
    "# Función lineal que relaciona Ash vs su alcalinidad\n",
    "#\n",
    "# Usamos la misma función 'fun' (criterio de optimización) y las mismas condiciones iniciales 'a0'\n"
   ]
  },
  {
   "cell_type": "markdown",
   "metadata": {
    "id": "JRMjZ9KxmV1b"
   },
   "source": [
    "---\n",
    "La ecuación óptima que relaciona `alcalinity_of_ash` con `ash` es\n",
    "$$\n",
    "ash=1.656+0.0364\\;alcalinity\\_of\\_ash,\n",
    "$$\n",
    "con un $mse=0.06013$."
   ]
  },
  {
   "cell_type": "code",
   "execution_count": null,
   "metadata": {
    "colab": {
     "base_uri": "https://localhost:8080/",
     "height": 265
    },
    "executionInfo": {
     "elapsed": 439,
     "status": "ok",
     "timestamp": 1675215262584,
     "user": {
      "displayName": "Carlos Arellano",
      "userId": "03055712073717640513"
     },
     "user_tz": 360
    },
    "id": "Skc6TRdFmwft",
    "outputId": "67a46f5b-b0c3-49a1-86df-8b05831dbd3b"
   },
   "outputs": [],
   "source": []
  },
  {
   "cell_type": "markdown",
   "metadata": {
    "id": "jS-QYE-zaUOS"
   },
   "source": [
    "### Relación lineal entre `ash` vs (`alcalinity_of_ash` y `flavanoids`)"
   ]
  },
  {
   "cell_type": "code",
   "execution_count": null,
   "metadata": {},
   "outputs": [],
   "source": []
  },
  {
   "cell_type": "code",
   "execution_count": null,
   "metadata": {},
   "outputs": [],
   "source": []
  }
 ],
 "metadata": {
  "colab": {
   "authorship_tag": "ABX9TyNkivbAWaZ3leJ2iVs6pLkj",
   "provenance": []
  },
  "kernelspec": {
   "display_name": "Python 3 (ipykernel)",
   "language": "python",
   "name": "python3"
  },
  "language_info": {
   "codemirror_mode": {
    "name": "ipython",
    "version": 3
   },
   "file_extension": ".py",
   "mimetype": "text/x-python",
   "name": "python",
   "nbconvert_exporter": "python",
   "pygments_lexer": "ipython3",
   "version": "3.8.8"
  }
 },
 "nbformat": 4,
 "nbformat_minor": 1
}
