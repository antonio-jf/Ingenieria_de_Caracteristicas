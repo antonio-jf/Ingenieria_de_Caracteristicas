{
 "cells": [
  {
   "cell_type": "markdown",
   "metadata": {},
   "source": [
    "<img style=\"float: left;;\" src='Figures/iteso.jpg' width=\"100\" height=\"200\"/></a>\n",
    "\n",
    "# <center> <font color= #000047> Potencias </font> </center>"
   ]
  },
  {
   "cell_type": "code",
   "execution_count": 1,
   "metadata": {
    "colab": {
     "base_uri": "https://localhost:8080/",
     "height": 206
    },
    "executionInfo": {
     "elapsed": 6333,
     "status": "ok",
     "timestamp": 1681262830008,
     "user": {
      "displayName": "Carlos Arellano",
      "userId": "03055712073717640513"
     },
     "user_tz": 360
    },
    "id": "teAtpGFO113Y",
    "outputId": "56042a7f-9ee0-43c1-9091-4f23a326de48"
   },
   "outputs": [
    {
     "data": {
      "text/html": [
       "<div>\n",
       "<style scoped>\n",
       "    .dataframe tbody tr th:only-of-type {\n",
       "        vertical-align: middle;\n",
       "    }\n",
       "\n",
       "    .dataframe tbody tr th {\n",
       "        vertical-align: top;\n",
       "    }\n",
       "\n",
       "    .dataframe thead th {\n",
       "        text-align: right;\n",
       "    }\n",
       "</style>\n",
       "<table border=\"1\" class=\"dataframe\">\n",
       "  <thead>\n",
       "    <tr style=\"text-align: right;\">\n",
       "      <th></th>\n",
       "      <th>0</th>\n",
       "      <th>1</th>\n",
       "      <th>2</th>\n",
       "    </tr>\n",
       "  </thead>\n",
       "  <tbody>\n",
       "    <tr>\n",
       "      <th>0</th>\n",
       "      <td>0.255228</td>\n",
       "      <td>0.902346</td>\n",
       "      <td>0.733752</td>\n",
       "    </tr>\n",
       "    <tr>\n",
       "      <th>1</th>\n",
       "      <td>0.226339</td>\n",
       "      <td>0.925600</td>\n",
       "      <td>0.385178</td>\n",
       "    </tr>\n",
       "    <tr>\n",
       "      <th>2</th>\n",
       "      <td>0.205234</td>\n",
       "      <td>0.921390</td>\n",
       "      <td>0.547819</td>\n",
       "    </tr>\n",
       "    <tr>\n",
       "      <th>3</th>\n",
       "      <td>0.231553</td>\n",
       "      <td>0.885718</td>\n",
       "      <td>0.880428</td>\n",
       "    </tr>\n",
       "    <tr>\n",
       "      <th>4</th>\n",
       "      <td>0.185737</td>\n",
       "      <td>0.889161</td>\n",
       "      <td>0.953430</td>\n",
       "    </tr>\n",
       "  </tbody>\n",
       "</table>\n",
       "</div>"
      ],
      "text/plain": [
       "          0         1         2\n",
       "0  0.255228  0.902346  0.733752\n",
       "1  0.226339  0.925600  0.385178\n",
       "2  0.205234  0.921390  0.547819\n",
       "3  0.231553  0.885718  0.880428\n",
       "4  0.185737  0.889161  0.953430"
      ]
     },
     "execution_count": 1,
     "metadata": {},
     "output_type": "execute_result"
    }
   ],
   "source": [
    "import pandas as pd\n",
    "import numpy as np\n",
    "import matplotlib.pyplot as plt\n",
    "from sklearn.model_selection import train_test_split\n",
    "from sklearn.linear_model import LinearRegression\n",
    "\n",
    "df=pd.read_csv('numericos.csv')\n",
    "df.head()"
   ]
  },
  {
   "cell_type": "code",
   "execution_count": 2,
   "metadata": {
    "colab": {
     "base_uri": "https://localhost:8080/"
    },
    "executionInfo": {
     "elapsed": 7,
     "status": "ok",
     "timestamp": 1681262830008,
     "user": {
      "displayName": "Carlos Arellano",
      "userId": "03055712073717640513"
     },
     "user_tz": 360
    },
    "id": "M3RaTHSX2NLN",
    "outputId": "73920af0-6d7a-426a-cca6-adf304dec616"
   },
   "outputs": [
    {
     "data": {
      "text/plain": [
       "0    6.000314\n",
       "1   -2.772736\n",
       "2   -1.012379\n",
       "dtype: float64"
      ]
     },
     "execution_count": 2,
     "metadata": {},
     "output_type": "execute_result"
    }
   ],
   "source": [
    "df.skew()"
   ]
  },
  {
   "cell_type": "code",
   "execution_count": 3,
   "metadata": {
    "colab": {
     "base_uri": "https://localhost:8080/",
     "height": 487
    },
    "executionInfo": {
     "elapsed": 1965,
     "status": "ok",
     "timestamp": 1681262831969,
     "user": {
      "displayName": "Carlos Arellano",
      "userId": "03055712073717640513"
     },
     "user_tz": 360
    },
    "id": "pkkN6dAZ8qPq",
    "outputId": "afb7e6b7-3be1-4eb6-dc70-e2c6d8a68024"
   },
   "outputs": [
    {
     "data": {
      "text/plain": [
       "array([[<AxesSubplot:title={'center':'0'}>,\n",
       "        <AxesSubplot:title={'center':'1'}>],\n",
       "       [<AxesSubplot:title={'center':'2'}>, <AxesSubplot:>]], dtype=object)"
      ]
     },
     "execution_count": 3,
     "metadata": {},
     "output_type": "execute_result"
    },
    {
     "data": {
      "image/png": "[encoded data removed]",
      "text/plain": [
       "<Figure size 432x288 with 4 Axes>"
      ]
     },
     "metadata": {
      "needs_background": "light"
     },
     "output_type": "display_data"
    }
   ],
   "source": [
    "df.hist(bins=50)"
   ]
  },
  {
   "cell_type": "code",
   "execution_count": 4,
   "metadata": {
    "executionInfo": {
     "elapsed": 22,
     "status": "ok",
     "timestamp": 1681262831971,
     "user": {
      "displayName": "Carlos Arellano",
      "userId": "03055712073717640513"
     },
     "user_tz": 360
    },
    "id": "Uc7pUPwe8vRR"
   },
   "outputs": [],
   "source": [
    "# Compensando la variable '0'\n",
    "df_copia=df.copy()\n",
    "x=df['0']-df['0'].min()+1 # Variable desplazada a 1"
   ]
  },
  {
   "cell_type": "code",
   "execution_count": 8,
   "metadata": {
    "colab": {
     "base_uri": "https://localhost:8080/"
    },
    "executionInfo": {
     "elapsed": 21,
     "status": "ok",
     "timestamp": 1681262831972,
     "user": {
      "displayName": "Carlos Arellano",
      "userId": "03055712073717640513"
     },
     "user_tz": 360
    },
    "id": "PRsY3yb1_aI4",
    "outputId": "b5f4e8c3-2b93-4d58-8406-d7dbbd1a9eef"
   },
   "outputs": [
    {
     "data": {
      "text/plain": [
       "0.04181647238238833"
      ]
     },
     "execution_count": 8,
     "metadata": {},
     "output_type": "execute_result"
    }
   ],
   "source": [
    "a=-11\n",
    "df_copia['0']=x**a\n",
    "df_copia['0'].skew()"
   ]
  },
  {
   "cell_type": "code",
   "execution_count": 9,
   "metadata": {
    "executionInfo": {
     "elapsed": 14,
     "status": "ok",
     "timestamp": 1681262831973,
     "user": {
      "displayName": "Carlos Arellano",
      "userId": "03055712073717640513"
     },
     "user_tz": 360
    },
    "id": "oBH4rMjl_k1i"
   },
   "outputs": [],
   "source": [
    "# Compensando la variable '1'\n",
    "x=df['1']-df['1'].min()+1"
   ]
  },
  {
   "cell_type": "code",
   "execution_count": 12,
   "metadata": {
    "colab": {
     "base_uri": "https://localhost:8080/"
    },
    "executionInfo": {
     "elapsed": 193,
     "status": "ok",
     "timestamp": 1681262832153,
     "user": {
      "displayName": "Carlos Arellano",
      "userId": "03055712073717640513"
     },
     "user_tz": 360
    },
    "id": "sE9vurlh_6iI",
    "outputId": "e60f94cc-4d60-4aa3-ef66-c550fea801ff"
   },
   "outputs": [
    {
     "data": {
      "text/plain": [
       "-0.027448039332947635"
      ]
     },
     "execution_count": 12,
     "metadata": {},
     "output_type": "execute_result"
    }
   ],
   "source": [
    "a=17\n",
    "df_copia['1']=x**a\n",
    "df_copia['1'].skew()"
   ]
  },
  {
   "cell_type": "code",
   "execution_count": 13,
   "metadata": {
    "executionInfo": {
     "elapsed": 4,
     "status": "ok",
     "timestamp": 1681262832153,
     "user": {
      "displayName": "Carlos Arellano",
      "userId": "03055712073717640513"
     },
     "user_tz": 360
    },
    "id": "OvXMIeM3AHWA"
   },
   "outputs": [],
   "source": [
    "# Compensando la variable '2'\n",
    "x=df['2']-df['2'].min()+1"
   ]
  },
  {
   "cell_type": "code",
   "execution_count": 18,
   "metadata": {
    "colab": {
     "base_uri": "https://localhost:8080/"
    },
    "executionInfo": {
     "elapsed": 5,
     "status": "ok",
     "timestamp": 1681262832154,
     "user": {
      "displayName": "Carlos Arellano",
      "userId": "03055712073717640513"
     },
     "user_tz": 360
    },
    "id": "NWeNdmGBAe5Y",
    "outputId": "ac499246-22e3-4834-9d7e-2c35ba5cc3c4"
   },
   "outputs": [
    {
     "data": {
      "text/plain": [
       "0.03113961761990119"
      ]
     },
     "execution_count": 18,
     "metadata": {},
     "output_type": "execute_result"
    }
   ],
   "source": [
    "a=3\n",
    "df_copia['2']=x**a\n",
    "df_copia['2'].skew()"
   ]
  },
  {
   "cell_type": "markdown",
   "metadata": {
    "id": "uOWcXOB3As8T"
   },
   "source": [
    "Aplicando una transformación de la forma\n",
    "$$\n",
    "x'=x^a,\n",
    "$$\n",
    "donde $x\\in[1,\\infty)$, obtuvimos los siguientes exponentes para cada variable\n",
    "\n",
    "Variable|Sesgo original|$a$\n",
    "--|--|--\n",
    "'0'|6.0|-11\n",
    "'1'|-2.77|17\n",
    "'2'|-1.01|3"
   ]
  },
  {
   "cell_type": "markdown",
   "metadata": {
    "id": "LlvY1ep72NkA"
   },
   "source": [
    "---\n",
    "\n",
    "# Familia de transformaciones de potencia\n",
    "$$\n",
    "x'=\\frac{x^\\lambda-1}{\\lambda},\n",
    "$$\n",
    "haciendo $\\displaystyle\\lim_{\\lambda\\rightarrow0}\\frac{x^\\lambda-1}{\\lambda}$ se tiene\n",
    "$$\n",
    "x'=\\ln(x).\n",
    "$$"
   ]
  },
  {
   "cell_type": "code",
   "execution_count": 19,
   "metadata": {
    "executionInfo": {
     "elapsed": 3,
     "status": "ok",
     "timestamp": 1681262832154,
     "user": {
      "displayName": "Carlos Arellano",
      "userId": "03055712073717640513"
     },
     "user_tz": 360
    },
    "id": "fCH369ys2O_K"
   },
   "outputs": [
    {
     "data": {
      "text/plain": [
       "array([ 0.1,  0.2,  0.3,  0.4,  0.5,  0.6,  0.7,  0.8,  0.9,  1. ,  1.1,\n",
       "        1.2,  1.3,  1.4,  1.5,  1.6,  1.7,  1.8,  1.9,  2. ,  2.1,  2.2,\n",
       "        2.3,  2.4,  2.5,  2.6,  2.7,  2.8,  2.9,  3. ,  3.1,  3.2,  3.3,\n",
       "        3.4,  3.5,  3.6,  3.7,  3.8,  3.9,  4. ,  4.1,  4.2,  4.3,  4.4,\n",
       "        4.5,  4.6,  4.7,  4.8,  4.9,  5. ,  5.1,  5.2,  5.3,  5.4,  5.5,\n",
       "        5.6,  5.7,  5.8,  5.9,  6. ,  6.1,  6.2,  6.3,  6.4,  6.5,  6.6,\n",
       "        6.7,  6.8,  6.9,  7. ,  7.1,  7.2,  7.3,  7.4,  7.5,  7.6,  7.7,\n",
       "        7.8,  7.9,  8. ,  8.1,  8.2,  8.3,  8.4,  8.5,  8.6,  8.7,  8.8,\n",
       "        8.9,  9. ,  9.1,  9.2,  9.3,  9.4,  9.5,  9.6,  9.7,  9.8,  9.9,\n",
       "       10. ])"
      ]
     },
     "execution_count": 19,
     "metadata": {},
     "output_type": "execute_result"
    }
   ],
   "source": [
    "LMB=[-1,0.5,0,2,3,4]\n",
    "x=np.linspace(0.1,10,100)\n",
    "x"
   ]
  },
  {
   "cell_type": "code",
   "execution_count": 20,
   "metadata": {
    "executionInfo": {
     "elapsed": 3,
     "status": "ok",
     "timestamp": 1681262832154,
     "user": {
      "displayName": "Carlos Arellano",
      "userId": "03055712073717640513"
     },
     "user_tz": 360
    },
    "id": "GtilXDt_Ccea"
   },
   "outputs": [],
   "source": [
    "def potencia(x,lmb):\n",
    "    if lmb==0:\n",
    "        return np.log(x)\n",
    "    else:\n",
    "        return (x**lmb-1)/lmb"
   ]
  },
  {
   "cell_type": "code",
   "execution_count": 21,
   "metadata": {
    "colab": {
     "base_uri": "https://localhost:8080/",
     "height": 435
    },
    "executionInfo": {
     "elapsed": 1491,
     "status": "ok",
     "timestamp": 1681262833642,
     "user": {
      "displayName": "Carlos Arellano",
      "userId": "03055712073717640513"
     },
     "user_tz": 360
    },
    "id": "GPNmfg3iCuAX",
    "outputId": "f2cc3129-7c00-4220-8669-eb357ac536f3"
   },
   "outputs": [
    {
     "data": {
      "image/png": "[encoded data removed]",
      "text/plain": [
       "<Figure size 432x288 with 1 Axes>"
      ]
     },
     "metadata": {
      "needs_background": "light"
     },
     "output_type": "display_data"
    }
   ],
   "source": [
    "for lmb in LMB:\n",
    "    xp=potencia(x,lmb)\n",
    "    plt.plot(x,xp,label='$x^{('+str(lmb)+')}$')\n",
    "plt.plot(x,x-1,'--k')\n",
    "plt.legend()\n",
    "plt.ylim([-0.1,10])\n",
    "plt.grid()"
   ]
  },
  {
   "cell_type": "markdown",
   "metadata": {
    "id": "RdeCVBSn2PR7"
   },
   "source": [
    "## Transformación Box-Cox\n",
    "$$\n",
    "x'=\\left\\{\\begin{array}{lr}\n",
    "\\dfrac{x^\\lambda-1}{\\lambda} & \\lambda\\neq0\\\\\n",
    "\\ln(x) & \\lambda=0\n",
    "\\end{array}\\right.\n",
    "$$"
   ]
  },
  {
   "cell_type": "code",
   "execution_count": 22,
   "metadata": {
    "executionInfo": {
     "elapsed": 4,
     "status": "ok",
     "timestamp": 1681262833642,
     "user": {
      "displayName": "Carlos Arellano",
      "userId": "03055712073717640513"
     },
     "user_tz": 360
    },
    "id": "ZPOoSbeZ2RlK"
   },
   "outputs": [],
   "source": [
    "from scipy.stats import boxcox"
   ]
  },
  {
   "cell_type": "code",
   "execution_count": 23,
   "metadata": {
    "colab": {
     "base_uri": "https://localhost:8080/",
     "height": 205
    },
    "executionInfo": {
     "elapsed": 453,
     "status": "ok",
     "timestamp": 1681262834092,
     "user": {
      "displayName": "Carlos Arellano",
      "userId": "03055712073717640513"
     },
     "user_tz": 360
    },
    "id": "CV0QbpDJ2R1D",
    "outputId": "7d842639-6b43-4bac-8cce-38be17e84222"
   },
   "outputs": [
    {
     "data": {
      "text/html": [
       "<div>\n",
       "<style scoped>\n",
       "    .dataframe tbody tr th:only-of-type {\n",
       "        vertical-align: middle;\n",
       "    }\n",
       "\n",
       "    .dataframe tbody tr th {\n",
       "        vertical-align: top;\n",
       "    }\n",
       "\n",
       "    .dataframe thead th {\n",
       "        text-align: right;\n",
       "    }\n",
       "</style>\n",
       "<table border=\"1\" class=\"dataframe\">\n",
       "  <thead>\n",
       "    <tr style=\"text-align: right;\">\n",
       "      <th></th>\n",
       "      <th>1.0</th>\n",
       "      <th>1.1</th>\n",
       "      <th>1.2</th>\n",
       "      <th>1.4</th>\n",
       "      <th>1.5</th>\n",
       "      <th>2.5</th>\n",
       "      <th>3.0</th>\n",
       "      <th>0.7</th>\n",
       "      <th>0.6</th>\n",
       "      <th>0.8</th>\n",
       "      <th>...</th>\n",
       "      <th>0.4</th>\n",
       "      <th>-1.0</th>\n",
       "      <th>-0.8</th>\n",
       "      <th>-0.6</th>\n",
       "      <th>-0.5</th>\n",
       "      <th>-2.0</th>\n",
       "      <th>-1.5</th>\n",
       "      <th>-1.3</th>\n",
       "      <th>-2.5</th>\n",
       "      <th>-3.0</th>\n",
       "    </tr>\n",
       "  </thead>\n",
       "  <tbody>\n",
       "    <tr>\n",
       "      <th>0</th>\n",
       "      <td>4.287419</td>\n",
       "      <td>4.078224</td>\n",
       "      <td>2.410316</td>\n",
       "      <td>1.864664</td>\n",
       "      <td>11.968746</td>\n",
       "      <td>-0.403019</td>\n",
       "      <td>0.473020</td>\n",
       "      <td>4.975822</td>\n",
       "      <td>3.037414</td>\n",
       "      <td>2.892491</td>\n",
       "      <td>...</td>\n",
       "      <td>0.838508</td>\n",
       "      <td>5.541238</td>\n",
       "      <td>4.947706</td>\n",
       "      <td>3.559693</td>\n",
       "      <td>7.864133</td>\n",
       "      <td>22.867150</td>\n",
       "      <td>22.242351</td>\n",
       "      <td>22.833589</td>\n",
       "      <td>21.672629</td>\n",
       "      <td>2.851895</td>\n",
       "    </tr>\n",
       "    <tr>\n",
       "      <th>1</th>\n",
       "      <td>6.692587</td>\n",
       "      <td>6.596364</td>\n",
       "      <td>-0.467649</td>\n",
       "      <td>4.196815</td>\n",
       "      <td>9.522961</td>\n",
       "      <td>-0.366849</td>\n",
       "      <td>0.211353</td>\n",
       "      <td>1.000911</td>\n",
       "      <td>1.497043</td>\n",
       "      <td>2.665020</td>\n",
       "      <td>...</td>\n",
       "      <td>1.213810</td>\n",
       "      <td>4.015426</td>\n",
       "      <td>7.715773</td>\n",
       "      <td>6.496774</td>\n",
       "      <td>5.833801</td>\n",
       "      <td>18.040815</td>\n",
       "      <td>22.122988</td>\n",
       "      <td>18.310630</td>\n",
       "      <td>21.197021</td>\n",
       "      <td>3.053828</td>\n",
       "    </tr>\n",
       "  </tbody>\n",
       "</table>\n",
       "<p>2 rows × 21 columns</p>\n",
       "</div>"
      ],
      "text/plain": [
       "        1.0       1.1       1.2       1.4        1.5       2.5       3.0  \\\n",
       "0  4.287419  4.078224  2.410316  1.864664  11.968746 -0.403019  0.473020   \n",
       "1  6.692587  6.596364 -0.467649  4.196815   9.522961 -0.366849  0.211353   \n",
       "\n",
       "        0.7       0.6       0.8  ...       0.4      -1.0      -0.8      -0.6  \\\n",
       "0  4.975822  3.037414  2.892491  ...  0.838508  5.541238  4.947706  3.559693   \n",
       "1  1.000911  1.497043  2.665020  ...  1.213810  4.015426  7.715773  6.496774   \n",
       "\n",
       "       -0.5       -2.0       -1.5       -1.3       -2.5      -3.0  \n",
       "0  7.864133  22.867150  22.242351  22.833589  21.672629  2.851895  \n",
       "1  5.833801  18.040815  22.122988  18.310630  21.197021  3.053828  \n",
       "\n",
       "[2 rows x 21 columns]"
      ]
     },
     "execution_count": 23,
     "metadata": {},
     "output_type": "execute_result"
    }
   ],
   "source": [
    "sesgo=pd.read_csv('sesgo.csv')\n",
    "sesgo.head(2)"
   ]
  },
  {
   "cell_type": "code",
   "execution_count": 24,
   "metadata": {},
   "outputs": [
    {
     "data": {
      "text/plain": [
       "(1000, 21)"
      ]
     },
     "execution_count": 24,
     "metadata": {},
     "output_type": "execute_result"
    }
   ],
   "source": [
    "sesgo.shape"
   ]
  },
  {
   "cell_type": "code",
   "execution_count": 25,
   "metadata": {
    "colab": {
     "base_uri": "https://localhost:8080/"
    },
    "executionInfo": {
     "elapsed": 2083,
     "status": "ok",
     "timestamp": 1681262836170,
     "user": {
      "displayName": "Carlos Arellano",
      "userId": "03055712073717640513"
     },
     "user_tz": 360
    },
    "id": "w8XgFn4nFxlg",
    "outputId": "eec53be1-f866-4778-a297-0e901d235dad"
   },
   "outputs": [
    {
     "data": {
      "text/plain": [
       "{'1.0': (0.20202020202020066, -0.054796146378875185),\n",
       " '1.1': (0.20202020202020066, -0.03189370230361759),\n",
       " '1.2': (0.20202020202020066, 0.17149592936385197),\n",
       " '1.4': (0.20202020202020066, 0.3088652310143082),\n",
       " '1.5': (0.20202020202020066, 0.1080266366231073),\n",
       " '2.5': (-0.6060606060606055, 0.03126303613688841),\n",
       " '3.0': (-1.4141414141414153, 0.07616792677736214),\n",
       " '0.7': (0.20202020202020066, -0.15695638618117602),\n",
       " '0.6': (0.6060606060606055, 0.15371136881483666),\n",
       " '0.8': (0.20202020202020066, -0.1586409848638571),\n",
       " '0.5': (0.6060606060606055, 0.034715746997799626),\n",
       " '0.4': (0.6060606060606055, -0.014219390933874886),\n",
       " '-1.0': (2.6262626262626263, 0.07274314792875639),\n",
       " '-0.8': (2.2222222222222214, 0.08200865488127415),\n",
       " '-0.6': (1.8181818181818166, -0.07533610231699547),\n",
       " '-0.5': (1.4141414141414153, -0.14015099490656374),\n",
       " '-2.0': (5.454545454545453, -0.04275709797071064),\n",
       " '-1.5': (4.646464646464647, 0.007663658266493778),\n",
       " '-1.3': (3.4343434343434325, 0.028666773533441783),\n",
       " '-2.5': (7.070707070707069, 0.01383000180387729),\n",
       " '-3.0': (8.686868686868685, 0.008113730517201326)}"
      ]
     },
     "execution_count": 25,
     "metadata": {},
     "output_type": "execute_result"
    }
   ],
   "source": [
    "LMB=np.linspace(-20,20,100)\n",
    "mejor_exp={}\n",
    "for v in sesgo:\n",
    "    x=sesgo[v]-sesgo[v].min()+1 # Variable desplazada\n",
    "    sp=[pd.DataFrame(boxcox(x,lmb)).skew().values[0] for lmb in LMB]\n",
    "    idx=np.argmin(np.abs(sp))\n",
    "    mejor_exp[v]=(LMB[idx],sp[idx]) # (Mejor exponente, mejor sesgo)\n",
    "mejor_exp"
   ]
  },
  {
   "cell_type": "code",
   "execution_count": 26,
   "metadata": {},
   "outputs": [],
   "source": [
    "def boxcox_min(LMB, df):\n",
    "    mejor_exp={}\n",
    "    for v in df:\n",
    "        x=df[v]-df[v].min()+1 # Variable desplazada\n",
    "        sp=[pd.DataFrame(boxcox(x,lmb)).skew().values[0] for lmb in LMB]\n",
    "        idx=np.argmin(np.abs(sp))\n",
    "        mejor_exp[v]=(LMB[idx],sp[idx]) # (Mejor exponente, mejor sesgo)\n",
    "    \n",
    "    return mejor_exp"
   ]
  },
  {
   "cell_type": "code",
   "execution_count": 29,
   "metadata": {},
   "outputs": [
    {
     "data": {
      "text/plain": [
       "{'1.0': (0.20202020202020066, -0.054796146378875185),\n",
       " '1.1': (0.20202020202020066, -0.03189370230361759),\n",
       " '1.2': (0.20202020202020066, 0.17149592936385197),\n",
       " '1.4': (0.20202020202020066, 0.3088652310143082),\n",
       " '1.5': (0.20202020202020066, 0.1080266366231073),\n",
       " '2.5': (-0.6060606060606055, 0.03126303613688841),\n",
       " '3.0': (-1.4141414141414153, 0.07616792677736214),\n",
       " '0.7': (0.20202020202020066, -0.15695638618117602),\n",
       " '0.6': (0.6060606060606055, 0.15371136881483666),\n",
       " '0.8': (0.20202020202020066, -0.1586409848638571),\n",
       " '0.5': (0.6060606060606055, 0.034715746997799626),\n",
       " '0.4': (0.6060606060606055, -0.014219390933874886),\n",
       " '-1.0': (2.6262626262626263, 0.07274314792875639),\n",
       " '-0.8': (2.2222222222222214, 0.08200865488127415),\n",
       " '-0.6': (1.8181818181818166, -0.07533610231699547),\n",
       " '-0.5': (1.4141414141414153, -0.14015099490656374),\n",
       " '-2.0': (5.454545454545453, -0.04275709797071064),\n",
       " '-1.5': (4.646464646464647, 0.007663658266493778),\n",
       " '-1.3': (3.4343434343434325, 0.028666773533441783),\n",
       " '-2.5': (7.070707070707069, 0.01383000180387729),\n",
       " '-3.0': (8.686868686868685, 0.008113730517201326)}"
      ]
     },
     "execution_count": 29,
     "metadata": {},
     "output_type": "execute_result"
    }
   ],
   "source": [
    "boxcox_min(LMB, sesgo)"
   ]
  },
  {
   "cell_type": "code",
   "execution_count": 30,
   "metadata": {
    "colab": {
     "base_uri": "https://localhost:8080/"
    },
    "executionInfo": {
     "elapsed": 209,
     "status": "ok",
     "timestamp": 1681262836375,
     "user": {
      "displayName": "Carlos Arellano",
      "userId": "03055712073717640513"
     },
     "user_tz": 360
    },
    "id": "tzvR909oKfwm",
    "outputId": "6cc6172c-4450-43b7-ad5b-797ce1eacc7b"
   },
   "outputs": [
    {
     "data": {
      "text/plain": [
       "{'1.0': (0.244788176968345, 0.00557500588573536),\n",
       " '1.1': (0.229641079078813, 0.010878583146257193),\n",
       " '1.2': (0.08696682230716642, 0.006651691699217191),\n",
       " '1.4': (-0.007771559587673352, -0.0005232289728475841),\n",
       " '1.5': (0.14304202195785662, 0.0050410603027282695),\n",
       " '2.5': (-0.6532329142943955, -0.03137496816478265),\n",
       " '3.0': (-1.1825565521106125, 0.21465245560809507),\n",
       " '0.7': (0.34712049518269683, 0.009126604816202338),\n",
       " '0.6': (0.4905670983480438, 0.01898569770298523),\n",
       " '0.8': (0.33957520002158437, 0.012797063771885902),\n",
       " '0.5': (0.59883686398365, 0.026801017222397944),\n",
       " '0.4': (0.6421923492912538, 0.023595708438760517),\n",
       " '-1.0': (2.4406073674470483, -0.019749856805679998),\n",
       " '-0.8': (1.9440037421315555, -0.0794718947715581),\n",
       " '-0.6': (1.8593313784717624, -0.053057464482121126),\n",
       " '-0.5': (1.6161183191554247, 0.010824443114979477),\n",
       " '-2.0': (4.564234277668849, -0.27364335762642106),\n",
       " '-1.5': (3.705057611613298, -0.25578637797862946),\n",
       " '-1.3': (2.8461653717668285, -0.20582420441758756),\n",
       " '-2.5': (5.694319148131168, -0.2789876541222362),\n",
       " '-3.0': (7.890173330118548, -0.13257396860230994)}"
      ]
     },
     "execution_count": 30,
     "metadata": {},
     "output_type": "execute_result"
    }
   ],
   "source": [
    "for v in sesgo:\n",
    "    x=sesgo[v]-sesgo[v].min()+1 #desplazomos en [1-->]\n",
    "    xp,lmb=boxcox(x)\n",
    "    mejor_exp[v]=(lmb,pd.DataFrame(xp).skew().values[0])\n",
    "mejor_exp"
   ]
  },
  {
   "cell_type": "code",
   "execution_count": 31,
   "metadata": {
    "colab": {
     "base_uri": "https://localhost:8080/",
     "height": 393
    },
    "executionInfo": {
     "elapsed": 219,
     "status": "ok",
     "timestamp": 1681262836592,
     "user": {
      "displayName": "Carlos Arellano",
      "userId": "03055712073717640513"
     },
     "user_tz": 360
    },
    "id": "FPqv_cDdLxVD",
    "outputId": "9b2e19e6-0035-41b2-a9d4-85927feb9668"
   },
   "outputs": [
    {
     "data": {
      "text/html": [
       "<div>\n",
       "<style scoped>\n",
       "    .dataframe tbody tr th:only-of-type {\n",
       "        vertical-align: middle;\n",
       "    }\n",
       "\n",
       "    .dataframe tbody tr th {\n",
       "        vertical-align: top;\n",
       "    }\n",
       "\n",
       "    .dataframe thead th {\n",
       "        text-align: right;\n",
       "    }\n",
       "</style>\n",
       "<table border=\"1\" class=\"dataframe\">\n",
       "  <thead>\n",
       "    <tr style=\"text-align: right;\">\n",
       "      <th></th>\n",
       "      <th>1.0</th>\n",
       "      <th>1.1</th>\n",
       "      <th>1.2</th>\n",
       "      <th>1.4</th>\n",
       "      <th>1.5</th>\n",
       "      <th>2.5</th>\n",
       "      <th>3.0</th>\n",
       "      <th>0.7</th>\n",
       "      <th>0.6</th>\n",
       "      <th>0.8</th>\n",
       "      <th>...</th>\n",
       "      <th>0.4</th>\n",
       "      <th>-1.0</th>\n",
       "      <th>-0.8</th>\n",
       "      <th>-0.6</th>\n",
       "      <th>-0.5</th>\n",
       "      <th>-2.0</th>\n",
       "      <th>-1.5</th>\n",
       "      <th>-1.3</th>\n",
       "      <th>-2.5</th>\n",
       "      <th>-3.0</th>\n",
       "    </tr>\n",
       "  </thead>\n",
       "  <tbody>\n",
       "    <tr>\n",
       "      <th>count</th>\n",
       "      <td>1000.000000</td>\n",
       "      <td>1000.000000</td>\n",
       "      <td>1000.000000</td>\n",
       "      <td>1000.000000</td>\n",
       "      <td>1000.000000</td>\n",
       "      <td>1000.000000</td>\n",
       "      <td>1000.000000</td>\n",
       "      <td>1000.000000</td>\n",
       "      <td>1000.000000</td>\n",
       "      <td>1000.000000</td>\n",
       "      <td>...</td>\n",
       "      <td>1000.000000</td>\n",
       "      <td>1000.000000</td>\n",
       "      <td>1000.000000</td>\n",
       "      <td>1000.000000</td>\n",
       "      <td>1000.000000</td>\n",
       "      <td>1000.000000</td>\n",
       "      <td>1000.000000</td>\n",
       "      <td>1000.000000</td>\n",
       "      <td>1000.000000</td>\n",
       "      <td>1000.000000</td>\n",
       "    </tr>\n",
       "    <tr>\n",
       "      <th>mean</th>\n",
       "      <td>4.138217</td>\n",
       "      <td>4.104788</td>\n",
       "      <td>3.989676</td>\n",
       "      <td>5.929185</td>\n",
       "      <td>6.041864</td>\n",
       "      <td>1.022967</td>\n",
       "      <td>1.021382</td>\n",
       "      <td>1.963819</td>\n",
       "      <td>1.637528</td>\n",
       "      <td>2.040231</td>\n",
       "      <td>...</td>\n",
       "      <td>0.943406</td>\n",
       "      <td>4.070659</td>\n",
       "      <td>5.981076</td>\n",
       "      <td>5.345653</td>\n",
       "      <td>7.109641</td>\n",
       "      <td>19.421340</td>\n",
       "      <td>19.269668</td>\n",
       "      <td>20.505232</td>\n",
       "      <td>20.909228</td>\n",
       "      <td>2.742079</td>\n",
       "    </tr>\n",
       "    <tr>\n",
       "      <th>std</th>\n",
       "      <td>3.036406</td>\n",
       "      <td>2.957834</td>\n",
       "      <td>3.081474</td>\n",
       "      <td>4.456837</td>\n",
       "      <td>4.583116</td>\n",
       "      <td>1.429521</td>\n",
       "      <td>1.524715</td>\n",
       "      <td>1.692587</td>\n",
       "      <td>1.505920</td>\n",
       "      <td>1.791683</td>\n",
       "      <td>...</td>\n",
       "      <td>1.233554</td>\n",
       "      <td>1.778589</td>\n",
       "      <td>1.721547</td>\n",
       "      <td>1.795788</td>\n",
       "      <td>1.359949</td>\n",
       "      <td>3.823349</td>\n",
       "      <td>3.796844</td>\n",
       "      <td>2.544771</td>\n",
       "      <td>3.234088</td>\n",
       "      <td>0.389410</td>\n",
       "    </tr>\n",
       "    <tr>\n",
       "      <th>min</th>\n",
       "      <td>-1.969422</td>\n",
       "      <td>-1.612868</td>\n",
       "      <td>-2.856239</td>\n",
       "      <td>-2.997674</td>\n",
       "      <td>-1.392357</td>\n",
       "      <td>-1.154471</td>\n",
       "      <td>-0.259874</td>\n",
       "      <td>-2.210926</td>\n",
       "      <td>-2.143661</td>\n",
       "      <td>-2.163012</td>\n",
       "      <td>...</td>\n",
       "      <td>-2.553503</td>\n",
       "      <td>-6.442234</td>\n",
       "      <td>-1.076062</td>\n",
       "      <td>-2.896335</td>\n",
       "      <td>1.409018</td>\n",
       "      <td>-7.433960</td>\n",
       "      <td>-3.519943</td>\n",
       "      <td>8.089446</td>\n",
       "      <td>-6.577750</td>\n",
       "      <td>-1.505613</td>\n",
       "    </tr>\n",
       "    <tr>\n",
       "      <th>25%</th>\n",
       "      <td>2.014833</td>\n",
       "      <td>2.024752</td>\n",
       "      <td>1.800695</td>\n",
       "      <td>2.834169</td>\n",
       "      <td>2.771583</td>\n",
       "      <td>0.160287</td>\n",
       "      <td>0.115775</td>\n",
       "      <td>0.818309</td>\n",
       "      <td>0.609086</td>\n",
       "      <td>0.791431</td>\n",
       "      <td>...</td>\n",
       "      <td>0.087420</td>\n",
       "      <td>3.091071</td>\n",
       "      <td>5.031831</td>\n",
       "      <td>4.346249</td>\n",
       "      <td>6.321538</td>\n",
       "      <td>18.150769</td>\n",
       "      <td>17.681902</td>\n",
       "      <td>19.360537</td>\n",
       "      <td>19.908531</td>\n",
       "      <td>2.614121</td>\n",
       "    </tr>\n",
       "    <tr>\n",
       "      <th>50%</th>\n",
       "      <td>3.652531</td>\n",
       "      <td>3.611116</td>\n",
       "      <td>3.386604</td>\n",
       "      <td>4.900962</td>\n",
       "      <td>5.100778</td>\n",
       "      <td>0.627837</td>\n",
       "      <td>0.466554</td>\n",
       "      <td>1.730209</td>\n",
       "      <td>1.523390</td>\n",
       "      <td>1.873676</td>\n",
       "      <td>...</td>\n",
       "      <td>0.926232</td>\n",
       "      <td>4.267347</td>\n",
       "      <td>6.208443</td>\n",
       "      <td>5.518690</td>\n",
       "      <td>7.182724</td>\n",
       "      <td>20.400818</td>\n",
       "      <td>20.234163</td>\n",
       "      <td>21.124393</td>\n",
       "      <td>21.780383</td>\n",
       "      <td>2.835224</td>\n",
       "    </tr>\n",
       "    <tr>\n",
       "      <th>75%</th>\n",
       "      <td>5.703793</td>\n",
       "      <td>5.561108</td>\n",
       "      <td>5.603756</td>\n",
       "      <td>8.045978</td>\n",
       "      <td>8.178973</td>\n",
       "      <td>1.371511</td>\n",
       "      <td>1.314997</td>\n",
       "      <td>2.906529</td>\n",
       "      <td>2.535131</td>\n",
       "      <td>2.994479</td>\n",
       "      <td>...</td>\n",
       "      <td>1.724367</td>\n",
       "      <td>5.252449</td>\n",
       "      <td>7.176778</td>\n",
       "      <td>6.627114</td>\n",
       "      <td>8.011586</td>\n",
       "      <td>21.944728</td>\n",
       "      <td>21.880213</td>\n",
       "      <td>22.252850</td>\n",
       "      <td>22.871447</td>\n",
       "      <td>2.971230</td>\n",
       "    </tr>\n",
       "    <tr>\n",
       "      <th>max</th>\n",
       "      <td>19.783282</td>\n",
       "      <td>20.319668</td>\n",
       "      <td>21.530176</td>\n",
       "      <td>36.148153</td>\n",
       "      <td>30.810209</td>\n",
       "      <td>10.836936</td>\n",
       "      <td>12.867811</td>\n",
       "      <td>10.136866</td>\n",
       "      <td>8.986862</td>\n",
       "      <td>9.185808</td>\n",
       "      <td>...</td>\n",
       "      <td>8.004695</td>\n",
       "      <td>9.172273</td>\n",
       "      <td>9.782483</td>\n",
       "      <td>9.568207</td>\n",
       "      <td>10.787576</td>\n",
       "      <td>25.709575</td>\n",
       "      <td>25.164834</td>\n",
       "      <td>25.246645</td>\n",
       "      <td>25.935920</td>\n",
       "      <td>3.399552</td>\n",
       "    </tr>\n",
       "  </tbody>\n",
       "</table>\n",
       "<p>8 rows × 21 columns</p>\n",
       "</div>"
      ],
      "text/plain": [
       "               1.0          1.1          1.2          1.4          1.5  \\\n",
       "count  1000.000000  1000.000000  1000.000000  1000.000000  1000.000000   \n",
       "mean      4.138217     4.104788     3.989676     5.929185     6.041864   \n",
       "std       3.036406     2.957834     3.081474     4.456837     4.583116   \n",
       "min      -1.969422    -1.612868    -2.856239    -2.997674    -1.392357   \n",
       "25%       2.014833     2.024752     1.800695     2.834169     2.771583   \n",
       "50%       3.652531     3.611116     3.386604     4.900962     5.100778   \n",
       "75%       5.703793     5.561108     5.603756     8.045978     8.178973   \n",
       "max      19.783282    20.319668    21.530176    36.148153    30.810209   \n",
       "\n",
       "               2.5          3.0          0.7          0.6          0.8  ...  \\\n",
       "count  1000.000000  1000.000000  1000.000000  1000.000000  1000.000000  ...   \n",
       "mean      1.022967     1.021382     1.963819     1.637528     2.040231  ...   \n",
       "std       1.429521     1.524715     1.692587     1.505920     1.791683  ...   \n",
       "min      -1.154471    -0.259874    -2.210926    -2.143661    -2.163012  ...   \n",
       "25%       0.160287     0.115775     0.818309     0.609086     0.791431  ...   \n",
       "50%       0.627837     0.466554     1.730209     1.523390     1.873676  ...   \n",
       "75%       1.371511     1.314997     2.906529     2.535131     2.994479  ...   \n",
       "max      10.836936    12.867811    10.136866     8.986862     9.185808  ...   \n",
       "\n",
       "               0.4         -1.0         -0.8         -0.6         -0.5  \\\n",
       "count  1000.000000  1000.000000  1000.000000  1000.000000  1000.000000   \n",
       "mean      0.943406     4.070659     5.981076     5.345653     7.109641   \n",
       "std       1.233554     1.778589     1.721547     1.795788     1.359949   \n",
       "min      -2.553503    -6.442234    -1.076062    -2.896335     1.409018   \n",
       "25%       0.087420     3.091071     5.031831     4.346249     6.321538   \n",
       "50%       0.926232     4.267347     6.208443     5.518690     7.182724   \n",
       "75%       1.724367     5.252449     7.176778     6.627114     8.011586   \n",
       "max       8.004695     9.172273     9.782483     9.568207    10.787576   \n",
       "\n",
       "              -2.0         -1.5         -1.3         -2.5         -3.0  \n",
       "count  1000.000000  1000.000000  1000.000000  1000.000000  1000.000000  \n",
       "mean     19.421340    19.269668    20.505232    20.909228     2.742079  \n",
       "std       3.823349     3.796844     2.544771     3.234088     0.389410  \n",
       "min      -7.433960    -3.519943     8.089446    -6.577750    -1.505613  \n",
       "25%      18.150769    17.681902    19.360537    19.908531     2.614121  \n",
       "50%      20.400818    20.234163    21.124393    21.780383     2.835224  \n",
       "75%      21.944728    21.880213    22.252850    22.871447     2.971230  \n",
       "max      25.709575    25.164834    25.246645    25.935920     3.399552  \n",
       "\n",
       "[8 rows x 21 columns]"
      ]
     },
     "execution_count": 31,
     "metadata": {},
     "output_type": "execute_result"
    }
   ],
   "source": [
    "sesgo.describe()"
   ]
  },
  {
   "cell_type": "code",
   "execution_count": 32,
   "metadata": {
    "colab": {
     "base_uri": "https://localhost:8080/"
    },
    "executionInfo": {
     "elapsed": 13,
     "status": "ok",
     "timestamp": 1681262836787,
     "user": {
      "displayName": "Carlos Arellano",
      "userId": "03055712073717640513"
     },
     "user_tz": 360
    },
    "id": "U63tGZL4MJpu",
    "outputId": "5ff23c2d-836d-486f-aae2-646f485d5f19"
   },
   "outputs": [
    {
     "data": {
      "text/plain": [
       "(1.6161183191554247, 0.010824443114979477)"
      ]
     },
     "execution_count": 32,
     "metadata": {},
     "output_type": "execute_result"
    }
   ],
   "source": [
    "mejor_exp['-0.5']"
   ]
  },
  {
   "cell_type": "code",
   "execution_count": 33,
   "metadata": {
    "colab": {
     "base_uri": "https://localhost:8080/"
    },
    "executionInfo": {
     "elapsed": 11,
     "status": "ok",
     "timestamp": 1681262836787,
     "user": {
      "displayName": "Carlos Arellano",
      "userId": "03055712073717640513"
     },
     "user_tz": 360
    },
    "id": "Jjpj5mxJLzhm",
    "outputId": "ab9dc2a7-f29d-4db5-b4f7-e544e11772d3"
   },
   "outputs": [
    {
     "data": {
      "text/plain": [
       "1.6648565691433548"
      ]
     },
     "execution_count": 33,
     "metadata": {},
     "output_type": "execute_result"
    }
   ],
   "source": [
    "x,l=boxcox(sesgo['-0.5'])\n",
    "l"
   ]
  },
  {
   "cell_type": "code",
   "execution_count": 34,
   "metadata": {
    "colab": {
     "base_uri": "https://localhost:8080/"
    },
    "executionInfo": {
     "elapsed": 9,
     "status": "ok",
     "timestamp": 1681262836788,
     "user": {
      "displayName": "Carlos Arellano",
      "userId": "03055712073717640513"
     },
     "user_tz": 360
    },
    "id": "Tqh5MlJ5MNuW",
    "outputId": "69b3532d-604a-4ee6-e3f2-4316efb2b17f"
   },
   "outputs": [
    {
     "data": {
      "text/plain": [
       "4.17270249802553"
      ]
     },
     "execution_count": 34,
     "metadata": {},
     "output_type": "execute_result"
    }
   ],
   "source": [
    "x,l=boxcox(sesgo['-1.3'])\n",
    "l"
   ]
  },
  {
   "cell_type": "code",
   "execution_count": 35,
   "metadata": {
    "colab": {
     "base_uri": "https://localhost:8080/"
    },
    "executionInfo": {
     "elapsed": 7,
     "status": "ok",
     "timestamp": 1681262836788,
     "user": {
      "displayName": "Carlos Arellano",
      "userId": "03055712073717640513"
     },
     "user_tz": 360
    },
    "id": "-X9U1G2jMTk1",
    "outputId": "9abbf6a5-19ba-4f84-e9fc-0ad7eebf72fa"
   },
   "outputs": [
    {
     "data": {
      "text/plain": [
       "(2.8461653717668285, -0.20582420441758756)"
      ]
     },
     "execution_count": 35,
     "metadata": {},
     "output_type": "execute_result"
    }
   ],
   "source": [
    "mejor_exp['-1.3']"
   ]
  },
  {
   "cell_type": "code",
   "execution_count": 36,
   "metadata": {},
   "outputs": [
    {
     "data": {
      "text/plain": [
       "array([-20.        , -19.5959596 , -19.19191919, -18.78787879,\n",
       "       -18.38383838, -17.97979798, -17.57575758, -17.17171717,\n",
       "       -16.76767677, -16.36363636, -15.95959596, -15.55555556,\n",
       "       -15.15151515, -14.74747475, -14.34343434, -13.93939394,\n",
       "       -13.53535354, -13.13131313, -12.72727273, -12.32323232,\n",
       "       -11.91919192, -11.51515152, -11.11111111, -10.70707071,\n",
       "       -10.3030303 ,  -9.8989899 ,  -9.49494949,  -9.09090909,\n",
       "        -8.68686869,  -8.28282828,  -7.87878788,  -7.47474747,\n",
       "        -7.07070707,  -6.66666667,  -6.26262626,  -5.85858586,\n",
       "        -5.45454545,  -5.05050505,  -4.64646465,  -4.24242424,\n",
       "        -3.83838384,  -3.43434343,  -3.03030303,  -2.62626263,\n",
       "        -2.22222222,  -1.81818182,  -1.41414141,  -1.01010101,\n",
       "        -0.60606061,  -0.2020202 ,   0.2020202 ,   0.60606061,\n",
       "         1.01010101,   1.41414141,   1.81818182,   2.22222222,\n",
       "         2.62626263,   3.03030303,   3.43434343,   3.83838384,\n",
       "         4.24242424,   4.64646465,   5.05050505,   5.45454545,\n",
       "         5.85858586,   6.26262626,   6.66666667,   7.07070707,\n",
       "         7.47474747,   7.87878788,   8.28282828,   8.68686869,\n",
       "         9.09090909,   9.49494949,   9.8989899 ,  10.3030303 ,\n",
       "        10.70707071,  11.11111111,  11.51515152,  11.91919192,\n",
       "        12.32323232,  12.72727273,  13.13131313,  13.53535354,\n",
       "        13.93939394,  14.34343434,  14.74747475,  15.15151515,\n",
       "        15.55555556,  15.95959596,  16.36363636,  16.76767677,\n",
       "        17.17171717,  17.57575758,  17.97979798,  18.38383838,\n",
       "        18.78787879,  19.19191919,  19.5959596 ,  20.        ])"
      ]
     },
     "execution_count": 36,
     "metadata": {},
     "output_type": "execute_result"
    }
   ],
   "source": [
    "LMB"
   ]
  },
  {
   "cell_type": "markdown",
   "metadata": {
    "id": "tJ-bB9qGMpXP"
   },
   "source": [
    "---\n",
    "Uso de valores negativos para $x$:\n",
    "$$\n",
    "x'=\\left\\{\n",
    "  \\begin{array}{ll}\n",
    "  \\mathrm{sign}(x)\\dfrac{(|x|+1)^\\lambda-1}{\\lambda},&\\lambda\\neq0\\\\\n",
    "  \\mathrm{sign}(x)\\ln(|x|+1),&\\lambda=0\n",
    "  \\end{array}.\n",
    "  \\right.\n",
    "$$"
   ]
  },
  {
   "cell_type": "code",
   "execution_count": 37,
   "metadata": {
    "executionInfo": {
     "elapsed": 4,
     "status": "ok",
     "timestamp": 1681262836788,
     "user": {
      "displayName": "Carlos Arellano",
      "userId": "03055712073717640513"
     },
     "user_tz": 360
    },
    "id": "MSSYnJXtMowk"
   },
   "outputs": [],
   "source": [
    "x=np.linspace(-10,10,500)\n",
    "LMB=[-1,0.5,0,2,3,4]"
   ]
  },
  {
   "cell_type": "code",
   "execution_count": 38,
   "metadata": {
    "executionInfo": {
     "elapsed": 172,
     "status": "ok",
     "timestamp": 1681262836956,
     "user": {
      "displayName": "Carlos Arellano",
      "userId": "03055712073717640513"
     },
     "user_tz": 360
    },
    "id": "OdsymafsM8M1"
   },
   "outputs": [],
   "source": [
    "def potenciaS(x,lmb):\n",
    "    if lmb==0:\n",
    "        return np.sign(x)*np.log(abs(x)+1)\n",
    "    else:\n",
    "        return np.sign(x)*((abs(x)+1)**lmb-1)/lmb"
   ]
  },
  {
   "cell_type": "code",
   "execution_count": 39,
   "metadata": {
    "colab": {
     "base_uri": "https://localhost:8080/",
     "height": 435
    },
    "executionInfo": {
     "elapsed": 714,
     "status": "ok",
     "timestamp": 1681262837668,
     "user": {
      "displayName": "Carlos Arellano",
      "userId": "03055712073717640513"
     },
     "user_tz": 360
    },
    "id": "j5---XnROYrn",
    "outputId": "15f82702-8c67-456f-c71b-73505d3cf31c"
   },
   "outputs": [
    {
     "data": {
      "image/png": "[encoded data removed]",
      "text/plain": [
       "<Figure size 432x288 with 1 Axes>"
      ]
     },
     "metadata": {
      "needs_background": "light"
     },
     "output_type": "display_data"
    }
   ],
   "source": [
    "for lmb in LMB:\n",
    "    xp=potenciaS(x,lmb)\n",
    "    plt.plot(x,xp,label='exponente: {}'.format(lmb))\n",
    "plt.plot(x,np.sign(x)*(abs(x)),'--k')\n",
    "plt.legend()\n",
    "plt.ylim([-10,10])\n",
    "plt.grid()"
   ]
  },
  {
   "cell_type": "markdown",
   "metadata": {
    "id": "kmlW2P3y2Vlx"
   },
   "source": [
    "## Yeo-Johnson\n",
    "$$\n",
    "x'=\\left\\{\n",
    "  \\begin{array}{lr}\n",
    "  \\frac{(x+1)^{\\lambda_1}-1}{\\lambda_1} & \\lambda_1\\neq0,\\quad x\\geq0\\\\\n",
    "  \\ln(x+1) & \\lambda_1=0,\\quad x\\geq0\\\\\n",
    "  -\\frac{(-x+1)^{\\lambda_2}-1}{\\lambda_2} & \\lambda_2\\neq0,\\quad x<0\\\\\n",
    "  -\\ln(-x+1) & \\lambda_2=0,\\quad x<0.\n",
    "  \\end{array}\n",
    "  \\right.\n",
    "$$\n",
    "Donde $\\lambda_1+\\lambda_2=2$.\n",
    "\n",
    "Se sustituye $\\lambda_2=2-\\lambda_1$.\n",
    "$$\n",
    "x'=\\left\\{\n",
    "  \\begin{array}{lr}\n",
    "  \\frac{(x+1)^{\\lambda}-1}{\\lambda} & \\lambda\\neq0,\\quad x\\geq0\\\\\n",
    "  \\ln(x+1) & \\lambda=0,\\quad x\\geq0\\\\\n",
    "  -\\frac{(-x+1)^{2-\\lambda}-1}{2-\\lambda} & \\lambda\\neq2,\\quad x<0\\\\\n",
    "  -\\ln(-x+1) & \\lambda=2,\\quad x<0.\n",
    "  \\end{array}\n",
    "  \\right.\n",
    "$$"
   ]
  },
  {
   "cell_type": "code",
   "execution_count": 40,
   "metadata": {
    "executionInfo": {
     "elapsed": 13,
     "status": "ok",
     "timestamp": 1681262837670,
     "user": {
      "displayName": "Carlos Arellano",
      "userId": "03055712073717640513"
     },
     "user_tz": 360
    },
    "id": "U0bqjK3O2WRl"
   },
   "outputs": [],
   "source": [
    "from scipy.stats import yeojohnson"
   ]
  },
  {
   "cell_type": "code",
   "execution_count": 41,
   "metadata": {},
   "outputs": [
    {
     "data": {
      "text/plain": [
       "[-1, 0.5, 0, 2, 3, 4]"
      ]
     },
     "execution_count": 41,
     "metadata": {},
     "output_type": "execute_result"
    }
   ],
   "source": [
    "LMB"
   ]
  },
  {
   "cell_type": "code",
   "execution_count": 43,
   "metadata": {
    "colab": {
     "base_uri": "https://localhost:8080/",
     "height": 435
    },
    "executionInfo": {
     "elapsed": 1291,
     "status": "ok",
     "timestamp": 1681262838951,
     "user": {
      "displayName": "Carlos Arellano",
      "userId": "03055712073717640513"
     },
     "user_tz": 360
    },
    "id": "HFhL4MnZEhl3",
    "outputId": "64a31492-6691-438b-bc00-6e63900cc1be"
   },
   "outputs": [
    {
     "data": {
      "image/png": "[encoded data removed]",
      "text/plain": [
       "<Figure size 432x288 with 1 Axes>"
      ]
     },
     "metadata": {
      "needs_background": "light"
     },
     "output_type": "display_data"
    }
   ],
   "source": [
    "for lmb in LMB:\n",
    "    xp=yeojohnson(x,lmb)\n",
    "    plt.plot(x,xp,label='exponente: {}'.format(lmb))\n",
    "plt.plot(x,np.sign(x)*(abs(x)),'--k')\n",
    "plt.legend()\n",
    "plt.ylim([-10,10])\n",
    "plt.grid()"
   ]
  },
  {
   "cell_type": "code",
   "execution_count": 45,
   "metadata": {},
   "outputs": [
    {
     "data": {
      "text/plain": [
       "array([[<AxesSubplot:title={'center':'0'}>,\n",
       "        <AxesSubplot:title={'center':'1'}>],\n",
       "       [<AxesSubplot:title={'center':'2'}>, <AxesSubplot:>]], dtype=object)"
      ]
     },
     "execution_count": 45,
     "metadata": {},
     "output_type": "execute_result"
    },
    {
     "data": {
      "image/png": "[encoded data removed]",
      "text/plain": [
       "<Figure size 432x288 with 4 Axes>"
      ]
     },
     "metadata": {
      "needs_background": "light"
     },
     "output_type": "display_data"
    }
   ],
   "source": [
    "df.hist(bins=50)"
   ]
  },
  {
   "cell_type": "code",
   "execution_count": 44,
   "metadata": {
    "colab": {
     "base_uri": "https://localhost:8080/",
     "height": 282
    },
    "executionInfo": {
     "elapsed": 537,
     "status": "ok",
     "timestamp": 1680058376858,
     "user": {
      "displayName": "Carlos Arellano",
      "userId": "03055712073717640513"
     },
     "user_tz": 360
    },
    "id": "GNTnLJ0R2Yyj",
    "outputId": "fcac6145-14c1-449c-a3fd-8be63500b5b8"
   },
   "outputs": [
    {
     "data": {
      "text/plain": [
       "(-12.750781894524401, -0.09169692603119495)"
      ]
     },
     "execution_count": 44,
     "metadata": {},
     "output_type": "execute_result"
    },
    {
     "data": {
      "image/png": "[encoded data removed]",
      "text/plain": [
       "<Figure size 432x288 with 1 Axes>"
      ]
     },
     "metadata": {
      "needs_background": "light"
     },
     "output_type": "display_data"
    }
   ],
   "source": [
    "df_copia['0'],l=yeojohnson(df['0'])\n",
    "df_copia['0'].hist(bins=50)\n",
    "l,df_copia['0'].skew() # Sesgo resultante sin desplazar = 0.04"
   ]
  },
  {
   "cell_type": "code",
   "execution_count": 46,
   "metadata": {
    "colab": {
     "base_uri": "https://localhost:8080/",
     "height": 282
    },
    "executionInfo": {
     "elapsed": 698,
     "status": "ok",
     "timestamp": 1680058540860,
     "user": {
      "displayName": "Carlos Arellano",
      "userId": "03055712073717640513"
     },
     "user_tz": 360
    },
    "id": "qnEQCyolSSZN",
    "outputId": "926dcbdf-f347-460e-ea5b-aae5ec8ca51c"
   },
   "outputs": [
    {
     "data": {
      "text/plain": [
       "(22.18399892603115, -0.08515931210418183)"
      ]
     },
     "execution_count": 46,
     "metadata": {},
     "output_type": "execute_result"
    },
    {
     "data": {
      "image/png": "[encoded data removed]",
      "text/plain": [
       "<Figure size 432x288 with 1 Axes>"
      ]
     },
     "metadata": {
      "needs_background": "light"
     },
     "output_type": "display_data"
    }
   ],
   "source": [
    "df_copia['1'],l=yeojohnson(df['1'])\n",
    "df_copia['1'].hist(bins=50)\n",
    "l,df_copia['1'].skew()"
   ]
  },
  {
   "cell_type": "code",
   "execution_count": 47,
   "metadata": {
    "colab": {
     "base_uri": "https://localhost:8080/",
     "height": 282
    },
    "executionInfo": {
     "elapsed": 552,
     "status": "ok",
     "timestamp": 1680058630516,
     "user": {
      "displayName": "Carlos Arellano",
      "userId": "03055712073717640513"
     },
     "user_tz": 360
    },
    "id": "NNpBxOHOSt-9",
    "outputId": "a273a406-2e0b-4e76-d213-34a6df83e9dd"
   },
   "outputs": [
    {
     "data": {
      "text/plain": [
       "(2.0334009440523304, -0.051931710513484226)"
      ]
     },
     "execution_count": 47,
     "metadata": {},
     "output_type": "execute_result"
    },
    {
     "data": {
      "image/png": "[encoded data removed]",
      "text/plain": [
       "<Figure size 432x288 with 1 Axes>"
      ]
     },
     "metadata": {
      "needs_background": "light"
     },
     "output_type": "display_data"
    }
   ],
   "source": [
    "df_copia['2'],l=yeojohnson(df['2'])\n",
    "df_copia['2'].hist(bins=50)\n",
    "l,df_copia['2'].skew()"
   ]
  },
  {
   "cell_type": "markdown",
   "metadata": {
    "id": "SgPa4BuS2aWD"
   },
   "source": [
    "---\n",
    "## Ejemplo Regresión"
   ]
  },
  {
   "cell_type": "code",
   "execution_count": 49,
   "metadata": {
    "colab": {
     "base_uri": "https://localhost:8080/",
     "height": 320
    },
    "executionInfo": {
     "elapsed": 378,
     "status": "ok",
     "timestamp": 1680059891633,
     "user": {
      "displayName": "Carlos Arellano",
      "userId": "03055712073717640513"
     },
     "user_tz": 360
    },
    "id": "JEMeuArEVSt8",
    "outputId": "45d3c4bd-1287-41b5-efbe-d7424bfc0fc3"
   },
   "outputs": [],
   "source": [
    "reg = pd.read_csv('regresion.csv')"
   ]
  },
  {
   "cell_type": "code",
   "execution_count": 50,
   "metadata": {},
   "outputs": [
    {
     "data": {
      "text/html": [
       "<div>\n",
       "<style scoped>\n",
       "    .dataframe tbody tr th:only-of-type {\n",
       "        vertical-align: middle;\n",
       "    }\n",
       "\n",
       "    .dataframe tbody tr th {\n",
       "        vertical-align: top;\n",
       "    }\n",
       "\n",
       "    .dataframe thead th {\n",
       "        text-align: right;\n",
       "    }\n",
       "</style>\n",
       "<table border=\"1\" class=\"dataframe\">\n",
       "  <thead>\n",
       "    <tr style=\"text-align: right;\">\n",
       "      <th></th>\n",
       "      <th>x</th>\n",
       "      <th>y</th>\n",
       "    </tr>\n",
       "  </thead>\n",
       "  <tbody>\n",
       "    <tr>\n",
       "      <th>0</th>\n",
       "      <td>0.100000</td>\n",
       "      <td>1.932916</td>\n",
       "    </tr>\n",
       "    <tr>\n",
       "      <th>1</th>\n",
       "      <td>0.101001</td>\n",
       "      <td>2.242087</td>\n",
       "    </tr>\n",
       "    <tr>\n",
       "      <th>2</th>\n",
       "      <td>0.102002</td>\n",
       "      <td>2.022414</td>\n",
       "    </tr>\n",
       "    <tr>\n",
       "      <th>3</th>\n",
       "      <td>0.103003</td>\n",
       "      <td>1.692315</td>\n",
       "    </tr>\n",
       "    <tr>\n",
       "      <th>4</th>\n",
       "      <td>0.104004</td>\n",
       "      <td>1.672025</td>\n",
       "    </tr>\n",
       "  </tbody>\n",
       "</table>\n",
       "</div>"
      ],
      "text/plain": [
       "          x         y\n",
       "0  0.100000  1.932916\n",
       "1  0.101001  2.242087\n",
       "2  0.102002  2.022414\n",
       "3  0.103003  1.692315\n",
       "4  0.104004  1.672025"
      ]
     },
     "execution_count": 50,
     "metadata": {},
     "output_type": "execute_result"
    }
   ],
   "source": [
    "reg.head()"
   ]
  },
  {
   "cell_type": "code",
   "execution_count": 51,
   "metadata": {},
   "outputs": [
    {
     "data": {
      "image/png": "[encoded data removed]",
      "text/plain": [
       "<Figure size 432x288 with 1 Axes>"
      ]
     },
     "metadata": {
      "needs_background": "light"
     },
     "output_type": "display_data"
    }
   ],
   "source": [
    "plt.scatter(reg['x'], reg['y'], s=5)\n",
    "plt.grid()\n",
    "plt.show()"
   ]
  },
  {
   "cell_type": "code",
   "execution_count": 53,
   "metadata": {},
   "outputs": [],
   "source": [
    "reg_copia = reg.copy()\n",
    "reg_copia['yp'], l = yeojohnson(reg['y'])\n"
   ]
  },
  {
   "cell_type": "code",
   "execution_count": 54,
   "metadata": {},
   "outputs": [
    {
     "data": {
      "text/html": [
       "<div>\n",
       "<style scoped>\n",
       "    .dataframe tbody tr th:only-of-type {\n",
       "        vertical-align: middle;\n",
       "    }\n",
       "\n",
       "    .dataframe tbody tr th {\n",
       "        vertical-align: top;\n",
       "    }\n",
       "\n",
       "    .dataframe thead th {\n",
       "        text-align: right;\n",
       "    }\n",
       "</style>\n",
       "<table border=\"1\" class=\"dataframe\">\n",
       "  <thead>\n",
       "    <tr style=\"text-align: right;\">\n",
       "      <th></th>\n",
       "      <th>x</th>\n",
       "      <th>y</th>\n",
       "      <th>yp</th>\n",
       "    </tr>\n",
       "  </thead>\n",
       "  <tbody>\n",
       "    <tr>\n",
       "      <th>0</th>\n",
       "      <td>0.100000</td>\n",
       "      <td>1.932916</td>\n",
       "      <td>0.986370</td>\n",
       "    </tr>\n",
       "    <tr>\n",
       "      <th>1</th>\n",
       "      <td>0.101001</td>\n",
       "      <td>2.242087</td>\n",
       "      <td>1.069685</td>\n",
       "    </tr>\n",
       "    <tr>\n",
       "      <th>2</th>\n",
       "      <td>0.102002</td>\n",
       "      <td>2.022414</td>\n",
       "      <td>1.011503</td>\n",
       "    </tr>\n",
       "    <tr>\n",
       "      <th>3</th>\n",
       "      <td>0.103003</td>\n",
       "      <td>1.692315</td>\n",
       "      <td>0.914121</td>\n",
       "    </tr>\n",
       "    <tr>\n",
       "      <th>4</th>\n",
       "      <td>0.104004</td>\n",
       "      <td>1.672025</td>\n",
       "      <td>0.907687</td>\n",
       "    </tr>\n",
       "    <tr>\n",
       "      <th>...</th>\n",
       "      <td>...</td>\n",
       "      <td>...</td>\n",
       "      <td>...</td>\n",
       "    </tr>\n",
       "    <tr>\n",
       "      <th>995</th>\n",
       "      <td>1.095996</td>\n",
       "      <td>4.563710</td>\n",
       "      <td>1.495796</td>\n",
       "    </tr>\n",
       "    <tr>\n",
       "      <th>996</th>\n",
       "      <td>1.096997</td>\n",
       "      <td>6.415678</td>\n",
       "      <td>1.707580</td>\n",
       "    </tr>\n",
       "    <tr>\n",
       "      <th>997</th>\n",
       "      <td>1.097998</td>\n",
       "      <td>6.760265</td>\n",
       "      <td>1.740154</td>\n",
       "    </tr>\n",
       "    <tr>\n",
       "      <th>998</th>\n",
       "      <td>1.098999</td>\n",
       "      <td>5.750018</td>\n",
       "      <td>1.639354</td>\n",
       "    </tr>\n",
       "    <tr>\n",
       "      <th>999</th>\n",
       "      <td>1.100000</td>\n",
       "      <td>4.896509</td>\n",
       "      <td>1.539425</td>\n",
       "    </tr>\n",
       "  </tbody>\n",
       "</table>\n",
       "<p>1000 rows × 3 columns</p>\n",
       "</div>"
      ],
      "text/plain": [
       "            x         y        yp\n",
       "0    0.100000  1.932916  0.986370\n",
       "1    0.101001  2.242087  1.069685\n",
       "2    0.102002  2.022414  1.011503\n",
       "3    0.103003  1.692315  0.914121\n",
       "4    0.104004  1.672025  0.907687\n",
       "..        ...       ...       ...\n",
       "995  1.095996  4.563710  1.495796\n",
       "996  1.096997  6.415678  1.707580\n",
       "997  1.097998  6.760265  1.740154\n",
       "998  1.098999  5.750018  1.639354\n",
       "999  1.100000  4.896509  1.539425\n",
       "\n",
       "[1000 rows x 3 columns]"
      ]
     },
     "execution_count": 54,
     "metadata": {},
     "output_type": "execute_result"
    }
   ],
   "source": [
    "reg_copia"
   ]
  },
  {
   "cell_type": "code",
   "execution_count": 55,
   "metadata": {},
   "outputs": [
    {
     "data": {
      "text/plain": [
       "array([[<AxesSubplot:title={'center':'x'}>,\n",
       "        <AxesSubplot:title={'center':'y'}>],\n",
       "       [<AxesSubplot:title={'center':'yp'}>, <AxesSubplot:>]],\n",
       "      dtype=object)"
      ]
     },
     "execution_count": 55,
     "metadata": {},
     "output_type": "execute_result"
    },
    {
     "data": {
      "image/png": "[encoded data removed]",
      "text/plain": [
       "<Figure size 432x288 with 4 Axes>"
      ]
     },
     "metadata": {
      "needs_background": "light"
     },
     "output_type": "display_data"
    }
   ],
   "source": [
    "reg_copia.hist(bins=50)"
   ]
  },
  {
   "cell_type": "code",
   "execution_count": 56,
   "metadata": {},
   "outputs": [
    {
     "data": {
      "text/plain": [
       "-0.1640699985520419"
      ]
     },
     "execution_count": 56,
     "metadata": {},
     "output_type": "execute_result"
    }
   ],
   "source": [
    "l"
   ]
  },
  {
   "cell_type": "code",
   "execution_count": 57,
   "metadata": {},
   "outputs": [
    {
     "data": {
      "text/plain": [
       "0.6089606600475832"
      ]
     },
     "execution_count": 57,
     "metadata": {},
     "output_type": "execute_result"
    }
   ],
   "source": [
    "reg['y'].skew()"
   ]
  },
  {
   "cell_type": "code",
   "execution_count": 58,
   "metadata": {},
   "outputs": [
    {
     "data": {
      "text/plain": [
       "LinearRegression()"
      ]
     },
     "execution_count": 58,
     "metadata": {},
     "output_type": "execute_result"
    }
   ],
   "source": [
    "Xtrain,Xtest,Ytrain,Ytest = train_test_split(reg_copia[['x']], reg_copia[['yp']])\n",
    "lin = LinearRegression()\n",
    "lin.fit(Xtrain, Ytrain)"
   ]
  },
  {
   "cell_type": "code",
   "execution_count": 67,
   "metadata": {},
   "outputs": [
    {
     "data": {
      "text/html": [
       "<div>\n",
       "<style scoped>\n",
       "    .dataframe tbody tr th:only-of-type {\n",
       "        vertical-align: middle;\n",
       "    }\n",
       "\n",
       "    .dataframe tbody tr th {\n",
       "        vertical-align: top;\n",
       "    }\n",
       "\n",
       "    .dataframe thead th {\n",
       "        text-align: right;\n",
       "    }\n",
       "</style>\n",
       "<table border=\"1\" class=\"dataframe\">\n",
       "  <thead>\n",
       "    <tr style=\"text-align: right;\">\n",
       "      <th></th>\n",
       "      <th>x</th>\n",
       "    </tr>\n",
       "  </thead>\n",
       "  <tbody>\n",
       "    <tr>\n",
       "      <th>674</th>\n",
       "      <td>0.774675</td>\n",
       "    </tr>\n",
       "    <tr>\n",
       "      <th>596</th>\n",
       "      <td>0.696597</td>\n",
       "    </tr>\n",
       "    <tr>\n",
       "      <th>994</th>\n",
       "      <td>1.094995</td>\n",
       "    </tr>\n",
       "    <tr>\n",
       "      <th>356</th>\n",
       "      <td>0.456356</td>\n",
       "    </tr>\n",
       "    <tr>\n",
       "      <th>398</th>\n",
       "      <td>0.498398</td>\n",
       "    </tr>\n",
       "    <tr>\n",
       "      <th>...</th>\n",
       "      <td>...</td>\n",
       "    </tr>\n",
       "    <tr>\n",
       "      <th>492</th>\n",
       "      <td>0.592492</td>\n",
       "    </tr>\n",
       "    <tr>\n",
       "      <th>707</th>\n",
       "      <td>0.807708</td>\n",
       "    </tr>\n",
       "    <tr>\n",
       "      <th>944</th>\n",
       "      <td>1.044945</td>\n",
       "    </tr>\n",
       "    <tr>\n",
       "      <th>731</th>\n",
       "      <td>0.831732</td>\n",
       "    </tr>\n",
       "    <tr>\n",
       "      <th>833</th>\n",
       "      <td>0.933834</td>\n",
       "    </tr>\n",
       "  </tbody>\n",
       "</table>\n",
       "<p>750 rows × 1 columns</p>\n",
       "</div>"
      ],
      "text/plain": [
       "            x\n",
       "674  0.774675\n",
       "596  0.696597\n",
       "994  1.094995\n",
       "356  0.456356\n",
       "398  0.498398\n",
       "..        ...\n",
       "492  0.592492\n",
       "707  0.807708\n",
       "944  1.044945\n",
       "731  0.831732\n",
       "833  0.933834\n",
       "\n",
       "[750 rows x 1 columns]"
      ]
     },
     "execution_count": 67,
     "metadata": {},
     "output_type": "execute_result"
    }
   ],
   "source": [
    "Xtrain"
   ]
  },
  {
   "cell_type": "code",
   "execution_count": 69,
   "metadata": {},
   "outputs": [
    {
     "data": {
      "image/png": "[encoded data removed]",
      "text/plain": [
       "<Figure size 432x288 with 1 Axes>"
      ]
     },
     "metadata": {
      "needs_background": "light"
     },
     "output_type": "display_data"
    }
   ],
   "source": [
    "plt.scatter(reg_copia['x'], reg_copia['yp'], s=5)\n",
    "plt.plot(Xtrain.values, lin.predict(Xtrain), 'r')\n",
    "plt.grid()\n",
    "plt.show()"
   ]
  },
  {
   "cell_type": "code",
   "execution_count": 63,
   "metadata": {},
   "outputs": [],
   "source": [
    "x_fit = np.linspace(0,1.5,100).reshape(1,-1)"
   ]
  },
  {
   "cell_type": "markdown",
   "metadata": {},
   "source": [
    "$$\n",
    "x=\\left\\{\n",
    "  \\begin{array}{lr}\n",
    "  \\frac{(x'+1)^{\\lambda_1}-1}{\\lambda_1} & \\lambda_1\\neq0,\\quad x'\\geq0\\\\\n",
    "  \\ln(x'+1) & \\lambda_1=0,\\quad x\\geq0\\\\\n",
    "  -\\frac{(-x+1)^{\\lambda_2}-1}{\\lambda_2} & \\lambda_2\\neq0,\\quad x'<0\\\\\n",
    "  -\\ln(-x+1) & \\lambda_2=0,\\quad x'<0.\n",
    "  \\end{array}\n",
    "  \\right.\n",
    "$$"
   ]
  },
  {
   "cell_type": "code",
   "execution_count": null,
   "metadata": {},
   "outputs": [],
   "source": [
    "def inverse_yeojohnson(xp,lam):\n",
    "    \n",
    "    return x"
   ]
  },
  {
   "cell_type": "code",
   "execution_count": 70,
   "metadata": {},
   "outputs": [],
   "source": [
    "xp = reg_copia['yp']"
   ]
  },
  {
   "cell_type": "code",
   "execution_count": 71,
   "metadata": {},
   "outputs": [],
   "source": [
    "lam = l"
   ]
  },
  {
   "cell_type": "code",
   "execution_count": null,
   "metadata": {},
   "outputs": [],
   "source": [
    "xp_inverse = inverse_yeojohnson(xp,lam)"
   ]
  },
  {
   "cell_type": "code",
   "execution_count": null,
   "metadata": {},
   "outputs": [],
   "source": []
  },
  {
   "cell_type": "code",
   "execution_count": null,
   "metadata": {},
   "outputs": [],
   "source": [
    "reg_copia['y'].values == xp_inverse"
   ]
  }
 ],
 "metadata": {
  "colab": {
   "authorship_tag": "ABX9TyO+0PFd0b20UvHm7G5Xgi6a",
   "mount_file_id": "17aKn8edn-0DxHFldxHaHT98EHdHRE8DA",
   "provenance": []
  },
  "kernelspec": {
   "display_name": "Python 3 (ipykernel)",
   "language": "python",
   "name": "python3"
  },
  "language_info": {
   "codemirror_mode": {
    "name": "ipython",
    "version": 3
   },
   "file_extension": ".py",
   "mimetype": "text/x-python",
   "name": "python",
   "nbconvert_exporter": "python",
   "pygments_lexer": "ipython3",
   "version": "3.8.8"
  }
 },
 "nbformat": 4,
 "nbformat_minor": 1
}
