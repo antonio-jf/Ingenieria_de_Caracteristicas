{
 "cells": [
  {
   "cell_type": "markdown",
   "metadata": {},
   "source": [
    "<img style=\"float: left;;\" src='Figures/iteso.jpg' width=\"100\" height=\"200\"/></a>\n",
    "\n",
    "# <center> <font color= #000047> Potencias </font> </center>"
   ]
  },
  {
   "cell_type": "code",
   "execution_count": null,
   "metadata": {
    "colab": {
     "base_uri": "https://localhost:8080/",
     "height": 206
    },
    "executionInfo": {
     "elapsed": 6333,
     "status": "ok",
     "timestamp": 1681262830008,
     "user": {
      "displayName": "Carlos Arellano",
      "userId": "03055712073717640513"
     },
     "user_tz": 360
    },
    "id": "teAtpGFO113Y",
    "outputId": "56042a7f-9ee0-43c1-9091-4f23a326de48"
   },
   "outputs": [],
   "source": [
    "import pandas as pd\n",
    "import numpy as np\n",
    "import matplotlib.pyplot as plt\n",
    "from sklearn.model_selection import train_test_split\n",
    "from sklearn.linear_model import LinearRegression\n",
    "\n",
    "df=pd.read_csv('numericos.csv')\n",
    "df.head()"
   ]
  },
  {
   "cell_type": "code",
   "execution_count": null,
   "metadata": {
    "colab": {
     "base_uri": "https://localhost:8080/"
    },
    "executionInfo": {
     "elapsed": 7,
     "status": "ok",
     "timestamp": 1681262830008,
     "user": {
      "displayName": "Carlos Arellano",
      "userId": "03055712073717640513"
     },
     "user_tz": 360
    },
    "id": "M3RaTHSX2NLN",
    "outputId": "73920af0-6d7a-426a-cca6-adf304dec616"
   },
   "outputs": [],
   "source": [
    "df.skew()"
   ]
  },
  {
   "cell_type": "code",
   "execution_count": null,
   "metadata": {
    "colab": {
     "base_uri": "https://localhost:8080/",
     "height": 487
    },
    "executionInfo": {
     "elapsed": 1965,
     "status": "ok",
     "timestamp": 1681262831969,
     "user": {
      "displayName": "Carlos Arellano",
      "userId": "03055712073717640513"
     },
     "user_tz": 360
    },
    "id": "pkkN6dAZ8qPq",
    "outputId": "afb7e6b7-3be1-4eb6-dc70-e2c6d8a68024"
   },
   "outputs": [],
   "source": [
    "df.hist(bins=50)"
   ]
  },
  {
   "cell_type": "code",
   "execution_count": null,
   "metadata": {
    "executionInfo": {
     "elapsed": 22,
     "status": "ok",
     "timestamp": 1681262831971,
     "user": {
      "displayName": "Carlos Arellano",
      "userId": "03055712073717640513"
     },
     "user_tz": 360
    },
    "id": "Uc7pUPwe8vRR"
   },
   "outputs": [],
   "source": [
    "# Compensando la variable '0'\n",
    "df_copia=df.copy()\n",
    "x=df['0']-df['0'].min()+1 # Variable desplazada a 1"
   ]
  },
  {
   "cell_type": "code",
   "execution_count": null,
   "metadata": {
    "colab": {
     "base_uri": "https://localhost:8080/"
    },
    "executionInfo": {
     "elapsed": 21,
     "status": "ok",
     "timestamp": 1681262831972,
     "user": {
      "displayName": "Carlos Arellano",
      "userId": "03055712073717640513"
     },
     "user_tz": 360
    },
    "id": "PRsY3yb1_aI4",
    "outputId": "b5f4e8c3-2b93-4d58-8406-d7dbbd1a9eef"
   },
   "outputs": [],
   "source": [
    "a=-11\n",
    "df_copia['0']=x**a\n",
    "df_copia['0'].skew()"
   ]
  },
  {
   "cell_type": "code",
   "execution_count": null,
   "metadata": {
    "executionInfo": {
     "elapsed": 14,
     "status": "ok",
     "timestamp": 1681262831973,
     "user": {
      "displayName": "Carlos Arellano",
      "userId": "03055712073717640513"
     },
     "user_tz": 360
    },
    "id": "oBH4rMjl_k1i"
   },
   "outputs": [],
   "source": [
    "# Compensando la variable '1'\n",
    "x=df['1']-df['1'].min()+1"
   ]
  },
  {
   "cell_type": "code",
   "execution_count": null,
   "metadata": {
    "colab": {
     "base_uri": "https://localhost:8080/"
    },
    "executionInfo": {
     "elapsed": 193,
     "status": "ok",
     "timestamp": 1681262832153,
     "user": {
      "displayName": "Carlos Arellano",
      "userId": "03055712073717640513"
     },
     "user_tz": 360
    },
    "id": "sE9vurlh_6iI",
    "outputId": "e60f94cc-4d60-4aa3-ef66-c550fea801ff"
   },
   "outputs": [],
   "source": [
    "a=17\n",
    "df_copia['1']=x**a\n",
    "df_copia['1'].skew()"
   ]
  },
  {
   "cell_type": "code",
   "execution_count": null,
   "metadata": {
    "executionInfo": {
     "elapsed": 4,
     "status": "ok",
     "timestamp": 1681262832153,
     "user": {
      "displayName": "Carlos Arellano",
      "userId": "03055712073717640513"
     },
     "user_tz": 360
    },
    "id": "OvXMIeM3AHWA"
   },
   "outputs": [],
   "source": [
    "# Compensando la variable '2'\n",
    "x=df['2']-df['2'].min()+1"
   ]
  },
  {
   "cell_type": "code",
   "execution_count": null,
   "metadata": {
    "colab": {
     "base_uri": "https://localhost:8080/"
    },
    "executionInfo": {
     "elapsed": 5,
     "status": "ok",
     "timestamp": 1681262832154,
     "user": {
      "displayName": "Carlos Arellano",
      "userId": "03055712073717640513"
     },
     "user_tz": 360
    },
    "id": "NWeNdmGBAe5Y",
    "outputId": "ac499246-22e3-4834-9d7e-2c35ba5cc3c4"
   },
   "outputs": [],
   "source": [
    "a=3\n",
    "df_copia['2']=x**a\n",
    "df_copia['2'].skew()"
   ]
  },
  {
   "cell_type": "markdown",
   "metadata": {
    "id": "uOWcXOB3As8T"
   },
   "source": [
    "Aplicando una transformación de la forma\n",
    "$$\n",
    "x'=x^a,\n",
    "$$\n",
    "donde $x\\in[1,\\infty)$, obtuvimos los siguientes exponentes para cada variable\n",
    "\n",
    "Variable|Sesgo original|$a$\n",
    "--|--|--\n",
    "'0'|6.0|-11\n",
    "'1'|-2.77|17\n",
    "'2'|-1.01|3"
   ]
  },
  {
   "cell_type": "markdown",
   "metadata": {
    "id": "LlvY1ep72NkA"
   },
   "source": [
    "---\n",
    "\n",
    "# Familia de transformaciones de potencia\n",
    "$$\n",
    "x'=\\frac{x^\\lambda-1}{\\lambda},\n",
    "$$\n",
    "haciendo $\\displaystyle\\lim_{\\lambda\\rightarrow0}\\frac{x^\\lambda-1}{\\lambda}$ se tiene\n",
    "$$\n",
    "x'=\\ln(x).\n",
    "$$"
   ]
  },
  {
   "cell_type": "code",
   "execution_count": null,
   "metadata": {
    "executionInfo": {
     "elapsed": 3,
     "status": "ok",
     "timestamp": 1681262832154,
     "user": {
      "displayName": "Carlos Arellano",
      "userId": "03055712073717640513"
     },
     "user_tz": 360
    },
    "id": "fCH369ys2O_K"
   },
   "outputs": [],
   "source": [
    "LMB=[-1,0.5,0,2,3,4]\n",
    "x=np.linspace(0.1,10,100)"
   ]
  },
  {
   "cell_type": "code",
   "execution_count": null,
   "metadata": {
    "executionInfo": {
     "elapsed": 3,
     "status": "ok",
     "timestamp": 1681262832154,
     "user": {
      "displayName": "Carlos Arellano",
      "userId": "03055712073717640513"
     },
     "user_tz": 360
    },
    "id": "GtilXDt_Ccea"
   },
   "outputs": [],
   "source": [
    "def potencia(x,lmb):\n",
    "    if lmb==0:\n",
    "        return np.log(x)\n",
    "    else:\n",
    "        return (x**lmb-1)/lmb"
   ]
  },
  {
   "cell_type": "code",
   "execution_count": null,
   "metadata": {
    "colab": {
     "base_uri": "https://localhost:8080/",
     "height": 435
    },
    "executionInfo": {
     "elapsed": 1491,
     "status": "ok",
     "timestamp": 1681262833642,
     "user": {
      "displayName": "Carlos Arellano",
      "userId": "03055712073717640513"
     },
     "user_tz": 360
    },
    "id": "GPNmfg3iCuAX",
    "outputId": "f2cc3129-7c00-4220-8669-eb357ac536f3"
   },
   "outputs": [],
   "source": [
    "for lmb in LMB:\n",
    "    xp=potencia(x,lmb)\n",
    "    plt.plot(x,xp,label='$x^{('+str(lmb)+')}$')\n",
    "plt.plot(x,x-1,'--k')\n",
    "plt.legend()\n",
    "plt.ylim([-0.1,10])\n",
    "plt.grid()"
   ]
  },
  {
   "cell_type": "markdown",
   "metadata": {
    "id": "RdeCVBSn2PR7"
   },
   "source": [
    "## Transformación Box-Cox\n",
    "$$\n",
    "x'=\\left\\{\\begin{array}{lr}\n",
    "\\dfrac{x^\\lambda-1}{\\lambda} & \\lambda\\neq0\\\\\n",
    "\\ln(x) & \\lambda=0\n",
    "\\end{array}\\right.\n",
    "$$"
   ]
  },
  {
   "cell_type": "code",
   "execution_count": null,
   "metadata": {
    "executionInfo": {
     "elapsed": 4,
     "status": "ok",
     "timestamp": 1681262833642,
     "user": {
      "displayName": "Carlos Arellano",
      "userId": "03055712073717640513"
     },
     "user_tz": 360
    },
    "id": "ZPOoSbeZ2RlK"
   },
   "outputs": [],
   "source": [
    "from scipy.stats import boxcox"
   ]
  },
  {
   "cell_type": "code",
   "execution_count": null,
   "metadata": {
    "colab": {
     "base_uri": "https://localhost:8080/",
     "height": 205
    },
    "executionInfo": {
     "elapsed": 453,
     "status": "ok",
     "timestamp": 1681262834092,
     "user": {
      "displayName": "Carlos Arellano",
      "userId": "03055712073717640513"
     },
     "user_tz": 360
    },
    "id": "CV0QbpDJ2R1D",
    "outputId": "7d842639-6b43-4bac-8cce-38be17e84222"
   },
   "outputs": [],
   "source": [
    "sesgo=pd.read_csv('sesgo.csv')\n",
    "sesgo.head(2)"
   ]
  },
  {
   "cell_type": "code",
   "execution_count": null,
   "metadata": {
    "colab": {
     "base_uri": "https://localhost:8080/"
    },
    "executionInfo": {
     "elapsed": 2083,
     "status": "ok",
     "timestamp": 1681262836170,
     "user": {
      "displayName": "Carlos Arellano",
      "userId": "03055712073717640513"
     },
     "user_tz": 360
    },
    "id": "w8XgFn4nFxlg",
    "outputId": "eec53be1-f866-4778-a297-0e901d235dad"
   },
   "outputs": [],
   "source": [
    "LMB=np.linspace(-20,20,100)\n",
    "mejor_exp={}\n",
    "for v in sesgo:\n",
    "    x=sesgo[v]-sesgo[v].min()+1 # Variable desplazada\n",
    "    sp=[pd.DataFrame(boxcox(x,lmb)).skew().values[0] for lmb in LMB]\n",
    "    idx=np.argmin(np.abs(sp))\n",
    "    mejor_exp[v]=(LMB[idx],sp[idx]) # (Mejor exponente, mejor sesgo)\n",
    "mejor_exp"
   ]
  },
  {
   "cell_type": "code",
   "execution_count": null,
   "metadata": {
    "colab": {
     "base_uri": "https://localhost:8080/"
    },
    "executionInfo": {
     "elapsed": 209,
     "status": "ok",
     "timestamp": 1681262836375,
     "user": {
      "displayName": "Carlos Arellano",
      "userId": "03055712073717640513"
     },
     "user_tz": 360
    },
    "id": "tzvR909oKfwm",
    "outputId": "6cc6172c-4450-43b7-ad5b-797ce1eacc7b"
   },
   "outputs": [],
   "source": [
    "for v in sesgo:\n",
    "    x=sesgo[v]-sesgo[v].min()+1\n",
    "    xp,lmb=boxcox(x)\n",
    "    mejor_exp[v]=(lmb,pd.DataFrame(xp).skew().values[0])\n",
    "mejor_exp"
   ]
  },
  {
   "cell_type": "code",
   "execution_count": null,
   "metadata": {
    "colab": {
     "base_uri": "https://localhost:8080/",
     "height": 393
    },
    "executionInfo": {
     "elapsed": 219,
     "status": "ok",
     "timestamp": 1681262836592,
     "user": {
      "displayName": "Carlos Arellano",
      "userId": "03055712073717640513"
     },
     "user_tz": 360
    },
    "id": "FPqv_cDdLxVD",
    "outputId": "9b2e19e6-0035-41b2-a9d4-85927feb9668"
   },
   "outputs": [],
   "source": [
    "sesgo.describe()"
   ]
  },
  {
   "cell_type": "code",
   "execution_count": null,
   "metadata": {
    "colab": {
     "base_uri": "https://localhost:8080/"
    },
    "executionInfo": {
     "elapsed": 13,
     "status": "ok",
     "timestamp": 1681262836787,
     "user": {
      "displayName": "Carlos Arellano",
      "userId": "03055712073717640513"
     },
     "user_tz": 360
    },
    "id": "U63tGZL4MJpu",
    "outputId": "5ff23c2d-836d-486f-aae2-646f485d5f19"
   },
   "outputs": [],
   "source": [
    "mejor_exp['-0.5']"
   ]
  },
  {
   "cell_type": "code",
   "execution_count": null,
   "metadata": {
    "colab": {
     "base_uri": "https://localhost:8080/"
    },
    "executionInfo": {
     "elapsed": 11,
     "status": "ok",
     "timestamp": 1681262836787,
     "user": {
      "displayName": "Carlos Arellano",
      "userId": "03055712073717640513"
     },
     "user_tz": 360
    },
    "id": "Jjpj5mxJLzhm",
    "outputId": "ab9dc2a7-f29d-4db5-b4f7-e544e11772d3"
   },
   "outputs": [],
   "source": [
    "x,l=boxcox(sesgo['-0.5'])\n",
    "l"
   ]
  },
  {
   "cell_type": "code",
   "execution_count": null,
   "metadata": {
    "colab": {
     "base_uri": "https://localhost:8080/"
    },
    "executionInfo": {
     "elapsed": 9,
     "status": "ok",
     "timestamp": 1681262836788,
     "user": {
      "displayName": "Carlos Arellano",
      "userId": "03055712073717640513"
     },
     "user_tz": 360
    },
    "id": "Tqh5MlJ5MNuW",
    "outputId": "69b3532d-604a-4ee6-e3f2-4316efb2b17f"
   },
   "outputs": [],
   "source": [
    "x,l=boxcox(sesgo['-1.3'])\n",
    "l"
   ]
  },
  {
   "cell_type": "code",
   "execution_count": null,
   "metadata": {
    "colab": {
     "base_uri": "https://localhost:8080/"
    },
    "executionInfo": {
     "elapsed": 7,
     "status": "ok",
     "timestamp": 1681262836788,
     "user": {
      "displayName": "Carlos Arellano",
      "userId": "03055712073717640513"
     },
     "user_tz": 360
    },
    "id": "-X9U1G2jMTk1",
    "outputId": "9abbf6a5-19ba-4f84-e9fc-0ad7eebf72fa"
   },
   "outputs": [],
   "source": [
    "mejor_exp['-1.3']"
   ]
  },
  {
   "cell_type": "markdown",
   "metadata": {
    "id": "tJ-bB9qGMpXP"
   },
   "source": [
    "---\n",
    "Uso de valores negativos para $x$:\n",
    "$$\n",
    "x'=\\left\\{\n",
    "  \\begin{array}{ll}\n",
    "  \\mathrm{sign}(x)\\dfrac{(|x|+1)^\\lambda-1}{\\lambda},&\\lambda\\neq0\\\\\n",
    "  \\mathrm{sign}(x)\\ln(|x|+1),&\\lambda=0\n",
    "  \\end{array}.\n",
    "  \\right.\n",
    "$$"
   ]
  },
  {
   "cell_type": "code",
   "execution_count": null,
   "metadata": {
    "executionInfo": {
     "elapsed": 4,
     "status": "ok",
     "timestamp": 1681262836788,
     "user": {
      "displayName": "Carlos Arellano",
      "userId": "03055712073717640513"
     },
     "user_tz": 360
    },
    "id": "MSSYnJXtMowk"
   },
   "outputs": [],
   "source": [
    "x=np.linspace(-10,10,500)\n",
    "LMB=[-1,0.5,0,2,3,4]"
   ]
  },
  {
   "cell_type": "code",
   "execution_count": null,
   "metadata": {
    "executionInfo": {
     "elapsed": 172,
     "status": "ok",
     "timestamp": 1681262836956,
     "user": {
      "displayName": "Carlos Arellano",
      "userId": "03055712073717640513"
     },
     "user_tz": 360
    },
    "id": "OdsymafsM8M1"
   },
   "outputs": [],
   "source": [
    "def potenciaS(x,lmb):\n",
    "  if lmb==0:\n",
    "    return np.sign(x)*np.log(abs(x)+1)\n",
    "  else:\n",
    "    return np.sign(x)*((abs(x)+1)**lmb-1)/lmb"
   ]
  },
  {
   "cell_type": "code",
   "execution_count": null,
   "metadata": {
    "colab": {
     "base_uri": "https://localhost:8080/",
     "height": 435
    },
    "executionInfo": {
     "elapsed": 714,
     "status": "ok",
     "timestamp": 1681262837668,
     "user": {
      "displayName": "Carlos Arellano",
      "userId": "03055712073717640513"
     },
     "user_tz": 360
    },
    "id": "j5---XnROYrn",
    "outputId": "15f82702-8c67-456f-c71b-73505d3cf31c"
   },
   "outputs": [],
   "source": [
    "for lmb in LMB:\n",
    "    xp=potenciaS(x,lmb)\n",
    "    plt.plot(x,xp,label='exponente: {}'.format(lmb))\n",
    "plt.plot(x,np.sign(x)*(abs(x)),'--k')\n",
    "plt.legend()\n",
    "plt.ylim([-10,10])\n",
    "plt.grid()"
   ]
  },
  {
   "cell_type": "markdown",
   "metadata": {
    "id": "kmlW2P3y2Vlx"
   },
   "source": [
    "## Yeo-Johnson\n",
    "$$\n",
    "x'=\\left\\{\n",
    "  \\begin{array}{lr}\n",
    "  \\frac{(x+1)^{\\lambda_1}-1}{\\lambda_1} & \\lambda_1\\neq0,\\quad x\\geq0\\\\\n",
    "  \\ln(x+1) & \\lambda_1=0,\\quad x\\geq0\\\\\n",
    "  -\\frac{(-x+1)^{\\lambda_2}-1}{\\lambda_2} & \\lambda_2\\neq0,\\quad x<0\\\\\n",
    "  -\\ln(-x+1) & \\lambda_2=0,\\quad x<0.\n",
    "  \\end{array}\n",
    "  \\right.\n",
    "$$\n",
    "Donde $\\lambda_1+\\lambda_2=2$.\n",
    "\n",
    "Se sustituye $\\lambda_2=2-\\lambda_1$.\n",
    "$$\n",
    "x'=\\left\\{\n",
    "  \\begin{array}{lr}\n",
    "  \\frac{(x+1)^{\\lambda}-1}{\\lambda} & \\lambda\\neq0,\\quad x\\geq0\\\\\n",
    "  \\ln(x+1) & \\lambda=0,\\quad x\\geq0\\\\\n",
    "  -\\frac{(-x+1)^{2-\\lambda}-1}{2-\\lambda} & \\lambda\\neq2,\\quad x<0\\\\\n",
    "  -\\ln(-x+1) & \\lambda=2,\\quad x<0.\n",
    "  \\end{array}\n",
    "  \\right.\n",
    "$$"
   ]
  },
  {
   "cell_type": "code",
   "execution_count": null,
   "metadata": {
    "executionInfo": {
     "elapsed": 13,
     "status": "ok",
     "timestamp": 1681262837670,
     "user": {
      "displayName": "Carlos Arellano",
      "userId": "03055712073717640513"
     },
     "user_tz": 360
    },
    "id": "U0bqjK3O2WRl"
   },
   "outputs": [],
   "source": [
    "from scipy.stats import yeojohnson"
   ]
  },
  {
   "cell_type": "code",
   "execution_count": null,
   "metadata": {
    "colab": {
     "base_uri": "https://localhost:8080/",
     "height": 435
    },
    "executionInfo": {
     "elapsed": 1291,
     "status": "ok",
     "timestamp": 1681262838951,
     "user": {
      "displayName": "Carlos Arellano",
      "userId": "03055712073717640513"
     },
     "user_tz": 360
    },
    "id": "HFhL4MnZEhl3",
    "outputId": "64a31492-6691-438b-bc00-6e63900cc1be"
   },
   "outputs": [],
   "source": [
    "for lmb in LMB:\n",
    "    xp=yeojohnson(x,lmb)\n",
    "    plt.plot(x,xp,label='exponente: {}'.format(lmb))\n",
    "plt.plot(x,np.sign(x)*(abs(x)),'--k')\n",
    "plt.legend()\n",
    "plt.ylim([-10,10])\n",
    "plt.grid()"
   ]
  },
  {
   "cell_type": "code",
   "execution_count": null,
   "metadata": {
    "colab": {
     "base_uri": "https://localhost:8080/",
     "height": 282
    },
    "executionInfo": {
     "elapsed": 537,
     "status": "ok",
     "timestamp": 1680058376858,
     "user": {
      "displayName": "Carlos Arellano",
      "userId": "03055712073717640513"
     },
     "user_tz": 360
    },
    "id": "GNTnLJ0R2Yyj",
    "outputId": "fcac6145-14c1-449c-a3fd-8be63500b5b8"
   },
   "outputs": [],
   "source": [
    "df_copia['0'],l=yeojohnson(df['0'])\n",
    "df_copia['0'].hist(bins=50)\n",
    "l,df_copia['0'].skew() # Sesgo resultante sin desplazar = 0.04"
   ]
  },
  {
   "cell_type": "code",
   "execution_count": null,
   "metadata": {
    "colab": {
     "base_uri": "https://localhost:8080/",
     "height": 282
    },
    "executionInfo": {
     "elapsed": 698,
     "status": "ok",
     "timestamp": 1680058540860,
     "user": {
      "displayName": "Carlos Arellano",
      "userId": "03055712073717640513"
     },
     "user_tz": 360
    },
    "id": "qnEQCyolSSZN",
    "outputId": "926dcbdf-f347-460e-ea5b-aae5ec8ca51c"
   },
   "outputs": [],
   "source": [
    "df_copia['1'],l=yeojohnson(df['1'])\n",
    "df_copia['1'].hist(bins=50)\n",
    "l,df_copia['1'].skew()"
   ]
  },
  {
   "cell_type": "code",
   "execution_count": null,
   "metadata": {
    "colab": {
     "base_uri": "https://localhost:8080/",
     "height": 282
    },
    "executionInfo": {
     "elapsed": 552,
     "status": "ok",
     "timestamp": 1680058630516,
     "user": {
      "displayName": "Carlos Arellano",
      "userId": "03055712073717640513"
     },
     "user_tz": 360
    },
    "id": "NNpBxOHOSt-9",
    "outputId": "a273a406-2e0b-4e76-d213-34a6df83e9dd"
   },
   "outputs": [],
   "source": [
    "df_copia['2'],l=yeojohnson(df['2'])\n",
    "df_copia['2'].hist(bins=50)\n",
    "l,df_copia['2'].skew()"
   ]
  },
  {
   "cell_type": "markdown",
   "metadata": {
    "id": "SgPa4BuS2aWD"
   },
   "source": [
    "---\n",
    "## Ejemplo Regresión"
   ]
  },
  {
   "cell_type": "code",
   "execution_count": null,
   "metadata": {
    "colab": {
     "base_uri": "https://localhost:8080/",
     "height": 320
    },
    "executionInfo": {
     "elapsed": 378,
     "status": "ok",
     "timestamp": 1680059891633,
     "user": {
      "displayName": "Carlos Arellano",
      "userId": "03055712073717640513"
     },
     "user_tz": 360
    },
    "id": "JEMeuArEVSt8",
    "outputId": "45d3c4bd-1287-41b5-efbe-d7424bfc0fc3"
   },
   "outputs": [],
   "source": []
  }
 ],
 "metadata": {
  "colab": {
   "authorship_tag": "ABX9TyO+0PFd0b20UvHm7G5Xgi6a",
   "mount_file_id": "17aKn8edn-0DxHFldxHaHT98EHdHRE8DA",
   "provenance": []
  },
  "kernelspec": {
   "display_name": "Python 3 (ipykernel)",
   "language": "python",
   "name": "python3"
  },
  "language_info": {
   "codemirror_mode": {
    "name": "ipython",
    "version": 3
   },
   "file_extension": ".py",
   "mimetype": "text/x-python",
   "name": "python",
   "nbconvert_exporter": "python",
   "pygments_lexer": "ipython3",
   "version": "3.8.8"
  }
 },
 "nbformat": 4,
 "nbformat_minor": 1
}
