{
 "cells": [
  {
   "cell_type": "markdown",
   "metadata": {},
   "source": [
    "<img style=\"float: left;;\" src='Figures/iteso.jpg' width=\"100\" height=\"200\"/></a>\n",
    "\n",
    "# <center> <font color= #000047> Transformaciones Lineales </font> </center>"
   ]
  },
  {
   "cell_type": "code",
   "execution_count": null,
   "metadata": {
    "colab": {
     "base_uri": "https://localhost:8080/",
     "height": 112
    },
    "executionInfo": {
     "elapsed": 3875,
     "status": "ok",
     "timestamp": 1681266828244,
     "user": {
      "displayName": "Carlos Arellano",
      "userId": "03055712073717640513"
     },
     "user_tz": 360
    },
    "id": "h-HhHi7r9uDz",
    "outputId": "fd1e6203-3cdb-48dc-cd53-90d91060bf79"
   },
   "outputs": [],
   "source": [
    "import pandas as pd\n",
    "\n",
    "from sklearn.datasets import fetch_california_housing\n",
    "ch=fetch_california_housing()\n",
    "df=pd.DataFrame(ch.data,columns=ch.feature_names)\n",
    "df['MedHouseVal']=ch.target\n",
    "df.head(2)"
   ]
  },
  {
   "cell_type": "markdown",
   "metadata": {
    "id": "Pm5xZ_h0-chz"
   },
   "source": [
    "# Estandarización\n",
    "\n",
    "Desplaza la media $\\mu$ de $X$ a cero y escala la varianza $\\sigma$ a uno\n",
    "$$\n",
    "X'=\\frac{X-\\mu}{\\sigma},\n",
    "$$\n",
    "donde $X'$ es la variable transformada con media cero y varianza uno."
   ]
  },
  {
   "cell_type": "code",
   "execution_count": null,
   "metadata": {
    "executionInfo": {
     "elapsed": 14,
     "status": "ok",
     "timestamp": 1681266828245,
     "user": {
      "displayName": "Carlos Arellano",
      "userId": "03055712073717640513"
     },
     "user_tz": 360
    },
    "id": "TAe30P7N-e1f"
   },
   "outputs": [],
   "source": [
    "import numpy as np\n",
    "from scipy.stats import zscore\n",
    "from sklearn.preprocessing import StandardScaler"
   ]
  },
  {
   "cell_type": "code",
   "execution_count": null,
   "metadata": {
    "colab": {
     "base_uri": "https://localhost:8080/",
     "height": 300
    },
    "executionInfo": {
     "elapsed": 14,
     "status": "ok",
     "timestamp": 1681266828245,
     "user": {
      "displayName": "Carlos Arellano",
      "userId": "03055712073717640513"
     },
     "user_tz": 360
    },
    "id": "tLDOUsdT-meH",
    "outputId": "dd34211e-a0a0-486c-91ce-ba6291a500df"
   },
   "outputs": [],
   "source": [
    "df.describe()"
   ]
  },
  {
   "cell_type": "code",
   "execution_count": null,
   "metadata": {
    "colab": {
     "base_uri": "https://localhost:8080/",
     "height": 300
    },
    "executionInfo": {
     "elapsed": 13,
     "status": "ok",
     "timestamp": 1681266828245,
     "user": {
      "displayName": "Carlos Arellano",
      "userId": "03055712073717640513"
     },
     "user_tz": 360
    },
    "id": "dqDGtTSBL1V1",
    "outputId": "a0e13b86-039d-4677-e823-3900aeae71de"
   },
   "outputs": [],
   "source": [
    "df_est=pd.DataFrame(zscore(df))\n",
    "df_est.describe()"
   ]
  },
  {
   "cell_type": "code",
   "execution_count": null,
   "metadata": {
    "executionInfo": {
     "elapsed": 13,
     "status": "ok",
     "timestamp": 1681266828245,
     "user": {
      "displayName": "Carlos Arellano",
      "userId": "03055712073717640513"
     },
     "user_tz": 360
    },
    "id": "K-q5GezQMRv8"
   },
   "outputs": [],
   "source": [
    "me=np.mean(df,axis=0)\n",
    "ds=np.std(df)"
   ]
  },
  {
   "cell_type": "code",
   "execution_count": null,
   "metadata": {
    "colab": {
     "base_uri": "https://localhost:8080/"
    },
    "executionInfo": {
     "elapsed": 12,
     "status": "ok",
     "timestamp": 1681266828245,
     "user": {
      "displayName": "Carlos Arellano",
      "userId": "03055712073717640513"
     },
     "user_tz": 360
    },
    "id": "tWAsT8B7MuGH",
    "outputId": "8309d491-e78a-4355-c194-a5babdadf8ef"
   },
   "outputs": [],
   "source": [
    "me"
   ]
  },
  {
   "cell_type": "code",
   "execution_count": null,
   "metadata": {
    "colab": {
     "base_uri": "https://localhost:8080/"
    },
    "executionInfo": {
     "elapsed": 10,
     "status": "ok",
     "timestamp": 1681266828246,
     "user": {
      "displayName": "Carlos Arellano",
      "userId": "03055712073717640513"
     },
     "user_tz": 360
    },
    "id": "v0Dqo85MMu0s",
    "outputId": "25de5ad0-5e67-475e-d8dd-544bdc89d33b"
   },
   "outputs": [],
   "source": [
    "ds"
   ]
  },
  {
   "cell_type": "code",
   "execution_count": null,
   "metadata": {
    "colab": {
     "base_uri": "https://localhost:8080/",
     "height": 300
    },
    "executionInfo": {
     "elapsed": 527,
     "status": "ok",
     "timestamp": 1681266828764,
     "user": {
      "displayName": "Carlos Arellano",
      "userId": "03055712073717640513"
     },
     "user_tz": 360
    },
    "id": "ChBwJYbDM5QW",
    "outputId": "808efca0-e302-4690-9c0b-c67277cf8d7c"
   },
   "outputs": [],
   "source": [
    "esc_est=StandardScaler()\n",
    "pd.DataFrame(esc_est.fit_transform(df),columns=df.columns).describe()"
   ]
  },
  {
   "cell_type": "code",
   "execution_count": null,
   "metadata": {
    "colab": {
     "base_uri": "https://localhost:8080/"
    },
    "executionInfo": {
     "elapsed": 16,
     "status": "ok",
     "timestamp": 1681266828765,
     "user": {
      "displayName": "Carlos Arellano",
      "userId": "03055712073717640513"
     },
     "user_tz": 360
    },
    "id": "j31khLAdNw5t",
    "outputId": "00454417-29fd-4d92-ad76-e4322ea83eee"
   },
   "outputs": [],
   "source": [
    "esc_est.mean_ # Medias originales"
   ]
  },
  {
   "cell_type": "code",
   "execution_count": null,
   "metadata": {
    "colab": {
     "base_uri": "https://localhost:8080/"
    },
    "executionInfo": {
     "elapsed": 15,
     "status": "ok",
     "timestamp": 1681266828765,
     "user": {
      "displayName": "Carlos Arellano",
      "userId": "03055712073717640513"
     },
     "user_tz": 360
    },
    "id": "oSfJ8_XaN1ME",
    "outputId": "5e735c0d-0668-48f7-9a26-57f938d36b2e"
   },
   "outputs": [],
   "source": [
    "esc_est.scale_ # Desviaciones estandar originales"
   ]
  },
  {
   "cell_type": "markdown",
   "metadata": {
    "id": "iFyd_DxV-mKF"
   },
   "source": [
    "# Escalamiento con base en la media\n",
    "\n",
    "Desplaza la media $\\mu$ de $X$ a cero y el rango a uno\n",
    "$$\n",
    "X'=\\frac{X-\\mu}{max(X)-min(X)}.\n",
    "$$"
   ]
  },
  {
   "cell_type": "code",
   "execution_count": null,
   "metadata": {
    "executionInfo": {
     "elapsed": 14,
     "status": "ok",
     "timestamp": 1681266828765,
     "user": {
      "displayName": "Carlos Arellano",
      "userId": "03055712073717640513"
     },
     "user_tz": 360
    },
    "id": "HunxurPO-qJk"
   },
   "outputs": [],
   "source": [
    "rng=df.max()-df.min()\n",
    "df_med=(df-me)/rng"
   ]
  },
  {
   "cell_type": "code",
   "execution_count": null,
   "metadata": {
    "colab": {
     "base_uri": "https://localhost:8080/"
    },
    "executionInfo": {
     "elapsed": 13,
     "status": "ok",
     "timestamp": 1681266828765,
     "user": {
      "displayName": "Carlos Arellano",
      "userId": "03055712073717640513"
     },
     "user_tz": 360
    },
    "id": "7IGKXwmtObMN",
    "outputId": "fed9edc7-37c5-4961-88da-3ce08dfa9eb2"
   },
   "outputs": [],
   "source": [
    "rng"
   ]
  },
  {
   "cell_type": "code",
   "execution_count": null,
   "metadata": {
    "colab": {
     "base_uri": "https://localhost:8080/",
     "height": 300
    },
    "executionInfo": {
     "elapsed": 13,
     "status": "ok",
     "timestamp": 1681266828766,
     "user": {
      "displayName": "Carlos Arellano",
      "userId": "03055712073717640513"
     },
     "user_tz": 360
    },
    "id": "x2BzNN3UOcbj",
    "outputId": "bd8545b4-bb08-41dc-e849-123af15ed39f"
   },
   "outputs": [],
   "source": [
    "df_med.describe()"
   ]
  },
  {
   "cell_type": "markdown",
   "metadata": {
    "id": "lJ-ry7YR-z_J"
   },
   "source": [
    "# Escalamiento Robusto (Por cuantiles)\n",
    "Desplaza la mediana $\\bar{x}$ de $X$ a cero y el rango intercuartílico a uno\n",
    "$$\n",
    "X'=\\frac{X-\\bar{x}}{Q_3-Q_1},\n",
    "$$\n",
    "donde $Q_1$ y $Q_3$ son los cuartiles uno y tres respectivamente."
   ]
  },
  {
   "cell_type": "code",
   "execution_count": null,
   "metadata": {
    "executionInfo": {
     "elapsed": 12,
     "status": "ok",
     "timestamp": 1681266828766,
     "user": {
      "displayName": "Carlos Arellano",
      "userId": "03055712073717640513"
     },
     "user_tz": 360
    },
    "id": "lKItfQOx-12N"
   },
   "outputs": [],
   "source": [
    "from sklearn.preprocessing import RobustScaler"
   ]
  },
  {
   "cell_type": "code",
   "execution_count": null,
   "metadata": {
    "colab": {
     "base_uri": "https://localhost:8080/"
    },
    "executionInfo": {
     "elapsed": 12,
     "status": "ok",
     "timestamp": 1681266828766,
     "user": {
      "displayName": "Carlos Arellano",
      "userId": "03055712073717640513"
     },
     "user_tz": 360
    },
    "id": "BwLW0BzE-6Pr",
    "outputId": "dbee8868-33fd-471b-c9f5-ed2b4d3ecc90"
   },
   "outputs": [],
   "source": [
    "mediana=df.median()\n",
    "mediana"
   ]
  },
  {
   "cell_type": "code",
   "execution_count": null,
   "metadata": {
    "colab": {
     "base_uri": "https://localhost:8080/"
    },
    "executionInfo": {
     "elapsed": 11,
     "status": "ok",
     "timestamp": 1681266828766,
     "user": {
      "displayName": "Carlos Arellano",
      "userId": "03055712073717640513"
     },
     "user_tz": 360
    },
    "id": "WPLHMZZDPdB8",
    "outputId": "49a1e84e-62f7-469e-9f39-432b67c28986"
   },
   "outputs": [],
   "source": [
    "Q=df.quantile((0.25,0.75))\n",
    "iqr=Q.loc[0.75]-Q.loc[0.25]\n",
    "iqr"
   ]
  },
  {
   "cell_type": "code",
   "execution_count": null,
   "metadata": {
    "colab": {
     "base_uri": "https://localhost:8080/",
     "height": 300
    },
    "executionInfo": {
     "elapsed": 10,
     "status": "ok",
     "timestamp": 1681266828767,
     "user": {
      "displayName": "Carlos Arellano",
      "userId": "03055712073717640513"
     },
     "user_tz": 360
    },
    "id": "Jdvj8TXCPswT",
    "outputId": "dc1de171-8b9a-4f33-daa4-1c0ffea4d5fd"
   },
   "outputs": [],
   "source": [
    "df_rob=(df-mediana)/iqr\n",
    "df_rob.describe()"
   ]
  },
  {
   "cell_type": "code",
   "execution_count": null,
   "metadata": {
    "colab": {
     "base_uri": "https://localhost:8080/"
    },
    "executionInfo": {
     "elapsed": 10,
     "status": "ok",
     "timestamp": 1681266828767,
     "user": {
      "displayName": "Carlos Arellano",
      "userId": "03055712073717640513"
     },
     "user_tz": 360
    },
    "id": "It5Shd3YQBnD",
    "outputId": "92f267d2-1c79-480b-f7be-af72a6c9ff4a"
   },
   "outputs": [],
   "source": [
    "Q_rob=df_rob.quantile((0.25,0.75))\n",
    "Q_rob.loc[0.75]-Q_rob.loc[0.25]"
   ]
  },
  {
   "cell_type": "code",
   "execution_count": null,
   "metadata": {
    "colab": {
     "base_uri": "https://localhost:8080/",
     "height": 300
    },
    "executionInfo": {
     "elapsed": 1033,
     "status": "ok",
     "timestamp": 1681266829792,
     "user": {
      "displayName": "Carlos Arellano",
      "userId": "03055712073717640513"
     },
     "user_tz": 360
    },
    "id": "3qnPV-FcQfzi",
    "outputId": "90ec857d-ccf7-4b25-dba8-979db161bdc8"
   },
   "outputs": [],
   "source": [
    "esc_rob=RobustScaler()\n",
    "pd.DataFrame(esc_rob.fit_transform(df),columns=df.columns).describe()"
   ]
  },
  {
   "cell_type": "code",
   "execution_count": null,
   "metadata": {
    "colab": {
     "base_uri": "https://localhost:8080/"
    },
    "executionInfo": {
     "elapsed": 46,
     "status": "ok",
     "timestamp": 1681266829792,
     "user": {
      "displayName": "Carlos Arellano",
      "userId": "03055712073717640513"
     },
     "user_tz": 360
    },
    "id": "AFSv46ZrQ5Xa",
    "outputId": "c18a9e26-95b1-4209-dd25-925f03cb7dc9"
   },
   "outputs": [],
   "source": [
    "esc_rob.center_ # Mediana de las variables originales"
   ]
  },
  {
   "cell_type": "code",
   "execution_count": null,
   "metadata": {
    "colab": {
     "base_uri": "https://localhost:8080/"
    },
    "executionInfo": {
     "elapsed": 40,
     "status": "ok",
     "timestamp": 1681266829793,
     "user": {
      "displayName": "Carlos Arellano",
      "userId": "03055712073717640513"
     },
     "user_tz": 360
    },
    "id": "pvRVEVeKQ_mK",
    "outputId": "90dc017c-5e6c-430e-8a3a-e191a065bc4b"
   },
   "outputs": [],
   "source": [
    "esc_rob.scale_ # IQR de las variables originales"
   ]
  },
  {
   "cell_type": "markdown",
   "metadata": {
    "id": "f1dECIwv_FmF"
   },
   "source": [
    "# Normalización de mínimo y máximo\n",
    "Queremos que nuestros datos esten entre (0,1).\n",
    "$$\n",
    "X'=\\frac{X-\\min{X}}{\\max{X}-\\min{X}}.\n",
    "$$"
   ]
  },
  {
   "cell_type": "code",
   "execution_count": null,
   "metadata": {
    "executionInfo": {
     "elapsed": 35,
     "status": "ok",
     "timestamp": 1681266829793,
     "user": {
      "displayName": "Carlos Arellano",
      "userId": "03055712073717640513"
     },
     "user_tz": 360
    },
    "id": "NiHmuqjc_GHX"
   },
   "outputs": [],
   "source": [
    "from sklearn.preprocessing import MinMaxScaler"
   ]
  },
  {
   "cell_type": "code",
   "execution_count": null,
   "metadata": {
    "colab": {
     "base_uri": "https://localhost:8080/",
     "height": 300
    },
    "executionInfo": {
     "elapsed": 34,
     "status": "ok",
     "timestamp": 1681266829794,
     "user": {
      "displayName": "Carlos Arellano",
      "userId": "03055712073717640513"
     },
     "user_tz": 360
    },
    "id": "cUJYmf3H_Jau",
    "outputId": "a26d0f83-6dd1-49ee-eae8-90c09e01f9ee"
   },
   "outputs": [],
   "source": [
    "m=df.min()\n",
    "M=df.max()\n",
    "df_minMax=(df-m)/(M-m)\n",
    "df_minMax.describe()"
   ]
  },
  {
   "cell_type": "code",
   "execution_count": null,
   "metadata": {
    "colab": {
     "base_uri": "https://localhost:8080/",
     "height": 300
    },
    "executionInfo": {
     "elapsed": 31,
     "status": "ok",
     "timestamp": 1681266829794,
     "user": {
      "displayName": "Carlos Arellano",
      "userId": "03055712073717640513"
     },
     "user_tz": 360
    },
    "id": "G7Ox4ExKR_E0",
    "outputId": "54e77d3c-5a15-4735-ce64-fb42fb554861"
   },
   "outputs": [],
   "source": [
    "A,B=5,10\n",
    "df_AB=A+(B-A)*(df-m)/(M-m)\n",
    "df_AB.describe()"
   ]
  },
  {
   "cell_type": "code",
   "execution_count": null,
   "metadata": {
    "colab": {
     "base_uri": "https://localhost:8080/",
     "height": 300
    },
    "executionInfo": {
     "elapsed": 28,
     "status": "ok",
     "timestamp": 1681266829795,
     "user": {
      "displayName": "Carlos Arellano",
      "userId": "03055712073717640513"
     },
     "user_tz": 360
    },
    "id": "3wVZ3zIpSZeL",
    "outputId": "003c4e48-3fba-4e92-c1f5-6b2c6afa1255"
   },
   "outputs": [],
   "source": [
    "esc_minMax=MinMaxScaler((A,B))\n",
    "pd.DataFrame(esc_minMax.fit_transform(df),columns=df.columns).describe()"
   ]
  },
  {
   "cell_type": "code",
   "execution_count": null,
   "metadata": {
    "colab": {
     "base_uri": "https://localhost:8080/"
    },
    "executionInfo": {
     "elapsed": 12,
     "status": "ok",
     "timestamp": 1681267189420,
     "user": {
      "displayName": "Carlos Arellano",
      "userId": "03055712073717640513"
     },
     "user_tz": 360
    },
    "id": "XI3uLbYEVOBY",
    "outputId": "8d0a3d7c-e265-41dc-991c-21027d1805d6"
   },
   "outputs": [],
   "source": [
    "esc_minMax.min_ # Mínimo de las variables originales"
   ]
  },
  {
   "cell_type": "code",
   "execution_count": null,
   "metadata": {
    "colab": {
     "base_uri": "https://localhost:8080/"
    },
    "executionInfo": {
     "elapsed": 469,
     "status": "ok",
     "timestamp": 1681267199938,
     "user": {
      "displayName": "Carlos Arellano",
      "userId": "03055712073717640513"
     },
     "user_tz": 360
    },
    "id": "2ANW3Iv1VWIf",
    "outputId": "8b38fcaf-a682-4382-e458-9d85f58b61f0"
   },
   "outputs": [],
   "source": [
    "esc_minMax.scale_ # Rango de las variables originales"
   ]
  },
  {
   "cell_type": "markdown",
   "metadata": {
    "id": "W2TuWCY4-9a1"
   },
   "source": [
    "# Escalamiento de máximo absoluto\n",
    "$$\n",
    "X'=\\frac{X}{\\max{|X|}}.\n",
    "$$\n",
    "\n",
    "Se recomienda para datos centrados en cero o para variables con pocas observaciones."
   ]
  },
  {
   "cell_type": "code",
   "execution_count": null,
   "metadata": {
    "executionInfo": {
     "elapsed": 25,
     "status": "ok",
     "timestamp": 1681266829795,
     "user": {
      "displayName": "Carlos Arellano",
      "userId": "03055712073717640513"
     },
     "user_tz": 360
    },
    "id": "RuW-Bci8--VL"
   },
   "outputs": [],
   "source": [
    "from sklearn.preprocessing import MaxAbsScaler"
   ]
  },
  {
   "cell_type": "code",
   "execution_count": null,
   "metadata": {
    "colab": {
     "base_uri": "https://localhost:8080/",
     "height": 300
    },
    "executionInfo": {
     "elapsed": 25,
     "status": "ok",
     "timestamp": 1681266829796,
     "user": {
      "displayName": "Carlos Arellano",
      "userId": "03055712073717640513"
     },
     "user_tz": 360
    },
    "id": "HsQfXb9d_BCC",
    "outputId": "ceacab60-e176-4ae3-8ae0-268a541bf1d5"
   },
   "outputs": [],
   "source": [
    "df.describe()"
   ]
  },
  {
   "cell_type": "code",
   "execution_count": null,
   "metadata": {
    "colab": {
     "base_uri": "https://localhost:8080/",
     "height": 300
    },
    "executionInfo": {
     "elapsed": 9,
     "status": "ok",
     "timestamp": 1681266832650,
     "user": {
      "displayName": "Carlos Arellano",
      "userId": "03055712073717640513"
     },
     "user_tz": 360
    },
    "id": "X-3fMfXlTPGo",
    "outputId": "420c220d-696f-4375-b6ae-725b5c7c5a43"
   },
   "outputs": [],
   "source": [
    "df_max=df/(np.max(np.abs(df),axis=0))\n",
    "df_max.describe()"
   ]
  },
  {
   "cell_type": "code",
   "execution_count": null,
   "metadata": {
    "colab": {
     "base_uri": "https://localhost:8080/",
     "height": 300
    },
    "executionInfo": {
     "elapsed": 1488,
     "status": "ok",
     "timestamp": 1681266988548,
     "user": {
      "displayName": "Carlos Arellano",
      "userId": "03055712073717640513"
     },
     "user_tz": 360
    },
    "id": "OLinb-3BUI9H",
    "outputId": "b30a61fc-3194-4efb-e7b3-efd7d02ff5b0"
   },
   "outputs": [],
   "source": [
    "# Escalamiento sobre la variable centrada\n",
    "#\n",
    "df_centrada=df-me\n",
    "df_maxCentrada=df_centrada/np.max(np.abs(df_centrada),axis=0)\n",
    "df_maxCentrada.describe()"
   ]
  },
  {
   "cell_type": "code",
   "execution_count": null,
   "metadata": {
    "colab": {
     "base_uri": "https://localhost:8080/",
     "height": 300
    },
    "executionInfo": {
     "elapsed": 465,
     "status": "ok",
     "timestamp": 1681267094179,
     "user": {
      "displayName": "Carlos Arellano",
      "userId": "03055712073717640513"
     },
     "user_tz": 360
    },
    "id": "1w3FgpISUk2w",
    "outputId": "d9f81f30-e7c1-40a1-f54e-779fbff68ae7"
   },
   "outputs": [],
   "source": [
    "esc_maxAbs=MaxAbsScaler()\n",
    "pd.DataFrame(esc_maxAbs.fit_transform(df),columns=df.columns).describe()"
   ]
  },
  {
   "cell_type": "code",
   "execution_count": null,
   "metadata": {
    "colab": {
     "base_uri": "https://localhost:8080/",
     "height": 300
    },
    "executionInfo": {
     "elapsed": 7,
     "status": "ok",
     "timestamp": 1681267119981,
     "user": {
      "displayName": "Carlos Arellano",
      "userId": "03055712073717640513"
     },
     "user_tz": 360
    },
    "id": "UzENw9sLU-vA",
    "outputId": "9c8d05a6-078c-4a7a-f70f-a27f6ccceb52"
   },
   "outputs": [],
   "source": [
    "pd.DataFrame(esc_maxAbs.fit_transform(df_centrada),columns=df.columns).describe()"
   ]
  },
  {
   "cell_type": "code",
   "execution_count": null,
   "metadata": {
    "colab": {
     "base_uri": "https://localhost:8080/"
    },
    "executionInfo": {
     "elapsed": 5,
     "status": "ok",
     "timestamp": 1681267258069,
     "user": {
      "displayName": "Carlos Arellano",
      "userId": "03055712073717640513"
     },
     "user_tz": 360
    },
    "id": "MRmL0i8GVi_I",
    "outputId": "82386e66-3e03-4a2a-d8f5-19d02376bdcf"
   },
   "outputs": [],
   "source": [
    "esc_maxAbs.max_abs_"
   ]
  },
  {
   "cell_type": "code",
   "execution_count": null,
   "metadata": {
    "colab": {
     "base_uri": "https://localhost:8080/"
    },
    "executionInfo": {
     "elapsed": 6,
     "status": "ok",
     "timestamp": 1681267267234,
     "user": {
      "displayName": "Carlos Arellano",
      "userId": "03055712073717640513"
     },
     "user_tz": 360
    },
    "id": "yOfNDSvQVmt4",
    "outputId": "d65f42a6-5a4a-4f40-8484-a66a82f31ea6"
   },
   "outputs": [],
   "source": [
    "esc_maxAbs.scale_"
   ]
  },
  {
   "cell_type": "markdown",
   "metadata": {
    "id": "ztLmxqeq_OUW"
   },
   "source": [
    "# Regresión"
   ]
  },
  {
   "cell_type": "code",
   "execution_count": null,
   "metadata": {
    "executionInfo": {
     "elapsed": 317,
     "status": "ok",
     "timestamp": 1681267343671,
     "user": {
      "displayName": "Carlos Arellano",
      "userId": "03055712073717640513"
     },
     "user_tz": 360
    },
    "id": "_ImQOE_2_Pec"
   },
   "outputs": [],
   "source": [
    "from scipy.stats import yeojohnson\n",
    "from sklearn.linear_model import LinearRegression"
   ]
  },
  {
   "cell_type": "code",
   "execution_count": null,
   "metadata": {
    "colab": {
     "base_uri": "https://localhost:8080/",
     "height": 699
    },
    "executionInfo": {
     "elapsed": 4379,
     "status": "ok",
     "timestamp": 1681267832440,
     "user": {
      "displayName": "Carlos Arellano",
      "userId": "03055712073717640513"
     },
     "user_tz": 360
    },
    "id": "i_Ih4CQR_YCE",
    "outputId": "d4a14c9d-23cf-4e52-e2e0-25f5f31251d4"
   },
   "outputs": [],
   "source": [
    "# Antes de hacer la separación de datos entre train y test, necesitamos hacer la transformación de potencia\n",
    "#\n",
    "df_t=df.copy()\n",
    "lmb={}\n",
    "for var in df:\n",
    "  x=(df[var]-df[var].mean())/(df[var].max()-df[var].min())\n",
    "  df_t[var],lmb[var]=yeojohnson(x)\n",
    "H=df_t.hist(bins='auto',figsize=(10,8))"
   ]
  },
  {
   "cell_type": "code",
   "execution_count": null,
   "metadata": {
    "colab": {
     "base_uri": "https://localhost:8080/",
     "height": 616
    },
    "executionInfo": {
     "elapsed": 734,
     "status": "ok",
     "timestamp": 1681268364809,
     "user": {
      "displayName": "Carlos Arellano",
      "userId": "03055712073717640513"
     },
     "user_tz": 360
    },
    "id": "EzGIuR-hW2Xy",
    "outputId": "3b469bd2-9847-492b-bab1-17c4aced959e"
   },
   "outputs": [],
   "source": [
    "df_t.boxplot(figsize=(10,7))"
   ]
  },
  {
   "cell_type": "code",
   "execution_count": null,
   "metadata": {
    "colab": {
     "base_uri": "https://localhost:8080/",
     "height": 300
    },
    "executionInfo": {
     "elapsed": 14,
     "status": "ok",
     "timestamp": 1681268748458,
     "user": {
      "displayName": "Carlos Arellano",
      "userId": "03055712073717640513"
     },
     "user_tz": 360
    },
    "id": "g5M9twtGZ_Rw",
    "outputId": "29270171-c2a5-4d0a-99a4-4a309df3a689"
   },
   "outputs": [],
   "source": [
    "df_tEsc=df.copy()\n",
    "vars_rob=['MedInc','AveRooms','AveBedrms','AveOccup']\n",
    "df_tEsc[vars_rob]=esc_rob.fit_transform(df[vars_rob])\n",
    "df_tEsc.describe()"
   ]
  },
  {
   "cell_type": "code",
   "execution_count": null,
   "metadata": {
    "colab": {
     "base_uri": "https://localhost:8080/",
     "height": 300
    },
    "executionInfo": {
     "elapsed": 334,
     "status": "ok",
     "timestamp": 1681268906253,
     "user": {
      "displayName": "Carlos Arellano",
      "userId": "03055712073717640513"
     },
     "user_tz": 360
    },
    "id": "Fx7wMDEybS2-",
    "outputId": "b3f98f39-bf1b-4a5c-b3f3-313ef922b0bf"
   },
   "outputs": [],
   "source": [
    "vars_est=['HouseAge','Population','Latitude','Longitude','MedHouseVal']\n",
    "df_tEsc[vars_est]=esc_est.fit_transform(df[vars_est])\n",
    "df_tEsc.describe()"
   ]
  },
  {
   "cell_type": "code",
   "execution_count": null,
   "metadata": {
    "executionInfo": {
     "elapsed": 3,
     "status": "ok",
     "timestamp": 1681269079828,
     "user": {
      "displayName": "Carlos Arellano",
      "userId": "03055712073717640513"
     },
     "user_tz": 360
    },
    "id": "NiYG2j91ceYk"
   },
   "outputs": [],
   "source": [
    "from sklearn.model_selection import train_test_split"
   ]
  },
  {
   "cell_type": "code",
   "execution_count": null,
   "metadata": {
    "colab": {
     "base_uri": "https://localhost:8080/",
     "height": 74
    },
    "executionInfo": {
     "elapsed": 549,
     "status": "ok",
     "timestamp": 1681269098805,
     "user": {
      "displayName": "Carlos Arellano",
      "userId": "03055712073717640513"
     },
     "user_tz": 360
    },
    "id": "FZj0KPjRcGK-",
    "outputId": "dcda629f-fbc2-430e-d2a8-835096ae4b75"
   },
   "outputs": [],
   "source": [
    "X,x,Y,y=train_test_split(df_tEsc.drop(columns='MedHouseVal'),df_tEsc['MedHouseVal'])\n",
    "lin=LinearRegression()\n",
    "lin.fit(X,Y)"
   ]
  },
  {
   "cell_type": "code",
   "execution_count": null,
   "metadata": {
    "colab": {
     "base_uri": "https://localhost:8080/"
    },
    "executionInfo": {
     "elapsed": 5,
     "status": "ok",
     "timestamp": 1681269151958,
     "user": {
      "displayName": "Carlos Arellano",
      "userId": "03055712073717640513"
     },
     "user_tz": 360
    },
    "id": "NmucrvCIcUUU",
    "outputId": "c1095307-3b9e-435a-89ed-304522502522"
   },
   "outputs": [],
   "source": [
    "lin.score(X,Y),lin.score(x,y)"
   ]
  },
  {
   "cell_type": "code",
   "execution_count": null,
   "metadata": {
    "executionInfo": {
     "elapsed": 593,
     "status": "ok",
     "timestamp": 1681269341105,
     "user": {
      "displayName": "Carlos Arellano",
      "userId": "03055712073717640513"
     },
     "user_tz": 360
    },
    "id": "p4G_OEdKdgVu"
   },
   "outputs": [],
   "source": [
    "import matplotlib.pyplot as plt"
   ]
  },
  {
   "cell_type": "code",
   "execution_count": null,
   "metadata": {
    "colab": {
     "base_uri": "https://localhost:8080/",
     "height": 430
    },
    "executionInfo": {
     "elapsed": 938,
     "status": "ok",
     "timestamp": 1681269511487,
     "user": {
      "displayName": "Carlos Arellano",
      "userId": "03055712073717640513"
     },
     "user_tz": 360
    },
    "id": "3WLzXpvHc1Fs",
    "outputId": "d504da4f-e9fa-4766-8939-b4261c5409a1"
   },
   "outputs": [],
   "source": [
    "# Graficamos 'MedInc' (0), 'Population' (4) y 'Longitude' (7)\n",
    "#\n",
    "x=df_tEsc['MedInc']\n",
    "plt.scatter(x,df_tEsc['MedHouseVal'],s=5)\n",
    "plt.plot(x,lin.intercept_+lin.coef_[0]*x,'r')\n",
    "plt.grid()"
   ]
  },
  {
   "cell_type": "code",
   "execution_count": null,
   "metadata": {
    "colab": {
     "base_uri": "https://localhost:8080/",
     "height": 430
    },
    "executionInfo": {
     "elapsed": 1009,
     "status": "ok",
     "timestamp": 1681269598610,
     "user": {
      "displayName": "Carlos Arellano",
      "userId": "03055712073717640513"
     },
     "user_tz": 360
    },
    "id": "ckk5rTGJedjK",
    "outputId": "8b14243b-4cde-4d30-bb33-fb440a53311a"
   },
   "outputs": [],
   "source": [
    "x=df_tEsc['Population']\n",
    "plt.scatter(x,df_tEsc['MedHouseVal'],s=5)\n",
    "plt.plot(x,lin.intercept_+lin.coef_[4]*x,'r')\n",
    "plt.grid()"
   ]
  },
  {
   "cell_type": "code",
   "execution_count": null,
   "metadata": {
    "colab": {
     "base_uri": "https://localhost:8080/",
     "height": 430
    },
    "executionInfo": {
     "elapsed": 1505,
     "status": "ok",
     "timestamp": 1681269621662,
     "user": {
      "displayName": "Carlos Arellano",
      "userId": "03055712073717640513"
     },
     "user_tz": 360
    },
    "id": "z5XJ3OcLeiDm",
    "outputId": "a3cdf370-8209-41b9-acab-a581f5452b9c"
   },
   "outputs": [],
   "source": [
    "x=df_tEsc['Longitude']\n",
    "plt.scatter(x,df_tEsc['MedHouseVal'],s=5)\n",
    "plt.plot(x,lin.intercept_+lin.coef_[7]*x,'r')\n",
    "plt.grid()"
   ]
  },
  {
   "cell_type": "code",
   "execution_count": null,
   "metadata": {
    "colab": {
     "base_uri": "https://localhost:8080/"
    },
    "executionInfo": {
     "elapsed": 2,
     "status": "ok",
     "timestamp": 1681269763366,
     "user": {
      "displayName": "Carlos Arellano",
      "userId": "03055712073717640513"
     },
     "user_tz": 360
    },
    "id": "8Mso45oKeraf",
    "outputId": "120393d0-1f61-4901-9d2d-e42eabfc9d1c"
   },
   "outputs": [],
   "source": [
    "# Regresión con los datos sin transformar\n",
    "X_ST,x,Y_ST,y=train_test_split(df.drop(columns='MedHouseVal'),df['MedHouseVal'])\n",
    "lin_ST=LinearRegression()\n",
    "lin_ST.fit(X_ST,Y_ST)\n",
    "lin_ST.score(X_ST,Y_ST),lin_ST.score(x,y)"
   ]
  },
  {
   "cell_type": "code",
   "execution_count": null,
   "metadata": {
    "colab": {
     "base_uri": "https://localhost:8080/",
     "height": 430
    },
    "executionInfo": {
     "elapsed": 861,
     "status": "ok",
     "timestamp": 1681269886823,
     "user": {
      "displayName": "Carlos Arellano",
      "userId": "03055712073717640513"
     },
     "user_tz": 360
    },
    "id": "7bAcyaKvfKcL",
    "outputId": "066702e5-ca85-450f-9501-a0ecd65c9804"
   },
   "outputs": [],
   "source": [
    "x=df['MedInc']\n",
    "plt.scatter(x,df['MedHouseVal'],s=5)\n",
    "plt.plot(x,lin_ST.intercept_+lin_ST.coef_[0]*x,'r')\n",
    "plt.grid()"
   ]
  },
  {
   "cell_type": "code",
   "execution_count": null,
   "metadata": {
    "colab": {
     "base_uri": "https://localhost:8080/",
     "height": 430
    },
    "executionInfo": {
     "elapsed": 565,
     "status": "ok",
     "timestamp": 1681269938753,
     "user": {
      "displayName": "Carlos Arellano",
      "userId": "03055712073717640513"
     },
     "user_tz": 360
    },
    "id": "rTEO46QDfocs",
    "outputId": "30d6bee9-0e02-4066-de3a-a3a2d71c1137"
   },
   "outputs": [],
   "source": [
    "x=df['Population']\n",
    "plt.scatter(x,df['MedHouseVal'],s=5)\n",
    "plt.plot(x,lin_ST.intercept_+lin_ST.coef_[4]*x,'r')\n",
    "plt.grid()"
   ]
  },
  {
   "cell_type": "code",
   "execution_count": null,
   "metadata": {
    "colab": {
     "base_uri": "https://localhost:8080/",
     "height": 430
    },
    "executionInfo": {
     "elapsed": 1370,
     "status": "ok",
     "timestamp": 1681269977412,
     "user": {
      "displayName": "Carlos Arellano",
      "userId": "03055712073717640513"
     },
     "user_tz": 360
    },
    "id": "ZV5W1u3Pf1Kq",
    "outputId": "843ae6f9-3ff1-42e2-f9d0-9ce9b8d597e7"
   },
   "outputs": [],
   "source": [
    "x=df['Longitude']\n",
    "plt.scatter(x,df['MedHouseVal'],s=5)\n",
    "plt.plot(x,lin_ST.intercept_+lin_ST.coef_[7]*x,'r')\n",
    "plt.grid()"
   ]
  },
  {
   "cell_type": "code",
   "execution_count": null,
   "metadata": {
    "colab": {
     "base_uri": "https://localhost:8080/",
     "height": 300
    },
    "executionInfo": {
     "elapsed": 311,
     "status": "ok",
     "timestamp": 1681270051946,
     "user": {
      "displayName": "Carlos Arellano",
      "userId": "03055712073717640513"
     },
     "user_tz": 360
    },
    "id": "5DKmMIV0gPn4",
    "outputId": "13657378-7cc2-461e-c20e-f79ee5bf93b0"
   },
   "outputs": [],
   "source": [
    "df.describe()"
   ]
  },
  {
   "cell_type": "code",
   "execution_count": null,
   "metadata": {},
   "outputs": [],
   "source": []
  },
  {
   "cell_type": "code",
   "execution_count": null,
   "metadata": {},
   "outputs": [],
   "source": []
  }
 ],
 "metadata": {
  "colab": {
   "authorship_tag": "ABX9TyP1vQVadrE2rndsNW92SIqJ",
   "provenance": []
  },
  "kernelspec": {
   "display_name": "Python 3 (ipykernel)",
   "language": "python",
   "name": "python3"
  },
  "language_info": {
   "codemirror_mode": {
    "name": "ipython",
    "version": 3
   },
   "file_extension": ".py",
   "mimetype": "text/x-python",
   "name": "python",
   "nbconvert_exporter": "python",
   "pygments_lexer": "ipython3",
   "version": "3.8.8"
  }
 },
 "nbformat": 4,
 "nbformat_minor": 1
}
