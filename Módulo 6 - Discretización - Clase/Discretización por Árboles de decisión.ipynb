{
 "cells": [
  {
   "cell_type": "markdown",
   "metadata": {},
   "source": [
    "<img style=\"float: left;;\" src='Figures/iteso.jpg' width=\"100\" height=\"200\"/></a>\n",
    "\n",
    "# <center> <font color= #000047> Discretización por Arboles de decisión </font> </center>"
   ]
  },
  {
   "cell_type": "code",
   "execution_count": null,
   "metadata": {
    "colab": {
     "base_uri": "https://localhost:8080/",
     "height": 430
    },
    "executionInfo": {
     "elapsed": 7005,
     "status": "ok",
     "timestamp": 1683077294457,
     "user": {
      "displayName": "Carlos Arellano",
      "userId": "03055712073717640513"
     },
     "user_tz": 360
    },
    "id": "Ubbdo4wN9qJR",
    "outputId": "35746ce2-4c69-4348-f95f-009c1316606e"
   },
   "outputs": [],
   "source": [
    "import pandas as pd\n",
    "import numpy as np\n",
    "import matplotlib.pyplot as plt\n",
    "from sklearn.linear_model import LinearRegression\n",
    "\n",
    "df=pd.read_csv('dataKmeans.csv')\n",
    "plt.scatter(df.x,df.y,s=5)\n",
    "plt.grid()"
   ]
  },
  {
   "cell_type": "markdown",
   "metadata": {
    "id": "w7aYQ857cmxm"
   },
   "source": [
    "---\n",
    "# Discretización por Árboles de decisión"
   ]
  },
  {
   "cell_type": "code",
   "execution_count": null,
   "metadata": {
    "executionInfo": {
     "elapsed": 165,
     "status": "ok",
     "timestamp": 1683081203534,
     "user": {
      "displayName": "Carlos Arellano",
      "userId": "03055712073717640513"
     },
     "user_tz": 360
    },
    "id": "SdX18156cqv2"
   },
   "outputs": [],
   "source": [
    "from sklearn.tree import DecisionTreeRegressor,plot_tree  # Discretización por árboles de decisión\n",
    "from sklearn.preprocessing import KBinsDiscretizer        # Discretización por ancho y frecuencia constantes y kmeans"
   ]
  },
  {
   "cell_type": "code",
   "execution_count": null,
   "metadata": {},
   "outputs": [],
   "source": [
    "# Modelo con datos sin discretizar\n",
    "lin_SD=LinearRegression()\n",
    "lin_SD.fit(df[['x']],df['y'])\n",
    "predict_SD=lin_SD.predict(df[['x']])\n"
   ]
  },
  {
   "cell_type": "code",
   "execution_count": null,
   "metadata": {},
   "outputs": [],
   "source": [
    "# Centroides\n",
    "k=3\n",
    "ctr=np.random.uniform(df.x.min(),df.x.max(),k)\n",
    "ctr_anterior=np.ones(k)*np.inf\n",
    "eps=1e-6\n",
    "while(np.abs(ctr-ctr_anterior).sum()>eps): # Minkowski con p=1\n",
    "    dif=[]\n",
    "    for c_i in ctr:\n",
    "        dif.append(np.abs(c_i-df[['x']].values))\n",
    "    distancias=np.concatenate(dif,axis=1)\n",
    "    grupos=np.argmin(distancias,axis=1)\n",
    "    df_copia=df.copy()\n",
    "    df_copia['kmeans']=grupos\n",
    "    ctr_anterior=ctr.copy()\n",
    "    ctr=df_copia.groupby('kmeans')['x'].mean().values\n",
    "df['kmeans']=grupos\n",
    "df.groupby('kmeans')['x'].hist(bins='auto')\n",
    "ctr\n",
    "\n",
    "# Modelo con datos discretizados con K-means\n",
    "lin_kmeans=LinearRegression()\n",
    "x=ctr.reshape(-1,1)\n",
    "y=df.groupby('kmeans')['y'].mean()\n",
    "lin_kmeans.fit(x,y)\n",
    "predict_kmeans=lin_kmeans.predict(df[['x']].values)\n"
   ]
  },
  {
   "cell_type": "code",
   "execution_count": null,
   "metadata": {
    "colab": {
     "base_uri": "https://localhost:8080/"
    },
    "executionInfo": {
     "elapsed": 2116,
     "status": "ok",
     "timestamp": 1683081634795,
     "user": {
      "displayName": "Carlos Arellano",
      "userId": "03055712073717640513"
     },
     "user_tz": 360
    },
    "id": "e9qsH6IOdQ3V",
    "outputId": "1b4571bc-6eca-4ef0-fba2-e7157cea213e"
   },
   "outputs": [],
   "source": [
    "k=3\n",
    "disc_tree=DecisionTreeRegressor(max_leaf_nodes=k)\n",
    "disc_tree.fit(df[['x']],df['y'])\n",
    "df['tree']=disc_tree.predict(df[['x']])\n",
    "df['tree'].unique(),df.groupby('tree')['y'].mean()"
   ]
  },
  {
   "cell_type": "code",
   "execution_count": null,
   "metadata": {
    "colab": {
     "base_uri": "https://localhost:8080/",
     "height": 433
    },
    "executionInfo": {
     "elapsed": 41716,
     "status": "ok",
     "timestamp": 1683082103443,
     "user": {
      "displayName": "Carlos Arellano",
      "userId": "03055712073717640513"
     },
     "user_tz": 360
    },
    "id": "wr26EWMpe5p0",
    "outputId": "ed3a321a-8cca-4df3-9c09-094b2628541d"
   },
   "outputs": [],
   "source": [
    "lin_tree=LinearRegression()\n",
    "x=df.groupby('tree')['x'].mean().values.reshape(-1,1)\n",
    "lin_tree.fit(x,df['tree'].unique())\n",
    "predict_tree=lin_tree.predict(df[['x']].values)\n",
    "\n",
    "plt.scatter(df.x,df.y,s=5,c='k')\n",
    "plt.plot(df.x,predict_SD,'g',lw=5,label='Regresión sin discretizar')\n",
    "plt.plot(df.x,predict_kmeans,'--r',label='Regresión con kmeans',lw=3)\n",
    "plt.plot(df.x,predict_tree,':m',label='Regresión con árboles',lw=3)\n",
    "plt.legend()\n",
    "plt.grid()"
   ]
  },
  {
   "cell_type": "code",
   "execution_count": null,
   "metadata": {
    "colab": {
     "base_uri": "https://localhost:8080/"
    },
    "executionInfo": {
     "elapsed": 168,
     "status": "ok",
     "timestamp": 1683082177290,
     "user": {
      "displayName": "Carlos Arellano",
      "userId": "03055712073717640513"
     },
     "user_tz": 360
    },
    "id": "-R4_TELgg7qb",
    "outputId": "612e9dfd-279a-4c8e-df07-18e527de1ffa"
   },
   "outputs": [],
   "source": [
    "lin_SD.coef_,lin_SD.intercept_"
   ]
  },
  {
   "cell_type": "code",
   "execution_count": null,
   "metadata": {
    "colab": {
     "base_uri": "https://localhost:8080/"
    },
    "executionInfo": {
     "elapsed": 155,
     "status": "ok",
     "timestamp": 1683082154187,
     "user": {
      "displayName": "Carlos Arellano",
      "userId": "03055712073717640513"
     },
     "user_tz": 360
    },
    "id": "vpIzqDWLgzvu",
    "outputId": "eb1791b6-c9a4-4c27-9348-af72f19ce61a"
   },
   "outputs": [],
   "source": [
    "lin_tree.coef_,lin_tree.intercept_"
   ]
  },
  {
   "cell_type": "code",
   "execution_count": null,
   "metadata": {
    "colab": {
     "base_uri": "https://localhost:8080/",
     "height": 430
    },
    "executionInfo": {
     "elapsed": 8261,
     "status": "ok",
     "timestamp": 1683082263290,
     "user": {
      "displayName": "Carlos Arellano",
      "userId": "03055712073717640513"
     },
     "user_tz": 360
    },
    "id": "Wz9yKjJzhJAz",
    "outputId": "9bedd152-1c1f-4bbc-8ed0-1a9451b1ba45"
   },
   "outputs": [],
   "source": [
    "plt.scatter(df.x,df.y,s=5)\n",
    "plt.scatter(df.x,df.tree,s=5)\n",
    "plt.grid()"
   ]
  },
  {
   "cell_type": "code",
   "execution_count": null,
   "metadata": {
    "colab": {
     "base_uri": "https://localhost:8080/",
     "height": 493
    },
    "executionInfo": {
     "elapsed": 877,
     "status": "ok",
     "timestamp": 1683082304703,
     "user": {
      "displayName": "Carlos Arellano",
      "userId": "03055712073717640513"
     },
     "user_tz": 360
    },
    "id": "a0Xam92PhZHK",
    "outputId": "7a789e80-c844-4f5c-d163-b43e9c802db3"
   },
   "outputs": [],
   "source": [
    "plot_tree(disc_tree)"
   ]
  },
  {
   "cell_type": "code",
   "execution_count": null,
   "metadata": {
    "colab": {
     "base_uri": "https://localhost:8080/",
     "height": 430
    },
    "executionInfo": {
     "elapsed": 20290,
     "status": "ok",
     "timestamp": 1683082590989,
     "user": {
      "displayName": "Carlos Arellano",
      "userId": "03055712073717640513"
     },
     "user_tz": 360
    },
    "id": "zp6QsDRUgkSa",
    "outputId": "69e5d1c7-b74f-413a-df34-237dcca5bb6a"
   },
   "outputs": [],
   "source": [
    "plt.scatter(df.x,df.y,s=5,c='k')\n",
    "for h_i in df['tree'].unique():\n",
    "    x=df[df['tree']==h_i][['x']]\n",
    "    y=df[df['tree']==h_i]['y']\n",
    "    lin_model = LinearRegression()\n",
    "    lin_model.fit(x.values, y.values)\n",
    "    predict_lin = lin_model.predict(x)\n",
    "    #plt.plot(x,lin_grupos[-1].predict(x),label='Grupo '+str(round(h_i,2)))\n",
    "    plt.plot(x.values, predict_lin,label='Grupo '+str(round(h_i,2)))\n",
    "plt.legend()\n",
    "plt.grid()"
   ]
  },
  {
   "cell_type": "code",
   "execution_count": null,
   "metadata": {},
   "outputs": [],
   "source": []
  }
 ],
 "metadata": {
  "colab": {
   "authorship_tag": "ABX9TyMWmjEaDy/aOVypwU0ckCBU",
   "mount_file_id": "1DWqH1H9baETkU4awaBpRdt732c-Gqnwr",
   "provenance": []
  },
  "kernelspec": {
   "display_name": "Python 3 (ipykernel)",
   "language": "python",
   "name": "python3"
  },
  "language_info": {
   "codemirror_mode": {
    "name": "ipython",
    "version": 3
   },
   "file_extension": ".py",
   "mimetype": "text/x-python",
   "name": "python",
   "nbconvert_exporter": "python",
   "pygments_lexer": "ipython3",
   "version": "3.8.8"
  }
 },
 "nbformat": 4,
 "nbformat_minor": 1
}
