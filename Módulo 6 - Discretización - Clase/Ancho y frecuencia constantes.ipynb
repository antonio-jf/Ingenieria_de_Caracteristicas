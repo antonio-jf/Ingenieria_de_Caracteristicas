{
 "cells": [
  {
   "cell_type": "markdown",
   "metadata": {},
   "source": [
    "<img style=\"float: left;;\" src='Figures/iteso.jpg' width=\"100\" height=\"200\"/></a>\n",
    "\n",
    "# <center> <font color= #000047> Ancho y Frecuencia Constantes </font> </center>"
   ]
  },
  {
   "cell_type": "code",
   "execution_count": 1,
   "metadata": {
    "colab": {
     "base_uri": "https://localhost:8080/",
     "height": 487
    },
    "executionInfo": {
     "elapsed": 3963,
     "status": "ok",
     "timestamp": 1683076373339,
     "user": {
      "displayName": "Carlos Arellano",
      "userId": "03055712073717640513"
     },
     "user_tz": 360
    },
    "id": "-jChlu4M9Pci",
    "outputId": "86f97d3d-645e-47cc-bff4-c77b26c4757c"
   },
   "outputs": [
    {
     "data": {
      "text/plain": [
       "array([[<AxesSubplot:title={'center':'x'}>,\n",
       "        <AxesSubplot:title={'center':'y'}>]], dtype=object)"
      ]
     },
     "execution_count": 1,
     "metadata": {},
     "output_type": "execute_result"
    },
    {
     "data": {
      "image/png": "[encoded data removed]",
      "text/plain": [
       "<Figure size 432x288 with 2 Axes>"
      ]
     },
     "metadata": {
      "needs_background": "light"
     },
     "output_type": "display_data"
    }
   ],
   "source": [
    "import numpy as np\n",
    "import matplotlib.pyplot as plt\n",
    "import pandas as pd\n",
    "from sklearn.linear_model import LinearRegression\n",
    "\n",
    "N=10**4\n",
    "normal=np.random.normal(size=(N,1))\n",
    "gamma=np.random.gamma(shape=4,size=(N,1))\n",
    "x=0.5*normal+0.5*gamma\n",
    "y=x**2+1+np.random.uniform(-5,5,(N,1))\n",
    "df=pd.DataFrame(np.concatenate((x,y),axis=1),columns=('x','y'))\n",
    "df.hist(bins=50)"
   ]
  },
  {
   "cell_type": "code",
   "execution_count": 2,
   "metadata": {
    "colab": {
     "base_uri": "https://localhost:8080/",
     "height": 430
    },
    "executionInfo": {
     "elapsed": 828,
     "status": "ok",
     "timestamp": 1683076374164,
     "user": {
      "displayName": "Carlos Arellano",
      "userId": "03055712073717640513"
     },
     "user_tz": 360
    },
    "id": "5FDuvVo3_ZP-",
    "outputId": "25070896-142d-49a5-864d-2c0d9603a0e4"
   },
   "outputs": [
    {
     "data": {
      "image/png": "[encoded data removed]",
      "text/plain": [
       "<Figure size 432x288 with 1 Axes>"
      ]
     },
     "metadata": {
      "needs_background": "light"
     },
     "output_type": "display_data"
    }
   ],
   "source": [
    "plt.scatter(df['x'],df['y'],s=5)\n",
    "plt.grid()"
   ]
  },
  {
   "cell_type": "code",
   "execution_count": 3,
   "metadata": {
    "colab": {
     "base_uri": "https://localhost:8080/"
    },
    "executionInfo": {
     "elapsed": 20,
     "status": "ok",
     "timestamp": 1683076374165,
     "user": {
      "displayName": "Carlos Arellano",
      "userId": "03055712073717640513"
     },
     "user_tz": 360
    },
    "id": "6LqEGMELAEmA",
    "outputId": "591c2664-9163-498b-8d08-b5dfc8d4db5e"
   },
   "outputs": [
    {
     "data": {
      "text/plain": [
       "(0.22829465271962487,\n",
       " array([-1.0319899 , -0.80369524, -0.57540059, -0.34710594, -0.11881129,\n",
       "         0.10948337,  0.33777802,  0.56607267,  0.79436732,  1.02266198,\n",
       "         1.25095663,  1.47925128,  1.70754594,  1.93584059,  2.16413524,\n",
       "         2.39242989,  2.62072455,  2.8490192 ,  3.07731385,  3.3056085 ,\n",
       "         3.53390316,  3.76219781,  3.99049246,  4.21878712,  4.44708177,\n",
       "         4.67537642,  4.90367107,  5.13196573,  5.36026038,  5.58855503,\n",
       "         5.81684968,  6.04514434,  6.27343899,  6.50173364,  6.7300283 ,\n",
       "         6.95832295,  7.1866176 ,  7.41491225,  7.64320691,  7.87150156,\n",
       "         8.09979621,  8.32809086,  8.55638552,  8.78468017,  9.01297482,\n",
       "         9.24126948,  9.46956413,  9.69785878,  9.92615343, 10.15444809,\n",
       "        10.38274274]))"
      ]
     },
     "execution_count": 3,
     "metadata": {},
     "output_type": "execute_result"
    }
   ],
   "source": [
    "#@title Discretización por ancho constante\n",
    "bins=50\n",
    "ancho=(df.x.max()-df.x.min())/bins\n",
    "#intervalos=np.arange(df.x.min(),df.x.max()+ancho,ancho)\n",
    "intervalos=np.linspace(df.x.min(),df.x.max(),bins+1)\n",
    "ancho,intervalos"
   ]
  },
  {
   "cell_type": "code",
   "execution_count": 4,
   "metadata": {
    "executionInfo": {
     "elapsed": 21,
     "status": "ok",
     "timestamp": 1683076374167,
     "user": {
      "displayName": "Carlos Arellano",
      "userId": "03055712073717640513"
     },
     "user_tz": 360
    },
    "id": "FEBA38DTQqD8"
   },
   "outputs": [],
   "source": [
    "pd.cut?"
   ]
  },
  {
   "cell_type": "code",
   "execution_count": 5,
   "metadata": {
    "colab": {
     "base_uri": "https://localhost:8080/",
     "height": 206
    },
    "executionInfo": {
     "elapsed": 21,
     "status": "ok",
     "timestamp": 1683076374168,
     "user": {
      "displayName": "Carlos Arellano",
      "userId": "03055712073717640513"
     },
     "user_tz": 360
    },
    "id": "OICbOanKROY3",
    "outputId": "eae9a080-1c9f-40f9-f187-e1e9f78b88ca"
   },
   "outputs": [
    {
     "data": {
      "text/html": [
       "<div>\n",
       "<style scoped>\n",
       "    .dataframe tbody tr th:only-of-type {\n",
       "        vertical-align: middle;\n",
       "    }\n",
       "\n",
       "    .dataframe tbody tr th {\n",
       "        vertical-align: top;\n",
       "    }\n",
       "\n",
       "    .dataframe thead th {\n",
       "        text-align: right;\n",
       "    }\n",
       "</style>\n",
       "<table border=\"1\" class=\"dataframe\">\n",
       "  <thead>\n",
       "    <tr style=\"text-align: right;\">\n",
       "      <th></th>\n",
       "      <th>x</th>\n",
       "      <th>y</th>\n",
       "      <th>ancho_x</th>\n",
       "    </tr>\n",
       "  </thead>\n",
       "  <tbody>\n",
       "    <tr>\n",
       "      <th>0</th>\n",
       "      <td>2.278226</td>\n",
       "      <td>9.864900</td>\n",
       "      <td>(2.164, 2.392]</td>\n",
       "    </tr>\n",
       "    <tr>\n",
       "      <th>1</th>\n",
       "      <td>2.713892</td>\n",
       "      <td>9.109180</td>\n",
       "      <td>(2.621, 2.849]</td>\n",
       "    </tr>\n",
       "    <tr>\n",
       "      <th>2</th>\n",
       "      <td>3.852089</td>\n",
       "      <td>13.853222</td>\n",
       "      <td>(3.762, 3.99]</td>\n",
       "    </tr>\n",
       "    <tr>\n",
       "      <th>3</th>\n",
       "      <td>4.641221</td>\n",
       "      <td>21.811524</td>\n",
       "      <td>(4.447, 4.675]</td>\n",
       "    </tr>\n",
       "    <tr>\n",
       "      <th>4</th>\n",
       "      <td>0.903068</td>\n",
       "      <td>5.730663</td>\n",
       "      <td>(0.794, 1.023]</td>\n",
       "    </tr>\n",
       "  </tbody>\n",
       "</table>\n",
       "</div>"
      ],
      "text/plain": [
       "          x          y         ancho_x\n",
       "0  2.278226   9.864900  (2.164, 2.392]\n",
       "1  2.713892   9.109180  (2.621, 2.849]\n",
       "2  3.852089  13.853222   (3.762, 3.99]\n",
       "3  4.641221  21.811524  (4.447, 4.675]\n",
       "4  0.903068   5.730663  (0.794, 1.023]"
      ]
     },
     "execution_count": 5,
     "metadata": {},
     "output_type": "execute_result"
    }
   ],
   "source": [
    "# Discretización\n",
    "#\n",
    "# Se obtienen valores distribuidos a lo largo del rango de 'x' de forma que le asignamos la misma importancia\n",
    "df['ancho_x']=pd.cut(df.x,intervalos,include_lowest=True)\n",
    "df.head()"
   ]
  },
  {
   "cell_type": "code",
   "execution_count": 6,
   "metadata": {
    "colab": {
     "base_uri": "https://localhost:8080/"
    },
    "executionInfo": {
     "elapsed": 20,
     "status": "ok",
     "timestamp": 1683076374168,
     "user": {
      "displayName": "Carlos Arellano",
      "userId": "03055712073717640513"
     },
     "user_tz": 360
    },
    "id": "zyLdubJ9SCXq",
    "outputId": "a8635536-b019-4dd6-e9ec-efeb1787ddd2"
   },
   "outputs": [
    {
     "data": {
      "text/plain": [
       "(1.479, 1.708]      918\n",
       "(1.708, 1.936]      867\n",
       "(1.251, 1.479]      824\n",
       "(2.164, 2.392]      774\n",
       "(1.936, 2.164]      771\n",
       "(1.023, 1.251]      761\n",
       "(2.392, 2.621]      659\n",
       "(0.794, 1.023]      650\n",
       "(2.621, 2.849]      517\n",
       "(0.566, 0.794]      470\n",
       "(2.849, 3.077]      465\n",
       "(3.077, 3.306]      389\n",
       "(0.338, 0.566]      331\n",
       "(3.306, 3.534]      298\n",
       "(3.534, 3.762]      231\n",
       "(0.109, 0.338]      184\n",
       "(3.762, 3.99]       152\n",
       "(3.99, 4.219]       144\n",
       "(-0.119, 0.109]     112\n",
       "(4.219, 4.447]       85\n",
       "(4.447, 4.675]       72\n",
       "(-0.347, -0.119]     71\n",
       "(4.675, 4.904]       59\n",
       "(4.904, 5.132]       49\n",
       "(5.132, 5.36]        36\n",
       "(-0.575, -0.347]     22\n",
       "(5.817, 6.045]       18\n",
       "(5.36, 5.589]        14\n",
       "(5.589, 5.817]       13\n",
       "(-0.804, -0.575]     10\n",
       "(6.273, 6.502]        8\n",
       "(-1.033, -0.804]      6\n",
       "(6.045, 6.273]        5\n",
       "(6.502, 6.73]         5\n",
       "(7.872, 8.1]          2\n",
       "(7.187, 7.415]        2\n",
       "(7.415, 7.643]        2\n",
       "(9.926, 10.154]       1\n",
       "(10.154, 10.383]      1\n",
       "(7.643, 7.872]        1\n",
       "(6.73, 6.958]         1\n",
       "(8.1, 8.328]          0\n",
       "(6.958, 7.187]        0\n",
       "(8.556, 8.785]        0\n",
       "(8.785, 9.013]        0\n",
       "(9.013, 9.241]        0\n",
       "(9.241, 9.47]         0\n",
       "(9.47, 9.698]         0\n",
       "(9.698, 9.926]        0\n",
       "(8.328, 8.556]        0\n",
       "Name: ancho_x, dtype: int64"
      ]
     },
     "execution_count": 6,
     "metadata": {},
     "output_type": "execute_result"
    }
   ],
   "source": [
    "df['ancho_x'].value_counts()"
   ]
  },
  {
   "cell_type": "code",
   "execution_count": 7,
   "metadata": {
    "colab": {
     "base_uri": "https://localhost:8080/",
     "height": 561
    },
    "executionInfo": {
     "elapsed": 2178,
     "status": "ok",
     "timestamp": 1683076376329,
     "user": {
      "displayName": "Carlos Arellano",
      "userId": "03055712073717640513"
     },
     "user_tz": 360
    },
    "id": "Aslf8BVdSl0w",
    "outputId": "ded543ab-6a7b-4b4d-cb2f-dc3f443d6048"
   },
   "outputs": [
    {
     "data": {
      "text/plain": [
       "<AxesSubplot:>"
      ]
     },
     "execution_count": 7,
     "metadata": {},
     "output_type": "execute_result"
    },
    {
     "data": {
      "image/png": "[encoded data removed]",
      "text/plain": [
       "<Figure size 1080x360 with 1 Axes>"
      ]
     },
     "metadata": {
      "needs_background": "light"
     },
     "output_type": "display_data"
    }
   ],
   "source": [
    "df['ancho_x'].astype('str').hist(figsize=(15,5),bins=50,xrot=90)"
   ]
  },
  {
   "cell_type": "code",
   "execution_count": 8,
   "metadata": {
    "colab": {
     "base_uri": "https://localhost:8080/"
    },
    "executionInfo": {
     "elapsed": 19,
     "status": "ok",
     "timestamp": 1683076376329,
     "user": {
      "displayName": "Carlos Arellano",
      "userId": "03055712073717640513"
     },
     "user_tz": 360
    },
    "id": "lpW8tP3TUDs2",
    "outputId": "f0db2a8b-632c-46dd-b38f-6c1046cba919"
   },
   "outputs": [
    {
     "data": {
      "text/plain": [
       "(9, 9)"
      ]
     },
     "execution_count": 8,
     "metadata": {},
     "output_type": "execute_result"
    }
   ],
   "source": [
    "x=df.groupby('ancho_x')['x'].mean()\n",
    "y=df.groupby('ancho_x')['y'].mean()\n",
    "x.isna().sum(),y.isna().sum()"
   ]
  },
  {
   "cell_type": "code",
   "execution_count": 9,
   "metadata": {
    "colab": {
     "base_uri": "https://localhost:8080/"
    },
    "executionInfo": {
     "elapsed": 15,
     "status": "ok",
     "timestamp": 1683076376330,
     "user": {
      "displayName": "Carlos Arellano",
      "userId": "03055712073717640513"
     },
     "user_tz": 360
    },
    "id": "k1X61h0cU486",
    "outputId": "b28d0ef4-bc8a-4eae-e75c-0d59c13ddd40"
   },
   "outputs": [
    {
     "data": {
      "text/plain": [
       "0"
      ]
     },
     "execution_count": 9,
     "metadata": {},
     "output_type": "execute_result"
    }
   ],
   "source": [
    "#x=x.dropna()\n",
    "#y=y.dropna()\n",
    "while(x.isna().sum()>0): # Parche\n",
    "    nans_x=np.where(x.isna())\n",
    "    for idx in nans_x:\n",
    "        x.iloc[idx]=x.iloc[idx-1]\n",
    "        y.iloc[idx]=y.iloc[idx-1]\n",
    "x.isna().sum()"
   ]
  },
  {
   "cell_type": "code",
   "execution_count": 10,
   "metadata": {
    "colab": {
     "base_uri": "https://localhost:8080/"
    },
    "executionInfo": {
     "elapsed": 13,
     "status": "ok",
     "timestamp": 1683076376330,
     "user": {
      "displayName": "Carlos Arellano",
      "userId": "03055712073717640513"
     },
     "user_tz": 360
    },
    "id": "bdv3x_O7VLkB",
    "outputId": "ddff8fab-adee-4f00-80a5-d185b9e45341"
   },
   "outputs": [
    {
     "data": {
      "text/plain": [
       "0"
      ]
     },
     "execution_count": 10,
     "metadata": {},
     "output_type": "execute_result"
    }
   ],
   "source": [
    "y.isna().sum()"
   ]
  },
  {
   "cell_type": "code",
   "execution_count": 11,
   "metadata": {
    "colab": {
     "base_uri": "https://localhost:8080/"
    },
    "executionInfo": {
     "elapsed": 10,
     "status": "ok",
     "timestamp": 1683076376330,
     "user": {
      "displayName": "Carlos Arellano",
      "userId": "03055712073717640513"
     },
     "user_tz": 360
    },
    "id": "rMURmiHnXJBW",
    "outputId": "ff4ab990-ffa9-4201-a4ff-c01cf7e890f6"
   },
   "outputs": [],
   "source": [
    "#@title Regresión\n",
    "lin_ancho_x=LinearRegression()\n",
    "lin_ancho_x.fit(x.values.reshape(-1,1),y)\n",
    "predict_ancho_x=lin_ancho_x.predict(df[['x']])"
   ]
  },
  {
   "cell_type": "code",
   "execution_count": 12,
   "metadata": {
    "executionInfo": {
     "elapsed": 8,
     "status": "ok",
     "timestamp": 1683076376331,
     "user": {
      "displayName": "Carlos Arellano",
      "userId": "03055712073717640513"
     },
     "user_tz": 360
    },
    "id": "iT6h8RN6X6A0"
   },
   "outputs": [],
   "source": [
    "lin_SD=LinearRegression()\n",
    "lin_SD.fit(df[['x']],df['y'])\n",
    "predict_SD=lin_SD.predict(df[['x']])"
   ]
  },
  {
   "cell_type": "code",
   "execution_count": 13,
   "metadata": {
    "colab": {
     "base_uri": "https://localhost:8080/",
     "height": 430
    },
    "executionInfo": {
     "elapsed": 1814,
     "status": "ok",
     "timestamp": 1683076378137,
     "user": {
      "displayName": "Carlos Arellano",
      "userId": "03055712073717640513"
     },
     "user_tz": 360
    },
    "id": "0ry8_zFOYYfA",
    "outputId": "73f13f9c-9409-4c09-d50a-d7c1c73bc971"
   },
   "outputs": [
    {
     "data": {
      "image/png": "[encoded data removed]",
      "text/plain": [
       "<Figure size 432x288 with 1 Axes>"
      ]
     },
     "metadata": {
      "needs_background": "light"
     },
     "output_type": "display_data"
    }
   ],
   "source": [
    "# Gráfico\n",
    "plt.scatter(df.x,df.y,s=5)\n",
    "plt.plot(df.x,predict_SD,'k',label='Regresión sin discretizar')\n",
    "plt.plot(df.x,predict_ancho_x,'r',label='Regresión con ancho constante')\n",
    "plt.scatter(x,y,marker='x',s=20,label='Valores discretizados con ancho constante')\n",
    "plt.legend()\n",
    "plt.grid()"
   ]
  },
  {
   "cell_type": "code",
   "execution_count": 14,
   "metadata": {
    "colab": {
     "base_uri": "https://localhost:8080/"
    },
    "executionInfo": {
     "elapsed": 15,
     "status": "ok",
     "timestamp": 1683076378139,
     "user": {
      "displayName": "Carlos Arellano",
      "userId": "03055712073717640513"
     },
     "user_tz": 360
    },
    "id": "mayHVW4_Z8-p",
    "outputId": "68681f44-71cb-43af-f2d6-02ad75e52ea1"
   },
   "outputs": [
    {
     "data": {
      "text/plain": [
       "50"
      ]
     },
     "execution_count": 14,
     "metadata": {},
     "output_type": "execute_result"
    }
   ],
   "source": [
    "#@title Discretización con frecuencia constante\n",
    "# Usamos la misma cantidad de contenedores\n",
    "bins"
   ]
  },
  {
   "cell_type": "code",
   "execution_count": 15,
   "metadata": {
    "colab": {
     "base_uri": "https://localhost:8080/"
    },
    "executionInfo": {
     "elapsed": 15,
     "status": "ok",
     "timestamp": 1683076378140,
     "user": {
      "displayName": "Carlos Arellano",
      "userId": "03055712073717640513"
     },
     "user_tz": 360
    },
    "id": "z-vPB41WbCmj",
    "outputId": "071088e3-00c8-4ea6-ba2a-d39a834c6446"
   },
   "outputs": [
    {
     "data": {
      "text/plain": [
       "10000"
      ]
     },
     "execution_count": 15,
     "metadata": {},
     "output_type": "execute_result"
    }
   ],
   "source": [
    "df.x.shape[0] # Cantidad de observaciones"
   ]
  },
  {
   "cell_type": "code",
   "execution_count": 16,
   "metadata": {
    "colab": {
     "base_uri": "https://localhost:8080/"
    },
    "executionInfo": {
     "elapsed": 13,
     "status": "ok",
     "timestamp": 1683076378140,
     "user": {
      "displayName": "Carlos Arellano",
      "userId": "03055712073717640513"
     },
     "user_tz": 360
    },
    "id": "-K_6fPSTbOAa",
    "outputId": "ac6e2d49-dbee-4c46-9fcc-681fb5597a6b"
   },
   "outputs": [
    {
     "data": {
      "text/plain": [
       "200.0"
      ]
     },
     "execution_count": 16,
     "metadata": {},
     "output_type": "execute_result"
    }
   ],
   "source": [
    "# Cada contenedor tendrá 200 observaciones\n",
    "df.x.shape[0]/bins"
   ]
  },
  {
   "cell_type": "code",
   "execution_count": 18,
   "metadata": {
    "executionInfo": {
     "elapsed": 12,
     "status": "ok",
     "timestamp": 1683076378140,
     "user": {
      "displayName": "Carlos Arellano",
      "userId": "03055712073717640513"
     },
     "user_tz": 360
    },
    "id": "hMAeAcDZbuCl"
   },
   "outputs": [],
   "source": [
    "pd.qcut?"
   ]
  },
  {
   "cell_type": "code",
   "execution_count": 17,
   "metadata": {
    "colab": {
     "base_uri": "https://localhost:8080/"
    },
    "executionInfo": {
     "elapsed": 13,
     "status": "ok",
     "timestamp": 1683076378141,
     "user": {
      "displayName": "Carlos Arellano",
      "userId": "03055712073717640513"
     },
     "user_tz": 360
    },
    "id": "fhqNgLtncze5",
    "outputId": "6b18a073-2c75-4643-ef0d-a119cbbc81c9"
   },
   "outputs": [
    {
     "data": {
      "text/plain": [
       "0.22829465271962487"
      ]
     },
     "execution_count": 17,
     "metadata": {},
     "output_type": "execute_result"
    }
   ],
   "source": [
    "ancho"
   ]
  },
  {
   "cell_type": "code",
   "execution_count": 20,
   "metadata": {
    "colab": {
     "base_uri": "https://localhost:8080/"
    },
    "executionInfo": {
     "elapsed": 11,
     "status": "ok",
     "timestamp": 1683076378141,
     "user": {
      "displayName": "Carlos Arellano",
      "userId": "03055712073717640513"
     },
     "user_tz": 360
    },
    "id": "lUpNedSAbaVZ",
    "outputId": "edff91ef-eca9-4f19-995d-d25e4b2979df"
   },
   "outputs": [],
   "source": [
    "# Discretización\n",
    "df['freq_x'], intervalos = pd.qcut(df.x,bins, retbins=True)"
   ]
  },
  {
   "cell_type": "code",
   "execution_count": 21,
   "metadata": {
    "colab": {
     "base_uri": "https://localhost:8080/",
     "height": 206
    },
    "executionInfo": {
     "elapsed": 10,
     "status": "ok",
     "timestamp": 1683076378141,
     "user": {
      "displayName": "Carlos Arellano",
      "userId": "03055712073717640513"
     },
     "user_tz": 360
    },
    "id": "piqD4ea7ctso",
    "outputId": "d9acc091-74c7-4f49-dd74-d66229b05bc8"
   },
   "outputs": [
    {
     "data": {
      "text/html": [
       "<div>\n",
       "<style scoped>\n",
       "    .dataframe tbody tr th:only-of-type {\n",
       "        vertical-align: middle;\n",
       "    }\n",
       "\n",
       "    .dataframe tbody tr th {\n",
       "        vertical-align: top;\n",
       "    }\n",
       "\n",
       "    .dataframe thead th {\n",
       "        text-align: right;\n",
       "    }\n",
       "</style>\n",
       "<table border=\"1\" class=\"dataframe\">\n",
       "  <thead>\n",
       "    <tr style=\"text-align: right;\">\n",
       "      <th></th>\n",
       "      <th>x</th>\n",
       "      <th>y</th>\n",
       "      <th>ancho_x</th>\n",
       "      <th>freq_x</th>\n",
       "    </tr>\n",
       "  </thead>\n",
       "  <tbody>\n",
       "    <tr>\n",
       "      <th>0</th>\n",
       "      <td>2.278226</td>\n",
       "      <td>9.864900</td>\n",
       "      <td>(2.164, 2.392]</td>\n",
       "      <td>(2.222, 2.282]</td>\n",
       "    </tr>\n",
       "    <tr>\n",
       "      <th>1</th>\n",
       "      <td>2.713892</td>\n",
       "      <td>9.109180</td>\n",
       "      <td>(2.621, 2.849]</td>\n",
       "      <td>(2.693, 2.778]</td>\n",
       "    </tr>\n",
       "    <tr>\n",
       "      <th>2</th>\n",
       "      <td>3.852089</td>\n",
       "      <td>13.853222</td>\n",
       "      <td>(3.762, 3.99]</td>\n",
       "      <td>(3.84, 4.162]</td>\n",
       "    </tr>\n",
       "    <tr>\n",
       "      <th>3</th>\n",
       "      <td>4.641221</td>\n",
       "      <td>21.811524</td>\n",
       "      <td>(4.447, 4.675]</td>\n",
       "      <td>(4.162, 4.71]</td>\n",
       "    </tr>\n",
       "    <tr>\n",
       "      <th>4</th>\n",
       "      <td>0.903068</td>\n",
       "      <td>5.730663</td>\n",
       "      <td>(0.794, 1.023]</td>\n",
       "      <td>(0.866, 0.94]</td>\n",
       "    </tr>\n",
       "    <tr>\n",
       "      <th>...</th>\n",
       "      <td>...</td>\n",
       "      <td>...</td>\n",
       "      <td>...</td>\n",
       "      <td>...</td>\n",
       "    </tr>\n",
       "    <tr>\n",
       "      <th>9995</th>\n",
       "      <td>3.055161</td>\n",
       "      <td>7.419214</td>\n",
       "      <td>(2.849, 3.077]</td>\n",
       "      <td>(2.978, 3.07]</td>\n",
       "    </tr>\n",
       "    <tr>\n",
       "      <th>9996</th>\n",
       "      <td>2.043814</td>\n",
       "      <td>3.329651</td>\n",
       "      <td>(1.936, 2.164]</td>\n",
       "      <td>(2.042, 2.096]</td>\n",
       "    </tr>\n",
       "    <tr>\n",
       "      <th>9997</th>\n",
       "      <td>2.100338</td>\n",
       "      <td>3.904611</td>\n",
       "      <td>(1.936, 2.164]</td>\n",
       "      <td>(2.096, 2.166]</td>\n",
       "    </tr>\n",
       "    <tr>\n",
       "      <th>9998</th>\n",
       "      <td>1.549671</td>\n",
       "      <td>1.669935</td>\n",
       "      <td>(1.479, 1.708]</td>\n",
       "      <td>(1.522, 1.572]</td>\n",
       "    </tr>\n",
       "    <tr>\n",
       "      <th>9999</th>\n",
       "      <td>1.927634</td>\n",
       "      <td>4.630755</td>\n",
       "      <td>(1.708, 1.936]</td>\n",
       "      <td>(1.871, 1.93]</td>\n",
       "    </tr>\n",
       "  </tbody>\n",
       "</table>\n",
       "<p>10000 rows × 4 columns</p>\n",
       "</div>"
      ],
      "text/plain": [
       "             x          y         ancho_x          freq_x\n",
       "0     2.278226   9.864900  (2.164, 2.392]  (2.222, 2.282]\n",
       "1     2.713892   9.109180  (2.621, 2.849]  (2.693, 2.778]\n",
       "2     3.852089  13.853222   (3.762, 3.99]   (3.84, 4.162]\n",
       "3     4.641221  21.811524  (4.447, 4.675]   (4.162, 4.71]\n",
       "4     0.903068   5.730663  (0.794, 1.023]   (0.866, 0.94]\n",
       "...        ...        ...             ...             ...\n",
       "9995  3.055161   7.419214  (2.849, 3.077]   (2.978, 3.07]\n",
       "9996  2.043814   3.329651  (1.936, 2.164]  (2.042, 2.096]\n",
       "9997  2.100338   3.904611  (1.936, 2.164]  (2.096, 2.166]\n",
       "9998  1.549671   1.669935  (1.479, 1.708]  (1.522, 1.572]\n",
       "9999  1.927634   4.630755  (1.708, 1.936]   (1.871, 1.93]\n",
       "\n",
       "[10000 rows x 4 columns]"
      ]
     },
     "execution_count": 21,
     "metadata": {},
     "output_type": "execute_result"
    }
   ],
   "source": [
    "df"
   ]
  },
  {
   "cell_type": "code",
   "execution_count": 22,
   "metadata": {
    "colab": {
     "base_uri": "https://localhost:8080/"
    },
    "executionInfo": {
     "elapsed": 11,
     "status": "ok",
     "timestamp": 1683076378142,
     "user": {
      "displayName": "Carlos Arellano",
      "userId": "03055712073717640513"
     },
     "user_tz": 360
    },
    "id": "NE-uMPgmdxRN",
    "outputId": "d264952c-960a-442f-bfd0-e57bdea08f8a"
   },
   "outputs": [
    {
     "data": {
      "text/plain": [
       "(-1.033, 0.0853]    200\n",
       "(2.61, 2.693]       200\n",
       "(1.986, 2.042]      200\n",
       "(2.042, 2.096]      200\n",
       "(2.096, 2.166]      200\n",
       "(2.166, 2.222]      200\n",
       "(2.222, 2.282]      200\n",
       "(2.282, 2.341]      200\n",
       "(2.341, 2.402]      200\n",
       "(2.402, 2.465]      200\n",
       "(2.465, 2.532]      200\n",
       "(2.532, 2.61]       200\n",
       "(2.693, 2.778]      200\n",
       "(0.0853, 0.334]     200\n",
       "(2.778, 2.872]      200\n",
       "(2.872, 2.978]      200\n",
       "(2.978, 3.07]       200\n",
       "(3.07, 3.183]       200\n",
       "(3.183, 3.303]      200\n",
       "(3.303, 3.45]       200\n",
       "(3.45, 3.632]       200\n",
       "(3.632, 3.84]       200\n",
       "(3.84, 4.162]       200\n",
       "(4.162, 4.71]       200\n",
       "(1.93, 1.986]       200\n",
       "(1.871, 1.93]       200\n",
       "(1.822, 1.871]      200\n",
       "(1.767, 1.822]      200\n",
       "(0.334, 0.481]      200\n",
       "(0.481, 0.601]      200\n",
       "(0.601, 0.705]      200\n",
       "(0.705, 0.793]      200\n",
       "(0.793, 0.866]      200\n",
       "(0.866, 0.94]       200\n",
       "(0.94, 1.005]       200\n",
       "(1.005, 1.068]      200\n",
       "(1.068, 1.129]      200\n",
       "(1.129, 1.185]      200\n",
       "(1.185, 1.246]      200\n",
       "(1.246, 1.301]      200\n",
       "(1.301, 1.354]      200\n",
       "(1.354, 1.414]      200\n",
       "(1.414, 1.47]       200\n",
       "(1.47, 1.522]       200\n",
       "(1.522, 1.572]      200\n",
       "(1.572, 1.622]      200\n",
       "(1.622, 1.669]      200\n",
       "(1.669, 1.719]      200\n",
       "(1.719, 1.767]      200\n",
       "(4.71, 10.383]      200\n",
       "Name: freq_x, dtype: int64"
      ]
     },
     "execution_count": 22,
     "metadata": {},
     "output_type": "execute_result"
    }
   ],
   "source": [
    "df['freq_x'].value_counts()"
   ]
  },
  {
   "cell_type": "code",
   "execution_count": 23,
   "metadata": {
    "executionInfo": {
     "elapsed": 309,
     "status": "ok",
     "timestamp": 1683076378441,
     "user": {
      "displayName": "Carlos Arellano",
      "userId": "03055712073717640513"
     },
     "user_tz": 360
    },
    "id": "MOP1qV6adI3B"
   },
   "outputs": [],
   "source": [
    "xF = df.groupby('freq_x')['x'].mean()\n",
    "yF = df.groupby('freq_x')['y'].mean()"
   ]
  },
  {
   "cell_type": "code",
   "execution_count": 25,
   "metadata": {},
   "outputs": [
    {
     "data": {
      "text/plain": [
       "(0, 0)"
      ]
     },
     "execution_count": 25,
     "metadata": {},
     "output_type": "execute_result"
    }
   ],
   "source": [
    "xF.isna().sum(), yF.isna().sum()"
   ]
  },
  {
   "cell_type": "code",
   "execution_count": 26,
   "metadata": {
    "executionInfo": {
     "elapsed": 7,
     "status": "ok",
     "timestamp": 1683076378443,
     "user": {
      "displayName": "Carlos Arellano",
      "userId": "03055712073717640513"
     },
     "user_tz": 360
    },
    "id": "71FgpnvCekj0"
   },
   "outputs": [],
   "source": [
    "#@title Regresión\n",
    "lin_freq_x=LinearRegression()\n",
    "lin_freq_x.fit(xF.values.reshape(-1,1),yF)\n",
    "predict_freq_x=lin_freq_x.predict(df[['x']].values)"
   ]
  },
  {
   "cell_type": "code",
   "execution_count": 27,
   "metadata": {
    "colab": {
     "base_uri": "https://localhost:8080/",
     "height": 430
    },
    "executionInfo": {
     "elapsed": 823,
     "status": "ok",
     "timestamp": 1683076379259,
     "user": {
      "displayName": "Carlos Arellano",
      "userId": "03055712073717640513"
     },
     "user_tz": 360
    },
    "id": "r3-P_K99ayoU",
    "outputId": "7763582e-a6e6-4de6-dbe4-54c855c2d4bf"
   },
   "outputs": [
    {
     "data": {
      "image/png": "[encoded data removed]",
      "text/plain": [
       "<Figure size 432x288 with 1 Axes>"
      ]
     },
     "metadata": {
      "needs_background": "light"
     },
     "output_type": "display_data"
    }
   ],
   "source": [
    "# Gráfico\n",
    "plt.scatter(df.x,df.y,s=5)\n",
    "plt.plot(df.x,predict_SD,'k',label='Regresión sin discretizar')\n",
    "plt.plot(df.x,predict_ancho_x,'r',label='Regresión con ancho constante')\n",
    "plt.plot(df.x,predict_freq_x,'g',label='Regresión con frecuencia constante')\n",
    "plt.scatter(xF,yF,marker='x',s=20,label='Valores discretizados con frecuencia constante')\n",
    "plt.legend()\n",
    "plt.grid()"
   ]
  },
  {
   "cell_type": "code",
   "execution_count": 28,
   "metadata": {
    "colab": {
     "base_uri": "https://localhost:8080/"
    },
    "executionInfo": {
     "elapsed": 356,
     "status": "ok",
     "timestamp": 1683076477767,
     "user": {
      "displayName": "Carlos Arellano",
      "userId": "03055712073717640513"
     },
     "user_tz": 360
    },
    "id": "J5S_hLZ7KyHP",
    "outputId": "fe37bf36-59b4-4d57-a715-20b86a803f41"
   },
   "outputs": [
    {
     "data": {
      "text/plain": [
       "(array([4.84543339]), -3.420455157479873)"
      ]
     },
     "execution_count": 28,
     "metadata": {},
     "output_type": "execute_result"
    }
   ],
   "source": [
    "# Modelo con datos sin discretizar\n",
    "lin_SD.coef_, lin_SD.intercept_"
   ]
  },
  {
   "cell_type": "code",
   "execution_count": 29,
   "metadata": {
    "colab": {
     "base_uri": "https://localhost:8080/"
    },
    "executionInfo": {
     "elapsed": 142,
     "status": "ok",
     "timestamp": 1683076532987,
     "user": {
      "displayName": "Carlos Arellano",
      "userId": "03055712073717640513"
     },
     "user_tz": 360
    },
    "id": "f8wi0tdwLPBO",
    "outputId": "072977ed-c479-4685-8015-5336337bb628"
   },
   "outputs": [
    {
     "data": {
      "text/plain": [
       "(array([4.76027365]), -3.2499074362448708)"
      ]
     },
     "execution_count": 29,
     "metadata": {},
     "output_type": "execute_result"
    }
   ],
   "source": [
    "# Modelo con datos discretizados\n",
    "lin_freq_x.coef_, lin_freq_x.intercept_"
   ]
  },
  {
   "cell_type": "markdown",
   "metadata": {
    "id": "EUeu_gB6Lddq"
   },
   "source": [
    "# Modelos conseguidos\n",
    "Modelo con datos sin discretizar\n",
    "$$\n",
    "y=4.84x - 3.42\n",
    "$$\n",
    "Modelo con datos discretizados con frecuencia constante\n",
    "$$\n",
    "y=4.76x - 3.24\n",
    "$$"
   ]
  },
  {
   "cell_type": "code",
   "execution_count": null,
   "metadata": {},
   "outputs": [],
   "source": [
    "pd.cut(df.edad,bins=[0,12,25,35], retbins=True, labels=['Niño', 'Joven','Adulto'])"
   ]
  },
  {
   "cell_type": "code",
   "execution_count": 30,
   "metadata": {},
   "outputs": [],
   "source": [
    "titanic_df = pd.read_csv(\"titanic.csv\")"
   ]
  },
  {
   "cell_type": "code",
   "execution_count": 31,
   "metadata": {},
   "outputs": [
    {
     "name": "stdout",
     "output_type": "stream",
     "text": [
      "<class 'pandas.core.frame.DataFrame'>\n",
      "RangeIndex: 891 entries, 0 to 890\n",
      "Data columns (total 12 columns):\n",
      " #   Column       Non-Null Count  Dtype  \n",
      "---  ------       --------------  -----  \n",
      " 0   PassengerId  891 non-null    int64  \n",
      " 1   Survived     891 non-null    int64  \n",
      " 2   Pclass       891 non-null    int64  \n",
      " 3   Name         891 non-null    object \n",
      " 4   Sex          891 non-null    object \n",
      " 5   Age          714 non-null    float64\n",
      " 6   SibSp        891 non-null    int64  \n",
      " 7   Parch        891 non-null    int64  \n",
      " 8   Ticket       891 non-null    object \n",
      " 9   Fare         891 non-null    float64\n",
      " 10  Cabin        204 non-null    object \n",
      " 11  Embarked     889 non-null    object \n",
      "dtypes: float64(2), int64(5), object(5)\n",
      "memory usage: 83.7+ KB\n"
     ]
    }
   ],
   "source": [
    "titanic_df.info()"
   ]
  },
  {
   "cell_type": "code",
   "execution_count": 32,
   "metadata": {},
   "outputs": [
    {
     "data": {
      "text/plain": [
       "<AxesSubplot:>"
      ]
     },
     "execution_count": 32,
     "metadata": {},
     "output_type": "execute_result"
    },
    {
     "data": {
      "image/png": "[encoded data removed]",
      "text/plain": [
       "<Figure size 432x288 with 1 Axes>"
      ]
     },
     "metadata": {
      "needs_background": "light"
     },
     "output_type": "display_data"
    }
   ],
   "source": [
    "titanic_df['Age'].hist()"
   ]
  },
  {
   "cell_type": "code",
   "execution_count": 33,
   "metadata": {},
   "outputs": [
    {
     "data": {
      "text/plain": [
       "count    714.000000\n",
       "mean      29.699118\n",
       "std       14.526497\n",
       "min        0.420000\n",
       "25%       20.125000\n",
       "50%       28.000000\n",
       "75%       38.000000\n",
       "max       80.000000\n",
       "Name: Age, dtype: float64"
      ]
     },
     "execution_count": 33,
     "metadata": {},
     "output_type": "execute_result"
    }
   ],
   "source": [
    "titanic_df['Age'].describe()"
   ]
  },
  {
   "cell_type": "code",
   "execution_count": 34,
   "metadata": {},
   "outputs": [],
   "source": [
    "def cut_age(df, cut_values, label_names):\n",
    "    df[\"Age_labels\"] = pd.cut(df['Age'], bins=cut_values, labels=label_names)\n",
    "    return df"
   ]
  },
  {
   "cell_type": "code",
   "execution_count": 35,
   "metadata": {},
   "outputs": [],
   "source": [
    "cut_values = [0,3,12,19,35,60,80]\n",
    "labels_names = ['infants', 'children', 'teenagers', 'young adults', 'middle adults', 'seniors']"
   ]
  },
  {
   "cell_type": "code",
   "execution_count": 37,
   "metadata": {},
   "outputs": [
    {
     "data": {
      "text/html": [
       "<div>\n",
       "<style scoped>\n",
       "    .dataframe tbody tr th:only-of-type {\n",
       "        vertical-align: middle;\n",
       "    }\n",
       "\n",
       "    .dataframe tbody tr th {\n",
       "        vertical-align: top;\n",
       "    }\n",
       "\n",
       "    .dataframe thead th {\n",
       "        text-align: right;\n",
       "    }\n",
       "</style>\n",
       "<table border=\"1\" class=\"dataframe\">\n",
       "  <thead>\n",
       "    <tr style=\"text-align: right;\">\n",
       "      <th></th>\n",
       "      <th>PassengerId</th>\n",
       "      <th>Survived</th>\n",
       "      <th>Pclass</th>\n",
       "      <th>Name</th>\n",
       "      <th>Sex</th>\n",
       "      <th>Age</th>\n",
       "      <th>SibSp</th>\n",
       "      <th>Parch</th>\n",
       "      <th>Ticket</th>\n",
       "      <th>Fare</th>\n",
       "      <th>Cabin</th>\n",
       "      <th>Embarked</th>\n",
       "      <th>Age_labels</th>\n",
       "    </tr>\n",
       "  </thead>\n",
       "  <tbody>\n",
       "    <tr>\n",
       "      <th>0</th>\n",
       "      <td>1</td>\n",
       "      <td>0</td>\n",
       "      <td>3</td>\n",
       "      <td>Braund, Mr. Owen Harris</td>\n",
       "      <td>male</td>\n",
       "      <td>22.0</td>\n",
       "      <td>1</td>\n",
       "      <td>0</td>\n",
       "      <td>A/5 21171</td>\n",
       "      <td>7.2500</td>\n",
       "      <td>NaN</td>\n",
       "      <td>S</td>\n",
       "      <td>young adults</td>\n",
       "    </tr>\n",
       "    <tr>\n",
       "      <th>1</th>\n",
       "      <td>2</td>\n",
       "      <td>1</td>\n",
       "      <td>1</td>\n",
       "      <td>Cumings, Mrs. John Bradley (Florence Briggs Th...</td>\n",
       "      <td>female</td>\n",
       "      <td>38.0</td>\n",
       "      <td>1</td>\n",
       "      <td>0</td>\n",
       "      <td>PC 17599</td>\n",
       "      <td>71.2833</td>\n",
       "      <td>C85</td>\n",
       "      <td>C</td>\n",
       "      <td>middle adults</td>\n",
       "    </tr>\n",
       "    <tr>\n",
       "      <th>2</th>\n",
       "      <td>3</td>\n",
       "      <td>1</td>\n",
       "      <td>3</td>\n",
       "      <td>Heikkinen, Miss. Laina</td>\n",
       "      <td>female</td>\n",
       "      <td>26.0</td>\n",
       "      <td>0</td>\n",
       "      <td>0</td>\n",
       "      <td>STON/O2. 3101282</td>\n",
       "      <td>7.9250</td>\n",
       "      <td>NaN</td>\n",
       "      <td>S</td>\n",
       "      <td>young adults</td>\n",
       "    </tr>\n",
       "    <tr>\n",
       "      <th>3</th>\n",
       "      <td>4</td>\n",
       "      <td>1</td>\n",
       "      <td>1</td>\n",
       "      <td>Futrelle, Mrs. Jacques Heath (Lily May Peel)</td>\n",
       "      <td>female</td>\n",
       "      <td>35.0</td>\n",
       "      <td>1</td>\n",
       "      <td>0</td>\n",
       "      <td>113803</td>\n",
       "      <td>53.1000</td>\n",
       "      <td>C123</td>\n",
       "      <td>S</td>\n",
       "      <td>young adults</td>\n",
       "    </tr>\n",
       "    <tr>\n",
       "      <th>4</th>\n",
       "      <td>5</td>\n",
       "      <td>0</td>\n",
       "      <td>3</td>\n",
       "      <td>Allen, Mr. William Henry</td>\n",
       "      <td>male</td>\n",
       "      <td>35.0</td>\n",
       "      <td>0</td>\n",
       "      <td>0</td>\n",
       "      <td>373450</td>\n",
       "      <td>8.0500</td>\n",
       "      <td>NaN</td>\n",
       "      <td>S</td>\n",
       "      <td>young adults</td>\n",
       "    </tr>\n",
       "    <tr>\n",
       "      <th>...</th>\n",
       "      <td>...</td>\n",
       "      <td>...</td>\n",
       "      <td>...</td>\n",
       "      <td>...</td>\n",
       "      <td>...</td>\n",
       "      <td>...</td>\n",
       "      <td>...</td>\n",
       "      <td>...</td>\n",
       "      <td>...</td>\n",
       "      <td>...</td>\n",
       "      <td>...</td>\n",
       "      <td>...</td>\n",
       "      <td>...</td>\n",
       "    </tr>\n",
       "    <tr>\n",
       "      <th>886</th>\n",
       "      <td>887</td>\n",
       "      <td>0</td>\n",
       "      <td>2</td>\n",
       "      <td>Montvila, Rev. Juozas</td>\n",
       "      <td>male</td>\n",
       "      <td>27.0</td>\n",
       "      <td>0</td>\n",
       "      <td>0</td>\n",
       "      <td>211536</td>\n",
       "      <td>13.0000</td>\n",
       "      <td>NaN</td>\n",
       "      <td>S</td>\n",
       "      <td>young adults</td>\n",
       "    </tr>\n",
       "    <tr>\n",
       "      <th>887</th>\n",
       "      <td>888</td>\n",
       "      <td>1</td>\n",
       "      <td>1</td>\n",
       "      <td>Graham, Miss. Margaret Edith</td>\n",
       "      <td>female</td>\n",
       "      <td>19.0</td>\n",
       "      <td>0</td>\n",
       "      <td>0</td>\n",
       "      <td>112053</td>\n",
       "      <td>30.0000</td>\n",
       "      <td>B42</td>\n",
       "      <td>S</td>\n",
       "      <td>teenagers</td>\n",
       "    </tr>\n",
       "    <tr>\n",
       "      <th>888</th>\n",
       "      <td>889</td>\n",
       "      <td>0</td>\n",
       "      <td>3</td>\n",
       "      <td>Johnston, Miss. Catherine Helen \"Carrie\"</td>\n",
       "      <td>female</td>\n",
       "      <td>NaN</td>\n",
       "      <td>1</td>\n",
       "      <td>2</td>\n",
       "      <td>W./C. 6607</td>\n",
       "      <td>23.4500</td>\n",
       "      <td>NaN</td>\n",
       "      <td>S</td>\n",
       "      <td>NaN</td>\n",
       "    </tr>\n",
       "    <tr>\n",
       "      <th>889</th>\n",
       "      <td>890</td>\n",
       "      <td>1</td>\n",
       "      <td>1</td>\n",
       "      <td>Behr, Mr. Karl Howell</td>\n",
       "      <td>male</td>\n",
       "      <td>26.0</td>\n",
       "      <td>0</td>\n",
       "      <td>0</td>\n",
       "      <td>111369</td>\n",
       "      <td>30.0000</td>\n",
       "      <td>C148</td>\n",
       "      <td>C</td>\n",
       "      <td>young adults</td>\n",
       "    </tr>\n",
       "    <tr>\n",
       "      <th>890</th>\n",
       "      <td>891</td>\n",
       "      <td>0</td>\n",
       "      <td>3</td>\n",
       "      <td>Dooley, Mr. Patrick</td>\n",
       "      <td>male</td>\n",
       "      <td>32.0</td>\n",
       "      <td>0</td>\n",
       "      <td>0</td>\n",
       "      <td>370376</td>\n",
       "      <td>7.7500</td>\n",
       "      <td>NaN</td>\n",
       "      <td>Q</td>\n",
       "      <td>young adults</td>\n",
       "    </tr>\n",
       "  </tbody>\n",
       "</table>\n",
       "<p>891 rows × 13 columns</p>\n",
       "</div>"
      ],
      "text/plain": [
       "     PassengerId  Survived  Pclass  \\\n",
       "0              1         0       3   \n",
       "1              2         1       1   \n",
       "2              3         1       3   \n",
       "3              4         1       1   \n",
       "4              5         0       3   \n",
       "..           ...       ...     ...   \n",
       "886          887         0       2   \n",
       "887          888         1       1   \n",
       "888          889         0       3   \n",
       "889          890         1       1   \n",
       "890          891         0       3   \n",
       "\n",
       "                                                  Name     Sex   Age  SibSp  \\\n",
       "0                              Braund, Mr. Owen Harris    male  22.0      1   \n",
       "1    Cumings, Mrs. John Bradley (Florence Briggs Th...  female  38.0      1   \n",
       "2                               Heikkinen, Miss. Laina  female  26.0      0   \n",
       "3         Futrelle, Mrs. Jacques Heath (Lily May Peel)  female  35.0      1   \n",
       "4                             Allen, Mr. William Henry    male  35.0      0   \n",
       "..                                                 ...     ...   ...    ...   \n",
       "886                              Montvila, Rev. Juozas    male  27.0      0   \n",
       "887                       Graham, Miss. Margaret Edith  female  19.0      0   \n",
       "888           Johnston, Miss. Catherine Helen \"Carrie\"  female   NaN      1   \n",
       "889                              Behr, Mr. Karl Howell    male  26.0      0   \n",
       "890                                Dooley, Mr. Patrick    male  32.0      0   \n",
       "\n",
       "     Parch            Ticket     Fare Cabin Embarked     Age_labels  \n",
       "0        0         A/5 21171   7.2500   NaN        S   young adults  \n",
       "1        0          PC 17599  71.2833   C85        C  middle adults  \n",
       "2        0  STON/O2. 3101282   7.9250   NaN        S   young adults  \n",
       "3        0            113803  53.1000  C123        S   young adults  \n",
       "4        0            373450   8.0500   NaN        S   young adults  \n",
       "..     ...               ...      ...   ...      ...            ...  \n",
       "886      0            211536  13.0000   NaN        S   young adults  \n",
       "887      0            112053  30.0000   B42        S      teenagers  \n",
       "888      2        W./C. 6607  23.4500   NaN        S            NaN  \n",
       "889      0            111369  30.0000  C148        C   young adults  \n",
       "890      0            370376   7.7500   NaN        Q   young adults  \n",
       "\n",
       "[891 rows x 13 columns]"
      ]
     },
     "execution_count": 37,
     "metadata": {},
     "output_type": "execute_result"
    }
   ],
   "source": [
    "cut_age(titanic_df, cut_values, labels_names)"
   ]
  },
  {
   "cell_type": "code",
   "execution_count": 39,
   "metadata": {},
   "outputs": [],
   "source": [
    "import seaborn as sns"
   ]
  },
  {
   "cell_type": "code",
   "execution_count": 41,
   "metadata": {},
   "outputs": [
    {
     "data": {
      "text/plain": [
       "<seaborn.axisgrid.FacetGrid at 0x1c1b1780160>"
      ]
     },
     "execution_count": 41,
     "metadata": {},
     "output_type": "execute_result"
    },
    {
     "data": {
      "image/png": "[encoded data removed]",
      "text/plain": [
       "<Figure size 864x432 with 2 Axes>"
      ]
     },
     "metadata": {
      "needs_background": "light"
     },
     "output_type": "display_data"
    }
   ],
   "source": [
    "sns.catplot(x='Age_labels', row='Survived', kind=\"count\", data=titanic_df, aspect=4, height=3)"
   ]
  },
  {
   "cell_type": "code",
   "execution_count": 43,
   "metadata": {},
   "outputs": [],
   "source": [
    "def qcut_fare(df, cut_values, label_names):\n",
    "    df[\"Fare_labels\"] = pd.qcut(df['Fare'], cut_values, labels=label_names)\n",
    "    return df\n",
    "labels=['range1','range2','range3','range4']\n",
    "titanic_df = qcut_fare(titanic_df, 4, labels)"
   ]
  },
  {
   "cell_type": "code",
   "execution_count": 44,
   "metadata": {},
   "outputs": [
    {
     "data": {
      "text/html": [
       "<div>\n",
       "<style scoped>\n",
       "    .dataframe tbody tr th:only-of-type {\n",
       "        vertical-align: middle;\n",
       "    }\n",
       "\n",
       "    .dataframe tbody tr th {\n",
       "        vertical-align: top;\n",
       "    }\n",
       "\n",
       "    .dataframe thead th {\n",
       "        text-align: right;\n",
       "    }\n",
       "</style>\n",
       "<table border=\"1\" class=\"dataframe\">\n",
       "  <thead>\n",
       "    <tr style=\"text-align: right;\">\n",
       "      <th></th>\n",
       "      <th>PassengerId</th>\n",
       "      <th>Survived</th>\n",
       "      <th>Pclass</th>\n",
       "      <th>Name</th>\n",
       "      <th>Sex</th>\n",
       "      <th>Age</th>\n",
       "      <th>SibSp</th>\n",
       "      <th>Parch</th>\n",
       "      <th>Ticket</th>\n",
       "      <th>Fare</th>\n",
       "      <th>Cabin</th>\n",
       "      <th>Embarked</th>\n",
       "      <th>Age_labels</th>\n",
       "      <th>Fare_labels</th>\n",
       "    </tr>\n",
       "  </thead>\n",
       "  <tbody>\n",
       "    <tr>\n",
       "      <th>0</th>\n",
       "      <td>1</td>\n",
       "      <td>0</td>\n",
       "      <td>3</td>\n",
       "      <td>Braund, Mr. Owen Harris</td>\n",
       "      <td>male</td>\n",
       "      <td>22.0</td>\n",
       "      <td>1</td>\n",
       "      <td>0</td>\n",
       "      <td>A/5 21171</td>\n",
       "      <td>7.2500</td>\n",
       "      <td>NaN</td>\n",
       "      <td>S</td>\n",
       "      <td>young adults</td>\n",
       "      <td>range1</td>\n",
       "    </tr>\n",
       "    <tr>\n",
       "      <th>1</th>\n",
       "      <td>2</td>\n",
       "      <td>1</td>\n",
       "      <td>1</td>\n",
       "      <td>Cumings, Mrs. John Bradley (Florence Briggs Th...</td>\n",
       "      <td>female</td>\n",
       "      <td>38.0</td>\n",
       "      <td>1</td>\n",
       "      <td>0</td>\n",
       "      <td>PC 17599</td>\n",
       "      <td>71.2833</td>\n",
       "      <td>C85</td>\n",
       "      <td>C</td>\n",
       "      <td>middle adults</td>\n",
       "      <td>range4</td>\n",
       "    </tr>\n",
       "    <tr>\n",
       "      <th>2</th>\n",
       "      <td>3</td>\n",
       "      <td>1</td>\n",
       "      <td>3</td>\n",
       "      <td>Heikkinen, Miss. Laina</td>\n",
       "      <td>female</td>\n",
       "      <td>26.0</td>\n",
       "      <td>0</td>\n",
       "      <td>0</td>\n",
       "      <td>STON/O2. 3101282</td>\n",
       "      <td>7.9250</td>\n",
       "      <td>NaN</td>\n",
       "      <td>S</td>\n",
       "      <td>young adults</td>\n",
       "      <td>range2</td>\n",
       "    </tr>\n",
       "    <tr>\n",
       "      <th>3</th>\n",
       "      <td>4</td>\n",
       "      <td>1</td>\n",
       "      <td>1</td>\n",
       "      <td>Futrelle, Mrs. Jacques Heath (Lily May Peel)</td>\n",
       "      <td>female</td>\n",
       "      <td>35.0</td>\n",
       "      <td>1</td>\n",
       "      <td>0</td>\n",
       "      <td>113803</td>\n",
       "      <td>53.1000</td>\n",
       "      <td>C123</td>\n",
       "      <td>S</td>\n",
       "      <td>young adults</td>\n",
       "      <td>range4</td>\n",
       "    </tr>\n",
       "    <tr>\n",
       "      <th>4</th>\n",
       "      <td>5</td>\n",
       "      <td>0</td>\n",
       "      <td>3</td>\n",
       "      <td>Allen, Mr. William Henry</td>\n",
       "      <td>male</td>\n",
       "      <td>35.0</td>\n",
       "      <td>0</td>\n",
       "      <td>0</td>\n",
       "      <td>373450</td>\n",
       "      <td>8.0500</td>\n",
       "      <td>NaN</td>\n",
       "      <td>S</td>\n",
       "      <td>young adults</td>\n",
       "      <td>range2</td>\n",
       "    </tr>\n",
       "    <tr>\n",
       "      <th>...</th>\n",
       "      <td>...</td>\n",
       "      <td>...</td>\n",
       "      <td>...</td>\n",
       "      <td>...</td>\n",
       "      <td>...</td>\n",
       "      <td>...</td>\n",
       "      <td>...</td>\n",
       "      <td>...</td>\n",
       "      <td>...</td>\n",
       "      <td>...</td>\n",
       "      <td>...</td>\n",
       "      <td>...</td>\n",
       "      <td>...</td>\n",
       "      <td>...</td>\n",
       "    </tr>\n",
       "    <tr>\n",
       "      <th>886</th>\n",
       "      <td>887</td>\n",
       "      <td>0</td>\n",
       "      <td>2</td>\n",
       "      <td>Montvila, Rev. Juozas</td>\n",
       "      <td>male</td>\n",
       "      <td>27.0</td>\n",
       "      <td>0</td>\n",
       "      <td>0</td>\n",
       "      <td>211536</td>\n",
       "      <td>13.0000</td>\n",
       "      <td>NaN</td>\n",
       "      <td>S</td>\n",
       "      <td>young adults</td>\n",
       "      <td>range2</td>\n",
       "    </tr>\n",
       "    <tr>\n",
       "      <th>887</th>\n",
       "      <td>888</td>\n",
       "      <td>1</td>\n",
       "      <td>1</td>\n",
       "      <td>Graham, Miss. Margaret Edith</td>\n",
       "      <td>female</td>\n",
       "      <td>19.0</td>\n",
       "      <td>0</td>\n",
       "      <td>0</td>\n",
       "      <td>112053</td>\n",
       "      <td>30.0000</td>\n",
       "      <td>B42</td>\n",
       "      <td>S</td>\n",
       "      <td>teenagers</td>\n",
       "      <td>range3</td>\n",
       "    </tr>\n",
       "    <tr>\n",
       "      <th>888</th>\n",
       "      <td>889</td>\n",
       "      <td>0</td>\n",
       "      <td>3</td>\n",
       "      <td>Johnston, Miss. Catherine Helen \"Carrie\"</td>\n",
       "      <td>female</td>\n",
       "      <td>NaN</td>\n",
       "      <td>1</td>\n",
       "      <td>2</td>\n",
       "      <td>W./C. 6607</td>\n",
       "      <td>23.4500</td>\n",
       "      <td>NaN</td>\n",
       "      <td>S</td>\n",
       "      <td>NaN</td>\n",
       "      <td>range3</td>\n",
       "    </tr>\n",
       "    <tr>\n",
       "      <th>889</th>\n",
       "      <td>890</td>\n",
       "      <td>1</td>\n",
       "      <td>1</td>\n",
       "      <td>Behr, Mr. Karl Howell</td>\n",
       "      <td>male</td>\n",
       "      <td>26.0</td>\n",
       "      <td>0</td>\n",
       "      <td>0</td>\n",
       "      <td>111369</td>\n",
       "      <td>30.0000</td>\n",
       "      <td>C148</td>\n",
       "      <td>C</td>\n",
       "      <td>young adults</td>\n",
       "      <td>range3</td>\n",
       "    </tr>\n",
       "    <tr>\n",
       "      <th>890</th>\n",
       "      <td>891</td>\n",
       "      <td>0</td>\n",
       "      <td>3</td>\n",
       "      <td>Dooley, Mr. Patrick</td>\n",
       "      <td>male</td>\n",
       "      <td>32.0</td>\n",
       "      <td>0</td>\n",
       "      <td>0</td>\n",
       "      <td>370376</td>\n",
       "      <td>7.7500</td>\n",
       "      <td>NaN</td>\n",
       "      <td>Q</td>\n",
       "      <td>young adults</td>\n",
       "      <td>range1</td>\n",
       "    </tr>\n",
       "  </tbody>\n",
       "</table>\n",
       "<p>891 rows × 14 columns</p>\n",
       "</div>"
      ],
      "text/plain": [
       "     PassengerId  Survived  Pclass  \\\n",
       "0              1         0       3   \n",
       "1              2         1       1   \n",
       "2              3         1       3   \n",
       "3              4         1       1   \n",
       "4              5         0       3   \n",
       "..           ...       ...     ...   \n",
       "886          887         0       2   \n",
       "887          888         1       1   \n",
       "888          889         0       3   \n",
       "889          890         1       1   \n",
       "890          891         0       3   \n",
       "\n",
       "                                                  Name     Sex   Age  SibSp  \\\n",
       "0                              Braund, Mr. Owen Harris    male  22.0      1   \n",
       "1    Cumings, Mrs. John Bradley (Florence Briggs Th...  female  38.0      1   \n",
       "2                               Heikkinen, Miss. Laina  female  26.0      0   \n",
       "3         Futrelle, Mrs. Jacques Heath (Lily May Peel)  female  35.0      1   \n",
       "4                             Allen, Mr. William Henry    male  35.0      0   \n",
       "..                                                 ...     ...   ...    ...   \n",
       "886                              Montvila, Rev. Juozas    male  27.0      0   \n",
       "887                       Graham, Miss. Margaret Edith  female  19.0      0   \n",
       "888           Johnston, Miss. Catherine Helen \"Carrie\"  female   NaN      1   \n",
       "889                              Behr, Mr. Karl Howell    male  26.0      0   \n",
       "890                                Dooley, Mr. Patrick    male  32.0      0   \n",
       "\n",
       "     Parch            Ticket     Fare Cabin Embarked     Age_labels  \\\n",
       "0        0         A/5 21171   7.2500   NaN        S   young adults   \n",
       "1        0          PC 17599  71.2833   C85        C  middle adults   \n",
       "2        0  STON/O2. 3101282   7.9250   NaN        S   young adults   \n",
       "3        0            113803  53.1000  C123        S   young adults   \n",
       "4        0            373450   8.0500   NaN        S   young adults   \n",
       "..     ...               ...      ...   ...      ...            ...   \n",
       "886      0            211536  13.0000   NaN        S   young adults   \n",
       "887      0            112053  30.0000   B42        S      teenagers   \n",
       "888      2        W./C. 6607  23.4500   NaN        S            NaN   \n",
       "889      0            111369  30.0000  C148        C   young adults   \n",
       "890      0            370376   7.7500   NaN        Q   young adults   \n",
       "\n",
       "    Fare_labels  \n",
       "0        range1  \n",
       "1        range4  \n",
       "2        range2  \n",
       "3        range4  \n",
       "4        range2  \n",
       "..          ...  \n",
       "886      range2  \n",
       "887      range3  \n",
       "888      range3  \n",
       "889      range3  \n",
       "890      range1  \n",
       "\n",
       "[891 rows x 14 columns]"
      ]
     },
     "execution_count": 44,
     "metadata": {},
     "output_type": "execute_result"
    }
   ],
   "source": [
    "titanic_df"
   ]
  },
  {
   "cell_type": "code",
   "execution_count": 45,
   "metadata": {},
   "outputs": [
    {
     "data": {
      "text/plain": [
       "<seaborn.axisgrid.FacetGrid at 0x1c1b2c78cd0>"
      ]
     },
     "execution_count": 45,
     "metadata": {},
     "output_type": "execute_result"
    },
    {
     "data": {
      "image/png": "[encoded data removed]",
      "text/plain": [
       "<Figure size 864x216 with 1 Axes>"
      ]
     },
     "metadata": {
      "needs_background": "light"
     },
     "output_type": "display_data"
    }
   ],
   "source": [
    "sns.catplot(x='Fare_labels',  kind=\"count\", data=titanic_df, aspect=4, height=3)"
   ]
  },
  {
   "cell_type": "code",
   "execution_count": null,
   "metadata": {},
   "outputs": [],
   "source": []
  }
 ],
 "metadata": {
  "colab": {
   "authorship_tag": "ABX9TyOXZWH4zJLZC96Q5W+TvAPg",
   "provenance": []
  },
  "kernelspec": {
   "display_name": "Python 3 (ipykernel)",
   "language": "python",
   "name": "python3"
  },
  "language_info": {
   "codemirror_mode": {
    "name": "ipython",
    "version": 3
   },
   "file_extension": ".py",
   "mimetype": "text/x-python",
   "name": "python",
   "nbconvert_exporter": "python",
   "pygments_lexer": "ipython3",
   "version": "3.8.8"
  }
 },
 "nbformat": 4,
 "nbformat_minor": 1
}
