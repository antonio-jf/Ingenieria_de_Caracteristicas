{
 "cells": [
  {
   "cell_type": "markdown",
   "metadata": {
    "id": "otaAKUovDeW4"
   },
   "source": [
    "# Codificación de variables categóricas ordinales\n",
    "\n",
    "En el conjunto de datos `datos_20.csv` existen datos  por localidad de grados académicos (`Grado`), población total (`POBTOT_BC`) y promedio de hijos nacidos vivos (`PROM_HNV_BC`); censados en el 2020.\n",
    "\n",
    "Codificaremos la variable categórica y encontraremos un modelo lineal entre las variables `Grado` y `POBTOT_BC` con `PROM_HNV_BC`, veremos si la precisión del modelo varía con diferentes formas de codificar y si existe una correlación entre estas variables."
   ]
  },
  {
   "cell_type": "markdown",
   "metadata": {
    "id": "-nwi9csFDJcc"
   },
   "source": [
    "1. Importe los datos del archivo `datos_20.csv`"
   ]
  },
  {
   "cell_type": "code",
   "execution_count": null,
   "metadata": {
    "id": "YLikvImuG-jx"
   },
   "outputs": [],
   "source": []
  },
  {
   "cell_type": "markdown",
   "metadata": {
    "id": "psMie5JyG_eh"
   },
   "source": [
    "2. Codifique la variable `Grado` usando contraste polinómico lineal"
   ]
  },
  {
   "cell_type": "code",
   "execution_count": null,
   "metadata": {
    "id": "G4E_-3AQHXXP"
   },
   "outputs": [],
   "source": [
    "def cont_poly(n):\n",
    "    # si es par-->\n",
    "    # si es impar --->\n",
    "    return X"
   ]
  },
  {
   "cell_type": "code",
   "execution_count": null,
   "metadata": {},
   "outputs": [],
   "source": [
    "n=len(df['Grado'].unique)\n",
    "X_grado = cont_poly(n)\n"
   ]
  },
  {
   "cell_type": "code",
   "execution_count": null,
   "metadata": {},
   "outputs": [],
   "source": [
    "dic_grado = {} #polinomio de primer grado para la variable Grado\n",
    "df['Grado_lin'] = df['Grado'].map(dic_grado)"
   ]
  },
  {
   "cell_type": "markdown",
   "metadata": {
    "id": "ka2mSqUVHYL7"
   },
   "source": [
    "3. Obtenga una relación lineal usando la clase `LinearRegression` del paquete `sklearn.linear_model`, para la codificacón obtenida y la variable `PBTOT_BC` como variables independientes y la variable `PROM_HNV_BC` como variable dependiente. Posteriormente, grafique y mida la correlación."
   ]
  },
  {
   "cell_type": "code",
   "execution_count": null,
   "metadata": {
    "id": "I_tONp6AIUjP"
   },
   "outputs": [],
   "source": [
    "# cómo medir la correlación entre dos variables?"
   ]
  },
  {
   "cell_type": "markdown",
   "metadata": {
    "id": "2gtqo3a5IV1Z"
   },
   "source": [
    "4. Codifique de nuevo la variable `Grado` usando contraste polinómico cuadrático con una parábola cóncava."
   ]
  },
  {
   "cell_type": "code",
   "execution_count": null,
   "metadata": {
    "id": "S9Nr6m4UI7SX"
   },
   "outputs": [],
   "source": []
  },
  {
   "cell_type": "markdown",
   "metadata": {
    "id": "0r3ab7D1I7u3"
   },
   "source": [
    "5. Obtenga de nuevo una regresión lineal incluyendo ahora la codificación cuadrática, es decir, las variables independientes serán `POBTOT_BC`, la codificación lineal y la codificación cuadrática. Grafique y mida la correlación, ¿Mejoró la correlación?"
   ]
  },
  {
   "cell_type": "code",
   "execution_count": null,
   "metadata": {
    "id": "3UwfWaexJ5y0"
   },
   "outputs": [],
   "source": []
  },
  {
   "cell_type": "markdown",
   "metadata": {
    "id": "dAF6mBpIJ78j"
   },
   "source": [
    "6. Finalmente, vuelva a codificar la variable `Grado` usando contraste polinómico cuadrático estrictamente creciente."
   ]
  },
  {
   "cell_type": "code",
   "execution_count": null,
   "metadata": {
    "id": "fk9m-_9nKWXY"
   },
   "outputs": [],
   "source": [
    "X = [-3,-1,0,1,3] + 3 ---> [0,1,2,3,]\n",
    "a0+a1*x+a2+x^2"
   ]
  },
  {
   "cell_type": "markdown",
   "metadata": {
    "id": "6bdbuCYQLWkH"
   },
   "source": [
    "7. En la última regresión lineal, las variables independientes serán solo `POBTOT_BC` y la codificación cuadrática creciente. Grafique y mida la correlación, ¿Mejoró la correlación?, ¿Existe correlación entre estas variables?"
   ]
  },
  {
   "cell_type": "code",
   "execution_count": null,
   "metadata": {
    "id": "6ORBBGmHMIZq"
   },
   "outputs": [],
   "source": []
  }
 ],
 "metadata": {
  "colab": {
   "provenance": []
  },
  "kernelspec": {
   "display_name": "Python 3 (ipykernel)",
   "language": "python",
   "name": "python3"
  },
  "language_info": {
   "codemirror_mode": {
    "name": "ipython",
    "version": 3
   },
   "file_extension": ".py",
   "mimetype": "text/x-python",
   "name": "python",
   "nbconvert_exporter": "python",
   "pygments_lexer": "ipython3",
   "version": "3.8.8"
  }
 },
 "nbformat": 4,
 "nbformat_minor": 1
}
