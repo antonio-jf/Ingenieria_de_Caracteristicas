{
 "cells": [
  {
   "cell_type": "markdown",
   "metadata": {},
   "source": [
    "<img style=\"float: left;;\" src='Figures/iteso.jpg' width=\"100\" height=\"200\"/></a>\n",
    "\n",
    "# <center> <font color= #000047> Feature Hashing </font> </center>"
   ]
  },
  {
   "cell_type": "code",
   "execution_count": 1,
   "metadata": {
    "colab": {
     "base_uri": "https://localhost:8080/",
     "height": 206
    },
    "executionInfo": {
     "elapsed": 887,
     "status": "ok",
     "timestamp": 1678846854244,
     "user": {
      "displayName": "Carlos Arellano",
      "userId": "03055712073717640513"
     },
     "user_tz": 360
    },
    "id": "DeP2AEJdD9wP",
    "outputId": "3c3e5726-b062-42fc-d1a8-c4c46bd80244"
   },
   "outputs": [
    {
     "data": {
      "text/html": [
       "<div>\n",
       "<style scoped>\n",
       "    .dataframe tbody tr th:only-of-type {\n",
       "        vertical-align: middle;\n",
       "    }\n",
       "\n",
       "    .dataframe tbody tr th {\n",
       "        vertical-align: top;\n",
       "    }\n",
       "\n",
       "    .dataframe thead th {\n",
       "        text-align: right;\n",
       "    }\n",
       "</style>\n",
       "<table border=\"1\" class=\"dataframe\">\n",
       "  <thead>\n",
       "    <tr style=\"text-align: right;\">\n",
       "      <th></th>\n",
       "      <th>Países</th>\n",
       "    </tr>\n",
       "  </thead>\n",
       "  <tbody>\n",
       "    <tr>\n",
       "      <th>0</th>\n",
       "      <td>MEX</td>\n",
       "    </tr>\n",
       "    <tr>\n",
       "      <th>1</th>\n",
       "      <td>CHN</td>\n",
       "    </tr>\n",
       "    <tr>\n",
       "      <th>2</th>\n",
       "      <td>CAN</td>\n",
       "    </tr>\n",
       "    <tr>\n",
       "      <th>3</th>\n",
       "      <td>POL</td>\n",
       "    </tr>\n",
       "    <tr>\n",
       "      <th>4</th>\n",
       "      <td>CPV</td>\n",
       "    </tr>\n",
       "  </tbody>\n",
       "</table>\n",
       "</div>"
      ],
      "text/plain": [
       "  Países\n",
       "0    MEX\n",
       "1    CHN\n",
       "2    CAN\n",
       "3    POL\n",
       "4    CPV"
      ]
     },
     "execution_count": 1,
     "metadata": {},
     "output_type": "execute_result"
    }
   ],
   "source": [
    "import pandas as pd\n",
    "import numpy as np\n",
    "import matplotlib.pyplot as plt\n",
    "\n",
    "df=pd.read_csv('Países.csv')\n",
    "df.head()"
   ]
  },
  {
   "cell_type": "code",
   "execution_count": 2,
   "metadata": {},
   "outputs": [
    {
     "name": "stdout",
     "output_type": "stream",
     "text": [
      "<class 'pandas.core.frame.DataFrame'>\n",
      "RangeIndex: 560 entries, 0 to 559\n",
      "Data columns (total 1 columns):\n",
      " #   Column  Non-Null Count  Dtype \n",
      "---  ------  --------------  ----- \n",
      " 0   Países  560 non-null    object\n",
      "dtypes: object(1)\n",
      "memory usage: 4.5+ KB\n"
     ]
    }
   ],
   "source": [
    "df.info()"
   ]
  },
  {
   "cell_type": "code",
   "execution_count": 3,
   "metadata": {},
   "outputs": [
    {
     "data": {
      "text/plain": [
       "560"
      ]
     },
     "execution_count": 3,
     "metadata": {},
     "output_type": "execute_result"
    }
   ],
   "source": [
    "len(df)"
   ]
  },
  {
   "cell_type": "code",
   "execution_count": 6,
   "metadata": {},
   "outputs": [
    {
     "data": {
      "text/plain": [
       "(91,\n",
       " array(['MEX', 'CHN', 'CAN', 'POL', 'CPV', 'PHL', 'EGY', 'FIN', 'ITA',\n",
       "        'AUS', 'CZE', 'BLZ', 'FRA', 'RUS', 'MAR', 'ESP', 'CIV', 'AND',\n",
       "        'SOM', 'CHE', 'AUT', 'BHS', 'JPN', 'PRT', 'KOR', 'COL', 'USA',\n",
       "        'NLD', 'HRV', 'SWE', 'DEU', 'BEN', 'BTN', 'SEN', 'ECU', 'LCA',\n",
       "        'BEL', 'NOR', 'GRC', 'TCD', 'KEN', 'IRN', 'CYP', 'ZAF', 'DNK',\n",
       "        'TGO', 'PAK', 'SVK', 'LSO', 'RWA', 'ARE', 'GRD', 'MDV', 'PNG',\n",
       "        'MHL', 'SVN', 'SLV', 'OMN', 'TUV', 'GNB', 'PER', 'SDN', 'GEO',\n",
       "        'ALB', 'BOL', 'GMB', 'CUB', 'GIN', 'VUT', 'COG', 'SYC', 'CAF',\n",
       "        'PRY', 'LBN', 'UGA', 'NER', 'TUR', 'MYS', 'SAU', 'TKL', 'EST',\n",
       "        'LTU', 'GNQ', 'BLR', 'FJI', 'NIU', 'MNE', 'SMR', 'JOR', 'BIH',\n",
       "        'UKR'], dtype=object))"
      ]
     },
     "execution_count": 6,
     "metadata": {},
     "output_type": "execute_result"
    }
   ],
   "source": [
    "df['Países'].nunique(), df['Países'].unique()"
   ]
  },
  {
   "cell_type": "code",
   "execution_count": 11,
   "metadata": {},
   "outputs": [
    {
     "data": {
      "text/plain": [
       "EGY    33\n",
       "CAN    31\n",
       "JPN    29\n",
       "FIN    27\n",
       "ITA    27\n",
       "       ..\n",
       "MDV     1\n",
       "PNG     1\n",
       "MHL     1\n",
       "SVN     1\n",
       "UKR     1\n",
       "Name: Países, Length: 91, dtype: int64"
      ]
     },
     "execution_count": 11,
     "metadata": {},
     "output_type": "execute_result"
    }
   ],
   "source": [
    "df['Países'].value_counts(normalize=False)"
   ]
  },
  {
   "cell_type": "code",
   "execution_count": 10,
   "metadata": {
    "colab": {
     "base_uri": "https://localhost:8080/",
     "height": 351
    },
    "executionInfo": {
     "elapsed": 2507,
     "status": "ok",
     "timestamp": 1678847127158,
     "user": {
      "displayName": "Carlos Arellano",
      "userId": "03055712073717640513"
     },
     "user_tz": 360
    },
    "id": "C6vGpfPfEf8U",
    "outputId": "d492b254-7fd2-4a64-8c1b-9eecaf602ae7"
   },
   "outputs": [
    {
     "data": {
      "text/plain": [
       "<AxesSubplot:>"
      ]
     },
     "execution_count": 10,
     "metadata": {},
     "output_type": "execute_result"
    },
    {
     "data": {
      "image/png": "[encoded data removed]",
      "text/plain": [
       "<Figure size 1080x360 with 1 Axes>"
      ]
     },
     "metadata": {
      "needs_background": "light"
     },
     "output_type": "display_data"
    }
   ],
   "source": [
    "vc=df.Países.value_counts()\n",
    "vc.plot.bar(figsize=(15,5),grid=True)"
   ]
  },
  {
   "cell_type": "code",
   "execution_count": 12,
   "metadata": {
    "colab": {
     "base_uri": "https://localhost:8080/"
    },
    "executionInfo": {
     "elapsed": 139,
     "status": "ok",
     "timestamp": 1678847289212,
     "user": {
      "displayName": "Carlos Arellano",
      "userId": "03055712073717640513"
     },
     "user_tz": 360
    },
    "id": "DtA_mnq6Ffpg",
    "outputId": "655c587d-1f2e-42e0-b4e1-0f889653550b"
   },
   "outputs": [
    {
     "data": {
      "text/plain": [
       "91"
      ]
     },
     "execution_count": 12,
     "metadata": {},
     "output_type": "execute_result"
    }
   ],
   "source": [
    "# Cardinalidad de 'Países'\n",
    "n=len(df.Países.unique())\n",
    "n"
   ]
  },
  {
   "cell_type": "code",
   "execution_count": 13,
   "metadata": {
    "colab": {
     "base_uri": "https://localhost:8080/"
    },
    "executionInfo": {
     "elapsed": 115,
     "status": "ok",
     "timestamp": 1678847351607,
     "user": {
      "displayName": "Carlos Arellano",
      "userId": "03055712073717640513"
     },
     "user_tz": 360
    },
    "id": "nyZs8o-3GKXH",
    "outputId": "f71c3181-a902-4979-eebd-9624ab98e32e"
   },
   "outputs": [
    {
     "data": {
      "text/plain": [
       "560"
      ]
     },
     "execution_count": 13,
     "metadata": {},
     "output_type": "execute_result"
    }
   ],
   "source": [
    "N_obs=df.shape[0]\n",
    "N_obs"
   ]
  },
  {
   "cell_type": "code",
   "execution_count": 14,
   "metadata": {
    "colab": {
     "base_uri": "https://localhost:8080/"
    },
    "executionInfo": {
     "elapsed": 141,
     "status": "ok",
     "timestamp": 1678847367318,
     "user": {
      "displayName": "Carlos Arellano",
      "userId": "03055712073717640513"
     },
     "user_tz": 360
    },
    "id": "tKGffB73GZmX",
    "outputId": "14ea9335-533d-4d8d-8007-c3e264c2f459"
   },
   "outputs": [
    {
     "data": {
      "text/plain": [
       "18.2"
      ]
     },
     "execution_count": 14,
     "metadata": {},
     "output_type": "execute_result"
    }
   ],
   "source": [
    "0.2*n\n"
   ]
  },
  {
   "cell_type": "code",
   "execution_count": 15,
   "metadata": {
    "colab": {
     "base_uri": "https://localhost:8080/"
    },
    "executionInfo": {
     "elapsed": 128,
     "status": "ok",
     "timestamp": 1678847384578,
     "user": {
      "displayName": "Carlos Arellano",
      "userId": "03055712073717640513"
     },
     "user_tz": 360
    },
    "id": "qMxeSCPSGddH",
    "outputId": "5c60c54f-446b-47da-9b97-318444d196ea"
   },
   "outputs": [
    {
     "data": {
      "text/plain": [
       "448.0"
      ]
     },
     "execution_count": 15,
     "metadata": {},
     "output_type": "execute_result"
    }
   ],
   "source": [
    "0.8*N_obs"
   ]
  },
  {
   "cell_type": "code",
   "execution_count": 16,
   "metadata": {},
   "outputs": [
    {
     "data": {
      "text/plain": [
       "EGY     33\n",
       "CAN     64\n",
       "JPN     93\n",
       "FIN    120\n",
       "ITA    147\n",
       "      ... \n",
       "MDV    556\n",
       "PNG    557\n",
       "MHL    558\n",
       "SVN    559\n",
       "UKR    560\n",
       "Name: Países, Length: 91, dtype: int64"
      ]
     },
     "execution_count": 16,
     "metadata": {},
     "output_type": "execute_result"
    }
   ],
   "source": [
    "cs=vc.cumsum()\n",
    "cs"
   ]
  },
  {
   "cell_type": "code",
   "execution_count": 17,
   "metadata": {
    "colab": {
     "base_uri": "https://localhost:8080/",
     "height": 351
    },
    "executionInfo": {
     "elapsed": 1146,
     "status": "ok",
     "timestamp": 1678847780874,
     "user": {
      "displayName": "Carlos Arellano",
      "userId": "03055712073717640513"
     },
     "user_tz": 360
    },
    "id": "WeTAUPW7GhpP",
    "outputId": "c009af65-20b9-41dd-d30c-089d05628936"
   },
   "outputs": [
    {
     "data": {
      "text/plain": [
       "<AxesSubplot:>"
      ]
     },
     "execution_count": 17,
     "metadata": {},
     "output_type": "execute_result"
    },
    {
     "data": {
      "image/png": "[encoded data removed]",
      "text/plain": [
       "<Figure size 1080x360 with 1 Axes>"
      ]
     },
     "metadata": {
      "needs_background": "light"
     },
     "output_type": "display_data"
    }
   ],
   "source": [
    "cs=vc.cumsum()\n",
    "(cs/N_obs).plot(grid=True,figsize=(15,5),xticks=range(n),rot=90)"
   ]
  },
  {
   "cell_type": "code",
   "execution_count": 18,
   "metadata": {
    "colab": {
     "base_uri": "https://localhost:8080/"
    },
    "executionInfo": {
     "elapsed": 125,
     "status": "ok",
     "timestamp": 1678847887502,
     "user": {
      "displayName": "Carlos Arellano",
      "userId": "03055712073717640513"
     },
     "user_tz": 360
    },
    "id": "IznOQ4CkHBHD",
    "outputId": "f209cb5c-1bcc-48b7-8f9e-765a2258199d"
   },
   "outputs": [
    {
     "data": {
      "text/plain": [
       "19"
      ]
     },
     "execution_count": 18,
     "metadata": {},
     "output_type": "execute_result"
    }
   ],
   "source": [
    "np.where(cs/N_obs>0.8)[0][0] # índice 19, 20 categorías"
   ]
  },
  {
   "cell_type": "code",
   "execution_count": 19,
   "metadata": {
    "colab": {
     "base_uri": "https://localhost:8080/"
    },
    "executionInfo": {
     "elapsed": 137,
     "status": "ok",
     "timestamp": 1678847958982,
     "user": {
      "displayName": "Carlos Arellano",
      "userId": "03055712073717640513"
     },
     "user_tz": 360
    },
    "id": "9Av83WBuIcbq",
    "outputId": "1a52ce7a-d1e0-4f95-8401-cfa18e81c6e7"
   },
   "outputs": [
    {
     "data": {
      "text/plain": [
       "0.8160714285714286"
      ]
     },
     "execution_count": 19,
     "metadata": {},
     "output_type": "execute_result"
    }
   ],
   "source": [
    "cs[19]/N_obs # 20 categorías generan el 81.6% de las observaciones"
   ]
  },
  {
   "cell_type": "code",
   "execution_count": 20,
   "metadata": {
    "colab": {
     "base_uri": "https://localhost:8080/"
    },
    "executionInfo": {
     "elapsed": 149,
     "status": "ok",
     "timestamp": 1678848020027,
     "user": {
      "displayName": "Carlos Arellano",
      "userId": "03055712073717640513"
     },
     "user_tz": 360
    },
    "id": "-muSyoCuIt5w",
    "outputId": "c0f2584a-24a1-499e-b705-8e8e5f3f304c"
   },
   "outputs": [
    {
     "data": {
      "text/plain": [
       "0.7892857142857143"
      ]
     },
     "execution_count": 20,
     "metadata": {},
     "output_type": "execute_result"
    }
   ],
   "source": [
    "cs[18]/N_obs # 19 categorías generan el 78.9% de las observaciones"
   ]
  },
  {
   "cell_type": "markdown",
   "metadata": {},
   "source": [
    "# Feature hashing (Hashing trick)\n"
   ]
  },
  {
   "cell_type": "code",
   "execution_count": 21,
   "metadata": {},
   "outputs": [
    {
     "data": {
      "text/plain": [
       "EGY    33\n",
       "CAN    31\n",
       "JPN    29\n",
       "FIN    27\n",
       "ITA    27\n",
       "       ..\n",
       "MDV     1\n",
       "PNG     1\n",
       "MHL     1\n",
       "SVN     1\n",
       "UKR     1\n",
       "Name: Países, Length: 91, dtype: int64"
      ]
     },
     "execution_count": 21,
     "metadata": {},
     "output_type": "execute_result"
    }
   ],
   "source": [
    "vc"
   ]
  },
  {
   "cell_type": "code",
   "execution_count": 22,
   "metadata": {},
   "outputs": [
    {
     "data": {
      "text/plain": [
       "91"
      ]
     },
     "execution_count": 22,
     "metadata": {},
     "output_type": "execute_result"
    }
   ],
   "source": [
    "n"
   ]
  },
  {
   "cell_type": "code",
   "execution_count": 23,
   "metadata": {
    "collapsed": true,
    "id": "p8CyG9ZWI8yH"
   },
   "outputs": [
    {
     "data": {
      "text/plain": [
       "{'EGY': 0,\n",
       " 'CAN': 1,\n",
       " 'JPN': 2,\n",
       " 'FIN': 3,\n",
       " 'ITA': 4,\n",
       " 'FRA': 5,\n",
       " 'PRT': 6,\n",
       " 'CZE': 7,\n",
       " 'USA': 8,\n",
       " 'ESP': 9,\n",
       " 'NLD': 10,\n",
       " 'DEU': 11,\n",
       " 'PHL': 12,\n",
       " 'KOR': 13,\n",
       " 'MEX': 14,\n",
       " 'CHE': 15,\n",
       " 'AUS': 16,\n",
       " 'RUS': 17,\n",
       " 'SWE': 18,\n",
       " 'POL': 19,\n",
       " 'CHN': 20,\n",
       " 'COL': 21,\n",
       " 'BHS': 22,\n",
       " 'EST': 23,\n",
       " 'CIV': 24,\n",
       " 'COG': 25,\n",
       " 'VUT': 26,\n",
       " 'TUV': 27,\n",
       " 'CYP': 28,\n",
       " 'BEN': 29,\n",
       " 'CAF': 30,\n",
       " 'SYC': 31,\n",
       " 'GIN': 32,\n",
       " 'NIU': 33,\n",
       " 'CUB': 34,\n",
       " 'GMB': 35,\n",
       " 'BOL': 36,\n",
       " 'ALB': 37,\n",
       " 'GEO': 38,\n",
       " 'SDN': 39,\n",
       " 'PER': 40,\n",
       " 'PRY': 41,\n",
       " 'TUR': 42,\n",
       " 'LBN': 43,\n",
       " 'UGA': 44,\n",
       " 'NER': 45,\n",
       " 'FJI': 46,\n",
       " 'MYS': 47,\n",
       " 'SAU': 48,\n",
       " 'TKL': 49,\n",
       " 'LTU': 50,\n",
       " 'GNQ': 51,\n",
       " 'BLR': 52,\n",
       " 'BIH': 53,\n",
       " 'JOR': 54,\n",
       " 'SMR': 55,\n",
       " 'MNE': 56,\n",
       " 'GNB': 57,\n",
       " 'TGO': 58,\n",
       " 'OMN': 59,\n",
       " 'SLV': 60,\n",
       " 'CPV': 61,\n",
       " 'BLZ': 62,\n",
       " 'MAR': 63,\n",
       " 'AND': 64,\n",
       " 'SOM': 65,\n",
       " 'AUT': 66,\n",
       " 'HRV': 67,\n",
       " 'BTN': 68,\n",
       " 'SEN': 69,\n",
       " 'ECU': 70,\n",
       " 'LCA': 71,\n",
       " 'BEL': 72,\n",
       " 'NOR': 73,\n",
       " 'GRC': 74,\n",
       " 'TCD': 75,\n",
       " 'KEN': 76,\n",
       " 'IRN': 77,\n",
       " 'ZAF': 78,\n",
       " 'DNK': 79,\n",
       " 'PAK': 80,\n",
       " 'SVK': 81,\n",
       " 'LSO': 82,\n",
       " 'RWA': 83,\n",
       " 'ARE': 84,\n",
       " 'GRD': 85,\n",
       " 'MDV': 86,\n",
       " 'PNG': 87,\n",
       " 'MHL': 88,\n",
       " 'SVN': 89,\n",
       " 'UKR': 90}"
      ]
     },
     "execution_count": 23,
     "metadata": {},
     "output_type": "execute_result"
    }
   ],
   "source": [
    "m=20\n",
    "key={categorias:id for categorias,id in zip(vc.index,range(n))}\n",
    "key"
   ]
  },
  {
   "cell_type": "code",
   "execution_count": 24,
   "metadata": {},
   "outputs": [
    {
     "data": {
      "text/plain": [
       "[0, 0, 0, 0, 0, 0, 0, 0, 0, 0, 0, 0, 0, 0, 0, 0, 0, 0, 0, 0]"
      ]
     },
     "execution_count": 24,
     "metadata": {},
     "output_type": "execute_result"
    }
   ],
   "source": [
    "[0]*m"
   ]
  },
  {
   "cell_type": "code",
   "execution_count": 25,
   "metadata": {},
   "outputs": [
    {
     "data": {
      "text/html": [
       "<div>\n",
       "<style scoped>\n",
       "    .dataframe tbody tr th:only-of-type {\n",
       "        vertical-align: middle;\n",
       "    }\n",
       "\n",
       "    .dataframe tbody tr th {\n",
       "        vertical-align: top;\n",
       "    }\n",
       "\n",
       "    .dataframe thead th {\n",
       "        text-align: right;\n",
       "    }\n",
       "</style>\n",
       "<table border=\"1\" class=\"dataframe\">\n",
       "  <thead>\n",
       "    <tr style=\"text-align: right;\">\n",
       "      <th></th>\n",
       "      <th>Países</th>\n",
       "    </tr>\n",
       "  </thead>\n",
       "  <tbody>\n",
       "    <tr>\n",
       "      <th>0</th>\n",
       "      <td>MEX</td>\n",
       "    </tr>\n",
       "    <tr>\n",
       "      <th>1</th>\n",
       "      <td>CHN</td>\n",
       "    </tr>\n",
       "    <tr>\n",
       "      <th>2</th>\n",
       "      <td>CAN</td>\n",
       "    </tr>\n",
       "    <tr>\n",
       "      <th>3</th>\n",
       "      <td>POL</td>\n",
       "    </tr>\n",
       "    <tr>\n",
       "      <th>4</th>\n",
       "      <td>CPV</td>\n",
       "    </tr>\n",
       "    <tr>\n",
       "      <th>...</th>\n",
       "      <td>...</td>\n",
       "    </tr>\n",
       "    <tr>\n",
       "      <th>555</th>\n",
       "      <td>UKR</td>\n",
       "    </tr>\n",
       "    <tr>\n",
       "      <th>556</th>\n",
       "      <td>EGY</td>\n",
       "    </tr>\n",
       "    <tr>\n",
       "      <th>557</th>\n",
       "      <td>CHE</td>\n",
       "    </tr>\n",
       "    <tr>\n",
       "      <th>558</th>\n",
       "      <td>FRA</td>\n",
       "    </tr>\n",
       "    <tr>\n",
       "      <th>559</th>\n",
       "      <td>FRA</td>\n",
       "    </tr>\n",
       "  </tbody>\n",
       "</table>\n",
       "<p>560 rows × 1 columns</p>\n",
       "</div>"
      ],
      "text/plain": [
       "    Países\n",
       "0      MEX\n",
       "1      CHN\n",
       "2      CAN\n",
       "3      POL\n",
       "4      CPV\n",
       "..     ...\n",
       "555    UKR\n",
       "556    EGY\n",
       "557    CHE\n",
       "558    FRA\n",
       "559    FRA\n",
       "\n",
       "[560 rows x 1 columns]"
      ]
     },
     "execution_count": 25,
     "metadata": {},
     "output_type": "execute_result"
    }
   ],
   "source": [
    "df"
   ]
  },
  {
   "cell_type": "code",
   "execution_count": 26,
   "metadata": {
    "id": "FCcNEypNKfj5"
   },
   "outputs": [
    {
     "data": {
      "text/plain": [
       "[51,\n",
       " 44,\n",
       " 35,\n",
       " 32,\n",
       " 32,\n",
       " 32,\n",
       " 30,\n",
       " 30,\n",
       " 28,\n",
       " 28,\n",
       " 25,\n",
       " 23,\n",
       " 23,\n",
       " 22,\n",
       " 22,\n",
       " 22,\n",
       " 22,\n",
       " 21,\n",
       " 20,\n",
       " 18]"
      ]
     },
     "execution_count": 26,
     "metadata": {},
     "output_type": "execute_result"
    }
   ],
   "source": [
    "# Función Hash tomando en cuenta la frecuencia\n",
    "cnt=[0]*m\n",
    "for obs in df.Países:\n",
    "    i=key[obs]%m\n",
    "    cnt[i]+=1\n",
    "cnt"
   ]
  },
  {
   "cell_type": "code",
   "execution_count": 28,
   "metadata": {},
   "outputs": [
    {
     "data": {
      "text/plain": [
       "{'EGY': 51,\n",
       " 'CAN': 44,\n",
       " 'JPN': 35,\n",
       " 'FIN': 32,\n",
       " 'ITA': 32,\n",
       " 'FRA': 32,\n",
       " 'PRT': 30,\n",
       " 'CZE': 30,\n",
       " 'USA': 28,\n",
       " 'ESP': 28,\n",
       " 'NLD': 25,\n",
       " 'DEU': 23,\n",
       " 'PHL': 23,\n",
       " 'KOR': 22,\n",
       " 'MEX': 22,\n",
       " 'CHE': 22,\n",
       " 'AUS': 22,\n",
       " 'RUS': 21,\n",
       " 'SWE': 20,\n",
       " 'POL': 18,\n",
       " 'CHN': 51,\n",
       " 'COL': 44,\n",
       " 'BHS': 35,\n",
       " 'EST': 32,\n",
       " 'CIV': 32,\n",
       " 'COG': 32,\n",
       " 'VUT': 30,\n",
       " 'TUV': 30,\n",
       " 'CYP': 28,\n",
       " 'BEN': 28,\n",
       " 'CAF': 25,\n",
       " 'SYC': 23,\n",
       " 'GIN': 23,\n",
       " 'NIU': 22,\n",
       " 'CUB': 22,\n",
       " 'GMB': 22,\n",
       " 'BOL': 22,\n",
       " 'ALB': 21,\n",
       " 'GEO': 20,\n",
       " 'SDN': 18,\n",
       " 'PER': 51,\n",
       " 'PRY': 44,\n",
       " 'TUR': 35,\n",
       " 'LBN': 32,\n",
       " 'UGA': 32,\n",
       " 'NER': 32,\n",
       " 'FJI': 30,\n",
       " 'MYS': 30,\n",
       " 'SAU': 28,\n",
       " 'TKL': 28,\n",
       " 'LTU': 25,\n",
       " 'GNQ': 23,\n",
       " 'BLR': 23,\n",
       " 'BIH': 22,\n",
       " 'JOR': 22,\n",
       " 'SMR': 22,\n",
       " 'MNE': 22,\n",
       " 'GNB': 21,\n",
       " 'TGO': 20,\n",
       " 'OMN': 18,\n",
       " 'SLV': 51,\n",
       " 'CPV': 44,\n",
       " 'BLZ': 35,\n",
       " 'MAR': 32,\n",
       " 'AND': 32,\n",
       " 'SOM': 32,\n",
       " 'AUT': 30,\n",
       " 'HRV': 30,\n",
       " 'BTN': 28,\n",
       " 'SEN': 28,\n",
       " 'ECU': 25,\n",
       " 'LCA': 23,\n",
       " 'BEL': 23,\n",
       " 'NOR': 22,\n",
       " 'GRC': 22,\n",
       " 'TCD': 22,\n",
       " 'KEN': 22,\n",
       " 'IRN': 21,\n",
       " 'ZAF': 20,\n",
       " 'DNK': 18,\n",
       " 'PAK': 51,\n",
       " 'SVK': 44,\n",
       " 'LSO': 35,\n",
       " 'RWA': 32,\n",
       " 'ARE': 32,\n",
       " 'GRD': 32,\n",
       " 'MDV': 30,\n",
       " 'PNG': 30,\n",
       " 'MHL': 28,\n",
       " 'SVN': 28,\n",
       " 'UKR': 25}"
      ]
     },
     "execution_count": 28,
     "metadata": {},
     "output_type": "execute_result"
    }
   ],
   "source": [
    "hash_cod = {pais:cnt[ID%m] for pais,ID in key.items()}\n",
    "hash_cod"
   ]
  },
  {
   "cell_type": "code",
   "execution_count": 29,
   "metadata": {},
   "outputs": [
    {
     "data": {
      "text/html": [
       "<div>\n",
       "<style scoped>\n",
       "    .dataframe tbody tr th:only-of-type {\n",
       "        vertical-align: middle;\n",
       "    }\n",
       "\n",
       "    .dataframe tbody tr th {\n",
       "        vertical-align: top;\n",
       "    }\n",
       "\n",
       "    .dataframe thead th {\n",
       "        text-align: right;\n",
       "    }\n",
       "</style>\n",
       "<table border=\"1\" class=\"dataframe\">\n",
       "  <thead>\n",
       "    <tr style=\"text-align: right;\">\n",
       "      <th></th>\n",
       "      <th>Países</th>\n",
       "      <th>hash_1</th>\n",
       "    </tr>\n",
       "  </thead>\n",
       "  <tbody>\n",
       "    <tr>\n",
       "      <th>0</th>\n",
       "      <td>MEX</td>\n",
       "      <td>22</td>\n",
       "    </tr>\n",
       "    <tr>\n",
       "      <th>1</th>\n",
       "      <td>CHN</td>\n",
       "      <td>51</td>\n",
       "    </tr>\n",
       "    <tr>\n",
       "      <th>2</th>\n",
       "      <td>CAN</td>\n",
       "      <td>44</td>\n",
       "    </tr>\n",
       "    <tr>\n",
       "      <th>3</th>\n",
       "      <td>POL</td>\n",
       "      <td>18</td>\n",
       "    </tr>\n",
       "    <tr>\n",
       "      <th>4</th>\n",
       "      <td>CPV</td>\n",
       "      <td>44</td>\n",
       "    </tr>\n",
       "    <tr>\n",
       "      <th>...</th>\n",
       "      <td>...</td>\n",
       "      <td>...</td>\n",
       "    </tr>\n",
       "    <tr>\n",
       "      <th>555</th>\n",
       "      <td>UKR</td>\n",
       "      <td>25</td>\n",
       "    </tr>\n",
       "    <tr>\n",
       "      <th>556</th>\n",
       "      <td>EGY</td>\n",
       "      <td>51</td>\n",
       "    </tr>\n",
       "    <tr>\n",
       "      <th>557</th>\n",
       "      <td>CHE</td>\n",
       "      <td>22</td>\n",
       "    </tr>\n",
       "    <tr>\n",
       "      <th>558</th>\n",
       "      <td>FRA</td>\n",
       "      <td>32</td>\n",
       "    </tr>\n",
       "    <tr>\n",
       "      <th>559</th>\n",
       "      <td>FRA</td>\n",
       "      <td>32</td>\n",
       "    </tr>\n",
       "  </tbody>\n",
       "</table>\n",
       "<p>560 rows × 2 columns</p>\n",
       "</div>"
      ],
      "text/plain": [
       "    Países  hash_1\n",
       "0      MEX      22\n",
       "1      CHN      51\n",
       "2      CAN      44\n",
       "3      POL      18\n",
       "4      CPV      44\n",
       "..     ...     ...\n",
       "555    UKR      25\n",
       "556    EGY      51\n",
       "557    CHE      22\n",
       "558    FRA      32\n",
       "559    FRA      32\n",
       "\n",
       "[560 rows x 2 columns]"
      ]
     },
     "execution_count": 29,
     "metadata": {},
     "output_type": "execute_result"
    }
   ],
   "source": [
    "df['hash_1']=df['Países'].map(hash_cod)\n",
    "df"
   ]
  },
  {
   "cell_type": "code",
   "execution_count": 30,
   "metadata": {
    "id": "XNZetwoQLVXk"
   },
   "outputs": [
    {
     "data": {
      "text/plain": [
       "{'MEX': 0,\n",
       " 'CHN': 1,\n",
       " 'CAN': 2,\n",
       " 'POL': 3,\n",
       " 'CPV': 4,\n",
       " 'PHL': 5,\n",
       " 'EGY': 6,\n",
       " 'FIN': 7,\n",
       " 'ITA': 8,\n",
       " 'AUS': 9,\n",
       " 'CZE': 10,\n",
       " 'BLZ': 11,\n",
       " 'FRA': 12,\n",
       " 'RUS': 13,\n",
       " 'MAR': 14,\n",
       " 'ESP': 15,\n",
       " 'CIV': 16,\n",
       " 'AND': 17,\n",
       " 'SOM': 18,\n",
       " 'CHE': 19,\n",
       " 'AUT': 20,\n",
       " 'BHS': 21,\n",
       " 'JPN': 22,\n",
       " 'PRT': 23,\n",
       " 'KOR': 24,\n",
       " 'COL': 25,\n",
       " 'USA': 26,\n",
       " 'NLD': 27,\n",
       " 'HRV': 28,\n",
       " 'SWE': 29,\n",
       " 'DEU': 30,\n",
       " 'BEN': 31,\n",
       " 'BTN': 32,\n",
       " 'SEN': 33,\n",
       " 'ECU': 34,\n",
       " 'LCA': 35,\n",
       " 'BEL': 36,\n",
       " 'NOR': 37,\n",
       " 'GRC': 38,\n",
       " 'TCD': 39,\n",
       " 'KEN': 40,\n",
       " 'IRN': 41,\n",
       " 'CYP': 42,\n",
       " 'ZAF': 43,\n",
       " 'DNK': 44,\n",
       " 'TGO': 45,\n",
       " 'PAK': 46,\n",
       " 'SVK': 47,\n",
       " 'LSO': 48,\n",
       " 'RWA': 49,\n",
       " 'ARE': 50,\n",
       " 'GRD': 51,\n",
       " 'MDV': 52,\n",
       " 'PNG': 53,\n",
       " 'MHL': 54,\n",
       " 'SVN': 55,\n",
       " 'SLV': 56,\n",
       " 'OMN': 57,\n",
       " 'TUV': 58,\n",
       " 'GNB': 59,\n",
       " 'PER': 60,\n",
       " 'SDN': 61,\n",
       " 'GEO': 62,\n",
       " 'ALB': 63,\n",
       " 'BOL': 64,\n",
       " 'GMB': 65,\n",
       " 'CUB': 66,\n",
       " 'GIN': 67,\n",
       " 'VUT': 68,\n",
       " 'COG': 69,\n",
       " 'SYC': 70,\n",
       " 'CAF': 71,\n",
       " 'PRY': 72,\n",
       " 'LBN': 73,\n",
       " 'UGA': 74,\n",
       " 'NER': 75,\n",
       " 'TUR': 76,\n",
       " 'MYS': 77,\n",
       " 'SAU': 78,\n",
       " 'TKL': 79,\n",
       " 'EST': 80,\n",
       " 'LTU': 81,\n",
       " 'GNQ': 82,\n",
       " 'BLR': 83,\n",
       " 'FJI': 84,\n",
       " 'NIU': 85,\n",
       " 'MNE': 86,\n",
       " 'SMR': 87,\n",
       " 'JOR': 88,\n",
       " 'BIH': 89,\n",
       " 'UKR': 90}"
      ]
     },
     "execution_count": 30,
     "metadata": {},
     "output_type": "execute_result"
    }
   ],
   "source": [
    "key2={categorias:id for categorias,id in zip(df.Países.unique(),range(n))}\n",
    "key2"
   ]
  },
  {
   "cell_type": "code",
   "execution_count": 31,
   "metadata": {
    "colab": {
     "base_uri": "https://localhost:8080/"
    },
    "executionInfo": {
     "elapsed": 116,
     "status": "ok",
     "timestamp": 1678848929032,
     "user": {
      "displayName": "Carlos Arellano",
      "userId": "03055712073717640513"
     },
     "user_tz": 360
    },
    "id": "_KRFVjavMCbL",
    "outputId": "50a83557-7cb6-44d5-c837-a6c20218f3f3"
   },
   "outputs": [
    {
     "data": {
      "text/plain": [
       "[24, 21, 64, 43, 23, 33, 59, 51, 32, 40, 48, 5, 30, 21, 4, 26, 5, 4, 5, 22]"
      ]
     },
     "execution_count": 31,
     "metadata": {},
     "output_type": "execute_result"
    }
   ],
   "source": [
    "# Otra función hash\n",
    "cnt=[0]*m\n",
    "for obs in df.Países:\n",
    "    i=key2[obs]%m\n",
    "    cnt[i]+=1\n",
    "cnt"
   ]
  },
  {
   "cell_type": "code",
   "execution_count": 32,
   "metadata": {},
   "outputs": [
    {
     "data": {
      "text/plain": [
       "{'MEX': 24,\n",
       " 'CHN': 21,\n",
       " 'CAN': 64,\n",
       " 'POL': 43,\n",
       " 'CPV': 23,\n",
       " 'PHL': 33,\n",
       " 'EGY': 59,\n",
       " 'FIN': 51,\n",
       " 'ITA': 32,\n",
       " 'AUS': 40,\n",
       " 'CZE': 48,\n",
       " 'BLZ': 5,\n",
       " 'FRA': 30,\n",
       " 'RUS': 21,\n",
       " 'MAR': 4,\n",
       " 'ESP': 26,\n",
       " 'CIV': 5,\n",
       " 'AND': 4,\n",
       " 'SOM': 5,\n",
       " 'CHE': 22,\n",
       " 'AUT': 24,\n",
       " 'BHS': 21,\n",
       " 'JPN': 64,\n",
       " 'PRT': 43,\n",
       " 'KOR': 23,\n",
       " 'COL': 33,\n",
       " 'USA': 59,\n",
       " 'NLD': 51,\n",
       " 'HRV': 32,\n",
       " 'SWE': 40,\n",
       " 'DEU': 48,\n",
       " 'BEN': 5,\n",
       " 'BTN': 30,\n",
       " 'SEN': 21,\n",
       " 'ECU': 4,\n",
       " 'LCA': 26,\n",
       " 'BEL': 5,\n",
       " 'NOR': 4,\n",
       " 'GRC': 5,\n",
       " 'TCD': 22,\n",
       " 'KEN': 24,\n",
       " 'IRN': 21,\n",
       " 'CYP': 64,\n",
       " 'ZAF': 43,\n",
       " 'DNK': 23,\n",
       " 'TGO': 33,\n",
       " 'PAK': 59,\n",
       " 'SVK': 51,\n",
       " 'LSO': 32,\n",
       " 'RWA': 40,\n",
       " 'ARE': 48,\n",
       " 'GRD': 5,\n",
       " 'MDV': 30,\n",
       " 'PNG': 21,\n",
       " 'MHL': 4,\n",
       " 'SVN': 26,\n",
       " 'SLV': 5,\n",
       " 'OMN': 4,\n",
       " 'TUV': 5,\n",
       " 'GNB': 22,\n",
       " 'PER': 24,\n",
       " 'SDN': 21,\n",
       " 'GEO': 64,\n",
       " 'ALB': 43,\n",
       " 'BOL': 23,\n",
       " 'GMB': 33,\n",
       " 'CUB': 59,\n",
       " 'GIN': 51,\n",
       " 'VUT': 32,\n",
       " 'COG': 40,\n",
       " 'SYC': 48,\n",
       " 'CAF': 5,\n",
       " 'PRY': 30,\n",
       " 'LBN': 21,\n",
       " 'UGA': 4,\n",
       " 'NER': 26,\n",
       " 'TUR': 5,\n",
       " 'MYS': 4,\n",
       " 'SAU': 5,\n",
       " 'TKL': 22,\n",
       " 'EST': 24,\n",
       " 'LTU': 21,\n",
       " 'GNQ': 64,\n",
       " 'BLR': 43,\n",
       " 'FJI': 23,\n",
       " 'NIU': 33,\n",
       " 'MNE': 59,\n",
       " 'SMR': 51,\n",
       " 'JOR': 32,\n",
       " 'BIH': 40,\n",
       " 'UKR': 48}"
      ]
     },
     "execution_count": 32,
     "metadata": {},
     "output_type": "execute_result"
    }
   ],
   "source": [
    "hash_cod2 = {pais:cnt[ID%m] for pais,ID in key2.items()}\n",
    "hash_cod2\n"
   ]
  },
  {
   "cell_type": "code",
   "execution_count": 33,
   "metadata": {},
   "outputs": [
    {
     "data": {
      "text/html": [
       "<div>\n",
       "<style scoped>\n",
       "    .dataframe tbody tr th:only-of-type {\n",
       "        vertical-align: middle;\n",
       "    }\n",
       "\n",
       "    .dataframe tbody tr th {\n",
       "        vertical-align: top;\n",
       "    }\n",
       "\n",
       "    .dataframe thead th {\n",
       "        text-align: right;\n",
       "    }\n",
       "</style>\n",
       "<table border=\"1\" class=\"dataframe\">\n",
       "  <thead>\n",
       "    <tr style=\"text-align: right;\">\n",
       "      <th></th>\n",
       "      <th>Países</th>\n",
       "      <th>hash_1</th>\n",
       "      <th>hash_2</th>\n",
       "    </tr>\n",
       "  </thead>\n",
       "  <tbody>\n",
       "    <tr>\n",
       "      <th>0</th>\n",
       "      <td>MEX</td>\n",
       "      <td>22</td>\n",
       "      <td>24</td>\n",
       "    </tr>\n",
       "    <tr>\n",
       "      <th>1</th>\n",
       "      <td>CHN</td>\n",
       "      <td>51</td>\n",
       "      <td>21</td>\n",
       "    </tr>\n",
       "    <tr>\n",
       "      <th>2</th>\n",
       "      <td>CAN</td>\n",
       "      <td>44</td>\n",
       "      <td>64</td>\n",
       "    </tr>\n",
       "    <tr>\n",
       "      <th>3</th>\n",
       "      <td>POL</td>\n",
       "      <td>18</td>\n",
       "      <td>43</td>\n",
       "    </tr>\n",
       "    <tr>\n",
       "      <th>4</th>\n",
       "      <td>CPV</td>\n",
       "      <td>44</td>\n",
       "      <td>23</td>\n",
       "    </tr>\n",
       "    <tr>\n",
       "      <th>...</th>\n",
       "      <td>...</td>\n",
       "      <td>...</td>\n",
       "      <td>...</td>\n",
       "    </tr>\n",
       "    <tr>\n",
       "      <th>555</th>\n",
       "      <td>UKR</td>\n",
       "      <td>25</td>\n",
       "      <td>48</td>\n",
       "    </tr>\n",
       "    <tr>\n",
       "      <th>556</th>\n",
       "      <td>EGY</td>\n",
       "      <td>51</td>\n",
       "      <td>59</td>\n",
       "    </tr>\n",
       "    <tr>\n",
       "      <th>557</th>\n",
       "      <td>CHE</td>\n",
       "      <td>22</td>\n",
       "      <td>22</td>\n",
       "    </tr>\n",
       "    <tr>\n",
       "      <th>558</th>\n",
       "      <td>FRA</td>\n",
       "      <td>32</td>\n",
       "      <td>30</td>\n",
       "    </tr>\n",
       "    <tr>\n",
       "      <th>559</th>\n",
       "      <td>FRA</td>\n",
       "      <td>32</td>\n",
       "      <td>30</td>\n",
       "    </tr>\n",
       "  </tbody>\n",
       "</table>\n",
       "<p>560 rows × 3 columns</p>\n",
       "</div>"
      ],
      "text/plain": [
       "    Países  hash_1  hash_2\n",
       "0      MEX      22      24\n",
       "1      CHN      51      21\n",
       "2      CAN      44      64\n",
       "3      POL      18      43\n",
       "4      CPV      44      23\n",
       "..     ...     ...     ...\n",
       "555    UKR      25      48\n",
       "556    EGY      51      59\n",
       "557    CHE      22      22\n",
       "558    FRA      32      30\n",
       "559    FRA      32      30\n",
       "\n",
       "[560 rows x 3 columns]"
      ]
     },
     "execution_count": 33,
     "metadata": {},
     "output_type": "execute_result"
    }
   ],
   "source": [
    "df['hash_2']=df['Países'].map(hash_cod2)\n",
    "df"
   ]
  },
  {
   "cell_type": "markdown",
   "metadata": {},
   "source": [
    "### Función hash simple (basado en el módulo)"
   ]
  },
  {
   "cell_type": "code",
   "execution_count": null,
   "metadata": {},
   "outputs": [],
   "source": [
    "# Otra función hash\n",
    "cnt=[0]*m\n",
    "for obs in df.Países:\n",
    "    i=key2[obs]%m\n",
    "    cnt[i]+=1\n",
    "cnt"
   ]
  },
  {
   "cell_type": "code",
   "execution_count": 34,
   "metadata": {},
   "outputs": [],
   "source": [
    "def hash_simple(df,col_cat,key,m):\n",
    "    cnt=[0]*m\n",
    "    for obs in df[col_cat]:\n",
    "        i=key[obs]%m\n",
    "        cnt[i]+=1\n",
    "    return cnt\n",
    "    "
   ]
  },
  {
   "cell_type": "code",
   "execution_count": 36,
   "metadata": {},
   "outputs": [
    {
     "data": {
      "text/plain": [
       "[72, 26, 94, 64, 27, 59, 64, 55, 37, 62]"
      ]
     },
     "execution_count": 36,
     "metadata": {},
     "output_type": "execute_result"
    }
   ],
   "source": [
    "hash_simple(df, 'Países', key2, 10)"
   ]
  },
  {
   "cell_type": "code",
   "execution_count": null,
   "metadata": {},
   "outputs": [],
   "source": []
  },
  {
   "cell_type": "code",
   "execution_count": 37,
   "metadata": {
    "executionInfo": {
     "elapsed": 130,
     "status": "ok",
     "timestamp": 1678849218431,
     "user": {
      "displayName": "Carlos Arellano",
      "userId": "03055712073717640513"
     },
     "user_tz": 360
    },
    "id": "D9cUAVRhMpOl"
   },
   "outputs": [],
   "source": [
    "# Función hash MurmurHash3 de 32 bits\n",
    "from sklearn.feature_extraction import FeatureHasher"
   ]
  },
  {
   "cell_type": "code",
   "execution_count": 38,
   "metadata": {},
   "outputs": [
    {
     "data": {
      "text/plain": [
       "20"
      ]
     },
     "execution_count": 38,
     "metadata": {},
     "output_type": "execute_result"
    }
   ],
   "source": [
    "m"
   ]
  },
  {
   "cell_type": "code",
   "execution_count": 39,
   "metadata": {
    "colab": {
     "base_uri": "https://localhost:8080/"
    },
    "executionInfo": {
     "elapsed": 2,
     "status": "ok",
     "timestamp": 1678849346477,
     "user": {
      "displayName": "Carlos Arellano",
      "userId": "03055712073717640513"
     },
     "user_tz": 360
    },
    "id": "2mq5Jm57NhXx",
    "outputId": "e84bfef1-2085-4481-87e6-83eea06c29f0"
   },
   "outputs": [
    {
     "data": {
      "text/plain": [
       "array([[ -98.,   94.,   59.,    7.,   69., -207.,  139.,  -44.,   21.,\n",
       "         -40.,  -38.,  -50.,   29., -251.,  264.,   86.,   19., -208.,\n",
       "         136.,  272.]])"
      ]
     },
     "execution_count": 39,
     "metadata": {},
     "output_type": "execute_result"
    }
   ],
   "source": [
    "fcnHash=FeatureHasher(m)\n",
    "hsh_key = fcnHash.transform([key]).toarray()\n",
    "hsh_key"
   ]
  },
  {
   "cell_type": "code",
   "execution_count": 40,
   "metadata": {
    "colab": {
     "base_uri": "https://localhost:8080/"
    },
    "executionInfo": {
     "elapsed": 146,
     "status": "ok",
     "timestamp": 1678849421087,
     "user": {
      "displayName": "Carlos Arellano",
      "userId": "03055712073717640513"
     },
     "user_tz": 360
    },
    "id": "588eqg15N97n",
    "outputId": "3d2def5d-4767-4d35-bdda-22c39d88ad42"
   },
   "outputs": [
    {
     "data": {
      "text/plain": [
       "array([[ -79.,   60.,  148.,    5.,   -7., -222.,  178.,  -74.,   40.,\n",
       "        -103.,  -18.,  -63.,   85., -112.,  262.,   50.,  -50., -174.,\n",
       "          -5.,  274.]])"
      ]
     },
     "execution_count": 40,
     "metadata": {},
     "output_type": "execute_result"
    }
   ],
   "source": [
    "hsh_key2=fcnHash.transform([key2]).toarray()\n",
    "hsh_key2"
   ]
  },
  {
   "cell_type": "code",
   "execution_count": 43,
   "metadata": {},
   "outputs": [
    {
     "data": {
      "text/plain": [
       "array([ -98.,   94.,   59.,    7.,   69., -207.,  139.,  -44.,   21.,\n",
       "        -40.,  -38.,  -50.,   29., -251.,  264.,   86.,   19., -208.,\n",
       "        136.,  272.])"
      ]
     },
     "execution_count": 43,
     "metadata": {},
     "output_type": "execute_result"
    }
   ],
   "source": [
    "hsh_key[0]"
   ]
  },
  {
   "cell_type": "code",
   "execution_count": 45,
   "metadata": {},
   "outputs": [
    {
     "data": {
      "text/plain": [
       "{'MEX': -98.0,\n",
       " 'CHN': 94.0,\n",
       " 'CAN': 59.0,\n",
       " 'POL': 7.0,\n",
       " 'CPV': 69.0,\n",
       " 'PHL': -207.0,\n",
       " 'EGY': 139.0,\n",
       " 'FIN': -44.0,\n",
       " 'ITA': 21.0,\n",
       " 'AUS': -40.0,\n",
       " 'CZE': -38.0,\n",
       " 'BLZ': -50.0,\n",
       " 'FRA': 29.0,\n",
       " 'RUS': -251.0,\n",
       " 'MAR': 264.0,\n",
       " 'ESP': 86.0,\n",
       " 'CIV': 19.0,\n",
       " 'AND': -208.0,\n",
       " 'SOM': 136.0,\n",
       " 'CHE': 272.0,\n",
       " 'AUT': -98.0,\n",
       " 'BHS': 94.0,\n",
       " 'JPN': 59.0,\n",
       " 'PRT': 7.0,\n",
       " 'KOR': 69.0,\n",
       " 'COL': -207.0,\n",
       " 'USA': 139.0,\n",
       " 'NLD': -44.0,\n",
       " 'HRV': 21.0,\n",
       " 'SWE': -40.0,\n",
       " 'DEU': -38.0,\n",
       " 'BEN': -50.0,\n",
       " 'BTN': 29.0,\n",
       " 'SEN': -251.0,\n",
       " 'ECU': 264.0,\n",
       " 'LCA': 86.0,\n",
       " 'BEL': 19.0,\n",
       " 'NOR': -208.0,\n",
       " 'GRC': 136.0,\n",
       " 'TCD': 272.0,\n",
       " 'KEN': -98.0,\n",
       " 'IRN': 94.0,\n",
       " 'CYP': 59.0,\n",
       " 'ZAF': 7.0,\n",
       " 'DNK': 69.0,\n",
       " 'TGO': -207.0,\n",
       " 'PAK': 139.0,\n",
       " 'SVK': -44.0,\n",
       " 'LSO': 21.0,\n",
       " 'RWA': -40.0,\n",
       " 'ARE': -38.0,\n",
       " 'GRD': -50.0,\n",
       " 'MDV': 29.0,\n",
       " 'PNG': -251.0,\n",
       " 'MHL': 264.0,\n",
       " 'SVN': 86.0,\n",
       " 'SLV': 19.0,\n",
       " 'OMN': -208.0,\n",
       " 'TUV': 136.0,\n",
       " 'GNB': 272.0,\n",
       " 'PER': -98.0,\n",
       " 'SDN': 94.0,\n",
       " 'GEO': 59.0,\n",
       " 'ALB': 7.0,\n",
       " 'BOL': 69.0,\n",
       " 'GMB': -207.0,\n",
       " 'CUB': 139.0,\n",
       " 'GIN': -44.0,\n",
       " 'VUT': 21.0,\n",
       " 'COG': -40.0,\n",
       " 'SYC': -38.0,\n",
       " 'CAF': -50.0,\n",
       " 'PRY': 29.0,\n",
       " 'LBN': -251.0,\n",
       " 'UGA': 264.0,\n",
       " 'NER': 86.0,\n",
       " 'TUR': 19.0,\n",
       " 'MYS': -208.0,\n",
       " 'SAU': 136.0,\n",
       " 'TKL': 272.0,\n",
       " 'EST': -98.0,\n",
       " 'LTU': 94.0,\n",
       " 'GNQ': 59.0,\n",
       " 'BLR': 7.0,\n",
       " 'FJI': 69.0,\n",
       " 'NIU': -207.0,\n",
       " 'MNE': 139.0,\n",
       " 'SMR': -44.0,\n",
       " 'JOR': 21.0,\n",
       " 'BIH': -40.0,\n",
       " 'UKR': -38.0}"
      ]
     },
     "execution_count": 45,
     "metadata": {},
     "output_type": "execute_result"
    }
   ],
   "source": [
    "d_hsh_key = {pais:hsh_key[0][i%m] for pais,i in zip(df['Países'].unique(), range(n))}\n",
    "d_hsh_key"
   ]
  },
  {
   "cell_type": "code",
   "execution_count": 47,
   "metadata": {},
   "outputs": [],
   "source": [
    "df['MurmurHash_key'] = df['Países'].map(d_hsh_key)"
   ]
  },
  {
   "cell_type": "code",
   "execution_count": 48,
   "metadata": {},
   "outputs": [
    {
     "data": {
      "text/html": [
       "<div>\n",
       "<style scoped>\n",
       "    .dataframe tbody tr th:only-of-type {\n",
       "        vertical-align: middle;\n",
       "    }\n",
       "\n",
       "    .dataframe tbody tr th {\n",
       "        vertical-align: top;\n",
       "    }\n",
       "\n",
       "    .dataframe thead th {\n",
       "        text-align: right;\n",
       "    }\n",
       "</style>\n",
       "<table border=\"1\" class=\"dataframe\">\n",
       "  <thead>\n",
       "    <tr style=\"text-align: right;\">\n",
       "      <th></th>\n",
       "      <th>Países</th>\n",
       "      <th>hash_1</th>\n",
       "      <th>hash_2</th>\n",
       "      <th>MurmurHash_key</th>\n",
       "    </tr>\n",
       "  </thead>\n",
       "  <tbody>\n",
       "    <tr>\n",
       "      <th>0</th>\n",
       "      <td>MEX</td>\n",
       "      <td>22</td>\n",
       "      <td>24</td>\n",
       "      <td>-98.0</td>\n",
       "    </tr>\n",
       "    <tr>\n",
       "      <th>1</th>\n",
       "      <td>CHN</td>\n",
       "      <td>51</td>\n",
       "      <td>21</td>\n",
       "      <td>94.0</td>\n",
       "    </tr>\n",
       "    <tr>\n",
       "      <th>2</th>\n",
       "      <td>CAN</td>\n",
       "      <td>44</td>\n",
       "      <td>64</td>\n",
       "      <td>59.0</td>\n",
       "    </tr>\n",
       "    <tr>\n",
       "      <th>3</th>\n",
       "      <td>POL</td>\n",
       "      <td>18</td>\n",
       "      <td>43</td>\n",
       "      <td>7.0</td>\n",
       "    </tr>\n",
       "    <tr>\n",
       "      <th>4</th>\n",
       "      <td>CPV</td>\n",
       "      <td>44</td>\n",
       "      <td>23</td>\n",
       "      <td>69.0</td>\n",
       "    </tr>\n",
       "    <tr>\n",
       "      <th>...</th>\n",
       "      <td>...</td>\n",
       "      <td>...</td>\n",
       "      <td>...</td>\n",
       "      <td>...</td>\n",
       "    </tr>\n",
       "    <tr>\n",
       "      <th>555</th>\n",
       "      <td>UKR</td>\n",
       "      <td>25</td>\n",
       "      <td>48</td>\n",
       "      <td>-38.0</td>\n",
       "    </tr>\n",
       "    <tr>\n",
       "      <th>556</th>\n",
       "      <td>EGY</td>\n",
       "      <td>51</td>\n",
       "      <td>59</td>\n",
       "      <td>139.0</td>\n",
       "    </tr>\n",
       "    <tr>\n",
       "      <th>557</th>\n",
       "      <td>CHE</td>\n",
       "      <td>22</td>\n",
       "      <td>22</td>\n",
       "      <td>272.0</td>\n",
       "    </tr>\n",
       "    <tr>\n",
       "      <th>558</th>\n",
       "      <td>FRA</td>\n",
       "      <td>32</td>\n",
       "      <td>30</td>\n",
       "      <td>29.0</td>\n",
       "    </tr>\n",
       "    <tr>\n",
       "      <th>559</th>\n",
       "      <td>FRA</td>\n",
       "      <td>32</td>\n",
       "      <td>30</td>\n",
       "      <td>29.0</td>\n",
       "    </tr>\n",
       "  </tbody>\n",
       "</table>\n",
       "<p>560 rows × 4 columns</p>\n",
       "</div>"
      ],
      "text/plain": [
       "    Países  hash_1  hash_2  MurmurHash_key\n",
       "0      MEX      22      24           -98.0\n",
       "1      CHN      51      21            94.0\n",
       "2      CAN      44      64            59.0\n",
       "3      POL      18      43             7.0\n",
       "4      CPV      44      23            69.0\n",
       "..     ...     ...     ...             ...\n",
       "555    UKR      25      48           -38.0\n",
       "556    EGY      51      59           139.0\n",
       "557    CHE      22      22           272.0\n",
       "558    FRA      32      30            29.0\n",
       "559    FRA      32      30            29.0\n",
       "\n",
       "[560 rows x 4 columns]"
      ]
     },
     "execution_count": 48,
     "metadata": {},
     "output_type": "execute_result"
    }
   ],
   "source": [
    "df"
   ]
  },
  {
   "cell_type": "code",
   "execution_count": 50,
   "metadata": {},
   "outputs": [
    {
     "data": {
      "text/plain": [
       "{'MEX': -79.0,\n",
       " 'CHN': 60.0,\n",
       " 'CAN': 148.0,\n",
       " 'POL': 5.0,\n",
       " 'CPV': -7.0,\n",
       " 'PHL': -222.0,\n",
       " 'EGY': 178.0,\n",
       " 'FIN': -74.0,\n",
       " 'ITA': 40.0,\n",
       " 'AUS': -103.0,\n",
       " 'CZE': -18.0,\n",
       " 'BLZ': -63.0,\n",
       " 'FRA': 85.0,\n",
       " 'RUS': -112.0,\n",
       " 'MAR': 262.0,\n",
       " 'ESP': 50.0,\n",
       " 'CIV': -50.0,\n",
       " 'AND': -174.0,\n",
       " 'SOM': -5.0,\n",
       " 'CHE': 274.0,\n",
       " 'AUT': -79.0,\n",
       " 'BHS': 60.0,\n",
       " 'JPN': 148.0,\n",
       " 'PRT': 5.0,\n",
       " 'KOR': -7.0,\n",
       " 'COL': -222.0,\n",
       " 'USA': 178.0,\n",
       " 'NLD': -74.0,\n",
       " 'HRV': 40.0,\n",
       " 'SWE': -103.0,\n",
       " 'DEU': -18.0,\n",
       " 'BEN': -63.0,\n",
       " 'BTN': 85.0,\n",
       " 'SEN': -112.0,\n",
       " 'ECU': 262.0,\n",
       " 'LCA': 50.0,\n",
       " 'BEL': -50.0,\n",
       " 'NOR': -174.0,\n",
       " 'GRC': -5.0,\n",
       " 'TCD': 274.0,\n",
       " 'KEN': -79.0,\n",
       " 'IRN': 60.0,\n",
       " 'CYP': 148.0,\n",
       " 'ZAF': 5.0,\n",
       " 'DNK': -7.0,\n",
       " 'TGO': -222.0,\n",
       " 'PAK': 178.0,\n",
       " 'SVK': -74.0,\n",
       " 'LSO': 40.0,\n",
       " 'RWA': -103.0,\n",
       " 'ARE': -18.0,\n",
       " 'GRD': -63.0,\n",
       " 'MDV': 85.0,\n",
       " 'PNG': -112.0,\n",
       " 'MHL': 262.0,\n",
       " 'SVN': 50.0,\n",
       " 'SLV': -50.0,\n",
       " 'OMN': -174.0,\n",
       " 'TUV': -5.0,\n",
       " 'GNB': 274.0,\n",
       " 'PER': -79.0,\n",
       " 'SDN': 60.0,\n",
       " 'GEO': 148.0,\n",
       " 'ALB': 5.0,\n",
       " 'BOL': -7.0,\n",
       " 'GMB': -222.0,\n",
       " 'CUB': 178.0,\n",
       " 'GIN': -74.0,\n",
       " 'VUT': 40.0,\n",
       " 'COG': -103.0,\n",
       " 'SYC': -18.0,\n",
       " 'CAF': -63.0,\n",
       " 'PRY': 85.0,\n",
       " 'LBN': -112.0,\n",
       " 'UGA': 262.0,\n",
       " 'NER': 50.0,\n",
       " 'TUR': -50.0,\n",
       " 'MYS': -174.0,\n",
       " 'SAU': -5.0,\n",
       " 'TKL': 274.0,\n",
       " 'EST': -79.0,\n",
       " 'LTU': 60.0,\n",
       " 'GNQ': 148.0,\n",
       " 'BLR': 5.0,\n",
       " 'FJI': -7.0,\n",
       " 'NIU': -222.0,\n",
       " 'MNE': 178.0,\n",
       " 'SMR': -74.0,\n",
       " 'JOR': 40.0,\n",
       " 'BIH': -103.0,\n",
       " 'UKR': -18.0}"
      ]
     },
     "execution_count": 50,
     "metadata": {},
     "output_type": "execute_result"
    }
   ],
   "source": [
    "d_hsh_key2 = {pais:hsh_key2[0][i%m] for pais,i in zip(df['Países'].unique(), range(n))}\n",
    "d_hsh_key2"
   ]
  },
  {
   "cell_type": "code",
   "execution_count": 51,
   "metadata": {},
   "outputs": [],
   "source": [
    "df['MurmurHash_key2'] = df['Países'].map(d_hsh_key2)"
   ]
  },
  {
   "cell_type": "code",
   "execution_count": 52,
   "metadata": {},
   "outputs": [
    {
     "data": {
      "text/html": [
       "<div>\n",
       "<style scoped>\n",
       "    .dataframe tbody tr th:only-of-type {\n",
       "        vertical-align: middle;\n",
       "    }\n",
       "\n",
       "    .dataframe tbody tr th {\n",
       "        vertical-align: top;\n",
       "    }\n",
       "\n",
       "    .dataframe thead th {\n",
       "        text-align: right;\n",
       "    }\n",
       "</style>\n",
       "<table border=\"1\" class=\"dataframe\">\n",
       "  <thead>\n",
       "    <tr style=\"text-align: right;\">\n",
       "      <th></th>\n",
       "      <th>Países</th>\n",
       "      <th>hash_1</th>\n",
       "      <th>hash_2</th>\n",
       "      <th>MurmurHash_key</th>\n",
       "      <th>MurmurHash_key2</th>\n",
       "    </tr>\n",
       "  </thead>\n",
       "  <tbody>\n",
       "    <tr>\n",
       "      <th>0</th>\n",
       "      <td>MEX</td>\n",
       "      <td>22</td>\n",
       "      <td>24</td>\n",
       "      <td>-98.0</td>\n",
       "      <td>-79.0</td>\n",
       "    </tr>\n",
       "    <tr>\n",
       "      <th>1</th>\n",
       "      <td>CHN</td>\n",
       "      <td>51</td>\n",
       "      <td>21</td>\n",
       "      <td>94.0</td>\n",
       "      <td>60.0</td>\n",
       "    </tr>\n",
       "    <tr>\n",
       "      <th>2</th>\n",
       "      <td>CAN</td>\n",
       "      <td>44</td>\n",
       "      <td>64</td>\n",
       "      <td>59.0</td>\n",
       "      <td>148.0</td>\n",
       "    </tr>\n",
       "    <tr>\n",
       "      <th>3</th>\n",
       "      <td>POL</td>\n",
       "      <td>18</td>\n",
       "      <td>43</td>\n",
       "      <td>7.0</td>\n",
       "      <td>5.0</td>\n",
       "    </tr>\n",
       "    <tr>\n",
       "      <th>4</th>\n",
       "      <td>CPV</td>\n",
       "      <td>44</td>\n",
       "      <td>23</td>\n",
       "      <td>69.0</td>\n",
       "      <td>-7.0</td>\n",
       "    </tr>\n",
       "    <tr>\n",
       "      <th>...</th>\n",
       "      <td>...</td>\n",
       "      <td>...</td>\n",
       "      <td>...</td>\n",
       "      <td>...</td>\n",
       "      <td>...</td>\n",
       "    </tr>\n",
       "    <tr>\n",
       "      <th>555</th>\n",
       "      <td>UKR</td>\n",
       "      <td>25</td>\n",
       "      <td>48</td>\n",
       "      <td>-38.0</td>\n",
       "      <td>-18.0</td>\n",
       "    </tr>\n",
       "    <tr>\n",
       "      <th>556</th>\n",
       "      <td>EGY</td>\n",
       "      <td>51</td>\n",
       "      <td>59</td>\n",
       "      <td>139.0</td>\n",
       "      <td>178.0</td>\n",
       "    </tr>\n",
       "    <tr>\n",
       "      <th>557</th>\n",
       "      <td>CHE</td>\n",
       "      <td>22</td>\n",
       "      <td>22</td>\n",
       "      <td>272.0</td>\n",
       "      <td>274.0</td>\n",
       "    </tr>\n",
       "    <tr>\n",
       "      <th>558</th>\n",
       "      <td>FRA</td>\n",
       "      <td>32</td>\n",
       "      <td>30</td>\n",
       "      <td>29.0</td>\n",
       "      <td>85.0</td>\n",
       "    </tr>\n",
       "    <tr>\n",
       "      <th>559</th>\n",
       "      <td>FRA</td>\n",
       "      <td>32</td>\n",
       "      <td>30</td>\n",
       "      <td>29.0</td>\n",
       "      <td>85.0</td>\n",
       "    </tr>\n",
       "  </tbody>\n",
       "</table>\n",
       "<p>560 rows × 5 columns</p>\n",
       "</div>"
      ],
      "text/plain": [
       "    Países  hash_1  hash_2  MurmurHash_key  MurmurHash_key2\n",
       "0      MEX      22      24           -98.0            -79.0\n",
       "1      CHN      51      21            94.0             60.0\n",
       "2      CAN      44      64            59.0            148.0\n",
       "3      POL      18      43             7.0              5.0\n",
       "4      CPV      44      23            69.0             -7.0\n",
       "..     ...     ...     ...             ...              ...\n",
       "555    UKR      25      48           -38.0            -18.0\n",
       "556    EGY      51      59           139.0            178.0\n",
       "557    CHE      22      22           272.0            274.0\n",
       "558    FRA      32      30            29.0             85.0\n",
       "559    FRA      32      30            29.0             85.0\n",
       "\n",
       "[560 rows x 5 columns]"
      ]
     },
     "execution_count": 52,
     "metadata": {},
     "output_type": "execute_result"
    }
   ],
   "source": [
    "df"
   ]
  },
  {
   "cell_type": "code",
   "execution_count": null,
   "metadata": {},
   "outputs": [],
   "source": [
    "len(hsh_key[0])"
   ]
  },
  {
   "cell_type": "code",
   "execution_count": null,
   "metadata": {
    "id": "5b0d8r_IOS14"
   },
   "outputs": [],
   "source": [
    "!pip install category-encoders"
   ]
  },
  {
   "cell_type": "code",
   "execution_count": 53,
   "metadata": {
    "executionInfo": {
     "elapsed": 796,
     "status": "ok",
     "timestamp": 1678849673490,
     "user": {
      "displayName": "Carlos Arellano",
      "userId": "03055712073717640513"
     },
     "user_tz": 360
    },
    "id": "DjdhcBLJPEJ0"
   },
   "outputs": [],
   "source": [
    "from category_encoders import HashingEncoder"
   ]
  },
  {
   "cell_type": "code",
   "execution_count": 54,
   "metadata": {
    "colab": {
     "base_uri": "https://localhost:8080/",
     "height": 487
    },
    "executionInfo": {
     "elapsed": 570,
     "status": "ok",
     "timestamp": 1678849801908,
     "user": {
      "displayName": "Carlos Arellano",
      "userId": "03055712073717640513"
     },
     "user_tz": 360
    },
    "id": "N5U9CjN9PQTo",
    "outputId": "727a7e3b-dbec-49d7-af50-faa7cbf61218"
   },
   "outputs": [
    {
     "data": {
      "text/html": [
       "<div>\n",
       "<style scoped>\n",
       "    .dataframe tbody tr th:only-of-type {\n",
       "        vertical-align: middle;\n",
       "    }\n",
       "\n",
       "    .dataframe tbody tr th {\n",
       "        vertical-align: top;\n",
       "    }\n",
       "\n",
       "    .dataframe thead th {\n",
       "        text-align: right;\n",
       "    }\n",
       "</style>\n",
       "<table border=\"1\" class=\"dataframe\">\n",
       "  <thead>\n",
       "    <tr style=\"text-align: right;\">\n",
       "      <th></th>\n",
       "      <th>col_0</th>\n",
       "      <th>col_1</th>\n",
       "      <th>col_2</th>\n",
       "      <th>col_3</th>\n",
       "      <th>col_4</th>\n",
       "      <th>col_5</th>\n",
       "      <th>col_6</th>\n",
       "      <th>col_7</th>\n",
       "      <th>col_8</th>\n",
       "      <th>col_9</th>\n",
       "      <th>...</th>\n",
       "      <th>col_14</th>\n",
       "      <th>col_15</th>\n",
       "      <th>col_16</th>\n",
       "      <th>col_17</th>\n",
       "      <th>col_18</th>\n",
       "      <th>col_19</th>\n",
       "      <th>hash_1</th>\n",
       "      <th>hash_2</th>\n",
       "      <th>MurmurHash_key</th>\n",
       "      <th>MurmurHash_key2</th>\n",
       "    </tr>\n",
       "  </thead>\n",
       "  <tbody>\n",
       "    <tr>\n",
       "      <th>0</th>\n",
       "      <td>0</td>\n",
       "      <td>0</td>\n",
       "      <td>0</td>\n",
       "      <td>0</td>\n",
       "      <td>0</td>\n",
       "      <td>0</td>\n",
       "      <td>0</td>\n",
       "      <td>0</td>\n",
       "      <td>0</td>\n",
       "      <td>0</td>\n",
       "      <td>...</td>\n",
       "      <td>0</td>\n",
       "      <td>0</td>\n",
       "      <td>0</td>\n",
       "      <td>0</td>\n",
       "      <td>0</td>\n",
       "      <td>0</td>\n",
       "      <td>22</td>\n",
       "      <td>24</td>\n",
       "      <td>-98.0</td>\n",
       "      <td>-79.0</td>\n",
       "    </tr>\n",
       "    <tr>\n",
       "      <th>1</th>\n",
       "      <td>0</td>\n",
       "      <td>0</td>\n",
       "      <td>1</td>\n",
       "      <td>0</td>\n",
       "      <td>0</td>\n",
       "      <td>0</td>\n",
       "      <td>0</td>\n",
       "      <td>0</td>\n",
       "      <td>0</td>\n",
       "      <td>0</td>\n",
       "      <td>...</td>\n",
       "      <td>0</td>\n",
       "      <td>0</td>\n",
       "      <td>0</td>\n",
       "      <td>0</td>\n",
       "      <td>0</td>\n",
       "      <td>0</td>\n",
       "      <td>51</td>\n",
       "      <td>21</td>\n",
       "      <td>94.0</td>\n",
       "      <td>60.0</td>\n",
       "    </tr>\n",
       "    <tr>\n",
       "      <th>2</th>\n",
       "      <td>0</td>\n",
       "      <td>0</td>\n",
       "      <td>0</td>\n",
       "      <td>0</td>\n",
       "      <td>0</td>\n",
       "      <td>0</td>\n",
       "      <td>0</td>\n",
       "      <td>0</td>\n",
       "      <td>0</td>\n",
       "      <td>0</td>\n",
       "      <td>...</td>\n",
       "      <td>0</td>\n",
       "      <td>1</td>\n",
       "      <td>0</td>\n",
       "      <td>0</td>\n",
       "      <td>0</td>\n",
       "      <td>0</td>\n",
       "      <td>44</td>\n",
       "      <td>64</td>\n",
       "      <td>59.0</td>\n",
       "      <td>148.0</td>\n",
       "    </tr>\n",
       "    <tr>\n",
       "      <th>3</th>\n",
       "      <td>1</td>\n",
       "      <td>0</td>\n",
       "      <td>0</td>\n",
       "      <td>0</td>\n",
       "      <td>0</td>\n",
       "      <td>0</td>\n",
       "      <td>0</td>\n",
       "      <td>0</td>\n",
       "      <td>0</td>\n",
       "      <td>0</td>\n",
       "      <td>...</td>\n",
       "      <td>0</td>\n",
       "      <td>0</td>\n",
       "      <td>0</td>\n",
       "      <td>0</td>\n",
       "      <td>0</td>\n",
       "      <td>0</td>\n",
       "      <td>18</td>\n",
       "      <td>43</td>\n",
       "      <td>7.0</td>\n",
       "      <td>5.0</td>\n",
       "    </tr>\n",
       "    <tr>\n",
       "      <th>4</th>\n",
       "      <td>0</td>\n",
       "      <td>0</td>\n",
       "      <td>0</td>\n",
       "      <td>0</td>\n",
       "      <td>0</td>\n",
       "      <td>0</td>\n",
       "      <td>0</td>\n",
       "      <td>1</td>\n",
       "      <td>0</td>\n",
       "      <td>0</td>\n",
       "      <td>...</td>\n",
       "      <td>0</td>\n",
       "      <td>0</td>\n",
       "      <td>0</td>\n",
       "      <td>0</td>\n",
       "      <td>0</td>\n",
       "      <td>0</td>\n",
       "      <td>44</td>\n",
       "      <td>23</td>\n",
       "      <td>69.0</td>\n",
       "      <td>-7.0</td>\n",
       "    </tr>\n",
       "    <tr>\n",
       "      <th>...</th>\n",
       "      <td>...</td>\n",
       "      <td>...</td>\n",
       "      <td>...</td>\n",
       "      <td>...</td>\n",
       "      <td>...</td>\n",
       "      <td>...</td>\n",
       "      <td>...</td>\n",
       "      <td>...</td>\n",
       "      <td>...</td>\n",
       "      <td>...</td>\n",
       "      <td>...</td>\n",
       "      <td>...</td>\n",
       "      <td>...</td>\n",
       "      <td>...</td>\n",
       "      <td>...</td>\n",
       "      <td>...</td>\n",
       "      <td>...</td>\n",
       "      <td>...</td>\n",
       "      <td>...</td>\n",
       "      <td>...</td>\n",
       "      <td>...</td>\n",
       "    </tr>\n",
       "    <tr>\n",
       "      <th>555</th>\n",
       "      <td>0</td>\n",
       "      <td>0</td>\n",
       "      <td>0</td>\n",
       "      <td>0</td>\n",
       "      <td>0</td>\n",
       "      <td>0</td>\n",
       "      <td>0</td>\n",
       "      <td>0</td>\n",
       "      <td>0</td>\n",
       "      <td>0</td>\n",
       "      <td>...</td>\n",
       "      <td>0</td>\n",
       "      <td>1</td>\n",
       "      <td>0</td>\n",
       "      <td>0</td>\n",
       "      <td>0</td>\n",
       "      <td>0</td>\n",
       "      <td>25</td>\n",
       "      <td>48</td>\n",
       "      <td>-38.0</td>\n",
       "      <td>-18.0</td>\n",
       "    </tr>\n",
       "    <tr>\n",
       "      <th>556</th>\n",
       "      <td>0</td>\n",
       "      <td>0</td>\n",
       "      <td>0</td>\n",
       "      <td>0</td>\n",
       "      <td>0</td>\n",
       "      <td>1</td>\n",
       "      <td>0</td>\n",
       "      <td>0</td>\n",
       "      <td>0</td>\n",
       "      <td>0</td>\n",
       "      <td>...</td>\n",
       "      <td>0</td>\n",
       "      <td>0</td>\n",
       "      <td>0</td>\n",
       "      <td>0</td>\n",
       "      <td>0</td>\n",
       "      <td>0</td>\n",
       "      <td>51</td>\n",
       "      <td>59</td>\n",
       "      <td>139.0</td>\n",
       "      <td>178.0</td>\n",
       "    </tr>\n",
       "    <tr>\n",
       "      <th>557</th>\n",
       "      <td>0</td>\n",
       "      <td>0</td>\n",
       "      <td>0</td>\n",
       "      <td>0</td>\n",
       "      <td>0</td>\n",
       "      <td>0</td>\n",
       "      <td>0</td>\n",
       "      <td>0</td>\n",
       "      <td>0</td>\n",
       "      <td>0</td>\n",
       "      <td>...</td>\n",
       "      <td>0</td>\n",
       "      <td>0</td>\n",
       "      <td>0</td>\n",
       "      <td>0</td>\n",
       "      <td>0</td>\n",
       "      <td>0</td>\n",
       "      <td>22</td>\n",
       "      <td>22</td>\n",
       "      <td>272.0</td>\n",
       "      <td>274.0</td>\n",
       "    </tr>\n",
       "    <tr>\n",
       "      <th>558</th>\n",
       "      <td>0</td>\n",
       "      <td>1</td>\n",
       "      <td>0</td>\n",
       "      <td>0</td>\n",
       "      <td>0</td>\n",
       "      <td>0</td>\n",
       "      <td>0</td>\n",
       "      <td>0</td>\n",
       "      <td>0</td>\n",
       "      <td>0</td>\n",
       "      <td>...</td>\n",
       "      <td>0</td>\n",
       "      <td>0</td>\n",
       "      <td>0</td>\n",
       "      <td>0</td>\n",
       "      <td>0</td>\n",
       "      <td>0</td>\n",
       "      <td>32</td>\n",
       "      <td>30</td>\n",
       "      <td>29.0</td>\n",
       "      <td>85.0</td>\n",
       "    </tr>\n",
       "    <tr>\n",
       "      <th>559</th>\n",
       "      <td>0</td>\n",
       "      <td>1</td>\n",
       "      <td>0</td>\n",
       "      <td>0</td>\n",
       "      <td>0</td>\n",
       "      <td>0</td>\n",
       "      <td>0</td>\n",
       "      <td>0</td>\n",
       "      <td>0</td>\n",
       "      <td>0</td>\n",
       "      <td>...</td>\n",
       "      <td>0</td>\n",
       "      <td>0</td>\n",
       "      <td>0</td>\n",
       "      <td>0</td>\n",
       "      <td>0</td>\n",
       "      <td>0</td>\n",
       "      <td>32</td>\n",
       "      <td>30</td>\n",
       "      <td>29.0</td>\n",
       "      <td>85.0</td>\n",
       "    </tr>\n",
       "  </tbody>\n",
       "</table>\n",
       "<p>560 rows × 24 columns</p>\n",
       "</div>"
      ],
      "text/plain": [
       "     col_0  col_1  col_2  col_3  col_4  col_5  col_6  col_7  col_8  col_9  \\\n",
       "0        0      0      0      0      0      0      0      0      0      0   \n",
       "1        0      0      1      0      0      0      0      0      0      0   \n",
       "2        0      0      0      0      0      0      0      0      0      0   \n",
       "3        1      0      0      0      0      0      0      0      0      0   \n",
       "4        0      0      0      0      0      0      0      1      0      0   \n",
       "..     ...    ...    ...    ...    ...    ...    ...    ...    ...    ...   \n",
       "555      0      0      0      0      0      0      0      0      0      0   \n",
       "556      0      0      0      0      0      1      0      0      0      0   \n",
       "557      0      0      0      0      0      0      0      0      0      0   \n",
       "558      0      1      0      0      0      0      0      0      0      0   \n",
       "559      0      1      0      0      0      0      0      0      0      0   \n",
       "\n",
       "     ...  col_14  col_15  col_16  col_17  col_18  col_19  hash_1  hash_2  \\\n",
       "0    ...       0       0       0       0       0       0      22      24   \n",
       "1    ...       0       0       0       0       0       0      51      21   \n",
       "2    ...       0       1       0       0       0       0      44      64   \n",
       "3    ...       0       0       0       0       0       0      18      43   \n",
       "4    ...       0       0       0       0       0       0      44      23   \n",
       "..   ...     ...     ...     ...     ...     ...     ...     ...     ...   \n",
       "555  ...       0       1       0       0       0       0      25      48   \n",
       "556  ...       0       0       0       0       0       0      51      59   \n",
       "557  ...       0       0       0       0       0       0      22      22   \n",
       "558  ...       0       0       0       0       0       0      32      30   \n",
       "559  ...       0       0       0       0       0       0      32      30   \n",
       "\n",
       "     MurmurHash_key  MurmurHash_key2  \n",
       "0             -98.0            -79.0  \n",
       "1              94.0             60.0  \n",
       "2              59.0            148.0  \n",
       "3               7.0              5.0  \n",
       "4              69.0             -7.0  \n",
       "..              ...              ...  \n",
       "555           -38.0            -18.0  \n",
       "556           139.0            178.0  \n",
       "557           272.0            274.0  \n",
       "558            29.0             85.0  \n",
       "559            29.0             85.0  \n",
       "\n",
       "[560 rows x 24 columns]"
      ]
     },
     "execution_count": 54,
     "metadata": {},
     "output_type": "execute_result"
    }
   ],
   "source": [
    "fcnHash_OH=HashingEncoder(n_components=m,cols='Países')\n",
    "fcnHash_OH.fit_transform(df)"
   ]
  },
  {
   "cell_type": "code",
   "execution_count": null,
   "metadata": {},
   "outputs": [],
   "source": []
  }
 ],
 "metadata": {
  "colab": {
   "authorship_tag": "ABX9TyOl+Q+QSL1faFdOmHvegRli",
   "mount_file_id": "1A_FCrK6iFGWmRTQOZNDLAZzqDxbkhk_s",
   "provenance": []
  },
  "kernelspec": {
   "display_name": "Python 3 (ipykernel)",
   "language": "python",
   "name": "python3"
  },
  "language_info": {
   "codemirror_mode": {
    "name": "ipython",
    "version": 3
   },
   "file_extension": ".py",
   "mimetype": "text/x-python",
   "name": "python",
   "nbconvert_exporter": "python",
   "pygments_lexer": "ipython3",
   "version": "3.8.8"
  }
 },
 "nbformat": 4,
 "nbformat_minor": 1
}
