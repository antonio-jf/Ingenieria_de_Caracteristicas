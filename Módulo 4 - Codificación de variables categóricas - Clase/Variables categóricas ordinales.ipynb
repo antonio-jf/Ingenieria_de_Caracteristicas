{
 "cells": [
  {
   "cell_type": "markdown",
   "metadata": {},
   "source": [
    "<img style=\"float: left;;\" src='Figures/iteso.jpg' width=\"100\" height=\"200\"/></a>\n",
    "\n",
    "# <center> <font color= #000047> Variables Categóricas Ordinales </font> </center>"
   ]
  },
  {
   "cell_type": "code",
   "execution_count": 1,
   "metadata": {
    "colab": {
     "base_uri": "https://localhost:8080/",
     "height": 206
    },
    "executionInfo": {
     "elapsed": 403,
     "status": "ok",
     "timestamp": 1678238409456,
     "user": {
      "displayName": "Carlos Arellano",
      "userId": "03055712073717640513"
     },
     "user_tz": 360
    },
    "id": "yUPeBbnaozcA",
    "outputId": "cfa51a9e-fdd4-4368-a2db-803e9f1f2804"
   },
   "outputs": [
    {
     "data": {
      "text/html": [
       "<div>\n",
       "<style scoped>\n",
       "    .dataframe tbody tr th:only-of-type {\n",
       "        vertical-align: middle;\n",
       "    }\n",
       "\n",
       "    .dataframe tbody tr th {\n",
       "        vertical-align: top;\n",
       "    }\n",
       "\n",
       "    .dataframe thead th {\n",
       "        text-align: right;\n",
       "    }\n",
       "</style>\n",
       "<table border=\"1\" class=\"dataframe\">\n",
       "  <thead>\n",
       "    <tr style=\"text-align: right;\">\n",
       "      <th></th>\n",
       "      <th>Días</th>\n",
       "      <th>Pronóstico</th>\n",
       "      <th>Temperatura máxima</th>\n",
       "      <th>Temperatura mínima</th>\n",
       "    </tr>\n",
       "  </thead>\n",
       "  <tbody>\n",
       "    <tr>\n",
       "      <th>0</th>\n",
       "      <td>Sábado</td>\n",
       "      <td>Parcialmente nublado</td>\n",
       "      <td>28.2</td>\n",
       "      <td>11.2</td>\n",
       "    </tr>\n",
       "    <tr>\n",
       "      <th>1</th>\n",
       "      <td>Domingo</td>\n",
       "      <td>Parcialmente nublado</td>\n",
       "      <td>29.1</td>\n",
       "      <td>10.7</td>\n",
       "    </tr>\n",
       "    <tr>\n",
       "      <th>2</th>\n",
       "      <td>Lunes</td>\n",
       "      <td>Mayormente nublado</td>\n",
       "      <td>26.1</td>\n",
       "      <td>10.4</td>\n",
       "    </tr>\n",
       "    <tr>\n",
       "      <th>3</th>\n",
       "      <td>Martes</td>\n",
       "      <td>Mayormente soleado</td>\n",
       "      <td>29.4</td>\n",
       "      <td>11.1</td>\n",
       "    </tr>\n",
       "    <tr>\n",
       "      <th>4</th>\n",
       "      <td>Miércoles</td>\n",
       "      <td>Mayormente soleado</td>\n",
       "      <td>29.8</td>\n",
       "      <td>11.1</td>\n",
       "    </tr>\n",
       "  </tbody>\n",
       "</table>\n",
       "</div>"
      ],
      "text/plain": [
       "        Días            Pronóstico Temperatura máxima Temperatura mínima\n",
       "0     Sábado  Parcialmente nublado               28.2               11.2\n",
       "1    Domingo  Parcialmente nublado               29.1               10.7\n",
       "2      Lunes    Mayormente nublado               26.1               10.4\n",
       "3     Martes    Mayormente soleado               29.4               11.1\n",
       "4  Miércoles    Mayormente soleado               29.8               11.1"
      ]
     },
     "execution_count": 1,
     "metadata": {},
     "output_type": "execute_result"
    }
   ],
   "source": [
    "import pandas as pd\n",
    "import numpy as np\n",
    "data=pd.read_csv('temps.txt',sep='\\s+',header=None) # Fuente: http://astro.iam.udg.mx/Estacion/NOAAPRMO.TXT\n",
    "                                                         #         http://astro.iam.udg.mx/Estacion/NOAAMO.TXT\n",
    "data.columns=['Temperatura máxima','Temperatura mínima','HDD','CDD','Rain']\n",
    "d=['Sábado','Domingo','Lunes','Martes','Miércoles','Jueves','Viernes']\n",
    "dias=[d[i%7] for i in range(len(data))]\n",
    "catego=['Soleado','Mayormente soleado','Parcialmente nublado','Mayormente nublado','Nublado','Lluvioso']\n",
    "prono=[catego[-1] if data['Rain'][i]>0 else catego[int(round(1.2*(data['HDD'][i]-data['CDD'][i])+2))] for i in range(len(data))]\n",
    "df=pd.DataFrame(columns=['Días','Pronóstico','Temperatura máxima','Temperatura mínima'],index=range(len(data)))\n",
    "df.iloc[:,2:4]=data.iloc[:,0:2]\n",
    "df['Días']=dias\n",
    "df['Pronóstico']=prono\n",
    "df.head()"
   ]
  },
  {
   "cell_type": "markdown",
   "metadata": {
    "id": "mSkrgmfCpXdT"
   },
   "source": [
    "# Codificación lineal"
   ]
  },
  {
   "cell_type": "markdown",
   "metadata": {},
   "source": [
    "- Encontrar $X =\\{x_1,..,x_n\\}$ donde $n$ el número de categorías"
   ]
  },
  {
   "cell_type": "code",
   "execution_count": 2,
   "metadata": {},
   "outputs": [
    {
     "data": {
      "text/plain": [
       "7"
      ]
     },
     "execution_count": 2,
     "metadata": {},
     "output_type": "execute_result"
    }
   ],
   "source": [
    "df['Días'].nunique()"
   ]
  },
  {
   "cell_type": "code",
   "execution_count": 3,
   "metadata": {
    "colab": {
     "base_uri": "https://localhost:8080/"
    },
    "executionInfo": {
     "elapsed": 165,
     "status": "ok",
     "timestamp": 1678239118420,
     "user": {
      "displayName": "Carlos Arellano",
      "userId": "03055712073717640513"
     },
     "user_tz": 360
    },
    "id": "gGrgUu2ApZOn",
    "outputId": "8b181567-70eb-41cf-9a3f-f9989b406bd1"
   },
   "outputs": [
    {
     "data": {
      "text/plain": [
       "[-3, -2, -1, 0, 1, 2, 3]"
      ]
     },
     "execution_count": 3,
     "metadata": {},
     "output_type": "execute_result"
    }
   ],
   "source": [
    "#@title Codificación para la variable `Días`\n",
    "n=len(df['Días'].unique())\n",
    "lim=n-1 if n%2==0 else (n-1)//2\n",
    "step = 2 if n%2==0 else 1\n",
    "x=range(-lim,lim+1,step)\n",
    "list(x)"
   ]
  },
  {
   "cell_type": "code",
   "execution_count": 4,
   "metadata": {
    "colab": {
     "base_uri": "https://localhost:8080/"
    },
    "executionInfo": {
     "elapsed": 210,
     "status": "ok",
     "timestamp": 1678239226280,
     "user": {
      "displayName": "Carlos Arellano",
      "userId": "03055712073717640513"
     },
     "user_tz": 360
    },
    "id": "TZHnAHrI2LIw",
    "outputId": "216ad4a4-df97-46f8-a556-1d056f8108ab"
   },
   "outputs": [
    {
     "data": {
      "text/plain": [
       "array(['Sábado', 'Domingo', 'Lunes', 'Martes', 'Miércoles', 'Jueves',\n",
       "       'Viernes'], dtype=object)"
      ]
     },
     "execution_count": 4,
     "metadata": {},
     "output_type": "execute_result"
    }
   ],
   "source": [
    "catego=df['Días'].unique()\n",
    "catego"
   ]
  },
  {
   "cell_type": "code",
   "execution_count": 5,
   "metadata": {
    "colab": {
     "base_uri": "https://localhost:8080/"
    },
    "executionInfo": {
     "elapsed": 188,
     "status": "ok",
     "timestamp": 1678239293389,
     "user": {
      "displayName": "Carlos Arellano",
      "userId": "03055712073717640513"
     },
     "user_tz": 360
    },
    "id": "HsqzDWNA2ldA",
    "outputId": "4dac0f7e-9ac7-418d-8166-ad6888b6f583"
   },
   "outputs": [
    {
     "data": {
      "text/plain": [
       "array(['Lunes', 'Martes', 'Miércoles', 'Jueves', 'Viernes', 'Sábado',\n",
       "       'Domingo'], dtype=object)"
      ]
     },
     "execution_count": 5,
     "metadata": {},
     "output_type": "execute_result"
    }
   ],
   "source": [
    "Días_ord=np.concatenate([catego[2:],catego[:2]])\n",
    "Días_ord"
   ]
  },
  {
   "cell_type": "code",
   "execution_count": 6,
   "metadata": {
    "colab": {
     "base_uri": "https://localhost:8080/"
    },
    "executionInfo": {
     "elapsed": 187,
     "status": "ok",
     "timestamp": 1678239457261,
     "user": {
      "displayName": "Carlos Arellano",
      "userId": "03055712073717640513"
     },
     "user_tz": 360
    },
    "id": "5ko3uGTd211n",
    "outputId": "70711e7b-4a03-4b2c-8710-508c5f20921d"
   },
   "outputs": [
    {
     "data": {
      "text/plain": [
       "{'Lunes': -15,\n",
       " 'Martes': -10,\n",
       " 'Miércoles': -5,\n",
       " 'Jueves': 0,\n",
       " 'Viernes': 5,\n",
       " 'Sábado': 10,\n",
       " 'Domingo': 15}"
      ]
     },
     "execution_count": 6,
     "metadata": {},
     "output_type": "execute_result"
    }
   ],
   "source": [
    "a0=0\n",
    "a1=5 #-0.1\n",
    "Días_lin={categorías:a1*i+a0 for categorías,i in zip(Días_ord,x)}\n",
    "Días_lin"
   ]
  },
  {
   "cell_type": "code",
   "execution_count": 7,
   "metadata": {
    "colab": {
     "base_uri": "https://localhost:8080/",
     "height": 206
    },
    "executionInfo": {
     "elapsed": 12,
     "status": "ok",
     "timestamp": 1678239529725,
     "user": {
      "displayName": "Carlos Arellano",
      "userId": "03055712073717640513"
     },
     "user_tz": 360
    },
    "id": "Q7cYa65N3d5A",
    "outputId": "14e3f6c1-0127-4df3-84e7-b2e6b8bdb677"
   },
   "outputs": [
    {
     "data": {
      "text/html": [
       "<div>\n",
       "<style scoped>\n",
       "    .dataframe tbody tr th:only-of-type {\n",
       "        vertical-align: middle;\n",
       "    }\n",
       "\n",
       "    .dataframe tbody tr th {\n",
       "        vertical-align: top;\n",
       "    }\n",
       "\n",
       "    .dataframe thead th {\n",
       "        text-align: right;\n",
       "    }\n",
       "</style>\n",
       "<table border=\"1\" class=\"dataframe\">\n",
       "  <thead>\n",
       "    <tr style=\"text-align: right;\">\n",
       "      <th></th>\n",
       "      <th>Días</th>\n",
       "      <th>Pronóstico</th>\n",
       "      <th>Temperatura máxima</th>\n",
       "      <th>Temperatura mínima</th>\n",
       "      <th>Días_lin</th>\n",
       "    </tr>\n",
       "  </thead>\n",
       "  <tbody>\n",
       "    <tr>\n",
       "      <th>0</th>\n",
       "      <td>Sábado</td>\n",
       "      <td>Parcialmente nublado</td>\n",
       "      <td>28.2</td>\n",
       "      <td>11.2</td>\n",
       "      <td>10</td>\n",
       "    </tr>\n",
       "    <tr>\n",
       "      <th>1</th>\n",
       "      <td>Domingo</td>\n",
       "      <td>Parcialmente nublado</td>\n",
       "      <td>29.1</td>\n",
       "      <td>10.7</td>\n",
       "      <td>15</td>\n",
       "    </tr>\n",
       "    <tr>\n",
       "      <th>2</th>\n",
       "      <td>Lunes</td>\n",
       "      <td>Mayormente nublado</td>\n",
       "      <td>26.1</td>\n",
       "      <td>10.4</td>\n",
       "      <td>-15</td>\n",
       "    </tr>\n",
       "    <tr>\n",
       "      <th>3</th>\n",
       "      <td>Martes</td>\n",
       "      <td>Mayormente soleado</td>\n",
       "      <td>29.4</td>\n",
       "      <td>11.1</td>\n",
       "      <td>-10</td>\n",
       "    </tr>\n",
       "    <tr>\n",
       "      <th>4</th>\n",
       "      <td>Miércoles</td>\n",
       "      <td>Mayormente soleado</td>\n",
       "      <td>29.8</td>\n",
       "      <td>11.1</td>\n",
       "      <td>-5</td>\n",
       "    </tr>\n",
       "  </tbody>\n",
       "</table>\n",
       "</div>"
      ],
      "text/plain": [
       "        Días            Pronóstico Temperatura máxima Temperatura mínima  \\\n",
       "0     Sábado  Parcialmente nublado               28.2               11.2   \n",
       "1    Domingo  Parcialmente nublado               29.1               10.7   \n",
       "2      Lunes    Mayormente nublado               26.1               10.4   \n",
       "3     Martes    Mayormente soleado               29.4               11.1   \n",
       "4  Miércoles    Mayormente soleado               29.8               11.1   \n",
       "\n",
       "   Días_lin  \n",
       "0        10  \n",
       "1        15  \n",
       "2       -15  \n",
       "3       -10  \n",
       "4        -5  "
      ]
     },
     "execution_count": 7,
     "metadata": {},
     "output_type": "execute_result"
    }
   ],
   "source": [
    "df['Días_lin']=df['Días'].map(Días_lin)\n",
    "df.head()"
   ]
  },
  {
   "cell_type": "code",
   "execution_count": 8,
   "metadata": {},
   "outputs": [
    {
     "data": {
      "text/plain": [
       "6"
      ]
     },
     "execution_count": 8,
     "metadata": {},
     "output_type": "execute_result"
    }
   ],
   "source": [
    "df['Pronóstico'].nunique()"
   ]
  },
  {
   "cell_type": "code",
   "execution_count": 9,
   "metadata": {
    "colab": {
     "base_uri": "https://localhost:8080/"
    },
    "executionInfo": {
     "elapsed": 187,
     "status": "ok",
     "timestamp": 1678239694644,
     "user": {
      "displayName": "Carlos Arellano",
      "userId": "03055712073717640513"
     },
     "user_tz": 360
    },
    "id": "B1hj8E-U3vjw",
    "outputId": "9ac9b378-1fa4-4297-e1db-ae20be54c6d7"
   },
   "outputs": [
    {
     "data": {
      "text/plain": [
       "[-5, -3, -1, 1, 3, 5]"
      ]
     },
     "execution_count": 9,
     "metadata": {},
     "output_type": "execute_result"
    }
   ],
   "source": [
    "#@title Codificando la variable `Pronóstico`\n",
    "n=len(df['Pronóstico'].unique())\n",
    "lim=n-1 if n%2==0 else (n-1)//2\n",
    "step=2 if n%2==0 else 1\n",
    "x=range(-lim,lim+1,step)\n",
    "list(x)"
   ]
  },
  {
   "cell_type": "code",
   "execution_count": 10,
   "metadata": {
    "colab": {
     "base_uri": "https://localhost:8080/"
    },
    "executionInfo": {
     "elapsed": 7,
     "status": "ok",
     "timestamp": 1678240081062,
     "user": {
      "displayName": "Carlos Arellano",
      "userId": "03055712073717640513"
     },
     "user_tz": 360
    },
    "id": "PmEC630k5vtZ",
    "outputId": "964d01f9-a2e6-4ff4-85f6-48ab7977a973"
   },
   "outputs": [
    {
     "data": {
      "text/plain": [
       "array(['Parcialmente nublado', 'Mayormente nublado', 'Mayormente soleado',\n",
       "       'Soleado', 'Lluvioso', 'Nublado'], dtype=object)"
      ]
     },
     "execution_count": 10,
     "metadata": {},
     "output_type": "execute_result"
    }
   ],
   "source": [
    "cat=df['Pronóstico'].unique()\n",
    "cat"
   ]
  },
  {
   "cell_type": "code",
   "execution_count": 11,
   "metadata": {
    "colab": {
     "base_uri": "https://localhost:8080/"
    },
    "executionInfo": {
     "elapsed": 7,
     "status": "ok",
     "timestamp": 1678240409685,
     "user": {
      "displayName": "Carlos Arellano",
      "userId": "03055712073717640513"
     },
     "user_tz": 360
    },
    "id": "-3CZ3M3L5p7T",
    "outputId": "8cc0ad25-1c84-4942-8354-eb0e9381db27"
   },
   "outputs": [
    {
     "data": {
      "text/plain": [
       "array(['Soleado', 'Mayormente soleado', 'Parcialmente nublado', 'Nublado',\n",
       "       'Mayormente nublado', 'Lluvioso'], dtype=object)"
      ]
     },
     "execution_count": 11,
     "metadata": {},
     "output_type": "execute_result"
    }
   ],
   "source": [
    "Pronóstico_ord=np.concatenate([cat[-3:-5:-1],\n",
    "                               np.array([cat[0],cat[-1],cat[1],cat[-2]])\n",
    "                               ])\n",
    "Pronóstico_ord"
   ]
  },
  {
   "cell_type": "code",
   "execution_count": 12,
   "metadata": {
    "colab": {
     "base_uri": "https://localhost:8080/"
    },
    "executionInfo": {
     "elapsed": 179,
     "status": "ok",
     "timestamp": 1678240795319,
     "user": {
      "displayName": "Carlos Arellano",
      "userId": "03055712073717640513"
     },
     "user_tz": 360
    },
    "id": "m3ch3BDR4X0I",
    "outputId": "9e330cab-b7c9-4140-f14e-922e7b93ecda"
   },
   "outputs": [
    {
     "data": {
      "text/plain": [
       "{'Soleado': 5,\n",
       " 'Mayormente soleado': 3,\n",
       " 'Parcialmente nublado': 1,\n",
       " 'Nublado': -1,\n",
       " 'Mayormente nublado': -3,\n",
       " 'Lluvioso': -5}"
      ]
     },
     "execution_count": 12,
     "metadata": {},
     "output_type": "execute_result"
    }
   ],
   "source": [
    "a0=0\n",
    "a1=-1\n",
    "Pronóstico_lin={categorías:a1*i+a0 for categorías,i in zip(Pronóstico_ord,x)}\n",
    "Pronóstico_lin"
   ]
  },
  {
   "cell_type": "code",
   "execution_count": 13,
   "metadata": {
    "colab": {
     "base_uri": "https://localhost:8080/",
     "height": 206
    },
    "executionInfo": {
     "elapsed": 186,
     "status": "ok",
     "timestamp": 1678240848389,
     "user": {
      "displayName": "Carlos Arellano",
      "userId": "03055712073717640513"
     },
     "user_tz": 360
    },
    "id": "1VMaAAi077wQ",
    "outputId": "5cadd217-0fb6-4171-d570-f3aee3a4ce0a"
   },
   "outputs": [
    {
     "data": {
      "text/html": [
       "<div>\n",
       "<style scoped>\n",
       "    .dataframe tbody tr th:only-of-type {\n",
       "        vertical-align: middle;\n",
       "    }\n",
       "\n",
       "    .dataframe tbody tr th {\n",
       "        vertical-align: top;\n",
       "    }\n",
       "\n",
       "    .dataframe thead th {\n",
       "        text-align: right;\n",
       "    }\n",
       "</style>\n",
       "<table border=\"1\" class=\"dataframe\">\n",
       "  <thead>\n",
       "    <tr style=\"text-align: right;\">\n",
       "      <th></th>\n",
       "      <th>Días</th>\n",
       "      <th>Pronóstico</th>\n",
       "      <th>Temperatura máxima</th>\n",
       "      <th>Temperatura mínima</th>\n",
       "      <th>Días_lin</th>\n",
       "      <th>Pronóstico_lin</th>\n",
       "    </tr>\n",
       "  </thead>\n",
       "  <tbody>\n",
       "    <tr>\n",
       "      <th>0</th>\n",
       "      <td>Sábado</td>\n",
       "      <td>Parcialmente nublado</td>\n",
       "      <td>28.2</td>\n",
       "      <td>11.2</td>\n",
       "      <td>10</td>\n",
       "      <td>1</td>\n",
       "    </tr>\n",
       "    <tr>\n",
       "      <th>1</th>\n",
       "      <td>Domingo</td>\n",
       "      <td>Parcialmente nublado</td>\n",
       "      <td>29.1</td>\n",
       "      <td>10.7</td>\n",
       "      <td>15</td>\n",
       "      <td>1</td>\n",
       "    </tr>\n",
       "    <tr>\n",
       "      <th>2</th>\n",
       "      <td>Lunes</td>\n",
       "      <td>Mayormente nublado</td>\n",
       "      <td>26.1</td>\n",
       "      <td>10.4</td>\n",
       "      <td>-15</td>\n",
       "      <td>-3</td>\n",
       "    </tr>\n",
       "    <tr>\n",
       "      <th>3</th>\n",
       "      <td>Martes</td>\n",
       "      <td>Mayormente soleado</td>\n",
       "      <td>29.4</td>\n",
       "      <td>11.1</td>\n",
       "      <td>-10</td>\n",
       "      <td>3</td>\n",
       "    </tr>\n",
       "    <tr>\n",
       "      <th>4</th>\n",
       "      <td>Miércoles</td>\n",
       "      <td>Mayormente soleado</td>\n",
       "      <td>29.8</td>\n",
       "      <td>11.1</td>\n",
       "      <td>-5</td>\n",
       "      <td>3</td>\n",
       "    </tr>\n",
       "  </tbody>\n",
       "</table>\n",
       "</div>"
      ],
      "text/plain": [
       "        Días            Pronóstico Temperatura máxima Temperatura mínima  \\\n",
       "0     Sábado  Parcialmente nublado               28.2               11.2   \n",
       "1    Domingo  Parcialmente nublado               29.1               10.7   \n",
       "2      Lunes    Mayormente nublado               26.1               10.4   \n",
       "3     Martes    Mayormente soleado               29.4               11.1   \n",
       "4  Miércoles    Mayormente soleado               29.8               11.1   \n",
       "\n",
       "   Días_lin  Pronóstico_lin  \n",
       "0        10               1  \n",
       "1        15               1  \n",
       "2       -15              -3  \n",
       "3       -10               3  \n",
       "4        -5               3  "
      ]
     },
     "execution_count": 13,
     "metadata": {},
     "output_type": "execute_result"
    }
   ],
   "source": [
    "df['Pronóstico_lin']=df['Pronóstico'].map(Pronóstico_lin)\n",
    "df.head()"
   ]
  },
  {
   "cell_type": "code",
   "execution_count": null,
   "metadata": {},
   "outputs": [],
   "source": []
  },
  {
   "cell_type": "markdown",
   "metadata": {
    "id": "RF_w3GbppZ1C"
   },
   "source": [
    "# Codificación cuadrática"
   ]
  },
  {
   "cell_type": "code",
   "execution_count": 14,
   "metadata": {
    "colab": {
     "base_uri": "https://localhost:8080/"
    },
    "executionInfo": {
     "elapsed": 179,
     "status": "ok",
     "timestamp": 1678240979668,
     "user": {
      "displayName": "Carlos Arellano",
      "userId": "03055712073717640513"
     },
     "user_tz": 360
    },
    "id": "Hev5cLVy8EoW",
    "outputId": "894ee347-f2ee-43e0-a08c-5de571027cdb"
   },
   "outputs": [
    {
     "data": {
      "text/plain": [
       "{'Soleado': -13.333333333333334,\n",
       " 'Mayormente soleado': 2.666666666666666,\n",
       " 'Parcialmente nublado': 10.666666666666666,\n",
       " 'Nublado': 10.666666666666666,\n",
       " 'Mayormente nublado': 2.666666666666666,\n",
       " 'Lluvioso': -13.333333333333334}"
      ]
     },
     "execution_count": 14,
     "metadata": {},
     "output_type": "execute_result"
    }
   ],
   "source": [
    "#@title Codificación de la variable `Pronóstico`\n",
    "a2=-1\n",
    "a1=0\n",
    "a0=-a2/n*np.sum([i**2 for i in x])\n",
    "Pronóstico_cuad={categorías:a0+a1*i+a2*i**2 for categorías,i in zip(Pronóstico_ord,x)}\n",
    "Pronóstico_cuad"
   ]
  },
  {
   "cell_type": "code",
   "execution_count": 15,
   "metadata": {
    "colab": {
     "base_uri": "https://localhost:8080/"
    },
    "executionInfo": {
     "elapsed": 185,
     "status": "ok",
     "timestamp": 1678240984587,
     "user": {
      "displayName": "Carlos Arellano",
      "userId": "03055712073717640513"
     },
     "user_tz": 360
    },
    "id": "ko1162bk8HdX",
    "outputId": "55ec8814-c88e-4c96-ccf8-6ffc8c183c15"
   },
   "outputs": [
    {
     "data": {
      "text/plain": [
       "0"
      ]
     },
     "execution_count": 15,
     "metadata": {},
     "output_type": "execute_result"
    }
   ],
   "source": [
    "np.sum(list(Pronóstico_lin.values()))"
   ]
  },
  {
   "cell_type": "code",
   "execution_count": 16,
   "metadata": {
    "colab": {
     "base_uri": "https://localhost:8080/",
     "height": 206
    },
    "executionInfo": {
     "elapsed": 10,
     "status": "ok",
     "timestamp": 1678241022895,
     "user": {
      "displayName": "Carlos Arellano",
      "userId": "03055712073717640513"
     },
     "user_tz": 360
    },
    "id": "C4fOqQTc9Stf",
    "outputId": "a8ee9c1b-54e3-4d2d-bc7d-bb48ee83c09a"
   },
   "outputs": [
    {
     "data": {
      "text/html": [
       "<div>\n",
       "<style scoped>\n",
       "    .dataframe tbody tr th:only-of-type {\n",
       "        vertical-align: middle;\n",
       "    }\n",
       "\n",
       "    .dataframe tbody tr th {\n",
       "        vertical-align: top;\n",
       "    }\n",
       "\n",
       "    .dataframe thead th {\n",
       "        text-align: right;\n",
       "    }\n",
       "</style>\n",
       "<table border=\"1\" class=\"dataframe\">\n",
       "  <thead>\n",
       "    <tr style=\"text-align: right;\">\n",
       "      <th></th>\n",
       "      <th>Días</th>\n",
       "      <th>Pronóstico</th>\n",
       "      <th>Temperatura máxima</th>\n",
       "      <th>Temperatura mínima</th>\n",
       "      <th>Días_lin</th>\n",
       "      <th>Pronóstico_lin</th>\n",
       "      <th>Pronóstico_cuad</th>\n",
       "    </tr>\n",
       "  </thead>\n",
       "  <tbody>\n",
       "    <tr>\n",
       "      <th>0</th>\n",
       "      <td>Sábado</td>\n",
       "      <td>Parcialmente nublado</td>\n",
       "      <td>28.2</td>\n",
       "      <td>11.2</td>\n",
       "      <td>10</td>\n",
       "      <td>1</td>\n",
       "      <td>10.666667</td>\n",
       "    </tr>\n",
       "    <tr>\n",
       "      <th>1</th>\n",
       "      <td>Domingo</td>\n",
       "      <td>Parcialmente nublado</td>\n",
       "      <td>29.1</td>\n",
       "      <td>10.7</td>\n",
       "      <td>15</td>\n",
       "      <td>1</td>\n",
       "      <td>10.666667</td>\n",
       "    </tr>\n",
       "    <tr>\n",
       "      <th>2</th>\n",
       "      <td>Lunes</td>\n",
       "      <td>Mayormente nublado</td>\n",
       "      <td>26.1</td>\n",
       "      <td>10.4</td>\n",
       "      <td>-15</td>\n",
       "      <td>-3</td>\n",
       "      <td>2.666667</td>\n",
       "    </tr>\n",
       "    <tr>\n",
       "      <th>3</th>\n",
       "      <td>Martes</td>\n",
       "      <td>Mayormente soleado</td>\n",
       "      <td>29.4</td>\n",
       "      <td>11.1</td>\n",
       "      <td>-10</td>\n",
       "      <td>3</td>\n",
       "      <td>2.666667</td>\n",
       "    </tr>\n",
       "    <tr>\n",
       "      <th>4</th>\n",
       "      <td>Miércoles</td>\n",
       "      <td>Mayormente soleado</td>\n",
       "      <td>29.8</td>\n",
       "      <td>11.1</td>\n",
       "      <td>-5</td>\n",
       "      <td>3</td>\n",
       "      <td>2.666667</td>\n",
       "    </tr>\n",
       "  </tbody>\n",
       "</table>\n",
       "</div>"
      ],
      "text/plain": [
       "        Días            Pronóstico Temperatura máxima Temperatura mínima  \\\n",
       "0     Sábado  Parcialmente nublado               28.2               11.2   \n",
       "1    Domingo  Parcialmente nublado               29.1               10.7   \n",
       "2      Lunes    Mayormente nublado               26.1               10.4   \n",
       "3     Martes    Mayormente soleado               29.4               11.1   \n",
       "4  Miércoles    Mayormente soleado               29.8               11.1   \n",
       "\n",
       "   Días_lin  Pronóstico_lin  Pronóstico_cuad  \n",
       "0        10               1        10.666667  \n",
       "1        15               1        10.666667  \n",
       "2       -15              -3         2.666667  \n",
       "3       -10               3         2.666667  \n",
       "4        -5               3         2.666667  "
      ]
     },
     "execution_count": 16,
     "metadata": {},
     "output_type": "execute_result"
    }
   ],
   "source": [
    "df['Pronóstico_cuad']=df['Pronóstico'].map(Pronóstico_cuad)\n",
    "df.head()"
   ]
  },
  {
   "cell_type": "code",
   "execution_count": 17,
   "metadata": {
    "colab": {
     "base_uri": "https://localhost:8080/"
    },
    "executionInfo": {
     "elapsed": 158,
     "status": "ok",
     "timestamp": 1678241531063,
     "user": {
      "displayName": "Carlos Arellano",
      "userId": "03055712073717640513"
     },
     "user_tz": 360
    },
    "id": "VdOQIQ4D9cGW",
    "outputId": "f6a0710f-3b12-446c-debf-70bd0f0085d8"
   },
   "outputs": [
    {
     "data": {
      "text/plain": [
       "{'Lunes': 5.0,\n",
       " 'Martes': 0.0,\n",
       " 'Miércoles': -3.0,\n",
       " 'Jueves': -4.0,\n",
       " 'Viernes': -3.0,\n",
       " 'Sábado': 0.0,\n",
       " 'Domingo': 5.0}"
      ]
     },
     "execution_count": 17,
     "metadata": {},
     "output_type": "execute_result"
    }
   ],
   "source": [
    "#@title Codificación de `Días`\n",
    "n=len(df['Días'].unique())\n",
    "lim=n-1 if n%2==0 else (n-1)//2\n",
    "step=2 if n%2==0 else 1\n",
    "x=range(-lim,lim+1,step)\n",
    "a2=1\n",
    "a1=0\n",
    "a0=-a2/n*np.sum([i**2 for i in x])\n",
    "Días_cuad={categos:a0+a1*i+a2*i**2 for categos,i in zip(Días_ord,x)}\n",
    "Días_cuad"
   ]
  },
  {
   "cell_type": "code",
   "execution_count": 18,
   "metadata": {
    "colab": {
     "base_uri": "https://localhost:8080/"
    },
    "executionInfo": {
     "elapsed": 178,
     "status": "ok",
     "timestamp": 1678241603588,
     "user": {
      "displayName": "Carlos Arellano",
      "userId": "03055712073717640513"
     },
     "user_tz": 360
    },
    "id": "dtsqRIRi_jtQ",
    "outputId": "92c5caa4-98df-4f37-c58a-c8754f42aea0"
   },
   "outputs": [
    {
     "data": {
      "text/plain": [
       "0.0"
      ]
     },
     "execution_count": 18,
     "metadata": {},
     "output_type": "execute_result"
    }
   ],
   "source": [
    "np.sum(list(Días_cuad.values()))"
   ]
  },
  {
   "cell_type": "code",
   "execution_count": 19,
   "metadata": {
    "colab": {
     "base_uri": "https://localhost:8080/",
     "height": 206
    },
    "executionInfo": {
     "elapsed": 176,
     "status": "ok",
     "timestamp": 1678241649141,
     "user": {
      "displayName": "Carlos Arellano",
      "userId": "03055712073717640513"
     },
     "user_tz": 360
    },
    "id": "LT1kR74W_tLY",
    "outputId": "0ab10742-5361-424a-f1ea-d119dc9edb33"
   },
   "outputs": [
    {
     "data": {
      "text/html": [
       "<div>\n",
       "<style scoped>\n",
       "    .dataframe tbody tr th:only-of-type {\n",
       "        vertical-align: middle;\n",
       "    }\n",
       "\n",
       "    .dataframe tbody tr th {\n",
       "        vertical-align: top;\n",
       "    }\n",
       "\n",
       "    .dataframe thead th {\n",
       "        text-align: right;\n",
       "    }\n",
       "</style>\n",
       "<table border=\"1\" class=\"dataframe\">\n",
       "  <thead>\n",
       "    <tr style=\"text-align: right;\">\n",
       "      <th></th>\n",
       "      <th>Días</th>\n",
       "      <th>Pronóstico</th>\n",
       "      <th>Temperatura máxima</th>\n",
       "      <th>Temperatura mínima</th>\n",
       "      <th>Días_lin</th>\n",
       "      <th>Pronóstico_lin</th>\n",
       "      <th>Pronóstico_cuad</th>\n",
       "      <th>Días_cuad</th>\n",
       "    </tr>\n",
       "  </thead>\n",
       "  <tbody>\n",
       "    <tr>\n",
       "      <th>0</th>\n",
       "      <td>Sábado</td>\n",
       "      <td>Parcialmente nublado</td>\n",
       "      <td>28.2</td>\n",
       "      <td>11.2</td>\n",
       "      <td>10</td>\n",
       "      <td>1</td>\n",
       "      <td>10.666667</td>\n",
       "      <td>0.0</td>\n",
       "    </tr>\n",
       "    <tr>\n",
       "      <th>1</th>\n",
       "      <td>Domingo</td>\n",
       "      <td>Parcialmente nublado</td>\n",
       "      <td>29.1</td>\n",
       "      <td>10.7</td>\n",
       "      <td>15</td>\n",
       "      <td>1</td>\n",
       "      <td>10.666667</td>\n",
       "      <td>5.0</td>\n",
       "    </tr>\n",
       "    <tr>\n",
       "      <th>2</th>\n",
       "      <td>Lunes</td>\n",
       "      <td>Mayormente nublado</td>\n",
       "      <td>26.1</td>\n",
       "      <td>10.4</td>\n",
       "      <td>-15</td>\n",
       "      <td>-3</td>\n",
       "      <td>2.666667</td>\n",
       "      <td>5.0</td>\n",
       "    </tr>\n",
       "    <tr>\n",
       "      <th>3</th>\n",
       "      <td>Martes</td>\n",
       "      <td>Mayormente soleado</td>\n",
       "      <td>29.4</td>\n",
       "      <td>11.1</td>\n",
       "      <td>-10</td>\n",
       "      <td>3</td>\n",
       "      <td>2.666667</td>\n",
       "      <td>0.0</td>\n",
       "    </tr>\n",
       "    <tr>\n",
       "      <th>4</th>\n",
       "      <td>Miércoles</td>\n",
       "      <td>Mayormente soleado</td>\n",
       "      <td>29.8</td>\n",
       "      <td>11.1</td>\n",
       "      <td>-5</td>\n",
       "      <td>3</td>\n",
       "      <td>2.666667</td>\n",
       "      <td>-3.0</td>\n",
       "    </tr>\n",
       "  </tbody>\n",
       "</table>\n",
       "</div>"
      ],
      "text/plain": [
       "        Días            Pronóstico Temperatura máxima Temperatura mínima  \\\n",
       "0     Sábado  Parcialmente nublado               28.2               11.2   \n",
       "1    Domingo  Parcialmente nublado               29.1               10.7   \n",
       "2      Lunes    Mayormente nublado               26.1               10.4   \n",
       "3     Martes    Mayormente soleado               29.4               11.1   \n",
       "4  Miércoles    Mayormente soleado               29.8               11.1   \n",
       "\n",
       "   Días_lin  Pronóstico_lin  Pronóstico_cuad  Días_cuad  \n",
       "0        10               1        10.666667        0.0  \n",
       "1        15               1        10.666667        5.0  \n",
       "2       -15              -3         2.666667        5.0  \n",
       "3       -10               3         2.666667        0.0  \n",
       "4        -5               3         2.666667       -3.0  "
      ]
     },
     "execution_count": 19,
     "metadata": {},
     "output_type": "execute_result"
    }
   ],
   "source": [
    "df['Días_cuad']=df['Días'].map(Días_cuad)\n",
    "df.head()"
   ]
  },
  {
   "cell_type": "markdown",
   "metadata": {
    "id": "4znvqFfjpcPA"
   },
   "source": [
    "# Regresión lineal"
   ]
  },
  {
   "cell_type": "code",
   "execution_count": 20,
   "metadata": {
    "executionInfo": {
     "elapsed": 1585,
     "status": "ok",
     "timestamp": 1678241770236,
     "user": {
      "displayName": "Carlos Arellano",
      "userId": "03055712073717640513"
     },
     "user_tz": 360
    },
    "id": "VBGVt0TIpe1f"
   },
   "outputs": [],
   "source": [
    "from sklearn.linear_model import LinearRegression"
   ]
  },
  {
   "cell_type": "code",
   "execution_count": 21,
   "metadata": {
    "executionInfo": {
     "elapsed": 2,
     "status": "ok",
     "timestamp": 1678241791991,
     "user": {
      "displayName": "Carlos Arellano",
      "userId": "03055712073717640513"
     },
     "user_tz": 360
    },
    "id": "G7cBxA4iph4C"
   },
   "outputs": [],
   "source": [
    "import matplotlib.pyplot as plt"
   ]
  },
  {
   "cell_type": "code",
   "execution_count": 22,
   "metadata": {},
   "outputs": [
    {
     "data": {
      "text/plain": [
       "{'Soleado': 5,\n",
       " 'Mayormente soleado': 3,\n",
       " 'Parcialmente nublado': 1,\n",
       " 'Nublado': -1,\n",
       " 'Mayormente nublado': -3,\n",
       " 'Lluvioso': -5}"
      ]
     },
     "execution_count": 22,
     "metadata": {},
     "output_type": "execute_result"
    }
   ],
   "source": [
    "Pronóstico_lin\n"
   ]
  },
  {
   "cell_type": "code",
   "execution_count": 23,
   "metadata": {
    "colab": {
     "base_uri": "https://localhost:8080/",
     "height": 265
    },
    "executionInfo": {
     "elapsed": 678,
     "status": "ok",
     "timestamp": 1678241848192,
     "user": {
      "displayName": "Carlos Arellano",
      "userId": "03055712073717640513"
     },
     "user_tz": 360
    },
    "id": "nNgCCZLEAX23",
    "outputId": "8760ddf8-45d5-4457-c0e8-8bfa0a733ad8"
   },
   "outputs": [
    {
     "data": {
      "image/png": "[encoded data removed]",
      "text/plain": [
       "<Figure size 432x288 with 1 Axes>"
      ]
     },
     "metadata": {
      "needs_background": "light"
     },
     "output_type": "display_data"
    }
   ],
   "source": [
    "plt.scatter(df['Pronóstico_lin'],df['Temperatura mínima'])\n",
    "plt.xlabel('Pronóstico_lin')\n",
    "plt.ylabel('Temperatura mínima')\n",
    "plt.grid()"
   ]
  },
  {
   "cell_type": "code",
   "execution_count": 24,
   "metadata": {},
   "outputs": [
    {
     "data": {
      "text/plain": [
       "{'Soleado': -13.333333333333334,\n",
       " 'Mayormente soleado': 2.666666666666666,\n",
       " 'Parcialmente nublado': 10.666666666666666,\n",
       " 'Nublado': 10.666666666666666,\n",
       " 'Mayormente nublado': 2.666666666666666,\n",
       " 'Lluvioso': -13.333333333333334}"
      ]
     },
     "execution_count": 24,
     "metadata": {},
     "output_type": "execute_result"
    }
   ],
   "source": [
    "Pronóstico_cuad"
   ]
  },
  {
   "cell_type": "code",
   "execution_count": 25,
   "metadata": {
    "colab": {
     "base_uri": "https://localhost:8080/",
     "height": 265
    },
    "executionInfo": {
     "elapsed": 790,
     "status": "ok",
     "timestamp": 1678242037835,
     "user": {
      "displayName": "Carlos Arellano",
      "userId": "03055712073717640513"
     },
     "user_tz": 360
    },
    "id": "dMU3PbxLAlX_",
    "outputId": "8efebeb7-3169-40d3-86c6-203d788d3c47"
   },
   "outputs": [
    {
     "data": {
      "image/png": "[encoded data removed]",
      "text/plain": [
       "<Figure size 432x288 with 1 Axes>"
      ]
     },
     "metadata": {
      "needs_background": "light"
     },
     "output_type": "display_data"
    }
   ],
   "source": [
    "plt.scatter(df['Pronóstico_cuad'],df['Temperatura mínima'])\n",
    "plt.grid()"
   ]
  },
  {
   "cell_type": "code",
   "execution_count": 26,
   "metadata": {
    "colab": {
     "base_uri": "https://localhost:8080/",
     "height": 51
    },
    "executionInfo": {
     "elapsed": 207,
     "status": "ok",
     "timestamp": 1678242459588,
     "user": {
      "displayName": "Carlos Arellano",
      "userId": "03055712073717640513"
     },
     "user_tz": 360
    },
    "id": "uLeDnwOdBTvY",
    "outputId": "fb1e9a0a-9d78-4517-a836-b9fe90abf50c"
   },
   "outputs": [
    {
     "data": {
      "text/plain": [
       "LinearRegression()"
      ]
     },
     "execution_count": 26,
     "metadata": {},
     "output_type": "execute_result"
    }
   ],
   "source": [
    "lin=LinearRegression()\n",
    "lin.fit(df[['Pronóstico_lin','Pronóstico_cuad']],df['Temperatura mínima'])"
   ]
  },
  {
   "cell_type": "code",
   "execution_count": 27,
   "metadata": {
    "colab": {
     "base_uri": "https://localhost:8080/",
     "height": 265
    },
    "executionInfo": {
     "elapsed": 556,
     "status": "ok",
     "timestamp": 1678242580003,
     "user": {
      "displayName": "Carlos Arellano",
      "userId": "03055712073717640513"
     },
     "user_tz": 360
    },
    "id": "pwWPHX_4C61a",
    "outputId": "586fd274-d4a4-4501-d631-b3c41fb2a0cd"
   },
   "outputs": [
    {
     "data": {
      "image/png": "[encoded data removed]",
      "text/plain": [
       "<Figure size 432x288 with 1 Axes>"
      ]
     },
     "metadata": {
      "needs_background": "light"
     },
     "output_type": "display_data"
    }
   ],
   "source": [
    "f=lin.predict(df[['Pronóstico_lin','Pronóstico_cuad']])\n",
    "plt.scatter(df['Pronóstico_lin'],df['Temperatura mínima'],label='Observaciones')\n",
    "plt.scatter(df['Pronóstico_lin'],f,label='Predicción')\n",
    "plt.legend()\n",
    "plt.grid()"
   ]
  },
  {
   "cell_type": "code",
   "execution_count": 28,
   "metadata": {
    "colab": {
     "base_uri": "https://localhost:8080/",
     "height": 265
    },
    "executionInfo": {
     "elapsed": 235,
     "status": "ok",
     "timestamp": 1678242677301,
     "user": {
      "displayName": "Carlos Arellano",
      "userId": "03055712073717640513"
     },
     "user_tz": 360
    },
    "id": "i0N_r3aLDYI3",
    "outputId": "607a0c2a-d5d3-4cae-c6b5-b659af058018"
   },
   "outputs": [
    {
     "data": {
      "image/png": "[encoded data removed]",
      "text/plain": [
       "<Figure size 432x288 with 1 Axes>"
      ]
     },
     "metadata": {
      "needs_background": "light"
     },
     "output_type": "display_data"
    }
   ],
   "source": [
    "plt.scatter(df['Pronóstico_cuad'],df['Temperatura mínima'],label='Observaciones')\n",
    "plt.scatter(df['Pronóstico_cuad'],f,label='Predicción')\n",
    "plt.legend()\n",
    "plt.grid()"
   ]
  },
  {
   "cell_type": "markdown",
   "metadata": {},
   "source": [
    "### Creciente\n"
   ]
  },
  {
   "cell_type": "markdown",
   "metadata": {},
   "source": [
    "escogiendo $$ X={0,1,2,3,...} $$"
   ]
  },
  {
   "cell_type": "code",
   "execution_count": 40,
   "metadata": {},
   "outputs": [
    {
     "data": {
      "text/plain": [
       "[0, 1, 2, 3, 4, 5, 6]"
      ]
     },
     "execution_count": 40,
     "metadata": {},
     "output_type": "execute_result"
    }
   ],
   "source": [
    "n=len(df['Días'].unique())\n",
    "lim=n-1 if n%2==0 else (n-1)//2\n",
    "step = 2 if n%2==0 else 1\n",
    "x=range(-lim,lim+1,step)\n",
    "x_list = list(x)\n",
    "x_list = [x_list[i]+3 for i in range(len(x_list))]\n",
    "x_list"
   ]
  },
  {
   "cell_type": "code",
   "execution_count": 41,
   "metadata": {},
   "outputs": [
    {
     "data": {
      "text/plain": [
       "array(['Sábado', 'Domingo', 'Lunes', 'Martes', 'Miércoles', 'Jueves',\n",
       "       'Viernes'], dtype=object)"
      ]
     },
     "execution_count": 41,
     "metadata": {},
     "output_type": "execute_result"
    }
   ],
   "source": [
    "catego=df['Días'].unique()\n",
    "catego"
   ]
  },
  {
   "cell_type": "code",
   "execution_count": 42,
   "metadata": {},
   "outputs": [
    {
     "data": {
      "text/plain": [
       "array(['Lunes', 'Martes', 'Miércoles', 'Jueves', 'Viernes', 'Sábado',\n",
       "       'Domingo'], dtype=object)"
      ]
     },
     "execution_count": 42,
     "metadata": {},
     "output_type": "execute_result"
    }
   ],
   "source": [
    "Días_ord=np.concatenate([catego[2:],catego[:2]])\n",
    "Días_ord"
   ]
  },
  {
   "cell_type": "code",
   "execution_count": 45,
   "metadata": {},
   "outputs": [
    {
     "data": {
      "text/plain": [
       "{'Lunes': 0,\n",
       " 'Martes': 5,\n",
       " 'Miércoles': 10,\n",
       " 'Jueves': 15,\n",
       " 'Viernes': 20,\n",
       " 'Sábado': 25,\n",
       " 'Domingo': 30}"
      ]
     },
     "execution_count": 45,
     "metadata": {},
     "output_type": "execute_result"
    }
   ],
   "source": [
    "a0=0\n",
    "a1=5 #-0.1\n",
    "Días_crec={categorías:a1*i+a0 for categorías,i in zip(Días_ord,x_list)}\n",
    "Días_crec"
   ]
  },
  {
   "cell_type": "code",
   "execution_count": 47,
   "metadata": {},
   "outputs": [
    {
     "data": {
      "text/plain": [
       "0     25\n",
       "1     30\n",
       "2      0\n",
       "3      5\n",
       "4     10\n",
       "5     15\n",
       "6     20\n",
       "7     25\n",
       "8     30\n",
       "9      0\n",
       "10     5\n",
       "11    10\n",
       "12    15\n",
       "13    20\n",
       "14    25\n",
       "15    30\n",
       "16     0\n",
       "17     5\n",
       "18    10\n",
       "19    15\n",
       "20    20\n",
       "21    25\n",
       "22    30\n",
       "23     0\n",
       "24     5\n",
       "25    10\n",
       "26    15\n",
       "27    20\n",
       "28    25\n",
       "29    30\n",
       "30     0\n",
       "31     5\n",
       "32    10\n",
       "33    15\n",
       "34    20\n",
       "35    25\n",
       "36    30\n",
       "37     0\n",
       "38     5\n",
       "39    10\n",
       "40    15\n",
       "41    20\n",
       "42    25\n",
       "43    30\n",
       "44     0\n",
       "45     5\n",
       "46    10\n",
       "47    15\n",
       "Name: Días, dtype: int64"
      ]
     },
     "execution_count": 47,
     "metadata": {},
     "output_type": "execute_result"
    }
   ],
   "source": [
    "df['Días'].map(Días_crec)"
   ]
  },
  {
   "cell_type": "markdown",
   "metadata": {},
   "source": [
    "### Concava con a2 positivo"
   ]
  },
  {
   "cell_type": "markdown",
   "metadata": {},
   "source": [
    "$$n*a0+sum(a1*x+a2*x**2)=0$$"
   ]
  },
  {
   "cell_type": "code",
   "execution_count": 48,
   "metadata": {},
   "outputs": [
    {
     "data": {
      "text/plain": [
       "{'Soleado': 5.0,\n",
       " 'Mayormente soleado': 0.0,\n",
       " 'Parcialmente nublado': -3.0,\n",
       " 'Nublado': -4.0,\n",
       " 'Mayormente nublado': -3.0,\n",
       " 'Lluvioso': 0.0}"
      ]
     },
     "execution_count": 48,
     "metadata": {},
     "output_type": "execute_result"
    }
   ],
   "source": [
    "a2=1\n",
    "a1=0\n",
    "a0=-a2/n*np.sum([i**2 for i in x])\n",
    "Pronóstico_cuad_con={categorías:a0+a1*i+a2*i**2 for categorías,i in zip(Pronóstico_ord,x)}\n",
    "Pronóstico_cuad_con"
   ]
  },
  {
   "cell_type": "code",
   "execution_count": null,
   "metadata": {},
   "outputs": [],
   "source": []
  }
 ],
 "metadata": {
  "colab": {
   "authorship_tag": "ABX9TyMM8HDkvbsMXOC2FhEYtzRv",
   "mount_file_id": "1JSF0SlxEpnOEjdWeyj3IzGPio-lJX3cE",
   "provenance": []
  },
  "kernelspec": {
   "display_name": "Python 3 (ipykernel)",
   "language": "python",
   "name": "python3"
  },
  "language_info": {
   "codemirror_mode": {
    "name": "ipython",
    "version": 3
   },
   "file_extension": ".py",
   "mimetype": "text/x-python",
   "name": "python",
   "nbconvert_exporter": "python",
   "pygments_lexer": "ipython3",
   "version": "3.8.8"
  }
 },
 "nbformat": 4,
 "nbformat_minor": 1
}
