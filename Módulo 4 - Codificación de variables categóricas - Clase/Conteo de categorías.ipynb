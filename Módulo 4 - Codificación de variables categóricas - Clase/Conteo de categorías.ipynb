{
 "cells": [
  {
   "cell_type": "markdown",
   "metadata": {},
   "source": [
    "<img style=\"float: left;;\" src='Figures/iteso.jpg' width=\"100\" height=\"200\"/></a>\n",
    "\n",
    "# <center> <font color= #000047> Conteo de categorías </font> </center>"
   ]
  },
  {
   "cell_type": "code",
   "execution_count": 1,
   "metadata": {
    "executionInfo": {
     "elapsed": 2191,
     "status": "ok",
     "timestamp": 1678244039491,
     "user": {
      "displayName": "Carlos Arellano",
      "userId": "03055712073717640513"
     },
     "user_tz": 360
    },
    "id": "nWi6ATDXvYXT"
   },
   "outputs": [],
   "source": [
    "import pandas as pd\n",
    "import numpy as np\n",
    "\n",
    "data=pd.read_csv('temps.txt',sep='\\s+',header=None) # Fuente: http://astro.iam.udg.mx/Estacion/NOAAPRMO.TXT\n",
    "                                                         #         http://astro.iam.udg.mx/Estacion/NOAAMO.TXT\n",
    "data.columns=['Temperatura máxima','Temperatura mínima','HDD','CDD','Rain']\n",
    "d=['Sábado','Domingo','Lunes','Martes','Miércoles','Jueves','Viernes']\n",
    "dias=[d[i%7] for i in range(len(data))]\n",
    "catego=['Soleado','Mayormente soleado','Parcialmente nublado','Mayormente nublado','Nublado','Lluvioso']\n",
    "prono=[catego[-1] if data['Rain'][i]>0 else catego[int(round(1.2*(data['HDD'][i]-data['CDD'][i])+2))] for i in range(len(data))]\n",
    "df=pd.DataFrame(columns=['Días','Pronóstico','Temperatura máxima','Temperatura mínima'],index=range(len(data)))\n",
    "df.iloc[:,2:4]=data.iloc[:,0:2]\n",
    "df['Días']=dias\n",
    "df['Pronóstico']=prono\n",
    "\n",
    "txt1=\"Pedro Perez Pereira, pobre pintor portuguez, pinta preciosos paisajes para poder partir para Paris.\"\n",
    "txt2=\"Preciosos gatos y perros con mancha quiero. Partir de izquierda a derecha para poder llegar a algun lugar.\"\n",
    "txt3=\"En un lugar de la Mancha, cuyo nombre no quiero acordarme...\""
   ]
  },
  {
   "cell_type": "code",
   "execution_count": 2,
   "metadata": {
    "colab": {
     "base_uri": "https://localhost:8080/",
     "height": 206
    },
    "executionInfo": {
     "elapsed": 804,
     "status": "ok",
     "timestamp": 1678244054001,
     "user": {
      "displayName": "Carlos Arellano",
      "userId": "03055712073717640513"
     },
     "user_tz": 360
    },
    "id": "Nxcr6RIkvmiq",
    "outputId": "f3bdfa65-d0e4-4efd-85cb-559f29a9f20e"
   },
   "outputs": [
    {
     "data": {
      "text/html": [
       "<div>\n",
       "<style scoped>\n",
       "    .dataframe tbody tr th:only-of-type {\n",
       "        vertical-align: middle;\n",
       "    }\n",
       "\n",
       "    .dataframe tbody tr th {\n",
       "        vertical-align: top;\n",
       "    }\n",
       "\n",
       "    .dataframe thead th {\n",
       "        text-align: right;\n",
       "    }\n",
       "</style>\n",
       "<table border=\"1\" class=\"dataframe\">\n",
       "  <thead>\n",
       "    <tr style=\"text-align: right;\">\n",
       "      <th></th>\n",
       "      <th>Días</th>\n",
       "      <th>Pronóstico</th>\n",
       "      <th>Temperatura máxima</th>\n",
       "      <th>Temperatura mínima</th>\n",
       "    </tr>\n",
       "  </thead>\n",
       "  <tbody>\n",
       "    <tr>\n",
       "      <th>0</th>\n",
       "      <td>Sábado</td>\n",
       "      <td>Parcialmente nublado</td>\n",
       "      <td>28.2</td>\n",
       "      <td>11.2</td>\n",
       "    </tr>\n",
       "    <tr>\n",
       "      <th>1</th>\n",
       "      <td>Domingo</td>\n",
       "      <td>Parcialmente nublado</td>\n",
       "      <td>29.1</td>\n",
       "      <td>10.7</td>\n",
       "    </tr>\n",
       "    <tr>\n",
       "      <th>2</th>\n",
       "      <td>Lunes</td>\n",
       "      <td>Mayormente nublado</td>\n",
       "      <td>26.1</td>\n",
       "      <td>10.4</td>\n",
       "    </tr>\n",
       "    <tr>\n",
       "      <th>3</th>\n",
       "      <td>Martes</td>\n",
       "      <td>Mayormente soleado</td>\n",
       "      <td>29.4</td>\n",
       "      <td>11.1</td>\n",
       "    </tr>\n",
       "    <tr>\n",
       "      <th>4</th>\n",
       "      <td>Miércoles</td>\n",
       "      <td>Mayormente soleado</td>\n",
       "      <td>29.8</td>\n",
       "      <td>11.1</td>\n",
       "    </tr>\n",
       "  </tbody>\n",
       "</table>\n",
       "</div>"
      ],
      "text/plain": [
       "        Días            Pronóstico Temperatura máxima Temperatura mínima\n",
       "0     Sábado  Parcialmente nublado               28.2               11.2\n",
       "1    Domingo  Parcialmente nublado               29.1               10.7\n",
       "2      Lunes    Mayormente nublado               26.1               10.4\n",
       "3     Martes    Mayormente soleado               29.4               11.1\n",
       "4  Miércoles    Mayormente soleado               29.8               11.1"
      ]
     },
     "execution_count": 2,
     "metadata": {},
     "output_type": "execute_result"
    }
   ],
   "source": [
    "df.head()"
   ]
  },
  {
   "cell_type": "code",
   "execution_count": 3,
   "metadata": {},
   "outputs": [
    {
     "data": {
      "text/plain": [
       "array(['Parcialmente nublado', 'Mayormente nublado', 'Mayormente soleado',\n",
       "       'Soleado', 'Lluvioso', 'Nublado'], dtype=object)"
      ]
     },
     "execution_count": 3,
     "metadata": {},
     "output_type": "execute_result"
    }
   ],
   "source": [
    "df['Pronóstico'].unique()"
   ]
  },
  {
   "cell_type": "code",
   "execution_count": 4,
   "metadata": {
    "colab": {
     "base_uri": "https://localhost:8080/"
    },
    "executionInfo": {
     "elapsed": 198,
     "status": "ok",
     "timestamp": 1678244231211,
     "user": {
      "displayName": "Carlos Arellano",
      "userId": "03055712073717640513"
     },
     "user_tz": 360
    },
    "id": "-qbDalm5I__Q",
    "outputId": "f6fec15e-fe15-4350-a680-cbef26530ba7"
   },
   "outputs": [
    {
     "data": {
      "text/plain": [
       "Parcialmente nublado    18\n",
       "Mayormente soleado      14\n",
       "Mayormente nublado       6\n",
       "Soleado                  6\n",
       "Lluvioso                 2\n",
       "Nublado                  2\n",
       "Name: Pronóstico, dtype: int64"
      ]
     },
     "execution_count": 4,
     "metadata": {},
     "output_type": "execute_result"
    }
   ],
   "source": [
    "conteo=df['Pronóstico'].value_counts()\n",
    "conteo"
   ]
  },
  {
   "cell_type": "code",
   "execution_count": 5,
   "metadata": {
    "colab": {
     "base_uri": "https://localhost:8080/",
     "height": 206
    },
    "executionInfo": {
     "elapsed": 267,
     "status": "ok",
     "timestamp": 1678244264415,
     "user": {
      "displayName": "Carlos Arellano",
      "userId": "03055712073717640513"
     },
     "user_tz": 360
    },
    "id": "NgyPw_KaJrW_",
    "outputId": "d030e46e-b4ea-4bb2-cc18-ad27c7c1e768"
   },
   "outputs": [
    {
     "data": {
      "text/html": [
       "<div>\n",
       "<style scoped>\n",
       "    .dataframe tbody tr th:only-of-type {\n",
       "        vertical-align: middle;\n",
       "    }\n",
       "\n",
       "    .dataframe tbody tr th {\n",
       "        vertical-align: top;\n",
       "    }\n",
       "\n",
       "    .dataframe thead th {\n",
       "        text-align: right;\n",
       "    }\n",
       "</style>\n",
       "<table border=\"1\" class=\"dataframe\">\n",
       "  <thead>\n",
       "    <tr style=\"text-align: right;\">\n",
       "      <th></th>\n",
       "      <th>Días</th>\n",
       "      <th>Pronóstico</th>\n",
       "      <th>Temperatura máxima</th>\n",
       "      <th>Temperatura mínima</th>\n",
       "      <th>Conteo</th>\n",
       "    </tr>\n",
       "  </thead>\n",
       "  <tbody>\n",
       "    <tr>\n",
       "      <th>0</th>\n",
       "      <td>Sábado</td>\n",
       "      <td>Parcialmente nublado</td>\n",
       "      <td>28.2</td>\n",
       "      <td>11.2</td>\n",
       "      <td>18</td>\n",
       "    </tr>\n",
       "    <tr>\n",
       "      <th>1</th>\n",
       "      <td>Domingo</td>\n",
       "      <td>Parcialmente nublado</td>\n",
       "      <td>29.1</td>\n",
       "      <td>10.7</td>\n",
       "      <td>18</td>\n",
       "    </tr>\n",
       "    <tr>\n",
       "      <th>2</th>\n",
       "      <td>Lunes</td>\n",
       "      <td>Mayormente nublado</td>\n",
       "      <td>26.1</td>\n",
       "      <td>10.4</td>\n",
       "      <td>6</td>\n",
       "    </tr>\n",
       "    <tr>\n",
       "      <th>3</th>\n",
       "      <td>Martes</td>\n",
       "      <td>Mayormente soleado</td>\n",
       "      <td>29.4</td>\n",
       "      <td>11.1</td>\n",
       "      <td>14</td>\n",
       "    </tr>\n",
       "    <tr>\n",
       "      <th>4</th>\n",
       "      <td>Miércoles</td>\n",
       "      <td>Mayormente soleado</td>\n",
       "      <td>29.8</td>\n",
       "      <td>11.1</td>\n",
       "      <td>14</td>\n",
       "    </tr>\n",
       "  </tbody>\n",
       "</table>\n",
       "</div>"
      ],
      "text/plain": [
       "        Días            Pronóstico Temperatura máxima Temperatura mínima  \\\n",
       "0     Sábado  Parcialmente nublado               28.2               11.2   \n",
       "1    Domingo  Parcialmente nublado               29.1               10.7   \n",
       "2      Lunes    Mayormente nublado               26.1               10.4   \n",
       "3     Martes    Mayormente soleado               29.4               11.1   \n",
       "4  Miércoles    Mayormente soleado               29.8               11.1   \n",
       "\n",
       "   Conteo  \n",
       "0      18  \n",
       "1      18  \n",
       "2       6  \n",
       "3      14  \n",
       "4      14  "
      ]
     },
     "execution_count": 5,
     "metadata": {},
     "output_type": "execute_result"
    }
   ],
   "source": [
    "df['Conteo']=df['Pronóstico'].map(conteo)\n",
    "df.head()"
   ]
  },
  {
   "cell_type": "code",
   "execution_count": 6,
   "metadata": {
    "colab": {
     "base_uri": "https://localhost:8080/",
     "height": 206
    },
    "executionInfo": {
     "elapsed": 174,
     "status": "ok",
     "timestamp": 1678244387885,
     "user": {
      "displayName": "Carlos Arellano",
      "userId": "03055712073717640513"
     },
     "user_tz": 360
    },
    "id": "BBu_OIINJzck",
    "outputId": "c78e0fc7-d2a5-40b6-a94c-39d239f56844"
   },
   "outputs": [
    {
     "data": {
      "text/html": [
       "<div>\n",
       "<style scoped>\n",
       "    .dataframe tbody tr th:only-of-type {\n",
       "        vertical-align: middle;\n",
       "    }\n",
       "\n",
       "    .dataframe tbody tr th {\n",
       "        vertical-align: top;\n",
       "    }\n",
       "\n",
       "    .dataframe thead th {\n",
       "        text-align: right;\n",
       "    }\n",
       "</style>\n",
       "<table border=\"1\" class=\"dataframe\">\n",
       "  <thead>\n",
       "    <tr style=\"text-align: right;\">\n",
       "      <th></th>\n",
       "      <th>Días</th>\n",
       "      <th>Pronóstico</th>\n",
       "      <th>Temperatura máxima</th>\n",
       "      <th>Temperatura mínima</th>\n",
       "      <th>Conteo</th>\n",
       "      <th>Frecuencia</th>\n",
       "    </tr>\n",
       "  </thead>\n",
       "  <tbody>\n",
       "    <tr>\n",
       "      <th>0</th>\n",
       "      <td>Sábado</td>\n",
       "      <td>Parcialmente nublado</td>\n",
       "      <td>28.2</td>\n",
       "      <td>11.2</td>\n",
       "      <td>18</td>\n",
       "      <td>0.375000</td>\n",
       "    </tr>\n",
       "    <tr>\n",
       "      <th>1</th>\n",
       "      <td>Domingo</td>\n",
       "      <td>Parcialmente nublado</td>\n",
       "      <td>29.1</td>\n",
       "      <td>10.7</td>\n",
       "      <td>18</td>\n",
       "      <td>0.375000</td>\n",
       "    </tr>\n",
       "    <tr>\n",
       "      <th>2</th>\n",
       "      <td>Lunes</td>\n",
       "      <td>Mayormente nublado</td>\n",
       "      <td>26.1</td>\n",
       "      <td>10.4</td>\n",
       "      <td>6</td>\n",
       "      <td>0.125000</td>\n",
       "    </tr>\n",
       "    <tr>\n",
       "      <th>3</th>\n",
       "      <td>Martes</td>\n",
       "      <td>Mayormente soleado</td>\n",
       "      <td>29.4</td>\n",
       "      <td>11.1</td>\n",
       "      <td>14</td>\n",
       "      <td>0.291667</td>\n",
       "    </tr>\n",
       "    <tr>\n",
       "      <th>4</th>\n",
       "      <td>Miércoles</td>\n",
       "      <td>Mayormente soleado</td>\n",
       "      <td>29.8</td>\n",
       "      <td>11.1</td>\n",
       "      <td>14</td>\n",
       "      <td>0.291667</td>\n",
       "    </tr>\n",
       "  </tbody>\n",
       "</table>\n",
       "</div>"
      ],
      "text/plain": [
       "        Días            Pronóstico Temperatura máxima Temperatura mínima  \\\n",
       "0     Sábado  Parcialmente nublado               28.2               11.2   \n",
       "1    Domingo  Parcialmente nublado               29.1               10.7   \n",
       "2      Lunes    Mayormente nublado               26.1               10.4   \n",
       "3     Martes    Mayormente soleado               29.4               11.1   \n",
       "4  Miércoles    Mayormente soleado               29.8               11.1   \n",
       "\n",
       "   Conteo  Frecuencia  \n",
       "0      18    0.375000  \n",
       "1      18    0.375000  \n",
       "2       6    0.125000  \n",
       "3      14    0.291667  \n",
       "4      14    0.291667  "
      ]
     },
     "execution_count": 6,
     "metadata": {},
     "output_type": "execute_result"
    }
   ],
   "source": [
    "freq=df['Pronóstico'].value_counts()/len(df) #probabilidad de aparición de la categoría\n",
    "df['Frecuencia']=df['Pronóstico'].map(freq)\n",
    "df.head()"
   ]
  },
  {
   "cell_type": "code",
   "execution_count": 9,
   "metadata": {},
   "outputs": [
    {
     "data": {
      "text/plain": [
       "Parcialmente nublado    0.375000\n",
       "Mayormente soleado      0.291667\n",
       "Mayormente nublado      0.125000\n",
       "Soleado                 0.125000\n",
       "Lluvioso                0.041667\n",
       "Nublado                 0.041667\n",
       "Name: Pronóstico, dtype: float64"
      ]
     },
     "execution_count": 9,
     "metadata": {},
     "output_type": "execute_result"
    }
   ],
   "source": [
    "freq"
   ]
  },
  {
   "cell_type": "code",
   "execution_count": 7,
   "metadata": {
    "colab": {
     "base_uri": "https://localhost:8080/"
    },
    "executionInfo": {
     "elapsed": 175,
     "status": "ok",
     "timestamp": 1678244417023,
     "user": {
      "displayName": "Carlos Arellano",
      "userId": "03055712073717640513"
     },
     "user_tz": 360
    },
    "id": "Fihren1kKKaX",
    "outputId": "c72c3b54-a78c-40ef-ed9e-70431bd1e9d4"
   },
   "outputs": [
    {
     "data": {
      "text/plain": [
       "1.0"
      ]
     },
     "execution_count": 7,
     "metadata": {},
     "output_type": "execute_result"
    }
   ],
   "source": [
    "freq.sum()"
   ]
  },
  {
   "cell_type": "code",
   "execution_count": 8,
   "metadata": {},
   "outputs": [
    {
     "data": {
      "text/plain": [
       "Parcialmente nublado    0.375000\n",
       "Mayormente soleado      0.291667\n",
       "Mayormente nublado      0.125000\n",
       "Soleado                 0.125000\n",
       "Lluvioso                0.041667\n",
       "Nublado                 0.041667\n",
       "Name: Pronóstico, dtype: float64"
      ]
     },
     "execution_count": 8,
     "metadata": {},
     "output_type": "execute_result"
    }
   ],
   "source": [
    "df['Pronóstico'].value_counts(normalize = True)"
   ]
  },
  {
   "cell_type": "markdown",
   "metadata": {
    "id": "AUrIh7DkvqvM"
   },
   "source": [
    "# Bag of words"
   ]
  },
  {
   "cell_type": "code",
   "execution_count": 10,
   "metadata": {
    "executionInfo": {
     "elapsed": 1130,
     "status": "ok",
     "timestamp": 1678244527588,
     "user": {
      "displayName": "Carlos Arellano",
      "userId": "03055712073717640513"
     },
     "user_tz": 360
    },
    "id": "cWwfagxFvsOd"
   },
   "outputs": [],
   "source": [
    "from sklearn.feature_extraction.text import CountVectorizer"
   ]
  },
  {
   "cell_type": "code",
   "execution_count": 12,
   "metadata": {},
   "outputs": [
    {
     "data": {
      "text/plain": [
       "'Pedro Perez Pereira, pobre pintor portuguez, pinta preciosos paisajes para poder partir para Paris.'"
      ]
     },
     "execution_count": 12,
     "metadata": {},
     "output_type": "execute_result"
    }
   ],
   "source": [
    "txt1"
   ]
  },
  {
   "cell_type": "code",
   "execution_count": 13,
   "metadata": {},
   "outputs": [
    {
     "data": {
      "text/plain": [
       "'Preciosos gatos y perros con mancha quiero. Partir de izquierda a derecha para poder llegar a algun lugar.'"
      ]
     },
     "execution_count": 13,
     "metadata": {},
     "output_type": "execute_result"
    }
   ],
   "source": [
    "txt2"
   ]
  },
  {
   "cell_type": "code",
   "execution_count": 14,
   "metadata": {},
   "outputs": [
    {
     "data": {
      "text/plain": [
       "'En un lugar de la Mancha, cuyo nombre no quiero acordarme...'"
      ]
     },
     "execution_count": 14,
     "metadata": {},
     "output_type": "execute_result"
    }
   ],
   "source": [
    "txt3"
   ]
  },
  {
   "cell_type": "code",
   "execution_count": 11,
   "metadata": {
    "colab": {
     "base_uri": "https://localhost:8080/"
    },
    "executionInfo": {
     "elapsed": 166,
     "status": "ok",
     "timestamp": 1678244617767,
     "user": {
      "displayName": "Carlos Arellano",
      "userId": "03055712073717640513"
     },
     "user_tz": 360
    },
    "id": "aV3g3Q8uvs8w",
    "outputId": "5afaf13f-d369-4f9f-d00c-f9700ff93ab4"
   },
   "outputs": [
    {
     "data": {
      "text/plain": [
       "array([[0, 0, 0, 0, 0, 0, 0, 0, 0, 0, 0, 0, 0, 0, 0, 1, 2, 1, 1, 1, 1, 1,\n",
       "        0, 1, 1, 1, 1, 1, 1, 0, 0],\n",
       "       [0, 1, 1, 0, 1, 1, 0, 1, 1, 0, 1, 1, 1, 0, 0, 0, 1, 0, 1, 0, 0, 0,\n",
       "        1, 0, 0, 0, 1, 0, 1, 1, 0],\n",
       "       [1, 0, 0, 1, 1, 0, 1, 0, 0, 1, 0, 1, 1, 1, 1, 0, 0, 0, 0, 0, 0, 0,\n",
       "        0, 0, 0, 0, 0, 0, 0, 1, 1]], dtype=int64)"
      ]
     },
     "execution_count": 11,
     "metadata": {},
     "output_type": "execute_result"
    }
   ],
   "source": [
    "contador=CountVectorizer()\n",
    "matriz=contador.fit_transform([txt1,txt2,txt3])\n",
    "matriz.toarray()"
   ]
  },
  {
   "cell_type": "code",
   "execution_count": 15,
   "metadata": {
    "colab": {
     "base_uri": "https://localhost:8080/"
    },
    "executionInfo": {
     "elapsed": 169,
     "status": "ok",
     "timestamp": 1678244795199,
     "user": {
      "displayName": "Carlos Arellano",
      "userId": "03055712073717640513"
     },
     "user_tz": 360
    },
    "id": "DgkFtuayLJvX",
    "outputId": "ff8e254e-d9f9-4895-e908-316a2f603793"
   },
   "outputs": [
    {
     "data": {
      "text/plain": [
       "['acordarme',\n",
       " 'algun',\n",
       " 'con',\n",
       " 'cuyo',\n",
       " 'de',\n",
       " 'derecha',\n",
       " 'en',\n",
       " 'gatos',\n",
       " 'izquierda',\n",
       " 'la',\n",
       " 'llegar',\n",
       " 'lugar',\n",
       " 'mancha',\n",
       " 'no',\n",
       " 'nombre',\n",
       " 'paisajes',\n",
       " 'para',\n",
       " 'paris',\n",
       " 'partir',\n",
       " 'pedro',\n",
       " 'pereira',\n",
       " 'perez',\n",
       " 'perros',\n",
       " 'pinta',\n",
       " 'pintor',\n",
       " 'pobre',\n",
       " 'poder',\n",
       " 'portuguez',\n",
       " 'preciosos',\n",
       " 'quiero',\n",
       " 'un']"
      ]
     },
     "execution_count": 15,
     "metadata": {},
     "output_type": "execute_result"
    }
   ],
   "source": [
    "#contador.get_feature_names_out()\n",
    "contador.get_feature_names()   # En NLP ----> vocabulario"
   ]
  },
  {
   "cell_type": "code",
   "execution_count": null,
   "metadata": {},
   "outputs": [],
   "source": []
  },
  {
   "cell_type": "code",
   "execution_count": 16,
   "metadata": {
    "colab": {
     "base_uri": "https://localhost:8080/",
     "height": 236
    },
    "executionInfo": {
     "elapsed": 183,
     "status": "ok",
     "timestamp": 1678244911911,
     "user": {
      "displayName": "Carlos Arellano",
      "userId": "03055712073717640513"
     },
     "user_tz": 360
    },
    "id": "RR-ihJ4WLy-_",
    "outputId": "cd90045d-34d6-4c36-f7b9-9a6416e7714f"
   },
   "outputs": [
    {
     "data": {
      "text/html": [
       "<div>\n",
       "<style scoped>\n",
       "    .dataframe tbody tr th:only-of-type {\n",
       "        vertical-align: middle;\n",
       "    }\n",
       "\n",
       "    .dataframe tbody tr th {\n",
       "        vertical-align: top;\n",
       "    }\n",
       "\n",
       "    .dataframe thead th {\n",
       "        text-align: right;\n",
       "    }\n",
       "</style>\n",
       "<table border=\"1\" class=\"dataframe\">\n",
       "  <thead>\n",
       "    <tr style=\"text-align: right;\">\n",
       "      <th></th>\n",
       "      <th>acordarme</th>\n",
       "      <th>algun</th>\n",
       "      <th>con</th>\n",
       "      <th>cuyo</th>\n",
       "      <th>de</th>\n",
       "      <th>derecha</th>\n",
       "      <th>en</th>\n",
       "      <th>gatos</th>\n",
       "      <th>izquierda</th>\n",
       "      <th>la</th>\n",
       "      <th>...</th>\n",
       "      <th>perez</th>\n",
       "      <th>perros</th>\n",
       "      <th>pinta</th>\n",
       "      <th>pintor</th>\n",
       "      <th>pobre</th>\n",
       "      <th>poder</th>\n",
       "      <th>portuguez</th>\n",
       "      <th>preciosos</th>\n",
       "      <th>quiero</th>\n",
       "      <th>un</th>\n",
       "    </tr>\n",
       "  </thead>\n",
       "  <tbody>\n",
       "    <tr>\n",
       "      <th>txt1</th>\n",
       "      <td>0</td>\n",
       "      <td>0</td>\n",
       "      <td>0</td>\n",
       "      <td>0</td>\n",
       "      <td>0</td>\n",
       "      <td>0</td>\n",
       "      <td>0</td>\n",
       "      <td>0</td>\n",
       "      <td>0</td>\n",
       "      <td>0</td>\n",
       "      <td>...</td>\n",
       "      <td>1</td>\n",
       "      <td>0</td>\n",
       "      <td>1</td>\n",
       "      <td>1</td>\n",
       "      <td>1</td>\n",
       "      <td>1</td>\n",
       "      <td>1</td>\n",
       "      <td>1</td>\n",
       "      <td>0</td>\n",
       "      <td>0</td>\n",
       "    </tr>\n",
       "    <tr>\n",
       "      <th>txt2</th>\n",
       "      <td>0</td>\n",
       "      <td>1</td>\n",
       "      <td>1</td>\n",
       "      <td>0</td>\n",
       "      <td>1</td>\n",
       "      <td>1</td>\n",
       "      <td>0</td>\n",
       "      <td>1</td>\n",
       "      <td>1</td>\n",
       "      <td>0</td>\n",
       "      <td>...</td>\n",
       "      <td>0</td>\n",
       "      <td>1</td>\n",
       "      <td>0</td>\n",
       "      <td>0</td>\n",
       "      <td>0</td>\n",
       "      <td>1</td>\n",
       "      <td>0</td>\n",
       "      <td>1</td>\n",
       "      <td>1</td>\n",
       "      <td>0</td>\n",
       "    </tr>\n",
       "    <tr>\n",
       "      <th>txt3</th>\n",
       "      <td>1</td>\n",
       "      <td>0</td>\n",
       "      <td>0</td>\n",
       "      <td>1</td>\n",
       "      <td>1</td>\n",
       "      <td>0</td>\n",
       "      <td>1</td>\n",
       "      <td>0</td>\n",
       "      <td>0</td>\n",
       "      <td>1</td>\n",
       "      <td>...</td>\n",
       "      <td>0</td>\n",
       "      <td>0</td>\n",
       "      <td>0</td>\n",
       "      <td>0</td>\n",
       "      <td>0</td>\n",
       "      <td>0</td>\n",
       "      <td>0</td>\n",
       "      <td>0</td>\n",
       "      <td>1</td>\n",
       "      <td>1</td>\n",
       "    </tr>\n",
       "  </tbody>\n",
       "</table>\n",
       "<p>3 rows × 31 columns</p>\n",
       "</div>"
      ],
      "text/plain": [
       "      acordarme  algun  con  cuyo  de  derecha  en  gatos  izquierda  la  ...  \\\n",
       "txt1          0      0    0     0   0        0   0      0          0   0  ...   \n",
       "txt2          0      1    1     0   1        1   0      1          1   0  ...   \n",
       "txt3          1      0    0     1   1        0   1      0          0   1  ...   \n",
       "\n",
       "      perez  perros  pinta  pintor  pobre  poder  portuguez  preciosos  \\\n",
       "txt1      1       0      1       1      1      1          1          1   \n",
       "txt2      0       1      0       0      0      1          0          1   \n",
       "txt3      0       0      0       0      0      0          0          0   \n",
       "\n",
       "      quiero  un  \n",
       "txt1       0   0  \n",
       "txt2       1   0  \n",
       "txt3       1   1  \n",
       "\n",
       "[3 rows x 31 columns]"
      ]
     },
     "execution_count": 16,
     "metadata": {},
     "output_type": "execute_result"
    }
   ],
   "source": [
    "pd.DataFrame(matriz.toarray(),['txt1','txt2','txt3'],contador.get_feature_names()) #Matriz de frecuencias"
   ]
  },
  {
   "cell_type": "markdown",
   "metadata": {
    "id": "Me-L9ctwvtnF"
   },
   "source": [
    "### n-grams"
   ]
  },
  {
   "cell_type": "code",
   "execution_count": 17,
   "metadata": {
    "colab": {
     "base_uri": "https://localhost:8080/",
     "height": 35
    },
    "executionInfo": {
     "elapsed": 202,
     "status": "ok",
     "timestamp": 1678244967201,
     "user": {
      "displayName": "Carlos Arellano",
      "userId": "03055712073717640513"
     },
     "user_tz": 360
    },
    "id": "EaEI-zVkvwNG",
    "outputId": "a1f8b00d-65ef-496b-a918-6f89e71ee5fe"
   },
   "outputs": [
    {
     "data": {
      "text/plain": [
       "'Pedro Perez Pereira, pobre pintor portuguez, pinta preciosos paisajes para poder partir para Paris.'"
      ]
     },
     "execution_count": 17,
     "metadata": {},
     "output_type": "execute_result"
    }
   ],
   "source": [
    "txt1"
   ]
  },
  {
   "cell_type": "code",
   "execution_count": 18,
   "metadata": {
    "colab": {
     "base_uri": "https://localhost:8080/",
     "height": 254
    },
    "executionInfo": {
     "elapsed": 174,
     "status": "ok",
     "timestamp": 1678245233381,
     "user": {
      "displayName": "Carlos Arellano",
      "userId": "03055712073717640513"
     },
     "user_tz": 360
    },
    "id": "BAA46ierMe8n",
    "outputId": "b7130b35-c3de-4dbd-c8fa-a3e2d1d854f9"
   },
   "outputs": [
    {
     "data": {
      "text/html": [
       "<div>\n",
       "<style scoped>\n",
       "    .dataframe tbody tr th:only-of-type {\n",
       "        vertical-align: middle;\n",
       "    }\n",
       "\n",
       "    .dataframe tbody tr th {\n",
       "        vertical-align: top;\n",
       "    }\n",
       "\n",
       "    .dataframe thead th {\n",
       "        text-align: right;\n",
       "    }\n",
       "</style>\n",
       "<table border=\"1\" class=\"dataframe\">\n",
       "  <thead>\n",
       "    <tr style=\"text-align: right;\">\n",
       "      <th></th>\n",
       "      <th>algun lugar</th>\n",
       "      <th>con mancha</th>\n",
       "      <th>cuyo nombre</th>\n",
       "      <th>de izquierda</th>\n",
       "      <th>de la</th>\n",
       "      <th>derecha para</th>\n",
       "      <th>en un</th>\n",
       "      <th>gatos perros</th>\n",
       "      <th>izquierda derecha</th>\n",
       "      <th>la mancha</th>\n",
       "      <th>...</th>\n",
       "      <th>pintor portuguez</th>\n",
       "      <th>pobre pintor</th>\n",
       "      <th>poder llegar</th>\n",
       "      <th>poder partir</th>\n",
       "      <th>portuguez pinta</th>\n",
       "      <th>preciosos gatos</th>\n",
       "      <th>preciosos paisajes</th>\n",
       "      <th>quiero acordarme</th>\n",
       "      <th>quiero partir</th>\n",
       "      <th>un lugar</th>\n",
       "    </tr>\n",
       "  </thead>\n",
       "  <tbody>\n",
       "    <tr>\n",
       "      <th>txt1</th>\n",
       "      <td>0</td>\n",
       "      <td>0</td>\n",
       "      <td>0</td>\n",
       "      <td>0</td>\n",
       "      <td>0</td>\n",
       "      <td>0</td>\n",
       "      <td>0</td>\n",
       "      <td>0</td>\n",
       "      <td>0</td>\n",
       "      <td>0</td>\n",
       "      <td>...</td>\n",
       "      <td>1</td>\n",
       "      <td>1</td>\n",
       "      <td>0</td>\n",
       "      <td>1</td>\n",
       "      <td>1</td>\n",
       "      <td>0</td>\n",
       "      <td>1</td>\n",
       "      <td>0</td>\n",
       "      <td>0</td>\n",
       "      <td>0</td>\n",
       "    </tr>\n",
       "    <tr>\n",
       "      <th>txt2</th>\n",
       "      <td>1</td>\n",
       "      <td>1</td>\n",
       "      <td>0</td>\n",
       "      <td>1</td>\n",
       "      <td>0</td>\n",
       "      <td>1</td>\n",
       "      <td>0</td>\n",
       "      <td>1</td>\n",
       "      <td>1</td>\n",
       "      <td>0</td>\n",
       "      <td>...</td>\n",
       "      <td>0</td>\n",
       "      <td>0</td>\n",
       "      <td>1</td>\n",
       "      <td>0</td>\n",
       "      <td>0</td>\n",
       "      <td>1</td>\n",
       "      <td>0</td>\n",
       "      <td>0</td>\n",
       "      <td>1</td>\n",
       "      <td>0</td>\n",
       "    </tr>\n",
       "    <tr>\n",
       "      <th>txt3</th>\n",
       "      <td>0</td>\n",
       "      <td>0</td>\n",
       "      <td>1</td>\n",
       "      <td>0</td>\n",
       "      <td>1</td>\n",
       "      <td>0</td>\n",
       "      <td>1</td>\n",
       "      <td>0</td>\n",
       "      <td>0</td>\n",
       "      <td>1</td>\n",
       "      <td>...</td>\n",
       "      <td>0</td>\n",
       "      <td>0</td>\n",
       "      <td>0</td>\n",
       "      <td>0</td>\n",
       "      <td>0</td>\n",
       "      <td>0</td>\n",
       "      <td>0</td>\n",
       "      <td>1</td>\n",
       "      <td>0</td>\n",
       "      <td>1</td>\n",
       "    </tr>\n",
       "  </tbody>\n",
       "</table>\n",
       "<p>3 rows × 36 columns</p>\n",
       "</div>"
      ],
      "text/plain": [
       "      algun lugar  con mancha  cuyo nombre  de izquierda  de la  derecha para  \\\n",
       "txt1            0           0            0             0      0             0   \n",
       "txt2            1           1            0             1      0             1   \n",
       "txt3            0           0            1             0      1             0   \n",
       "\n",
       "      en un  gatos perros  izquierda derecha  la mancha  ...  \\\n",
       "txt1      0             0                  0          0  ...   \n",
       "txt2      0             1                  1          0  ...   \n",
       "txt3      1             0                  0          1  ...   \n",
       "\n",
       "      pintor portuguez  pobre pintor  poder llegar  poder partir  \\\n",
       "txt1                 1             1             0             1   \n",
       "txt2                 0             0             1             0   \n",
       "txt3                 0             0             0             0   \n",
       "\n",
       "      portuguez pinta  preciosos gatos  preciosos paisajes  quiero acordarme  \\\n",
       "txt1                1                0                   1                 0   \n",
       "txt2                0                1                   0                 0   \n",
       "txt3                0                0                   0                 1   \n",
       "\n",
       "      quiero partir  un lugar  \n",
       "txt1              0         0  \n",
       "txt2              1         0  \n",
       "txt3              0         1  \n",
       "\n",
       "[3 rows x 36 columns]"
      ]
     },
     "execution_count": 18,
     "metadata": {},
     "output_type": "execute_result"
    }
   ],
   "source": [
    "contador=CountVectorizer(ngram_range=(2,2))\n",
    "data=contador.fit_transform([txt1,txt2,txt3]).toarray()\n",
    "names=contador.get_feature_names()\n",
    "pd.DataFrame(data,['txt1','txt2','txt3'],names)"
   ]
  },
  {
   "cell_type": "code",
   "execution_count": null,
   "metadata": {},
   "outputs": [],
   "source": []
  }
 ],
 "metadata": {
  "colab": {
   "authorship_tag": "ABX9TyNC+Jim04VX4mvOK9BJVpGc",
   "mount_file_id": "1lU37d4ao3hMs-MWc2XJKvimD6E4rns4W",
   "provenance": []
  },
  "kernelspec": {
   "display_name": "Python 3 (ipykernel)",
   "language": "python",
   "name": "python3"
  },
  "language_info": {
   "codemirror_mode": {
    "name": "ipython",
    "version": 3
   },
   "file_extension": ".py",
   "mimetype": "text/x-python",
   "name": "python",
   "nbconvert_exporter": "python",
   "pygments_lexer": "ipython3",
   "version": "3.8.8"
  }
 },
 "nbformat": 4,
 "nbformat_minor": 1
}
