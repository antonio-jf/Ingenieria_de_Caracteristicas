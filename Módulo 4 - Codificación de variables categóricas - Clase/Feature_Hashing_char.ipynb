{
 "cells": [
  {
   "cell_type": "code",
   "execution_count": 1,
   "metadata": {
    "colab": {
     "base_uri": "https://localhost:8080/",
     "height": 708
    },
    "id": "FxJV9RzCiyAF",
    "outputId": "1489f18e-80fd-4ff6-c5ea-c78156f5ae54"
   },
   "outputs": [
    {
     "data": {
      "text/html": [
       "<div>\n",
       "<style scoped>\n",
       "    .dataframe tbody tr th:only-of-type {\n",
       "        vertical-align: middle;\n",
       "    }\n",
       "\n",
       "    .dataframe tbody tr th {\n",
       "        vertical-align: top;\n",
       "    }\n",
       "\n",
       "    .dataframe thead th {\n",
       "        text-align: right;\n",
       "    }\n",
       "</style>\n",
       "<table border=\"1\" class=\"dataframe\">\n",
       "  <thead>\n",
       "    <tr style=\"text-align: right;\">\n",
       "      <th></th>\n",
       "      <th>Países</th>\n",
       "    </tr>\n",
       "  </thead>\n",
       "  <tbody>\n",
       "    <tr>\n",
       "      <th>0</th>\n",
       "      <td>MEX</td>\n",
       "    </tr>\n",
       "    <tr>\n",
       "      <th>1</th>\n",
       "      <td>CHN</td>\n",
       "    </tr>\n",
       "    <tr>\n",
       "      <th>2</th>\n",
       "      <td>CAN</td>\n",
       "    </tr>\n",
       "    <tr>\n",
       "      <th>3</th>\n",
       "      <td>POL</td>\n",
       "    </tr>\n",
       "    <tr>\n",
       "      <th>4</th>\n",
       "      <td>CPV</td>\n",
       "    </tr>\n",
       "    <tr>\n",
       "      <th>5</th>\n",
       "      <td>PHL</td>\n",
       "    </tr>\n",
       "    <tr>\n",
       "      <th>6</th>\n",
       "      <td>EGY</td>\n",
       "    </tr>\n",
       "    <tr>\n",
       "      <th>7</th>\n",
       "      <td>PHL</td>\n",
       "    </tr>\n",
       "    <tr>\n",
       "      <th>8</th>\n",
       "      <td>FIN</td>\n",
       "    </tr>\n",
       "    <tr>\n",
       "      <th>9</th>\n",
       "      <td>ITA</td>\n",
       "    </tr>\n",
       "    <tr>\n",
       "      <th>10</th>\n",
       "      <td>AUS</td>\n",
       "    </tr>\n",
       "    <tr>\n",
       "      <th>11</th>\n",
       "      <td>CZE</td>\n",
       "    </tr>\n",
       "    <tr>\n",
       "      <th>12</th>\n",
       "      <td>BLZ</td>\n",
       "    </tr>\n",
       "    <tr>\n",
       "      <th>13</th>\n",
       "      <td>CAN</td>\n",
       "    </tr>\n",
       "    <tr>\n",
       "      <th>14</th>\n",
       "      <td>FIN</td>\n",
       "    </tr>\n",
       "    <tr>\n",
       "      <th>15</th>\n",
       "      <td>FRA</td>\n",
       "    </tr>\n",
       "    <tr>\n",
       "      <th>16</th>\n",
       "      <td>PHL</td>\n",
       "    </tr>\n",
       "    <tr>\n",
       "      <th>17</th>\n",
       "      <td>PHL</td>\n",
       "    </tr>\n",
       "    <tr>\n",
       "      <th>18</th>\n",
       "      <td>RUS</td>\n",
       "    </tr>\n",
       "    <tr>\n",
       "      <th>19</th>\n",
       "      <td>MAR</td>\n",
       "    </tr>\n",
       "    <tr>\n",
       "      <th>20</th>\n",
       "      <td>ESP</td>\n",
       "    </tr>\n",
       "  </tbody>\n",
       "</table>\n",
       "</div>"
      ],
      "text/plain": [
       "   Países\n",
       "0     MEX\n",
       "1     CHN\n",
       "2     CAN\n",
       "3     POL\n",
       "4     CPV\n",
       "5     PHL\n",
       "6     EGY\n",
       "7     PHL\n",
       "8     FIN\n",
       "9     ITA\n",
       "10    AUS\n",
       "11    CZE\n",
       "12    BLZ\n",
       "13    CAN\n",
       "14    FIN\n",
       "15    FRA\n",
       "16    PHL\n",
       "17    PHL\n",
       "18    RUS\n",
       "19    MAR\n",
       "20    ESP"
      ]
     },
     "execution_count": 1,
     "metadata": {},
     "output_type": "execute_result"
    }
   ],
   "source": [
    "import pandas as pd\n",
    "ruta='/content/drive/MyDrive/Colab Notebooks/ITESO/Ingeniería de características/O2023_MCD3735A/Módulo 4 - Codificación de variables categóricas/'\n",
    "df=pd.read_csv('Países.csv')\n",
    "df.head(21)"
   ]
  },
  {
   "cell_type": "code",
   "execution_count": 2,
   "metadata": {
    "colab": {
     "base_uri": "https://localhost:8080/"
    },
    "id": "AlrmPJIhjB-v",
    "outputId": "5920d05d-2178-45c0-99d5-ede4b905f4f2"
   },
   "outputs": [
    {
     "data": {
      "text/plain": [
       "91"
      ]
     },
     "execution_count": 2,
     "metadata": {},
     "output_type": "execute_result"
    }
   ],
   "source": [
    "# Cardinalidad de 'Paises'\n",
    "n=len(df['Países'].unique())\n",
    "n"
   ]
  },
  {
   "cell_type": "code",
   "execution_count": 3,
   "metadata": {
    "colab": {
     "base_uri": "https://localhost:8080/"
    },
    "id": "LTuo1EloLiBE",
    "outputId": "bac71bed-edea-44e0-a687-a06adcfde261"
   },
   "outputs": [
    {
     "data": {
      "text/plain": [
       "18"
      ]
     },
     "execution_count": 3,
     "metadata": {},
     "output_type": "execute_result"
    }
   ],
   "source": [
    "round(0.2*n)"
   ]
  },
  {
   "cell_type": "code",
   "execution_count": 4,
   "metadata": {
    "colab": {
     "base_uri": "https://localhost:8080/"
    },
    "id": "J2y3QnvkLxiH",
    "outputId": "561bf1e3-c4e7-493b-8dda-6800f4462b99"
   },
   "outputs": [
    {
     "data": {
      "text/plain": [
       "448.0"
      ]
     },
     "execution_count": 4,
     "metadata": {},
     "output_type": "execute_result"
    }
   ],
   "source": [
    "0.8*len(df)"
   ]
  },
  {
   "cell_type": "code",
   "execution_count": 5,
   "metadata": {
    "colab": {
     "base_uri": "https://localhost:8080/",
     "height": 394
    },
    "id": "rAGavq1_MCPi",
    "outputId": "667bac10-f939-4ee1-ca9b-cd61f3f22ed1"
   },
   "outputs": [
    {
     "data": {
      "text/plain": [
       "<AxesSubplot:>"
      ]
     },
     "execution_count": 5,
     "metadata": {},
     "output_type": "execute_result"
    },
    {
     "data": {
      "image/png": "[encoded data removed]",
      "text/plain": [
       "<Figure size 1080x360 with 1 Axes>"
      ]
     },
     "metadata": {
      "needs_background": "light"
     },
     "output_type": "display_data"
    }
   ],
   "source": [
    "conteo_paises=df['Países'].value_counts()\n",
    "conteo_paises.plot.bar(figsize=(15,5))"
   ]
  },
  {
   "cell_type": "code",
   "execution_count": 6,
   "metadata": {
    "colab": {
     "base_uri": "https://localhost:8080/",
     "height": 448
    },
    "id": "C-wZQB9WMqVY",
    "outputId": "619806a4-cbeb-4712-9206-330ec5a46957"
   },
   "outputs": [
    {
     "data": {
      "text/plain": [
       "<AxesSubplot:>"
      ]
     },
     "execution_count": 6,
     "metadata": {},
     "output_type": "execute_result"
    },
    {
     "data": {
      "image/png": "[encoded data removed]",
      "text/plain": [
       "<Figure size 432x288 with 1 Axes>"
      ]
     },
     "metadata": {
      "needs_background": "light"
     },
     "output_type": "display_data"
    }
   ],
   "source": [
    "suma_paises=conteo_paises.cumsum()\n",
    "(suma_paises/len(df)).plot(grid=True)"
   ]
  },
  {
   "cell_type": "code",
   "execution_count": 7,
   "metadata": {
    "colab": {
     "base_uri": "https://localhost:8080/"
    },
    "id": "lGJbjHcGNdwQ",
    "outputId": "10ae200f-9de1-4ec7-82cd-77fb1d9557d9"
   },
   "outputs": [
    {
     "data": {
      "text/plain": [
       "448.0"
      ]
     },
     "execution_count": 7,
     "metadata": {},
     "output_type": "execute_result"
    }
   ],
   "source": [
    "n_obs=len(df)\n",
    "0.8*n_obs"
   ]
  },
  {
   "cell_type": "code",
   "execution_count": 8,
   "metadata": {
    "colab": {
     "base_uri": "https://localhost:8080/"
    },
    "id": "7QAVkZ3sNM2e",
    "outputId": "5504ce3b-f010-46af-dc24-48eb715b356b"
   },
   "outputs": [
    {
     "data": {
      "text/plain": [
       "442"
      ]
     },
     "execution_count": 8,
     "metadata": {},
     "output_type": "execute_result"
    }
   ],
   "source": [
    "suma_paises.iloc[18]"
   ]
  },
  {
   "cell_type": "code",
   "execution_count": 9,
   "metadata": {
    "colab": {
     "base_uri": "https://localhost:8080/"
    },
    "id": "NSH2wV1RNmxR",
    "outputId": "d4f442df-f7e9-42e0-f0e0-cb20700c0a61"
   },
   "outputs": [
    {
     "data": {
      "text/plain": [
       "0.8160714285714286"
      ]
     },
     "execution_count": 9,
     "metadata": {},
     "output_type": "execute_result"
    }
   ],
   "source": [
    "suma_paises.iloc[19]/n_obs"
   ]
  },
  {
   "cell_type": "code",
   "execution_count": 10,
   "metadata": {
    "colab": {
     "base_uri": "https://localhost:8080/",
     "height": 36
    },
    "id": "XzsYyjp7N_mq",
    "outputId": "f934c4ba-7804-4cba-a564-a1eebc2992a2"
   },
   "outputs": [
    {
     "data": {
      "text/plain": [
       "'POL'"
      ]
     },
     "execution_count": 10,
     "metadata": {},
     "output_type": "execute_result"
    }
   ],
   "source": [
    "conteo_paises.index[19]"
   ]
  },
  {
   "cell_type": "code",
   "execution_count": 11,
   "metadata": {
    "colab": {
     "base_uri": "https://localhost:8080/",
     "height": 36
    },
    "id": "pMginTFWOR31",
    "outputId": "c6caad59-5f1e-407d-8751-59b201d29df7"
   },
   "outputs": [
    {
     "data": {
      "text/plain": [
       "'POL'"
      ]
     },
     "execution_count": 11,
     "metadata": {},
     "output_type": "execute_result"
    }
   ],
   "source": [
    "suma_paises.index[19]"
   ]
  },
  {
   "cell_type": "markdown",
   "metadata": {
    "id": "dSkTu9ipjL0j"
   },
   "source": [
    "# Feature hashing (Hashing trick)"
   ]
  },
  {
   "cell_type": "code",
   "execution_count": 12,
   "metadata": {
    "id": "Qr1w-lAhjMdv"
   },
   "outputs": [],
   "source": [
    "m=20"
   ]
  },
  {
   "cell_type": "code",
   "execution_count": 13,
   "metadata": {
    "id": "UmPb3CVZjry9"
   },
   "outputs": [],
   "source": [
    "#@title Función Hash para representar la frecuencia\n",
    "contador=[0]*m # Contador con 'm' ceros"
   ]
  },
  {
   "cell_type": "code",
   "execution_count": 14,
   "metadata": {
    "id": "nQTKS49sjtFg"
   },
   "outputs": [
    {
     "data": {
      "text/plain": [
       "{'EGY': 0,\n",
       " 'CAN': 1,\n",
       " 'JPN': 2,\n",
       " 'FIN': 3,\n",
       " 'ITA': 4,\n",
       " 'FRA': 5,\n",
       " 'PRT': 6,\n",
       " 'CZE': 7,\n",
       " 'USA': 8,\n",
       " 'ESP': 9,\n",
       " 'NLD': 10,\n",
       " 'DEU': 11,\n",
       " 'PHL': 12,\n",
       " 'KOR': 13,\n",
       " 'MEX': 14,\n",
       " 'CHE': 15,\n",
       " 'AUS': 16,\n",
       " 'RUS': 17,\n",
       " 'SWE': 18,\n",
       " 'POL': 19,\n",
       " 'CHN': 20,\n",
       " 'COL': 21,\n",
       " 'BHS': 22,\n",
       " 'EST': 23,\n",
       " 'CIV': 24,\n",
       " 'COG': 25,\n",
       " 'VUT': 26,\n",
       " 'TUV': 27,\n",
       " 'CYP': 28,\n",
       " 'BEN': 29,\n",
       " 'CAF': 30,\n",
       " 'SYC': 31,\n",
       " 'GIN': 32,\n",
       " 'NIU': 33,\n",
       " 'CUB': 34,\n",
       " 'GMB': 35,\n",
       " 'BOL': 36,\n",
       " 'ALB': 37,\n",
       " 'GEO': 38,\n",
       " 'SDN': 39,\n",
       " 'PER': 40,\n",
       " 'PRY': 41,\n",
       " 'TUR': 42,\n",
       " 'LBN': 43,\n",
       " 'UGA': 44,\n",
       " 'NER': 45,\n",
       " 'FJI': 46,\n",
       " 'MYS': 47,\n",
       " 'SAU': 48,\n",
       " 'TKL': 49,\n",
       " 'LTU': 50,\n",
       " 'GNQ': 51,\n",
       " 'BLR': 52,\n",
       " 'BIH': 53,\n",
       " 'JOR': 54,\n",
       " 'SMR': 55,\n",
       " 'MNE': 56,\n",
       " 'GNB': 57,\n",
       " 'TGO': 58,\n",
       " 'OMN': 59,\n",
       " 'SLV': 60,\n",
       " 'CPV': 61,\n",
       " 'BLZ': 62,\n",
       " 'MAR': 63,\n",
       " 'AND': 64,\n",
       " 'SOM': 65,\n",
       " 'AUT': 66,\n",
       " 'HRV': 67,\n",
       " 'BTN': 68,\n",
       " 'SEN': 69,\n",
       " 'ECU': 70,\n",
       " 'LCA': 71,\n",
       " 'BEL': 72,\n",
       " 'NOR': 73,\n",
       " 'GRC': 74,\n",
       " 'TCD': 75,\n",
       " 'KEN': 76,\n",
       " 'IRN': 77,\n",
       " 'ZAF': 78,\n",
       " 'DNK': 79,\n",
       " 'PAK': 80,\n",
       " 'SVK': 81,\n",
       " 'LSO': 82,\n",
       " 'RWA': 83,\n",
       " 'ARE': 84,\n",
       " 'GRD': 85,\n",
       " 'MDV': 86,\n",
       " 'PNG': 87,\n",
       " 'MHL': 88,\n",
       " 'SVN': 89,\n",
       " 'UKR': 90}"
      ]
     },
     "execution_count": 14,
     "metadata": {},
     "output_type": "execute_result"
    }
   ],
   "source": [
    "# Codificacion\n",
    "keys={pais:ID for pais,ID in zip(conteo_paises.index,range(n))}\n",
    "keys"
   ]
  },
  {
   "cell_type": "code",
   "execution_count": 15,
   "metadata": {
    "id": "citfRJuvQc8g"
   },
   "outputs": [
    {
     "data": {
      "text/plain": [
       "[51,\n",
       " 44,\n",
       " 35,\n",
       " 32,\n",
       " 32,\n",
       " 32,\n",
       " 30,\n",
       " 30,\n",
       " 28,\n",
       " 28,\n",
       " 25,\n",
       " 23,\n",
       " 23,\n",
       " 22,\n",
       " 22,\n",
       " 22,\n",
       " 22,\n",
       " 21,\n",
       " 20,\n",
       " 18]"
      ]
     },
     "execution_count": 15,
     "metadata": {},
     "output_type": "execute_result"
    }
   ],
   "source": [
    "for pais,ID in keys.items():\n",
    "  contador[ID%m] += conteo_paises.loc[pais]\n",
    "contador"
   ]
  },
  {
   "cell_type": "code",
   "execution_count": 16,
   "metadata": {
    "id": "k3HGfVpVSAtb"
   },
   "outputs": [
    {
     "data": {
      "text/plain": [
       "{'EGY': 51,\n",
       " 'CAN': 44,\n",
       " 'JPN': 35,\n",
       " 'FIN': 32,\n",
       " 'ITA': 32,\n",
       " 'FRA': 32,\n",
       " 'PRT': 30,\n",
       " 'CZE': 30,\n",
       " 'USA': 28,\n",
       " 'ESP': 28,\n",
       " 'NLD': 25,\n",
       " 'DEU': 23,\n",
       " 'PHL': 23,\n",
       " 'KOR': 22,\n",
       " 'MEX': 22,\n",
       " 'CHE': 22,\n",
       " 'AUS': 22,\n",
       " 'RUS': 21,\n",
       " 'SWE': 20,\n",
       " 'POL': 18,\n",
       " 'CHN': 51,\n",
       " 'COL': 44,\n",
       " 'BHS': 35,\n",
       " 'EST': 32,\n",
       " 'CIV': 32,\n",
       " 'COG': 32,\n",
       " 'VUT': 30,\n",
       " 'TUV': 30,\n",
       " 'CYP': 28,\n",
       " 'BEN': 28,\n",
       " 'CAF': 25,\n",
       " 'SYC': 23,\n",
       " 'GIN': 23,\n",
       " 'NIU': 22,\n",
       " 'CUB': 22,\n",
       " 'GMB': 22,\n",
       " 'BOL': 22,\n",
       " 'ALB': 21,\n",
       " 'GEO': 20,\n",
       " 'SDN': 18,\n",
       " 'PER': 51,\n",
       " 'PRY': 44,\n",
       " 'TUR': 35,\n",
       " 'LBN': 32,\n",
       " 'UGA': 32,\n",
       " 'NER': 32,\n",
       " 'FJI': 30,\n",
       " 'MYS': 30,\n",
       " 'SAU': 28,\n",
       " 'TKL': 28,\n",
       " 'LTU': 25,\n",
       " 'GNQ': 23,\n",
       " 'BLR': 23,\n",
       " 'BIH': 22,\n",
       " 'JOR': 22,\n",
       " 'SMR': 22,\n",
       " 'MNE': 22,\n",
       " 'GNB': 21,\n",
       " 'TGO': 20,\n",
       " 'OMN': 18,\n",
       " 'SLV': 51,\n",
       " 'CPV': 44,\n",
       " 'BLZ': 35,\n",
       " 'MAR': 32,\n",
       " 'AND': 32,\n",
       " 'SOM': 32,\n",
       " 'AUT': 30,\n",
       " 'HRV': 30,\n",
       " 'BTN': 28,\n",
       " 'SEN': 28,\n",
       " 'ECU': 25,\n",
       " 'LCA': 23,\n",
       " 'BEL': 23,\n",
       " 'NOR': 22,\n",
       " 'GRC': 22,\n",
       " 'TCD': 22,\n",
       " 'KEN': 22,\n",
       " 'IRN': 21,\n",
       " 'ZAF': 20,\n",
       " 'DNK': 18,\n",
       " 'PAK': 51,\n",
       " 'SVK': 44,\n",
       " 'LSO': 35,\n",
       " 'RWA': 32,\n",
       " 'ARE': 32,\n",
       " 'GRD': 32,\n",
       " 'MDV': 30,\n",
       " 'PNG': 30,\n",
       " 'MHL': 28,\n",
       " 'SVN': 28,\n",
       " 'UKR': 25}"
      ]
     },
     "execution_count": 16,
     "metadata": {},
     "output_type": "execute_result"
    }
   ],
   "source": [
    "hash_cod={pais:contador[ID%m] for pais,ID in keys.items()}\n",
    "hash_cod"
   ]
  },
  {
   "cell_type": "code",
   "execution_count": 17,
   "metadata": {
    "colab": {
     "base_uri": "https://localhost:8080/"
    },
    "id": "bOUMV-4OS5dd",
    "outputId": "a41a311f-d05b-4cea-c2e9-4d1384b2d456"
   },
   "outputs": [
    {
     "data": {
      "text/plain": [
       "32    96\n",
       "22    88\n",
       "30    60\n",
       "28    56\n",
       "51    51\n",
       "23    46\n",
       "44    44\n",
       "35    35\n",
       "25    25\n",
       "21    21\n",
       "20    20\n",
       "18    18\n",
       "Name: Hash_1, dtype: int64"
      ]
     },
     "execution_count": 17,
     "metadata": {},
     "output_type": "execute_result"
    }
   ],
   "source": [
    "df['Hash_1']=df['Países'].map(hash_cod)\n",
    "df['Hash_1'].value_counts()"
   ]
  },
  {
   "cell_type": "code",
   "execution_count": 18,
   "metadata": {
    "id": "Y91o9IgxThMC"
   },
   "outputs": [
    {
     "data": {
      "text/plain": [
       "{'MEX': 0,\n",
       " 'CHN': 1,\n",
       " 'CAN': 2,\n",
       " 'POL': 3,\n",
       " 'CPV': 4,\n",
       " 'PHL': 5,\n",
       " 'EGY': 6,\n",
       " 'FIN': 7,\n",
       " 'ITA': 8,\n",
       " 'AUS': 9,\n",
       " 'CZE': 10,\n",
       " 'BLZ': 11,\n",
       " 'FRA': 12,\n",
       " 'RUS': 13,\n",
       " 'MAR': 14,\n",
       " 'ESP': 15,\n",
       " 'CIV': 16,\n",
       " 'AND': 17,\n",
       " 'SOM': 18,\n",
       " 'CHE': 19,\n",
       " 'AUT': 20,\n",
       " 'BHS': 21,\n",
       " 'JPN': 22,\n",
       " 'PRT': 23,\n",
       " 'KOR': 24,\n",
       " 'COL': 25,\n",
       " 'USA': 26,\n",
       " 'NLD': 27,\n",
       " 'HRV': 28,\n",
       " 'SWE': 29,\n",
       " 'DEU': 30,\n",
       " 'BEN': 31,\n",
       " 'BTN': 32,\n",
       " 'SEN': 33,\n",
       " 'ECU': 34,\n",
       " 'LCA': 35,\n",
       " 'BEL': 36,\n",
       " 'NOR': 37,\n",
       " 'GRC': 38,\n",
       " 'TCD': 39,\n",
       " 'KEN': 40,\n",
       " 'IRN': 41,\n",
       " 'CYP': 42,\n",
       " 'ZAF': 43,\n",
       " 'DNK': 44,\n",
       " 'TGO': 45,\n",
       " 'PAK': 46,\n",
       " 'SVK': 47,\n",
       " 'LSO': 48,\n",
       " 'RWA': 49,\n",
       " 'ARE': 50,\n",
       " 'GRD': 51,\n",
       " 'MDV': 52,\n",
       " 'PNG': 53,\n",
       " 'MHL': 54,\n",
       " 'SVN': 55,\n",
       " 'SLV': 56,\n",
       " 'OMN': 57,\n",
       " 'TUV': 58,\n",
       " 'GNB': 59,\n",
       " 'PER': 60,\n",
       " 'SDN': 61,\n",
       " 'GEO': 62,\n",
       " 'ALB': 63,\n",
       " 'BOL': 64,\n",
       " 'GMB': 65,\n",
       " 'CUB': 66,\n",
       " 'GIN': 67,\n",
       " 'VUT': 68,\n",
       " 'COG': 69,\n",
       " 'SYC': 70,\n",
       " 'CAF': 71,\n",
       " 'PRY': 72,\n",
       " 'LBN': 73,\n",
       " 'UGA': 74,\n",
       " 'NER': 75,\n",
       " 'TUR': 76,\n",
       " 'MYS': 77,\n",
       " 'SAU': 78,\n",
       " 'TKL': 79,\n",
       " 'EST': 80,\n",
       " 'LTU': 81,\n",
       " 'GNQ': 82,\n",
       " 'BLR': 83,\n",
       " 'FJI': 84,\n",
       " 'NIU': 85,\n",
       " 'MNE': 86,\n",
       " 'SMR': 87,\n",
       " 'JOR': 88,\n",
       " 'BIH': 89,\n",
       " 'UKR': 90}"
      ]
     },
     "execution_count": 18,
     "metadata": {},
     "output_type": "execute_result"
    }
   ],
   "source": [
    "# Otra forma de asociacion\n",
    "keys={pais:ID for pais,ID in zip(df['Países'].unique(),range(n))}\n",
    "keys"
   ]
  },
  {
   "cell_type": "code",
   "execution_count": 19,
   "metadata": {
    "colab": {
     "base_uri": "https://localhost:8080/"
    },
    "id": "VI9Cz5_AT8Na",
    "outputId": "55f25866-2512-40fc-f3e2-6cf434e90992"
   },
   "outputs": [
    {
     "data": {
      "text/plain": [
       "[24, 21, 64, 43, 23, 33, 59, 51, 32, 40, 48, 5, 30, 21, 4, 26, 5, 4, 5, 22]"
      ]
     },
     "execution_count": 19,
     "metadata": {},
     "output_type": "execute_result"
    }
   ],
   "source": [
    "contador=[0]*m\n",
    "for pais,ID in keys.items():\n",
    "  contador[ID%m] += conteo_paises.loc[pais]\n",
    "contador"
   ]
  },
  {
   "cell_type": "code",
   "execution_count": 20,
   "metadata": {
    "id": "FkEnSlFGjmIC"
   },
   "outputs": [],
   "source": [
    "#@title Función MurmurHash3 de 32 bits\n",
    "from sklearn.feature_extraction import FeatureHasher"
   ]
  },
  {
   "cell_type": "code",
   "execution_count": 21,
   "metadata": {
    "colab": {
     "base_uri": "https://localhost:8080/"
    },
    "id": "lWSoz68djm6z",
    "outputId": "32397b19-47cc-4ad0-c23f-0f84c2dd47f4"
   },
   "outputs": [
    {
     "data": {
      "text/plain": [
       "<1x20 sparse matrix of type '<class 'numpy.float64'>'\n",
       "\twith 20 stored elements in Compressed Sparse Row format>"
      ]
     },
     "execution_count": 21,
     "metadata": {},
     "output_type": "execute_result"
    }
   ],
   "source": [
    "hasher=FeatureHasher(m)\n",
    "m_paises=hasher.transform([keys])\n",
    "m_paises"
   ]
  },
  {
   "cell_type": "code",
   "execution_count": 22,
   "metadata": {
    "colab": {
     "base_uri": "https://localhost:8080/"
    },
    "id": "LgFnZpkNzfo2",
    "outputId": "52d14c59-db17-4e93-e918-88c5361cd436"
   },
   "outputs": [
    {
     "data": {
      "text/plain": [
       "array([[ -79.,   60.,  148.,    5.,   -7., -222.,  178.,  -74.,   40.,\n",
       "        -103.,  -18.,  -63.,   85., -112.,  262.,   50.,  -50., -174.,\n",
       "          -5.,  274.]])"
      ]
     },
     "execution_count": 22,
     "metadata": {},
     "output_type": "execute_result"
    }
   ],
   "source": [
    "m_paises.toarray()"
   ]
  },
  {
   "cell_type": "code",
   "execution_count": 23,
   "metadata": {
    "id": "BCa8Ob0T1A7Q"
   },
   "outputs": [
    {
     "data": {
      "text/plain": [
       "{'MEX': -79.0,\n",
       " 'CHN': 60.0,\n",
       " 'CAN': 148.0,\n",
       " 'POL': 5.0,\n",
       " 'CPV': -7.0,\n",
       " 'PHL': -222.0,\n",
       " 'EGY': 178.0,\n",
       " 'FIN': -74.0,\n",
       " 'ITA': 40.0,\n",
       " 'AUS': -103.0,\n",
       " 'CZE': -18.0,\n",
       " 'BLZ': -63.0,\n",
       " 'FRA': 85.0,\n",
       " 'RUS': -112.0,\n",
       " 'MAR': 262.0,\n",
       " 'ESP': 50.0,\n",
       " 'CIV': -50.0,\n",
       " 'AND': -174.0,\n",
       " 'SOM': -5.0,\n",
       " 'CHE': 274.0,\n",
       " 'AUT': -79.0,\n",
       " 'BHS': 60.0,\n",
       " 'JPN': 148.0,\n",
       " 'PRT': 5.0,\n",
       " 'KOR': -7.0,\n",
       " 'COL': -222.0,\n",
       " 'USA': 178.0,\n",
       " 'NLD': -74.0,\n",
       " 'HRV': 40.0,\n",
       " 'SWE': -103.0,\n",
       " 'DEU': -18.0,\n",
       " 'BEN': -63.0,\n",
       " 'BTN': 85.0,\n",
       " 'SEN': -112.0,\n",
       " 'ECU': 262.0,\n",
       " 'LCA': 50.0,\n",
       " 'BEL': -50.0,\n",
       " 'NOR': -174.0,\n",
       " 'GRC': -5.0,\n",
       " 'TCD': 274.0,\n",
       " 'KEN': -79.0,\n",
       " 'IRN': 60.0,\n",
       " 'CYP': 148.0,\n",
       " 'ZAF': 5.0,\n",
       " 'DNK': -7.0,\n",
       " 'TGO': -222.0,\n",
       " 'PAK': 178.0,\n",
       " 'SVK': -74.0,\n",
       " 'LSO': 40.0,\n",
       " 'RWA': -103.0,\n",
       " 'ARE': -18.0,\n",
       " 'GRD': -63.0,\n",
       " 'MDV': 85.0,\n",
       " 'PNG': -112.0,\n",
       " 'MHL': 262.0,\n",
       " 'SVN': 50.0,\n",
       " 'SLV': -50.0,\n",
       " 'OMN': -174.0,\n",
       " 'TUV': -5.0,\n",
       " 'GNB': 274.0,\n",
       " 'PER': -79.0,\n",
       " 'SDN': 60.0,\n",
       " 'GEO': 148.0,\n",
       " 'ALB': 5.0,\n",
       " 'BOL': -7.0,\n",
       " 'GMB': -222.0,\n",
       " 'CUB': 178.0,\n",
       " 'GIN': -74.0,\n",
       " 'VUT': 40.0,\n",
       " 'COG': -103.0,\n",
       " 'SYC': -18.0,\n",
       " 'CAF': -63.0,\n",
       " 'PRY': 85.0,\n",
       " 'LBN': -112.0,\n",
       " 'UGA': 262.0,\n",
       " 'NER': 50.0,\n",
       " 'TUR': -50.0,\n",
       " 'MYS': -174.0,\n",
       " 'SAU': -5.0,\n",
       " 'TKL': 274.0,\n",
       " 'EST': -79.0,\n",
       " 'LTU': 60.0,\n",
       " 'GNQ': 148.0,\n",
       " 'BLR': 5.0,\n",
       " 'FJI': -7.0,\n",
       " 'NIU': -222.0,\n",
       " 'MNE': 178.0,\n",
       " 'SMR': -74.0,\n",
       " 'JOR': 40.0,\n",
       " 'BIH': -103.0,\n",
       " 'UKR': -18.0}"
      ]
     },
     "execution_count": 23,
     "metadata": {},
     "output_type": "execute_result"
    }
   ],
   "source": [
    "d_aparicion={pais:m_paises.toarray()[0][i%m] for pais,i in zip(df['Países'].unique(),range(n))}\n",
    "d_aparicion"
   ]
  },
  {
   "cell_type": "code",
   "execution_count": 24,
   "metadata": {
    "id": "7xRCaNfS2BVk"
   },
   "outputs": [],
   "source": [
    "df['MMH3_aparicion']=df['Países'].map(d_aparicion)"
   ]
  },
  {
   "cell_type": "code",
   "execution_count": 25,
   "metadata": {
    "colab": {
     "base_uri": "https://localhost:8080/",
     "height": 206
    },
    "id": "pPOKH9OA2SLK",
    "outputId": "f88689da-33de-4c71-9d0e-c1242798808a"
   },
   "outputs": [
    {
     "data": {
      "text/html": [
       "<div>\n",
       "<style scoped>\n",
       "    .dataframe tbody tr th:only-of-type {\n",
       "        vertical-align: middle;\n",
       "    }\n",
       "\n",
       "    .dataframe tbody tr th {\n",
       "        vertical-align: top;\n",
       "    }\n",
       "\n",
       "    .dataframe thead th {\n",
       "        text-align: right;\n",
       "    }\n",
       "</style>\n",
       "<table border=\"1\" class=\"dataframe\">\n",
       "  <thead>\n",
       "    <tr style=\"text-align: right;\">\n",
       "      <th></th>\n",
       "      <th>Países</th>\n",
       "      <th>Hash_1</th>\n",
       "      <th>MMH3_aparicion</th>\n",
       "      <th>MMH3_freq</th>\n",
       "    </tr>\n",
       "  </thead>\n",
       "  <tbody>\n",
       "    <tr>\n",
       "      <th>0</th>\n",
       "      <td>MEX</td>\n",
       "      <td>22</td>\n",
       "      <td>-79.0</td>\n",
       "      <td>264.0</td>\n",
       "    </tr>\n",
       "    <tr>\n",
       "      <th>1</th>\n",
       "      <td>CHN</td>\n",
       "      <td>51</td>\n",
       "      <td>60.0</td>\n",
       "      <td>-98.0</td>\n",
       "    </tr>\n",
       "    <tr>\n",
       "      <th>2</th>\n",
       "      <td>CAN</td>\n",
       "      <td>44</td>\n",
       "      <td>148.0</td>\n",
       "      <td>94.0</td>\n",
       "    </tr>\n",
       "    <tr>\n",
       "      <th>3</th>\n",
       "      <td>POL</td>\n",
       "      <td>18</td>\n",
       "      <td>5.0</td>\n",
       "      <td>272.0</td>\n",
       "    </tr>\n",
       "    <tr>\n",
       "      <th>4</th>\n",
       "      <td>CPV</td>\n",
       "      <td>44</td>\n",
       "      <td>-7.0</td>\n",
       "      <td>94.0</td>\n",
       "    </tr>\n",
       "  </tbody>\n",
       "</table>\n",
       "</div>"
      ],
      "text/plain": [
       "  Países  Hash_1  MMH3_aparicion  MMH3_freq\n",
       "0    MEX      22           -79.0      264.0\n",
       "1    CHN      51            60.0      -98.0\n",
       "2    CAN      44           148.0       94.0\n",
       "3    POL      18             5.0      272.0\n",
       "4    CPV      44            -7.0       94.0"
      ]
     },
     "execution_count": 25,
     "metadata": {},
     "output_type": "execute_result"
    }
   ],
   "source": [
    "keys_freq={pais:ID for pais,ID in zip(conteo_paises.index,range(n))}\n",
    "m_freq=hasher.transform([keys_freq])\n",
    "d_freq={pais:m_freq.toarray()[0][i%m] for pais,i in zip(conteo_paises.index,range(n))}\n",
    "df['MMH3_freq']=df['Países'].map(d_freq)\n",
    "df.head()"
   ]
  },
  {
   "cell_type": "code",
   "execution_count": 26,
   "metadata": {
    "colab": {
     "base_uri": "https://localhost:8080/"
    },
    "id": "_pi1Ti-C3pOY",
    "outputId": "1a90ac70-6cf7-4d6f-aae2-a437460b432f"
   },
   "outputs": [
    {
     "data": {
      "text/plain": [
       "(20, 20)"
      ]
     },
     "execution_count": 26,
     "metadata": {},
     "output_type": "execute_result"
    }
   ],
   "source": [
    "len(df['MMH3_aparicion'].unique()),len(df['MMH3_freq'].unique())"
   ]
  },
  {
   "cell_type": "code",
   "execution_count": 27,
   "metadata": {
    "colab": {
     "base_uri": "https://localhost:8080/"
    },
    "id": "uKAIMypYjjqY",
    "outputId": "de5701cf-6cb6-42e0-d70a-019513535a67"
   },
   "outputs": [
    {
     "name": "stdout",
     "output_type": "stream",
     "text": [
      "Requirement already satisfied: category-encoders in c:\\programdata\\anaconda3\\lib\\site-packages (2.6.3)\n",
      "Requirement already satisfied: patsy>=0.5.1 in c:\\programdata\\anaconda3\\lib\\site-packages (from category-encoders) (0.5.1)\n",
      "Requirement already satisfied: scikit-learn>=0.20.0 in c:\\programdata\\anaconda3\\lib\\site-packages (from category-encoders) (0.24.1)\n",
      "Requirement already satisfied: importlib-resources in c:\\users\\uie70742\\appdata\\roaming\\python\\python38\\site-packages (from category-encoders) (5.4.0)\n",
      "Requirement already satisfied: pandas>=1.0.5 in c:\\users\\uie70742\\appdata\\roaming\\python\\python38\\site-packages (from category-encoders) (1.4.2)\n",
      "Requirement already satisfied: numpy>=1.14.0 in c:\\users\\uie70742\\appdata\\roaming\\python\\python38\\site-packages (from category-encoders) (1.20.3)\n",
      "Requirement already satisfied: statsmodels>=0.9.0 in c:\\programdata\\anaconda3\\lib\\site-packages (from category-encoders) (0.12.2)\n",
      "Requirement already satisfied: scipy>=1.0.0 in c:\\programdata\\anaconda3\\lib\\site-packages (from category-encoders) (1.6.2)\n",
      "Requirement already satisfied: pytz>=2020.1 in c:\\users\\uie70742\\appdata\\roaming\\python\\python38\\site-packages (from pandas>=1.0.5->category-encoders) (2022.7.1)\n",
      "Requirement already satisfied: python-dateutil>=2.8.1 in c:\\users\\uie70742\\appdata\\roaming\\python\\python38\\site-packages (from pandas>=1.0.5->category-encoders) (2.8.2)\n",
      "Requirement already satisfied: six in c:\\users\\uie70742\\appdata\\roaming\\python\\python38\\site-packages (from patsy>=0.5.1->category-encoders) (1.16.0)\n",
      "Requirement already satisfied: joblib>=0.11 in c:\\programdata\\anaconda3\\lib\\site-packages (from scikit-learn>=0.20.0->category-encoders) (1.0.1)\n",
      "Requirement already satisfied: threadpoolctl>=2.0.0 in c:\\programdata\\anaconda3\\lib\\site-packages (from scikit-learn>=0.20.0->category-encoders) (2.1.0)\n",
      "Requirement already satisfied: zipp>=3.1.0 in c:\\users\\uie70742\\appdata\\roaming\\python\\python38\\site-packages (from importlib-resources->category-encoders) (3.6.0)\n"
     ]
    }
   ],
   "source": [
    "!pip install category-encoders"
   ]
  },
  {
   "cell_type": "code",
   "execution_count": 28,
   "metadata": {
    "id": "Wgsrv8OYjewk"
   },
   "outputs": [],
   "source": [
    "from category_encoders import HashingEncoder"
   ]
  },
  {
   "cell_type": "code",
   "execution_count": 29,
   "metadata": {
    "id": "WQQ3WbWXjwY8"
   },
   "outputs": [
    {
     "data": {
      "text/html": [
       "<div>\n",
       "<style scoped>\n",
       "    .dataframe tbody tr th:only-of-type {\n",
       "        vertical-align: middle;\n",
       "    }\n",
       "\n",
       "    .dataframe tbody tr th {\n",
       "        vertical-align: top;\n",
       "    }\n",
       "\n",
       "    .dataframe thead th {\n",
       "        text-align: right;\n",
       "    }\n",
       "</style>\n",
       "<table border=\"1\" class=\"dataframe\">\n",
       "  <thead>\n",
       "    <tr style=\"text-align: right;\">\n",
       "      <th></th>\n",
       "      <th>col_0</th>\n",
       "      <th>col_1</th>\n",
       "      <th>col_2</th>\n",
       "      <th>col_3</th>\n",
       "      <th>col_4</th>\n",
       "      <th>col_5</th>\n",
       "      <th>col_6</th>\n",
       "      <th>col_7</th>\n",
       "      <th>col_8</th>\n",
       "      <th>col_9</th>\n",
       "      <th>...</th>\n",
       "      <th>col_13</th>\n",
       "      <th>col_14</th>\n",
       "      <th>col_15</th>\n",
       "      <th>col_16</th>\n",
       "      <th>col_17</th>\n",
       "      <th>col_18</th>\n",
       "      <th>col_19</th>\n",
       "      <th>Hash_1</th>\n",
       "      <th>MMH3_aparicion</th>\n",
       "      <th>MMH3_freq</th>\n",
       "    </tr>\n",
       "  </thead>\n",
       "  <tbody>\n",
       "    <tr>\n",
       "      <th>0</th>\n",
       "      <td>0</td>\n",
       "      <td>0</td>\n",
       "      <td>0</td>\n",
       "      <td>0</td>\n",
       "      <td>0</td>\n",
       "      <td>0</td>\n",
       "      <td>0</td>\n",
       "      <td>0</td>\n",
       "      <td>0</td>\n",
       "      <td>0</td>\n",
       "      <td>...</td>\n",
       "      <td>0</td>\n",
       "      <td>0</td>\n",
       "      <td>0</td>\n",
       "      <td>0</td>\n",
       "      <td>0</td>\n",
       "      <td>0</td>\n",
       "      <td>0</td>\n",
       "      <td>22</td>\n",
       "      <td>-79.0</td>\n",
       "      <td>264.0</td>\n",
       "    </tr>\n",
       "    <tr>\n",
       "      <th>1</th>\n",
       "      <td>0</td>\n",
       "      <td>0</td>\n",
       "      <td>1</td>\n",
       "      <td>0</td>\n",
       "      <td>0</td>\n",
       "      <td>0</td>\n",
       "      <td>0</td>\n",
       "      <td>0</td>\n",
       "      <td>0</td>\n",
       "      <td>0</td>\n",
       "      <td>...</td>\n",
       "      <td>0</td>\n",
       "      <td>0</td>\n",
       "      <td>0</td>\n",
       "      <td>0</td>\n",
       "      <td>0</td>\n",
       "      <td>0</td>\n",
       "      <td>0</td>\n",
       "      <td>51</td>\n",
       "      <td>60.0</td>\n",
       "      <td>-98.0</td>\n",
       "    </tr>\n",
       "    <tr>\n",
       "      <th>2</th>\n",
       "      <td>0</td>\n",
       "      <td>0</td>\n",
       "      <td>0</td>\n",
       "      <td>0</td>\n",
       "      <td>0</td>\n",
       "      <td>0</td>\n",
       "      <td>0</td>\n",
       "      <td>0</td>\n",
       "      <td>0</td>\n",
       "      <td>0</td>\n",
       "      <td>...</td>\n",
       "      <td>0</td>\n",
       "      <td>0</td>\n",
       "      <td>1</td>\n",
       "      <td>0</td>\n",
       "      <td>0</td>\n",
       "      <td>0</td>\n",
       "      <td>0</td>\n",
       "      <td>44</td>\n",
       "      <td>148.0</td>\n",
       "      <td>94.0</td>\n",
       "    </tr>\n",
       "    <tr>\n",
       "      <th>3</th>\n",
       "      <td>1</td>\n",
       "      <td>0</td>\n",
       "      <td>0</td>\n",
       "      <td>0</td>\n",
       "      <td>0</td>\n",
       "      <td>0</td>\n",
       "      <td>0</td>\n",
       "      <td>0</td>\n",
       "      <td>0</td>\n",
       "      <td>0</td>\n",
       "      <td>...</td>\n",
       "      <td>0</td>\n",
       "      <td>0</td>\n",
       "      <td>0</td>\n",
       "      <td>0</td>\n",
       "      <td>0</td>\n",
       "      <td>0</td>\n",
       "      <td>0</td>\n",
       "      <td>18</td>\n",
       "      <td>5.0</td>\n",
       "      <td>272.0</td>\n",
       "    </tr>\n",
       "    <tr>\n",
       "      <th>4</th>\n",
       "      <td>0</td>\n",
       "      <td>0</td>\n",
       "      <td>0</td>\n",
       "      <td>0</td>\n",
       "      <td>0</td>\n",
       "      <td>0</td>\n",
       "      <td>0</td>\n",
       "      <td>1</td>\n",
       "      <td>0</td>\n",
       "      <td>0</td>\n",
       "      <td>...</td>\n",
       "      <td>0</td>\n",
       "      <td>0</td>\n",
       "      <td>0</td>\n",
       "      <td>0</td>\n",
       "      <td>0</td>\n",
       "      <td>0</td>\n",
       "      <td>0</td>\n",
       "      <td>44</td>\n",
       "      <td>-7.0</td>\n",
       "      <td>94.0</td>\n",
       "    </tr>\n",
       "    <tr>\n",
       "      <th>...</th>\n",
       "      <td>...</td>\n",
       "      <td>...</td>\n",
       "      <td>...</td>\n",
       "      <td>...</td>\n",
       "      <td>...</td>\n",
       "      <td>...</td>\n",
       "      <td>...</td>\n",
       "      <td>...</td>\n",
       "      <td>...</td>\n",
       "      <td>...</td>\n",
       "      <td>...</td>\n",
       "      <td>...</td>\n",
       "      <td>...</td>\n",
       "      <td>...</td>\n",
       "      <td>...</td>\n",
       "      <td>...</td>\n",
       "      <td>...</td>\n",
       "      <td>...</td>\n",
       "      <td>...</td>\n",
       "      <td>...</td>\n",
       "      <td>...</td>\n",
       "    </tr>\n",
       "    <tr>\n",
       "      <th>555</th>\n",
       "      <td>0</td>\n",
       "      <td>0</td>\n",
       "      <td>0</td>\n",
       "      <td>0</td>\n",
       "      <td>0</td>\n",
       "      <td>0</td>\n",
       "      <td>0</td>\n",
       "      <td>0</td>\n",
       "      <td>0</td>\n",
       "      <td>0</td>\n",
       "      <td>...</td>\n",
       "      <td>0</td>\n",
       "      <td>0</td>\n",
       "      <td>1</td>\n",
       "      <td>0</td>\n",
       "      <td>0</td>\n",
       "      <td>0</td>\n",
       "      <td>0</td>\n",
       "      <td>25</td>\n",
       "      <td>-18.0</td>\n",
       "      <td>-38.0</td>\n",
       "    </tr>\n",
       "    <tr>\n",
       "      <th>556</th>\n",
       "      <td>0</td>\n",
       "      <td>0</td>\n",
       "      <td>0</td>\n",
       "      <td>0</td>\n",
       "      <td>0</td>\n",
       "      <td>1</td>\n",
       "      <td>0</td>\n",
       "      <td>0</td>\n",
       "      <td>0</td>\n",
       "      <td>0</td>\n",
       "      <td>...</td>\n",
       "      <td>0</td>\n",
       "      <td>0</td>\n",
       "      <td>0</td>\n",
       "      <td>0</td>\n",
       "      <td>0</td>\n",
       "      <td>0</td>\n",
       "      <td>0</td>\n",
       "      <td>51</td>\n",
       "      <td>178.0</td>\n",
       "      <td>-98.0</td>\n",
       "    </tr>\n",
       "    <tr>\n",
       "      <th>557</th>\n",
       "      <td>0</td>\n",
       "      <td>0</td>\n",
       "      <td>0</td>\n",
       "      <td>0</td>\n",
       "      <td>0</td>\n",
       "      <td>0</td>\n",
       "      <td>0</td>\n",
       "      <td>0</td>\n",
       "      <td>0</td>\n",
       "      <td>0</td>\n",
       "      <td>...</td>\n",
       "      <td>0</td>\n",
       "      <td>0</td>\n",
       "      <td>0</td>\n",
       "      <td>0</td>\n",
       "      <td>0</td>\n",
       "      <td>0</td>\n",
       "      <td>0</td>\n",
       "      <td>22</td>\n",
       "      <td>274.0</td>\n",
       "      <td>86.0</td>\n",
       "    </tr>\n",
       "    <tr>\n",
       "      <th>558</th>\n",
       "      <td>0</td>\n",
       "      <td>1</td>\n",
       "      <td>0</td>\n",
       "      <td>0</td>\n",
       "      <td>0</td>\n",
       "      <td>0</td>\n",
       "      <td>0</td>\n",
       "      <td>0</td>\n",
       "      <td>0</td>\n",
       "      <td>0</td>\n",
       "      <td>...</td>\n",
       "      <td>0</td>\n",
       "      <td>0</td>\n",
       "      <td>0</td>\n",
       "      <td>0</td>\n",
       "      <td>0</td>\n",
       "      <td>0</td>\n",
       "      <td>0</td>\n",
       "      <td>32</td>\n",
       "      <td>85.0</td>\n",
       "      <td>-207.0</td>\n",
       "    </tr>\n",
       "    <tr>\n",
       "      <th>559</th>\n",
       "      <td>0</td>\n",
       "      <td>1</td>\n",
       "      <td>0</td>\n",
       "      <td>0</td>\n",
       "      <td>0</td>\n",
       "      <td>0</td>\n",
       "      <td>0</td>\n",
       "      <td>0</td>\n",
       "      <td>0</td>\n",
       "      <td>0</td>\n",
       "      <td>...</td>\n",
       "      <td>0</td>\n",
       "      <td>0</td>\n",
       "      <td>0</td>\n",
       "      <td>0</td>\n",
       "      <td>0</td>\n",
       "      <td>0</td>\n",
       "      <td>0</td>\n",
       "      <td>32</td>\n",
       "      <td>85.0</td>\n",
       "      <td>-207.0</td>\n",
       "    </tr>\n",
       "  </tbody>\n",
       "</table>\n",
       "<p>560 rows × 23 columns</p>\n",
       "</div>"
      ],
      "text/plain": [
       "     col_0  col_1  col_2  col_3  col_4  col_5  col_6  col_7  col_8  col_9  \\\n",
       "0        0      0      0      0      0      0      0      0      0      0   \n",
       "1        0      0      1      0      0      0      0      0      0      0   \n",
       "2        0      0      0      0      0      0      0      0      0      0   \n",
       "3        1      0      0      0      0      0      0      0      0      0   \n",
       "4        0      0      0      0      0      0      0      1      0      0   \n",
       "..     ...    ...    ...    ...    ...    ...    ...    ...    ...    ...   \n",
       "555      0      0      0      0      0      0      0      0      0      0   \n",
       "556      0      0      0      0      0      1      0      0      0      0   \n",
       "557      0      0      0      0      0      0      0      0      0      0   \n",
       "558      0      1      0      0      0      0      0      0      0      0   \n",
       "559      0      1      0      0      0      0      0      0      0      0   \n",
       "\n",
       "     ...  col_13  col_14  col_15  col_16  col_17  col_18  col_19  Hash_1  \\\n",
       "0    ...       0       0       0       0       0       0       0      22   \n",
       "1    ...       0       0       0       0       0       0       0      51   \n",
       "2    ...       0       0       1       0       0       0       0      44   \n",
       "3    ...       0       0       0       0       0       0       0      18   \n",
       "4    ...       0       0       0       0       0       0       0      44   \n",
       "..   ...     ...     ...     ...     ...     ...     ...     ...     ...   \n",
       "555  ...       0       0       1       0       0       0       0      25   \n",
       "556  ...       0       0       0       0       0       0       0      51   \n",
       "557  ...       0       0       0       0       0       0       0      22   \n",
       "558  ...       0       0       0       0       0       0       0      32   \n",
       "559  ...       0       0       0       0       0       0       0      32   \n",
       "\n",
       "     MMH3_aparicion  MMH3_freq  \n",
       "0             -79.0      264.0  \n",
       "1              60.0      -98.0  \n",
       "2             148.0       94.0  \n",
       "3               5.0      272.0  \n",
       "4              -7.0       94.0  \n",
       "..              ...        ...  \n",
       "555           -18.0      -38.0  \n",
       "556           178.0      -98.0  \n",
       "557           274.0       86.0  \n",
       "558            85.0     -207.0  \n",
       "559            85.0     -207.0  \n",
       "\n",
       "[560 rows x 23 columns]"
      ]
     },
     "execution_count": 29,
     "metadata": {},
     "output_type": "execute_result"
    }
   ],
   "source": [
    "hasher=HashingEncoder(n_components=m,cols=['Países'])\n",
    "# hasher.fit_transform(df['Países'])\n",
    "hasher.fit_transform(df)"
   ]
  },
  {
   "cell_type": "code",
   "execution_count": 30,
   "metadata": {
    "colab": {
     "base_uri": "https://localhost:8080/"
    },
    "id": "_c1fGz0z5Bjc",
    "outputId": "81eabab8-83ff-4521-ae7c-1f462573736d"
   },
   "outputs": [
    {
     "data": {
      "text/plain": [
       "560.0"
      ]
     },
     "execution_count": 30,
     "metadata": {},
     "output_type": "execute_result"
    }
   ],
   "source": [
    "448/0.8"
   ]
  },
  {
   "cell_type": "code",
   "execution_count": null,
   "metadata": {},
   "outputs": [],
   "source": []
  },
  {
   "cell_type": "code",
   "execution_count": null,
   "metadata": {},
   "outputs": [],
   "source": []
  }
 ],
 "metadata": {
  "colab": {
   "provenance": []
  },
  "kernelspec": {
   "display_name": "Python 3 (ipykernel)",
   "language": "python",
   "name": "python3"
  },
  "language_info": {
   "codemirror_mode": {
    "name": "ipython",
    "version": 3
   },
   "file_extension": ".py",
   "mimetype": "text/x-python",
   "name": "python",
   "nbconvert_exporter": "python",
   "pygments_lexer": "ipython3",
   "version": "3.8.8"
  }
 },
 "nbformat": 4,
 "nbformat_minor": 1
}
