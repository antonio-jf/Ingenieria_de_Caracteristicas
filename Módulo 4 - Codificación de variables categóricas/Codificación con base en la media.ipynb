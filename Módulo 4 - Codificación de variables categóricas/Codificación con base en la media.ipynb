{
 "cells": [
  {
   "cell_type": "markdown",
   "metadata": {},
   "source": [
    "<img style=\"float: left;;\" src='Figures/iteso.jpg' width=\"100\" height=\"200\"/></a>\n",
    "\n",
    "# <center> <font color= #000047> Codificación con base en la media </font> </center>"
   ]
  },
  {
   "cell_type": "code",
   "execution_count": null,
   "metadata": {
    "colab": {
     "base_uri": "https://localhost:8080/",
     "height": 206
    },
    "executionInfo": {
     "elapsed": 2724,
     "status": "ok",
     "timestamp": 1678844528158,
     "user": {
      "displayName": "Carlos Arellano",
      "userId": "03055712073717640513"
     },
     "user_tz": 360
    },
    "id": "7dzYW8V5wOIL",
    "outputId": "472d7fb0-0e74-4dbf-8297-d34b545a8ad4"
   },
   "outputs": [],
   "source": [
    "import pandas as pd\n",
    "import numpy as np\n",
    "\n",
    "\n",
    "data=pd.read_csv('temps.txt',sep='\\s+',header=None) # Fuente: http://astro.iam.udg.mx/Estacion/NOAAPRMO.TXT\n",
    "                                                         #         http://astro.iam.udg.mx/Estacion/NOAAMO.TXT\n",
    "data.columns=['Temperatura máxima','Temperatura mínima','HDD','CDD','Rain']\n",
    "d=['Sábado','Domingo','Lunes','Martes','Miércoles','Jueves','Viernes']\n",
    "dias=[d[i%7] for i in range(len(data))]\n",
    "catego=['Soleado','Mayormente soleado','Parcialmente nublado','Mayormente nublado','Nublado','Lluvioso']\n",
    "prono=[catego[-1] if data['Rain'][i]>0 else catego[int(round(1.2*(data['HDD'][i]-data['CDD'][i])+2))] for i in range(len(data))]\n",
    "df=pd.DataFrame(columns=['Días','Pronóstico','Temperatura máxima','Temperatura mínima'],index=range(len(data)))\n",
    "df.iloc[:,2:4]=data.iloc[:,0:2]\n",
    "df['Días']=dias\n",
    "df['Pronóstico']=prono\n",
    "df.head()"
   ]
  },
  {
   "cell_type": "code",
   "execution_count": null,
   "metadata": {
    "colab": {
     "base_uri": "https://localhost:8080/"
    },
    "executionInfo": {
     "elapsed": 13,
     "status": "ok",
     "timestamp": 1678844528160,
     "user": {
      "displayName": "Carlos Arellano",
      "userId": "03055712073717640513"
     },
     "user_tz": 360
    },
    "id": "kog_lDkKwTA1",
    "outputId": "c20393d6-0cdc-496e-be87-2c26e1e2d584"
   },
   "outputs": [],
   "source": [
    "#@title Codificando a traves del promedio\n",
    "promedio=df.groupby('Pronóstico')['Temperatura mínima'].mean()\n",
    "promedio"
   ]
  },
  {
   "cell_type": "code",
   "execution_count": null,
   "metadata": {
    "colab": {
     "base_uri": "https://localhost:8080/",
     "height": 206
    },
    "executionInfo": {
     "elapsed": 10,
     "status": "ok",
     "timestamp": 1678844528161,
     "user": {
      "displayName": "Carlos Arellano",
      "userId": "03055712073717640513"
     },
     "user_tz": 360
    },
    "id": "NXIxXp33Pp4L",
    "outputId": "320ac2a2-925a-4290-d21a-b90fe6d9a759"
   },
   "outputs": [],
   "source": [
    "df['Promedio']=df['Pronóstico'].map(promedio)\n",
    "df.head()"
   ]
  },
  {
   "cell_type": "code",
   "execution_count": null,
   "metadata": {
    "colab": {
     "base_uri": "https://localhost:8080/",
     "height": 206
    },
    "executionInfo": {
     "elapsed": 148,
     "status": "ok",
     "timestamp": 1678844632473,
     "user": {
      "displayName": "Carlos Arellano",
      "userId": "03055712073717640513"
     },
     "user_tz": 360
    },
    "id": "hLlYJvJ5P3G3",
    "outputId": "6e2457cc-f73b-490d-911c-7c1acc68f5f3"
   },
   "outputs": [],
   "source": [
    "#@title Codificando a través de la codificación de Efectos\n",
    "E=pd.get_dummies(df,columns=['Pronóstico'],drop_first=True,prefix='',prefix_sep='',)\n",
    "E.head()"
   ]
  },
  {
   "cell_type": "code",
   "execution_count": null,
   "metadata": {
    "colab": {
     "base_uri": "https://localhost:8080/",
     "height": 35
    },
    "executionInfo": {
     "elapsed": 137,
     "status": "ok",
     "timestamp": 1678844919972,
     "user": {
      "displayName": "Carlos Arellano",
      "userId": "03055712073717640513"
     },
     "user_tz": 360
    },
    "id": "oOHezKrG8BvP",
    "outputId": "d64d132d-12e9-479d-a88a-e94e35829571"
   },
   "outputs": [],
   "source": [
    "CR,=set(df.Pronóstico.unique())-set(E.columns)\n",
    "CR"
   ]
  },
  {
   "cell_type": "code",
   "execution_count": null,
   "metadata": {
    "colab": {
     "base_uri": "https://localhost:8080/",
     "height": 112
    },
    "executionInfo": {
     "elapsed": 144,
     "status": "ok",
     "timestamp": 1678845133962,
     "user": {
      "displayName": "Carlos Arellano",
      "userId": "03055712073717640513"
     },
     "user_tz": 360
    },
    "id": "vS-avYvA84Z2",
    "outputId": "5f1f70af-3b9b-4f03-f044-b4f89ee775e7"
   },
   "outputs": [],
   "source": [
    "E.iloc[:,4:]=E.iloc[:,4:].astype('int')\n",
    "idx_CR,=np.where(df.Pronóstico==CR)\n",
    "E.iloc[idx_CR,4:]=-1\n",
    "E.iloc[idx_CR]"
   ]
  },
  {
   "cell_type": "code",
   "execution_count": null,
   "metadata": {
    "executionInfo": {
     "elapsed": 2,
     "status": "ok",
     "timestamp": 1678845439332,
     "user": {
      "displayName": "Carlos Arellano",
      "userId": "03055712073717640513"
     },
     "user_tz": 360
    },
    "id": "Fd5e2Svh98KT"
   },
   "outputs": [],
   "source": [
    "# Regresión lineal\n",
    "from sklearn.linear_model import LinearRegression"
   ]
  },
  {
   "cell_type": "code",
   "execution_count": null,
   "metadata": {
    "colab": {
     "base_uri": "https://localhost:8080/",
     "height": 74
    },
    "executionInfo": {
     "elapsed": 171,
     "status": "ok",
     "timestamp": 1678845508553,
     "user": {
      "displayName": "Carlos Arellano",
      "userId": "03055712073717640513"
     },
     "user_tz": 360
    },
    "id": "lpmTD4jN-44v",
    "outputId": "2b4d71e5-479b-4a5f-f6db-ac51a30b320e"
   },
   "outputs": [],
   "source": [
    "lin=LinearRegression()\n",
    "lin.fit(E.iloc[:,4:],E['Temperatura mínima'])"
   ]
  },
  {
   "cell_type": "code",
   "execution_count": null,
   "metadata": {
    "colab": {
     "base_uri": "https://localhost:8080/"
    },
    "executionInfo": {
     "elapsed": 128,
     "status": "ok",
     "timestamp": 1678845573751,
     "user": {
      "displayName": "Carlos Arellano",
      "userId": "03055712073717640513"
     },
     "user_tz": 360
    },
    "id": "U5rIfIuS-6YH",
    "outputId": "cf94f6cd-102d-45f3-85c5-b61941badd6d"
   },
   "outputs": [],
   "source": [
    "E.columns[4:]"
   ]
  },
  {
   "cell_type": "code",
   "execution_count": null,
   "metadata": {
    "colab": {
     "base_uri": "https://localhost:8080/"
    },
    "executionInfo": {
     "elapsed": 143,
     "status": "ok",
     "timestamp": 1678845592372,
     "user": {
      "displayName": "Carlos Arellano",
      "userId": "03055712073717640513"
     },
     "user_tz": 360
    },
    "id": "qZR2BL0t_njX",
    "outputId": "7e4d5719-0f0c-44c7-f63c-74e8f4a69d7e"
   },
   "outputs": [],
   "source": [
    "lin.coef_"
   ]
  },
  {
   "cell_type": "code",
   "execution_count": null,
   "metadata": {
    "colab": {
     "base_uri": "https://localhost:8080/"
    },
    "executionInfo": {
     "elapsed": 149,
     "status": "ok",
     "timestamp": 1678845674804,
     "user": {
      "displayName": "Carlos Arellano",
      "userId": "03055712073717640513"
     },
     "user_tz": 360
    },
    "id": "PG1o_kO__sF3",
    "outputId": "488a0eba-5b82-41bb-cf0f-a42817a05e1b"
   },
   "outputs": [],
   "source": [
    "d_E={categorías:coeficientes for categorías,coeficientes in zip(E.columns[4:],lin.coef_)}\n",
    "d_E"
   ]
  },
  {
   "cell_type": "code",
   "execution_count": null,
   "metadata": {
    "colab": {
     "base_uri": "https://localhost:8080/"
    },
    "executionInfo": {
     "elapsed": 140,
     "status": "ok",
     "timestamp": 1678845749847,
     "user": {
      "displayName": "Carlos Arellano",
      "userId": "03055712073717640513"
     },
     "user_tz": 360
    },
    "id": "GpGoXWezAANP",
    "outputId": "ff90c232-ba54-4e4b-9a00-57a814493f02"
   },
   "outputs": [],
   "source": [
    "d_E[CR]=lin.intercept_\n",
    "d_E"
   ]
  },
  {
   "cell_type": "code",
   "execution_count": null,
   "metadata": {
    "colab": {
     "base_uri": "https://localhost:8080/",
     "height": 206
    },
    "executionInfo": {
     "elapsed": 139,
     "status": "ok",
     "timestamp": 1678845887327,
     "user": {
      "displayName": "Carlos Arellano",
      "userId": "03055712073717640513"
     },
     "user_tz": 360
    },
    "id": "oCJT6nZVASjX",
    "outputId": "b447c691-d7a6-4b62-de3e-a67a48984508"
   },
   "outputs": [],
   "source": [
    "df['P_Efectos']=df.Pronóstico.map(d_E)\n",
    "df.head()"
   ]
  },
  {
   "cell_type": "code",
   "execution_count": null,
   "metadata": {},
   "outputs": [],
   "source": []
  },
  {
   "cell_type": "code",
   "execution_count": null,
   "metadata": {},
   "outputs": [],
   "source": []
  }
 ],
 "metadata": {
  "colab": {
   "authorship_tag": "ABX9TyN5Leu0Y7XQ40bhXnWqtSSw",
   "mount_file_id": "1R5PVmze38VoJ28S0wJ0REBPUcjUAyxye",
   "provenance": []
  },
  "kernelspec": {
   "display_name": "Python 3 (ipykernel)",
   "language": "python",
   "name": "python3"
  },
  "language_info": {
   "codemirror_mode": {
    "name": "ipython",
    "version": 3
   },
   "file_extension": ".py",
   "mimetype": "text/x-python",
   "name": "python",
   "nbconvert_exporter": "python",
   "pygments_lexer": "ipython3",
   "version": "3.8.8"
  }
 },
 "nbformat": 4,
 "nbformat_minor": 1
}
