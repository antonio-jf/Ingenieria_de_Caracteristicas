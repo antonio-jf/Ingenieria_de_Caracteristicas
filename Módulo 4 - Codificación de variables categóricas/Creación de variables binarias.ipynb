{
 "cells": [
  {
   "cell_type": "markdown",
   "metadata": {},
   "source": [
    "<img style=\"float: left;;\" src='Figures/iteso.jpg' width=\"100\" height=\"200\"/></a>\n",
    "\n",
    "# <center> <font color= #000047> Creación de Variables Binarias </font> </center>"
   ]
  },
  {
   "cell_type": "code",
   "execution_count": null,
   "metadata": {
    "executionInfo": {
     "elapsed": 2249,
     "status": "ok",
     "timestamp": 1677634684664,
     "user": {
      "displayName": "Carlos Arellano",
      "userId": "03055712073717640513"
     },
     "user_tz": 360
    },
    "id": "U77KJF45osqp"
   },
   "outputs": [],
   "source": [
    "import pandas as pd\n",
    "import numpy as np\n",
    "from sklearn.linear_model import LinearRegression"
   ]
  },
  {
   "cell_type": "code",
   "execution_count": null,
   "metadata": {
    "colab": {
     "base_uri": "https://localhost:8080/",
     "height": 206
    },
    "executionInfo": {
     "elapsed": 5,
     "status": "ok",
     "timestamp": 1677634684664,
     "user": {
      "displayName": "Carlos Arellano",
      "userId": "03055712073717640513"
     },
     "user_tz": 360
    },
    "id": "ncOXnUQOo7zq",
    "outputId": "4016eec8-5f23-48b9-ae56-5d0ef65e5a2c"
   },
   "outputs": [],
   "source": [
    "np.random.seed(1)\n",
    "categorías=['Guadalajara','Zapopan','Ciudad de México','Monterrey','Morelia','Mexicali']\n",
    "ponderación=[1/4,1/5,1/4,7/40,1/20,3/40]\n",
    "limites=[(3500,6000),(3000,12000),(4000,18000),(3000,6000),(2000,5000),(3500,5000)]\n",
    "ciudad=np.random.choice(categorías,size=20,p=ponderación)\n",
    "rentas=[]\n",
    "for c in ciudad:\n",
    "    rentas.append(np.random.randint(*limites[categorías.index(c)]))\n",
    "df=pd.DataFrame()\n",
    "df['Rentas']=rentas\n",
    "df['Ciudad']=ciudad\n",
    "df.head()"
   ]
  },
  {
   "cell_type": "markdown",
   "metadata": {
    "id": "jjCj0l1mo-bf"
   },
   "source": [
    "# One-Hot"
   ]
  },
  {
   "cell_type": "code",
   "execution_count": null,
   "metadata": {
    "id": "QsPj7KDepAE9"
   },
   "outputs": [],
   "source": [
    "pd.get_dummies(df)                             # Codifica todas las variables categóricas"
   ]
  },
  {
   "cell_type": "code",
   "execution_count": null,
   "metadata": {
    "id": "ute9rsDQ1BqA"
   },
   "outputs": [],
   "source": [
    "pd.get_dummies(df['Ciudad'])                  # No agrega el prefijo"
   ]
  },
  {
   "cell_type": "code",
   "execution_count": null,
   "metadata": {
    "id": "e4bKBb171SmY"
   },
   "outputs": [],
   "source": [
    "pd.get_dummies(df,columns=['Ciudad'])         # Codifica solo 'Ciudad' (Agrega el prefijo)"
   ]
  },
  {
   "cell_type": "code",
   "execution_count": null,
   "metadata": {
    "colab": {
     "base_uri": "https://localhost:8080/",
     "height": 112
    },
    "executionInfo": {
     "elapsed": 342,
     "status": "ok",
     "timestamp": 1677635245535,
     "user": {
      "displayName": "Carlos Arellano",
      "userId": "03055712073717640513"
     },
     "user_tz": 360
    },
    "id": "WWNgaKK_1oHv",
    "outputId": "171fbe0a-4476-4c72-bade-3a4224d4b822"
   },
   "outputs": [],
   "source": [
    "OH=pd.get_dummies(df,prefix='',prefix_sep='') # Especificamos el prefijo\n",
    "OH.head(2)"
   ]
  },
  {
   "cell_type": "code",
   "execution_count": null,
   "metadata": {},
   "outputs": [],
   "source": []
  },
  {
   "cell_type": "markdown",
   "metadata": {
    "id": "qZu4B3wxpARv"
   },
   "source": [
    "# Codificación Ficticia"
   ]
  },
  {
   "cell_type": "code",
   "execution_count": null,
   "metadata": {
    "colab": {
     "base_uri": "https://localhost:8080/",
     "height": 112
    },
    "executionInfo": {
     "elapsed": 201,
     "status": "ok",
     "timestamp": 1677635331960,
     "user": {
      "displayName": "Carlos Arellano",
      "userId": "03055712073717640513"
     },
     "user_tz": 360
    },
    "id": "vWMtkNZLpCk7",
    "outputId": "125eebcf-bd14-4940-afbd-b2a18fd3162e"
   },
   "outputs": [],
   "source": [
    "F=pd.get_dummies(df,prefix='',prefix_sep='',drop_first=True)\n",
    "F.head(2)"
   ]
  },
  {
   "cell_type": "code",
   "execution_count": null,
   "metadata": {
    "colab": {
     "base_uri": "https://localhost:8080/",
     "height": 35
    },
    "executionInfo": {
     "elapsed": 4,
     "status": "ok",
     "timestamp": 1677635438813,
     "user": {
      "displayName": "Carlos Arellano",
      "userId": "03055712073717640513"
     },
     "user_tz": 360
    },
    "id": "40mxV9DD29Nx",
    "outputId": "776097e1-70c8-47ef-c2a5-93f3d16fce92"
   },
   "outputs": [],
   "source": [
    "CR,=set(OH.columns)-set(F.columns)\n",
    "CR"
   ]
  },
  {
   "cell_type": "markdown",
   "metadata": {
    "id": "7eUgt6JLpDAa"
   },
   "source": [
    "# Codificación de Efectos"
   ]
  },
  {
   "cell_type": "code",
   "execution_count": null,
   "metadata": {
    "colab": {
     "base_uri": "https://localhost:8080/"
    },
    "executionInfo": {
     "elapsed": 164,
     "status": "ok",
     "timestamp": 1677635683927,
     "user": {
      "displayName": "Carlos Arellano",
      "userId": "03055712073717640513"
     },
     "user_tz": 360
    },
    "id": "BY18DbMxpFOg",
    "outputId": "26d8738e-ba5f-42e5-fc71-87d4f7f8e2a8"
   },
   "outputs": [],
   "source": [
    "E=pd.get_dummies(df,prefix='',prefix_sep='',drop_first=True)\n",
    "CDMX,=np.where(df['Ciudad']==CR)\n",
    "CDMX"
   ]
  },
  {
   "cell_type": "code",
   "execution_count": null,
   "metadata": {
    "colab": {
     "base_uri": "https://localhost:8080/",
     "height": 363
    },
    "executionInfo": {
     "elapsed": 174,
     "status": "ok",
     "timestamp": 1677635769444,
     "user": {
      "displayName": "Carlos Arellano",
      "userId": "03055712073717640513"
     },
     "user_tz": 360
    },
    "id": "21l7aY914T54",
    "outputId": "fa4f7312-c3f2-40a3-fa90-db5f27afddbf"
   },
   "outputs": [],
   "source": [
    "E.iloc[CDMX,1:]=-1\n",
    "E.head(10)"
   ]
  },
  {
   "cell_type": "code",
   "execution_count": null,
   "metadata": {
    "colab": {
     "base_uri": "https://localhost:8080/"
    },
    "executionInfo": {
     "elapsed": 169,
     "status": "ok",
     "timestamp": 1677635870479,
     "user": {
      "displayName": "Carlos Arellano",
      "userId": "03055712073717640513"
     },
     "user_tz": 360
    },
    "id": "DxFCtMq943KA",
    "outputId": "0991b0cd-d439-4730-b488-556390f1eecc"
   },
   "outputs": [],
   "source": [
    "E.dtypes"
   ]
  },
  {
   "cell_type": "code",
   "execution_count": null,
   "metadata": {
    "colab": {
     "base_uri": "https://localhost:8080/"
    },
    "executionInfo": {
     "elapsed": 206,
     "status": "ok",
     "timestamp": 1677636021668,
     "user": {
      "displayName": "Carlos Arellano",
      "userId": "03055712073717640513"
     },
     "user_tz": 360
    },
    "id": "WDMqzDdw5HHA",
    "outputId": "a32196e0-0c32-4ce2-c30f-c022e5224f18"
   },
   "outputs": [],
   "source": [
    "E=E.astype('int')\n",
    "E.dtypes"
   ]
  },
  {
   "cell_type": "code",
   "execution_count": null,
   "metadata": {
    "colab": {
     "base_uri": "https://localhost:8080/",
     "height": 363
    },
    "executionInfo": {
     "elapsed": 159,
     "status": "ok",
     "timestamp": 1677636094161,
     "user": {
      "displayName": "Carlos Arellano",
      "userId": "03055712073717640513"
     },
     "user_tz": 360
    },
    "id": "srbvG2dl5iti",
    "outputId": "761cf9c4-10a7-4e06-9fff-db42ee7ac708"
   },
   "outputs": [],
   "source": [
    "E.iloc[CDMX,1:]=-1\n",
    "E.head(10)"
   ]
  },
  {
   "cell_type": "markdown",
   "metadata": {
    "id": "vsKZ0icLpHJF"
   },
   "source": [
    "# Regresión lineal"
   ]
  },
  {
   "cell_type": "code",
   "execution_count": null,
   "metadata": {
    "colab": {
     "base_uri": "https://localhost:8080/"
    },
    "executionInfo": {
     "elapsed": 169,
     "status": "ok",
     "timestamp": 1677636855048,
     "user": {
      "displayName": "Carlos Arellano",
      "userId": "03055712073717640513"
     },
     "user_tz": 360
    },
    "id": "hcpa2aVDpJob",
    "outputId": "94e73aa6-b01c-469d-e7ad-934f3d0f9480"
   },
   "outputs": [],
   "source": [
    "#@title One-Hot\n",
    "linOH=LinearRegression()\n",
    "linOH.fit(OH.drop(columns='Rentas'),OH.Rentas)"
   ]
  },
  {
   "cell_type": "code",
   "execution_count": null,
   "metadata": {
    "colab": {
     "base_uri": "https://localhost:8080/"
    },
    "executionInfo": {
     "elapsed": 190,
     "status": "ok",
     "timestamp": 1677636861989,
     "user": {
      "displayName": "Carlos Arellano",
      "userId": "03055712073717640513"
     },
     "user_tz": 360
    },
    "id": "vGc72hkg8uLh",
    "outputId": "4544585a-109c-48ad-a2a8-0e882f69b2a0"
   },
   "outputs": [],
   "source": [
    "linOH.coef_"
   ]
  },
  {
   "cell_type": "code",
   "execution_count": null,
   "metadata": {
    "colab": {
     "base_uri": "https://localhost:8080/"
    },
    "executionInfo": {
     "elapsed": 166,
     "status": "ok",
     "timestamp": 1677636869842,
     "user": {
      "displayName": "Carlos Arellano",
      "userId": "03055712073717640513"
     },
     "user_tz": 360
    },
    "id": "rrUZvmfR8v3o",
    "outputId": "ef5dd42d-556a-4a6d-89a5-da57ade73d74"
   },
   "outputs": [],
   "source": [
    "linOH.intercept_"
   ]
  },
  {
   "cell_type": "code",
   "execution_count": null,
   "metadata": {
    "colab": {
     "base_uri": "https://localhost:8080/",
     "height": 237
    },
    "executionInfo": {
     "elapsed": 189,
     "status": "ok",
     "timestamp": 1677637002635,
     "user": {
      "displayName": "Carlos Arellano",
      "userId": "03055712073717640513"
     },
     "user_tz": 360
    },
    "id": "Plzs7d4U8xyo",
    "outputId": "10dc6b36-af18-46cd-dafa-aab946ffde48"
   },
   "outputs": [],
   "source": [
    "promedios=df.groupby('Ciudad').mean()\n",
    "promedios"
   ]
  },
  {
   "cell_type": "code",
   "execution_count": null,
   "metadata": {
    "colab": {
     "base_uri": "https://localhost:8080/"
    },
    "executionInfo": {
     "elapsed": 173,
     "status": "ok",
     "timestamp": 1677637029992,
     "user": {
      "displayName": "Carlos Arellano",
      "userId": "03055712073717640513"
     },
     "user_tz": 360
    },
    "id": "IHXisvML9SNQ",
    "outputId": "393a65c5-4c8d-489a-b35b-933d7f687a35"
   },
   "outputs": [],
   "source": [
    "linOH.intercept_-promedios.mean()"
   ]
  },
  {
   "cell_type": "code",
   "execution_count": null,
   "metadata": {
    "colab": {
     "base_uri": "https://localhost:8080/",
     "height": 237
    },
    "executionInfo": {
     "elapsed": 269,
     "status": "ok",
     "timestamp": 1677637181992,
     "user": {
      "displayName": "Carlos Arellano",
      "userId": "03055712073717640513"
     },
     "user_tz": 360
    },
    "id": "7T2eg-z79Y4g",
    "outputId": "aafaa39c-c541-4bfd-cdf6-5502a8f66ddd"
   },
   "outputs": [],
   "source": [
    "promedios-promedios.mean()"
   ]
  },
  {
   "cell_type": "code",
   "execution_count": null,
   "metadata": {
    "colab": {
     "base_uri": "https://localhost:8080/"
    },
    "executionInfo": {
     "elapsed": 199,
     "status": "ok",
     "timestamp": 1677637193633,
     "user": {
      "displayName": "Carlos Arellano",
      "userId": "03055712073717640513"
     },
     "user_tz": 360
    },
    "id": "Vh-g6UrY94ni",
    "outputId": "bf752300-0a49-4dc5-c279-6e7859935a5b"
   },
   "outputs": [],
   "source": [
    "linOH.coef_"
   ]
  },
  {
   "cell_type": "markdown",
   "metadata": {
    "id": "Uo5HTN2L-OHq"
   },
   "source": [
    "Para la codificación One-Hot, en una regresión lineal, la intersección es el promedio de los valores promedios de las rentas de cada categoría. Los coeficientes son el resultante de la resta entre el promedio de las categorías y el promedio general."
   ]
  },
  {
   "cell_type": "code",
   "execution_count": null,
   "metadata": {
    "colab": {
     "base_uri": "https://localhost:8080/"
    },
    "executionInfo": {
     "elapsed": 312,
     "status": "ok",
     "timestamp": 1677637554190,
     "user": {
      "displayName": "Carlos Arellano",
      "userId": "03055712073717640513"
     },
     "user_tz": 360
    },
    "id": "PRq7B5r9_Ehz",
    "outputId": "69a66abd-3603-4753-8ec2-e98569e0d639"
   },
   "outputs": [],
   "source": [
    "#@title Codificación Ficticia\n",
    "linF=LinearRegression()\n",
    "linF.fit(F.drop(columns='Rentas'),F.Rentas)"
   ]
  },
  {
   "cell_type": "code",
   "execution_count": null,
   "metadata": {
    "colab": {
     "base_uri": "https://localhost:8080/"
    },
    "executionInfo": {
     "elapsed": 178,
     "status": "ok",
     "timestamp": 1677637713581,
     "user": {
      "displayName": "Carlos Arellano",
      "userId": "03055712073717640513"
     },
     "user_tz": 360
    },
    "id": "u99NG6bl_Y1g",
    "outputId": "c056034c-cc64-47b2-f62e-bb3f58c98b65"
   },
   "outputs": [],
   "source": [
    "linF.intercept_-promedios.loc[CR]"
   ]
  },
  {
   "cell_type": "code",
   "execution_count": null,
   "metadata": {
    "colab": {
     "base_uri": "https://localhost:8080/"
    },
    "executionInfo": {
     "elapsed": 217,
     "status": "ok",
     "timestamp": 1677637745070,
     "user": {
      "displayName": "Carlos Arellano",
      "userId": "03055712073717640513"
     },
     "user_tz": 360
    },
    "id": "dWHsN6xWAE-p",
    "outputId": "c9763c57-7f32-4255-9b32-407f25cb5a3e"
   },
   "outputs": [],
   "source": [
    "linF.intercept_"
   ]
  },
  {
   "cell_type": "code",
   "execution_count": null,
   "metadata": {
    "colab": {
     "base_uri": "https://localhost:8080/"
    },
    "executionInfo": {
     "elapsed": 2,
     "status": "ok",
     "timestamp": 1677637759061,
     "user": {
      "displayName": "Carlos Arellano",
      "userId": "03055712073717640513"
     },
     "user_tz": 360
    },
    "id": "LBUrScfFAHbp",
    "outputId": "10e65b0b-a98c-4d50-a244-fe84c646e9e7"
   },
   "outputs": [],
   "source": [
    "promedios.loc[CR]"
   ]
  },
  {
   "cell_type": "code",
   "execution_count": null,
   "metadata": {
    "colab": {
     "base_uri": "https://localhost:8080/",
     "height": 237
    },
    "executionInfo": {
     "elapsed": 182,
     "status": "ok",
     "timestamp": 1677637843814,
     "user": {
      "displayName": "Carlos Arellano",
      "userId": "03055712073717640513"
     },
     "user_tz": 360
    },
    "id": "oO94Gb7pAS8Y",
    "outputId": "061583c3-86a1-4b2c-cd72-bca6c6fa3170"
   },
   "outputs": [],
   "source": [
    "promedios-promedios.loc[CR]"
   ]
  },
  {
   "cell_type": "code",
   "execution_count": null,
   "metadata": {
    "colab": {
     "base_uri": "https://localhost:8080/"
    },
    "executionInfo": {
     "elapsed": 216,
     "status": "ok",
     "timestamp": 1677637829739,
     "user": {
      "displayName": "Carlos Arellano",
      "userId": "03055712073717640513"
     },
     "user_tz": 360
    },
    "id": "Ev71dqkqAano",
    "outputId": "bd5ccb95-ad90-4247-9c05-beb9d9fa3a25"
   },
   "outputs": [],
   "source": [
    "linF.coef_"
   ]
  },
  {
   "cell_type": "markdown",
   "metadata": {
    "id": "rj23Ue0pA8lj"
   },
   "source": [
    "En la codificación Ficticia, la intersección de la regresión lineal corresponde al promedio de la categoría de referencia. Los coeficientes son la diferencia entre el promedio de cada categoría y la intersección."
   ]
  },
  {
   "cell_type": "code",
   "execution_count": null,
   "metadata": {
    "colab": {
     "base_uri": "https://localhost:8080/"
    },
    "executionInfo": {
     "elapsed": 196,
     "status": "ok",
     "timestamp": 1677638120413,
     "user": {
      "displayName": "Carlos Arellano",
      "userId": "03055712073717640513"
     },
     "user_tz": 360
    },
    "id": "VI76kqZlBWNs",
    "outputId": "616d82e7-cfb2-490e-99ae-31aab61616d2"
   },
   "outputs": [],
   "source": [
    "#@title Codificación de Efectos\n",
    "linE=LinearRegression()\n",
    "linE.fit(E.drop(columns='Rentas'),E.Rentas)"
   ]
  },
  {
   "cell_type": "code",
   "execution_count": null,
   "metadata": {
    "colab": {
     "base_uri": "https://localhost:8080/"
    },
    "executionInfo": {
     "elapsed": 2,
     "status": "ok",
     "timestamp": 1677638150441,
     "user": {
      "displayName": "Carlos Arellano",
      "userId": "03055712073717640513"
     },
     "user_tz": 360
    },
    "id": "sK8VviA3BjGB",
    "outputId": "63aa38b0-286b-4000-c944-8385ee16e893"
   },
   "outputs": [],
   "source": [
    "linOH.intercept_,linE.intercept_"
   ]
  },
  {
   "cell_type": "code",
   "execution_count": null,
   "metadata": {
    "colab": {
     "base_uri": "https://localhost:8080/"
    },
    "executionInfo": {
     "elapsed": 184,
     "status": "ok",
     "timestamp": 1677638196957,
     "user": {
      "displayName": "Carlos Arellano",
      "userId": "03055712073717640513"
     },
     "user_tz": 360
    },
    "id": "Sb_bF89CBqdJ",
    "outputId": "b768de6b-c55c-4bf6-8b72-fa4de05ce7f1"
   },
   "outputs": [],
   "source": [
    "linOH.coef_[1:],linE.coef_"
   ]
  },
  {
   "cell_type": "code",
   "execution_count": null,
   "metadata": {
    "colab": {
     "base_uri": "https://localhost:8080/"
    },
    "executionInfo": {
     "elapsed": 156,
     "status": "ok",
     "timestamp": 1677638434524,
     "user": {
      "displayName": "Carlos Arellano",
      "userId": "03055712073717640513"
     },
     "user_tz": 360
    },
    "id": "O0-vZmu0CroI",
    "outputId": "ed9e0089-3655-4212-ff2f-f2bc996a0a79"
   },
   "outputs": [],
   "source": [
    "linE.intercept_+linE.coef_"
   ]
  },
  {
   "cell_type": "code",
   "execution_count": null,
   "metadata": {
    "colab": {
     "base_uri": "https://localhost:8080/",
     "height": 237
    },
    "executionInfo": {
     "elapsed": 209,
     "status": "ok",
     "timestamp": 1677638439766,
     "user": {
      "displayName": "Carlos Arellano",
      "userId": "03055712073717640513"
     },
     "user_tz": 360
    },
    "id": "9w6nxWAQCvwN",
    "outputId": "cfb38015-c86c-407f-aaea-ba343a94fbde"
   },
   "outputs": [],
   "source": [
    "promedios"
   ]
  },
  {
   "cell_type": "code",
   "execution_count": null,
   "metadata": {
    "colab": {
     "base_uri": "https://localhost:8080/"
    },
    "executionInfo": {
     "elapsed": 209,
     "status": "ok",
     "timestamp": 1677638628355,
     "user": {
      "displayName": "Carlos Arellano",
      "userId": "03055712073717640513"
     },
     "user_tz": 360
    },
    "id": "H8ZWzjAwB1yQ",
    "outputId": "9cec995f-8f3b-412d-86b9-5a3c221ee829"
   },
   "outputs": [],
   "source": [
    "# Promedio de la Categoría de referencia\n",
    "linE.intercept_-linE.coef_.sum()"
   ]
  },
  {
   "cell_type": "markdown",
   "metadata": {
    "id": "4ZQ8xkyVDqr0"
   },
   "source": [
    "Para la codificación de Efectos, en una regresión lineal, la intersección es el promedio general y los coeficientes, la diferencia entre los promedios de cada variable y el promedio general (a esto se le conoce como efecto principal)."
   ]
  },
  {
   "cell_type": "code",
   "execution_count": null,
   "metadata": {
    "id": "TGNHDJ_7DfG9"
   },
   "outputs": [],
   "source": []
  }
 ],
 "metadata": {
  "colab": {
   "authorship_tag": "ABX9TyNhSH5Yy9N6m9Dzp6yNz1Ph",
   "provenance": []
  },
  "kernelspec": {
   "display_name": "Python 3 (ipykernel)",
   "language": "python",
   "name": "python3"
  },
  "language_info": {
   "codemirror_mode": {
    "name": "ipython",
    "version": 3
   },
   "file_extension": ".py",
   "mimetype": "text/x-python",
   "name": "python",
   "nbconvert_exporter": "python",
   "pygments_lexer": "ipython3",
   "version": "3.8.8"
  }
 },
 "nbformat": 4,
 "nbformat_minor": 1
}
