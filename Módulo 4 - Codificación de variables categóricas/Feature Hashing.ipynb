{
 "cells": [
  {
   "cell_type": "markdown",
   "metadata": {},
   "source": [
    "<img style=\"float: left;;\" src='Figures/iteso.jpg' width=\"100\" height=\"200\"/></a>\n",
    "\n",
    "# <center> <font color= #000047> Feature Hashing </font> </center>"
   ]
  },
  {
   "cell_type": "code",
   "execution_count": null,
   "metadata": {
    "colab": {
     "base_uri": "https://localhost:8080/",
     "height": 206
    },
    "executionInfo": {
     "elapsed": 887,
     "status": "ok",
     "timestamp": 1678846854244,
     "user": {
      "displayName": "Carlos Arellano",
      "userId": "03055712073717640513"
     },
     "user_tz": 360
    },
    "id": "DeP2AEJdD9wP",
    "outputId": "3c3e5726-b062-42fc-d1a8-c4c46bd80244"
   },
   "outputs": [],
   "source": [
    "import pandas as pd\n",
    "import numpy as np\n",
    "import matplotlib.pyplot as plt\n",
    "\n",
    "df=pd.read_csv('Países.csv')\n",
    "df.head()"
   ]
  },
  {
   "cell_type": "code",
   "execution_count": null,
   "metadata": {
    "colab": {
     "base_uri": "https://localhost:8080/",
     "height": 351
    },
    "executionInfo": {
     "elapsed": 2507,
     "status": "ok",
     "timestamp": 1678847127158,
     "user": {
      "displayName": "Carlos Arellano",
      "userId": "03055712073717640513"
     },
     "user_tz": 360
    },
    "id": "C6vGpfPfEf8U",
    "outputId": "d492b254-7fd2-4a64-8c1b-9eecaf602ae7"
   },
   "outputs": [],
   "source": [
    "vc=df.Países.value_counts()\n",
    "vc.plot.bar(figsize=(15,5),grid=True)"
   ]
  },
  {
   "cell_type": "code",
   "execution_count": null,
   "metadata": {
    "colab": {
     "base_uri": "https://localhost:8080/"
    },
    "executionInfo": {
     "elapsed": 139,
     "status": "ok",
     "timestamp": 1678847289212,
     "user": {
      "displayName": "Carlos Arellano",
      "userId": "03055712073717640513"
     },
     "user_tz": 360
    },
    "id": "DtA_mnq6Ffpg",
    "outputId": "655c587d-1f2e-42e0-b4e1-0f889653550b"
   },
   "outputs": [],
   "source": [
    "# Cardinalidad de 'Países'\n",
    "n=len(df.Países.unique())\n",
    "n"
   ]
  },
  {
   "cell_type": "code",
   "execution_count": null,
   "metadata": {
    "colab": {
     "base_uri": "https://localhost:8080/"
    },
    "executionInfo": {
     "elapsed": 115,
     "status": "ok",
     "timestamp": 1678847351607,
     "user": {
      "displayName": "Carlos Arellano",
      "userId": "03055712073717640513"
     },
     "user_tz": 360
    },
    "id": "nyZs8o-3GKXH",
    "outputId": "f71c3181-a902-4979-eebd-9624ab98e32e"
   },
   "outputs": [],
   "source": [
    "N_obs=df.shape[0]\n",
    "N_obs"
   ]
  },
  {
   "cell_type": "code",
   "execution_count": null,
   "metadata": {
    "colab": {
     "base_uri": "https://localhost:8080/"
    },
    "executionInfo": {
     "elapsed": 141,
     "status": "ok",
     "timestamp": 1678847367318,
     "user": {
      "displayName": "Carlos Arellano",
      "userId": "03055712073717640513"
     },
     "user_tz": 360
    },
    "id": "tKGffB73GZmX",
    "outputId": "14ea9335-533d-4d8d-8007-c3e264c2f459"
   },
   "outputs": [],
   "source": [
    "0.2*n"
   ]
  },
  {
   "cell_type": "code",
   "execution_count": null,
   "metadata": {
    "colab": {
     "base_uri": "https://localhost:8080/"
    },
    "executionInfo": {
     "elapsed": 128,
     "status": "ok",
     "timestamp": 1678847384578,
     "user": {
      "displayName": "Carlos Arellano",
      "userId": "03055712073717640513"
     },
     "user_tz": 360
    },
    "id": "qMxeSCPSGddH",
    "outputId": "5c60c54f-446b-47da-9b97-318444d196ea"
   },
   "outputs": [],
   "source": [
    "0.8*N_obs"
   ]
  },
  {
   "cell_type": "code",
   "execution_count": null,
   "metadata": {
    "colab": {
     "base_uri": "https://localhost:8080/",
     "height": 351
    },
    "executionInfo": {
     "elapsed": 1146,
     "status": "ok",
     "timestamp": 1678847780874,
     "user": {
      "displayName": "Carlos Arellano",
      "userId": "03055712073717640513"
     },
     "user_tz": 360
    },
    "id": "WeTAUPW7GhpP",
    "outputId": "c009af65-20b9-41dd-d30c-089d05628936"
   },
   "outputs": [],
   "source": [
    "cs=vc.cumsum()\n",
    "(cs/N_obs).plot(grid=True,figsize=(15,5),xticks=range(n),rot=90)"
   ]
  },
  {
   "cell_type": "code",
   "execution_count": null,
   "metadata": {
    "colab": {
     "base_uri": "https://localhost:8080/"
    },
    "executionInfo": {
     "elapsed": 125,
     "status": "ok",
     "timestamp": 1678847887502,
     "user": {
      "displayName": "Carlos Arellano",
      "userId": "03055712073717640513"
     },
     "user_tz": 360
    },
    "id": "IznOQ4CkHBHD",
    "outputId": "f209cb5c-1bcc-48b7-8f9e-765a2258199d"
   },
   "outputs": [],
   "source": [
    "np.where(cs/N_obs>0.8)[0][0] # índice 19, 20 categorías"
   ]
  },
  {
   "cell_type": "code",
   "execution_count": null,
   "metadata": {
    "colab": {
     "base_uri": "https://localhost:8080/"
    },
    "executionInfo": {
     "elapsed": 137,
     "status": "ok",
     "timestamp": 1678847958982,
     "user": {
      "displayName": "Carlos Arellano",
      "userId": "03055712073717640513"
     },
     "user_tz": 360
    },
    "id": "9Av83WBuIcbq",
    "outputId": "1a52ce7a-d1e0-4f95-8401-cfa18e81c6e7"
   },
   "outputs": [],
   "source": [
    "cs[19]/N_obs # 20 categorías generan el 81.6% de las observaciones"
   ]
  },
  {
   "cell_type": "code",
   "execution_count": null,
   "metadata": {
    "colab": {
     "base_uri": "https://localhost:8080/"
    },
    "executionInfo": {
     "elapsed": 149,
     "status": "ok",
     "timestamp": 1678848020027,
     "user": {
      "displayName": "Carlos Arellano",
      "userId": "03055712073717640513"
     },
     "user_tz": 360
    },
    "id": "-muSyoCuIt5w",
    "outputId": "c0f2584a-24a1-499e-b705-8e8e5f3f304c"
   },
   "outputs": [],
   "source": [
    "cs[18]/N_obs # 19 categorías generan el 78.9% de las observaciones"
   ]
  },
  {
   "cell_type": "code",
   "execution_count": null,
   "metadata": {
    "id": "p8CyG9ZWI8yH"
   },
   "outputs": [],
   "source": [
    "m=20\n",
    "key={categorias:id for categorias,id in zip(vc.index,range(n))}\n",
    "key"
   ]
  },
  {
   "cell_type": "code",
   "execution_count": null,
   "metadata": {
    "id": "FCcNEypNKfj5"
   },
   "outputs": [],
   "source": [
    "# Función Hash tomando en cuenta la frecuencia\n",
    "cnt=[0]*m\n",
    "for obs in df.Países:\n",
    "  i=key[obs]%m\n",
    "  cnt[i]+=1\n",
    "cnt"
   ]
  },
  {
   "cell_type": "code",
   "execution_count": null,
   "metadata": {
    "id": "XNZetwoQLVXk"
   },
   "outputs": [],
   "source": [
    "key2={categorias:id for categorias,id in zip(df.Países.unique(),range(n))}\n",
    "key2"
   ]
  },
  {
   "cell_type": "code",
   "execution_count": null,
   "metadata": {
    "colab": {
     "base_uri": "https://localhost:8080/"
    },
    "executionInfo": {
     "elapsed": 116,
     "status": "ok",
     "timestamp": 1678848929032,
     "user": {
      "displayName": "Carlos Arellano",
      "userId": "03055712073717640513"
     },
     "user_tz": 360
    },
    "id": "_KRFVjavMCbL",
    "outputId": "50a83557-7cb6-44d5-c837-a6c20218f3f3"
   },
   "outputs": [],
   "source": [
    "# Otra función hash\n",
    "cnt=[0]*m\n",
    "for obs in df.Países:\n",
    "  i=key2[obs]%m\n",
    "  cnt[i]+=1\n",
    "cnt"
   ]
  },
  {
   "cell_type": "code",
   "execution_count": null,
   "metadata": {
    "executionInfo": {
     "elapsed": 130,
     "status": "ok",
     "timestamp": 1678849218431,
     "user": {
      "displayName": "Carlos Arellano",
      "userId": "03055712073717640513"
     },
     "user_tz": 360
    },
    "id": "D9cUAVRhMpOl"
   },
   "outputs": [],
   "source": [
    "# Función hash MurmurHash3 de 32 bits\n",
    "from sklearn.feature_extraction import FeatureHasher"
   ]
  },
  {
   "cell_type": "code",
   "execution_count": null,
   "metadata": {
    "colab": {
     "base_uri": "https://localhost:8080/"
    },
    "executionInfo": {
     "elapsed": 2,
     "status": "ok",
     "timestamp": 1678849346477,
     "user": {
      "displayName": "Carlos Arellano",
      "userId": "03055712073717640513"
     },
     "user_tz": 360
    },
    "id": "2mq5Jm57NhXx",
    "outputId": "e84bfef1-2085-4481-87e6-83eea06c29f0"
   },
   "outputs": [],
   "source": [
    "fcnHash=FeatureHasher(m)\n",
    "fcnHash.transform([key]).toarray()"
   ]
  },
  {
   "cell_type": "code",
   "execution_count": null,
   "metadata": {
    "colab": {
     "base_uri": "https://localhost:8080/"
    },
    "executionInfo": {
     "elapsed": 146,
     "status": "ok",
     "timestamp": 1678849421087,
     "user": {
      "displayName": "Carlos Arellano",
      "userId": "03055712073717640513"
     },
     "user_tz": 360
    },
    "id": "588eqg15N97n",
    "outputId": "3d2def5d-4767-4d35-bdda-22c39d88ad42"
   },
   "outputs": [],
   "source": [
    "fcnHash.transform([key2]).toarray()"
   ]
  },
  {
   "cell_type": "code",
   "execution_count": null,
   "metadata": {
    "id": "5b0d8r_IOS14"
   },
   "outputs": [],
   "source": [
    "!pip install category-encoders"
   ]
  },
  {
   "cell_type": "code",
   "execution_count": null,
   "metadata": {
    "executionInfo": {
     "elapsed": 796,
     "status": "ok",
     "timestamp": 1678849673490,
     "user": {
      "displayName": "Carlos Arellano",
      "userId": "03055712073717640513"
     },
     "user_tz": 360
    },
    "id": "DjdhcBLJPEJ0"
   },
   "outputs": [],
   "source": [
    "from category_encoders import HashingEncoder"
   ]
  },
  {
   "cell_type": "code",
   "execution_count": null,
   "metadata": {
    "colab": {
     "base_uri": "https://localhost:8080/",
     "height": 487
    },
    "executionInfo": {
     "elapsed": 570,
     "status": "ok",
     "timestamp": 1678849801908,
     "user": {
      "displayName": "Carlos Arellano",
      "userId": "03055712073717640513"
     },
     "user_tz": 360
    },
    "id": "N5U9CjN9PQTo",
    "outputId": "727a7e3b-dbec-49d7-af50-faa7cbf61218"
   },
   "outputs": [],
   "source": [
    "fcnHash_OH=HashingEncoder(n_components=m,cols='Países')\n",
    "fcnHash_OH.fit_transform(df)"
   ]
  }
 ],
 "metadata": {
  "colab": {
   "authorship_tag": "ABX9TyOl+Q+QSL1faFdOmHvegRli",
   "mount_file_id": "1A_FCrK6iFGWmRTQOZNDLAZzqDxbkhk_s",
   "provenance": []
  },
  "kernelspec": {
   "display_name": "Python 3 (ipykernel)",
   "language": "python",
   "name": "python3"
  },
  "language_info": {
   "codemirror_mode": {
    "name": "ipython",
    "version": 3
   },
   "file_extension": ".py",
   "mimetype": "text/x-python",
   "name": "python",
   "nbconvert_exporter": "python",
   "pygments_lexer": "ipython3",
   "version": "3.8.8"
  }
 },
 "nbformat": 4,
 "nbformat_minor": 1
}
