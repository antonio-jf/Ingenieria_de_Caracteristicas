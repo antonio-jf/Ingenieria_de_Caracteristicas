{
 "cells": [
  {
   "cell_type": "markdown",
   "metadata": {},
   "source": [
    "<img style=\"float: left;;\" src='../Imagenes/iteso.jpg' width=\"120\" height=\"120\"/></a>\n",
    "\n",
    "# <center> <font color= #000047> DEPARTAMENTO DE MATEMÁTICAS Y FÍSICA </font> </center>\n",
    "# <center> <font color= #000047> Ingeniería de Características </font> </center>\n",
    "# <center> <font color= #000047> Práctica Examen 3er Parcial </font> </center>\n",
    "\n",
    "        "
   ]
  },
  {
   "cell_type": "markdown",
   "metadata": {},
   "source": [
    "\n",
    "<h2>Tabla de Reactivos</h2>\n",
    "\n",
    "1. [Reactivo 1 ](#Problema1)\n",
    "2. [Reactivo 2 ](#Problema2)\n",
    "\n",
    "<hr>   "
   ]
  },
  {
   "cell_type": "markdown",
   "metadata": {},
   "source": [
    "<hr>   \n",
    "\n",
    "### Reactivo 1  <a name=\"Problema1\"></a> \n",
    "\n",
    "\n",
    "Considere el dataset **\"heart_diseases.csv\"**, este conjunto de datos proviene de un estudio cardiovascular y proporciona la información de estudios de 4000 pacientes con 15 Variables los cuales pueden tener un riesgo a 10 años de enfermedad coronaria (CHD). Cada atributo en el dataset, es un factor de riesgo potencial. Existen factores de riesgo demográficos, conductuales y médicos.\n",
    "\n",
    "\n",
    ">1.- Realizar una limpieza de datos eliminando la variable `TenYearCHD`. Finalmente, guardar el nuevo dataset en `heart_clean_df`. Transformar las variables de tal forma que se maximice la probabilidad de que la variable resultante tenga distribución Normal. Criterio para los NaN: Eliminación de observaciones. Imputación de datos faltantes basados en el tipo de variable.\n",
    "\n",
    ">2.- Obtener un Analisis exploratorio de datos EDA para `heart_clean_df` (obtener al menos 5 insights).\n",
    "\n",
    ">3.- Normalizar las variables para aplicar un modelo de K-means. Identificar 'm' centroides con K-means. Aplicar algún criterio de selección de grupos y obtener el número óptimo de grupos para una clusterización.\n",
    "\n",
    ">4.- Tomando en cuenta el número de grupos optimos, obtenga un modelo de clustering con kmeans.\n",
    "\n",
    ">5.- Grafique sus resultado, concluya y comente. ¿Los grupos encontrados con su modelo tienen alguna relación con la variable de riesgo (`TenYearCHD`) a contraer una enfermedad (CHD) a 10 años?\n",
    "\n",
    "\n",
    "<details>\n",
    "    <summary><b>Atributos(click aquí)</b></summary>\n",
    "    \n",
    "    Demográficos:\n",
    "        - Sex: male or female(Nominal)\n",
    "        - Age: Edad del paciente\n",
    "    \n",
    "    Educacional: no se tiene información\n",
    "    \n",
    "    Comportamiento:\n",
    "        - Current Smoker: Si el paciente es actualmente fumador (Nominal)\n",
    "        - Cigs Per Day: Número de cigarros que se consume diariamente en promedio.\n",
    "    \n",
    "    Información del historial médico:\n",
    "        - BP Meds: Si el paciente estaba tomando medicamentos para la presión arterial\n",
    "        - Prevalent Stroke: Si el paciente había tenido previamente un derrame cerebral.\n",
    "        - Prevalent Hyp: Si el paciente era hipertenso (Nominal)\n",
    "        - Diabetes: Si el paciente tenía diabetes (Nominal)\n",
    "    \n",
    "</details>\n",
    "\n",
    "**Respuesta:**"
   ]
  },
  {
   "cell_type": "code",
   "execution_count": null,
   "metadata": {},
   "outputs": [],
   "source": [
    "#Cargar el dataset en una variable `heart_df` "
   ]
  },
  {
   "cell_type": "code",
   "execution_count": null,
   "metadata": {},
   "outputs": [],
   "source": [
    "#Realizar una limpieza de datos eliminando la variable `TenYearCHD` y rellenar los valores qué contengan 'NA' con el promedio de la columna. Finalmente, guardar el nuevo dataset en `heart_clean_df`."
   ]
  },
  {
   "cell_type": "code",
   "execution_count": null,
   "metadata": {},
   "outputs": [],
   "source": [
    "#Obtener un Analisis exploratorio de datos EDA para `heart_clean_df` (obtener al menos 5 insights)."
   ]
  },
  {
   "cell_type": "code",
   "execution_count": null,
   "metadata": {},
   "outputs": [],
   "source": [
    "#Normalizar las variables para aplicar un modelo de K-means. Identificar 'm' centroides con K-means. Aplicar algún criterio de selección de grupos y obtener el número óptimo de grupos para una clusterización.\n"
   ]
  },
  {
   "cell_type": "code",
   "execution_count": null,
   "metadata": {},
   "outputs": [],
   "source": [
    "# Tomando en cuenta el número de grupos optimos, obtenga un modelo de clustering con kmeans.\n"
   ]
  },
  {
   "cell_type": "code",
   "execution_count": 1,
   "metadata": {},
   "outputs": [],
   "source": [
    "# Grafique sus resultado, concluya y comente. ¿Los grupos encontrados con su modelo tienen alguna relación con la variable de riesgo (`TenYearCHD`) a contraer una enfermedad (CHD) a 10 años?\n"
   ]
  },
  {
   "cell_type": "markdown",
   "metadata": {},
   "source": [
    "<hr>   \n",
    "\n",
    "### Reactivo 2  <a name=\"Problema3\"></a> \n",
    "El archivo \"resenna.csv\" contiene reseñas de una biblioteca en España. Se desea clasificarlas según las demandas de los usuarios.\n",
    "\n",
    ">1.-Lea el archivo y codifique las reseñas usando [Tf*Idf](https://scikit-learn.org/stable/modules/generated/sklearn.feature_extraction.text.TfidfVectorizer.html) (term frequency-inverse document frecuency) agrupando 1, 2 o (1 y 2) palabras.\n",
    "\n",
    ">2.-Defina un criterio para reducir la dimensión de los vectores generados por la codificación.\n",
    "\n",
    ">3.-Reduzca la dimensionalidad de las reseñas codificadas y clasifique por K-means.\n",
    "\n",
    ">4.-Que agrupación separó mejor las reseñas de acuerdo a los recursos usados en la biblioteca? (esto es, deficiencias de WiFi, red eléctrica, trato del personal, etc.)\n",
    "\n",
    ">5.-Finalmente, evalúe las siguientes oraciones con la transformación Tf*Idf, el algoritmo de Feature hashing y el algoritmo de K-means entrenado:\n",
    "- 'Hace demasiado calor',\n",
    "- 'Poco tiempo de servicio.',\n",
    "- 'Falta de personal capacitado.',\n",
    "- 'Excelente servicio',\n",
    "- 'Falta de enchufes',\n",
    "- 'No hay internet',\n",
    "- 'Poco espacio para buscar libros',\n",
    "- 'El internet falla mucho',\n",
    "- 'Falta iluminacion',\n",
    "- 'Falta literatura',\n",
    "- 'Luz pesima',\n",
    "- 'Mucho frio',\n",
    "- 'Mucho calor en invierno',\n",
    "- 'Calefaccion espantosa',\n",
    "- 'Mucho frio en verano',\n",
    "- 'Falta de contactos',\n",
    "- 'La luz es deficiente',\n",
    "- 'Personal maleducado',\n",
    "- 'La climatizacion es espantosa',\n",
    "- 'Trato desagradable de los empleados',\n",
    "- 'Falta de mantenimiento',\n",
    "- 'Falta de limpieza'\n",
    "\n",
    "**Respuesta:**"
   ]
  },
  {
   "cell_type": "code",
   "execution_count": null,
   "metadata": {},
   "outputs": [],
   "source": [
    "#Lea el archivo y codifique las reseñas usando Tf*Idf agrupando 1, 2 o (1 y 2) palabras.\n"
   ]
  },
  {
   "cell_type": "code",
   "execution_count": null,
   "metadata": {},
   "outputs": [],
   "source": [
    "#Defina un criterio para reducir la dimensión de los vectores generados por la codificación."
   ]
  },
  {
   "cell_type": "code",
   "execution_count": null,
   "metadata": {},
   "outputs": [],
   "source": [
    "#Reduzca la dimensionalidad de las reseñas codificadas y clasifique por K-means."
   ]
  },
  {
   "cell_type": "code",
   "execution_count": null,
   "metadata": {},
   "outputs": [],
   "source": [
    "#Que agrupación separó mejor las reseñas de acuerdo a los recursos usados en la biblioteca? (esto es, deficiencias de WiFi, red eléctrica, trato del personal, etc.)"
   ]
  },
  {
   "cell_type": "code",
   "execution_count": null,
   "metadata": {},
   "outputs": [],
   "source": [
    "#Finalmente, evalúe las siguientes oraciones con la transformación Tf*Idf"
   ]
  }
 ],
 "metadata": {
  "kernelspec": {
   "display_name": "Python 3 (ipykernel)",
   "language": "python",
   "name": "python3"
  },
  "language_info": {
   "codemirror_mode": {
    "name": "ipython",
    "version": 3
   },
   "file_extension": ".py",
   "mimetype": "text/x-python",
   "name": "python",
   "nbconvert_exporter": "python",
   "pygments_lexer": "ipython3",
   "version": "3.8.8"
  }
 },
 "nbformat": 4,
 "nbformat_minor": 4
}
