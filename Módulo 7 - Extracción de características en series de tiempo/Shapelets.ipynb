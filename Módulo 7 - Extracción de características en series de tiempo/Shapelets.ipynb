{
 "cells": [
  {
   "cell_type": "markdown",
   "metadata": {},
   "source": [
    "<img style=\"float: left;;\" src='Figures/iteso.jpg' width=\"100\" height=\"200\"/></a>\n",
    "\n",
    "# <center> <font color= #000047> Shapelets </font> </center>"
   ]
  },
  {
   "cell_type": "code",
   "execution_count": null,
   "metadata": {
    "colab": {
     "base_uri": "https://localhost:8080/",
     "height": 294
    },
    "executionInfo": {
     "elapsed": 1056,
     "status": "ok",
     "timestamp": 1651190285351,
     "user": {
      "displayName": "Carlos Arellano",
      "userId": "03055712073717640513"
     },
     "user_tz": 300
    },
    "id": "tbyFfB-YfzT5",
    "outputId": "0f920505-58ea-42fd-efae-ca9c58984eb8"
   },
   "outputs": [],
   "source": [
    "import pandas as pd\n",
    "import numpy as np\n",
    "import matplotlib.pyplot as plt\n",
    "\n",
    "def cuadrada(x,a=1):\n",
    "    Y=np.sin(x)\n",
    "    s=[]\n",
    "    for y in Y:\n",
    "        if y<0:\n",
    "            s.append(-a)\n",
    "        elif y>0:\n",
    "        s.append(a)\n",
    "    return np.array(s)\n",
    "N=1000\n",
    "t=pd.date_range('2020-01-01',periods=N)\n",
    "w1=np.linspace(0.01,0.05,N//2)\n",
    "w2=np.linspace(0.05,0.1,N//2)\n",
    "\n",
    "x1=np.sin(w1*np.arange(N//2))\n",
    "x2=cuadrada(w2*np.arange(N//2+1,N+1))\n",
    "x=np.concatenate([x1,x2])\n",
    "st=pd.DataFrame(index=t,data=x,columns=['x'])\n",
    "st.plot(grid=True)"
   ]
  },
  {
   "cell_type": "code",
   "execution_count": null,
   "metadata": {
    "colab": {
     "base_uri": "https://localhost:8080/",
     "height": 294
    },
    "executionInfo": {
     "elapsed": 320,
     "status": "ok",
     "timestamp": 1651190562546,
     "user": {
      "displayName": "Carlos Arellano",
      "userId": "03055712073717640513"
     },
     "user_tz": 300
    },
    "id": "4obiV5apf7jF",
    "outputId": "b2d4e416-96b5-41d3-87fc-6ab18a91690c"
   },
   "outputs": [],
   "source": [
    "# Inicialización de parámetros de la shapelet candidata\n",
    "w=np.random.randint(50,200)\n",
    "i=np.random.randint(0,N-w)\n",
    "s=st[i:i+w]\n",
    "s.plot(grid=True)"
   ]
  },
  {
   "cell_type": "code",
   "execution_count": null,
   "metadata": {
    "executionInfo": {
     "elapsed": 682,
     "status": "ok",
     "timestamp": 1651190699742,
     "user": {
      "displayName": "Carlos Arellano",
      "userId": "03055712073717640513"
     },
     "user_tz": 300
    },
    "id": "VQV7V3H0omq3"
   },
   "outputs": [],
   "source": [
    "from scipy.stats import zscore"
   ]
  },
  {
   "cell_type": "code",
   "execution_count": null,
   "metadata": {
    "executionInfo": {
     "elapsed": 175,
     "status": "ok",
     "timestamp": 1651191886996,
     "user": {
      "displayName": "Carlos Arellano",
      "userId": "03055712073717640513"
     },
     "user_tz": 300
    },
    "id": "AEEzetsGnz-P"
   },
   "outputs": [],
   "source": [
    "# Encontramos la relación entre la shapelet candidata y la serie de tiempo\n",
    "#\n",
    "# Definimos la métrica\n",
    "def C(a,b):   # Correlación ('a' y 'b' de longitud 'm')\n",
    "    m=len(a)\n",
    "    ma=np.mean(a)\n",
    "    mb=np.mean(b)\n",
    "    sa=np.std(a)\n",
    "    sb=np.std(b)\n",
    "    return (np.sum(a*b)-m*ma*mb)/(m*sa*sb)\n",
    "def d(a,b):   # distancia (métrica)\n",
    "    a=zscore(a)\n",
    "    b=zscore(b)\n",
    "    return np.sqrt(2*(1-np.round(C(a,b),5)))"
   ]
  },
  {
   "cell_type": "code",
   "execution_count": null,
   "metadata": {
    "colab": {
     "base_uri": "https://localhost:8080/"
    },
    "executionInfo": {
     "elapsed": 180,
     "status": "ok",
     "timestamp": 1651191888325,
     "user": {
      "displayName": "Carlos Arellano",
      "userId": "03055712073717640513"
     },
     "user_tz": 300
    },
    "id": "Bp7epf_2phlI",
    "outputId": "5a349e15-137b-4926-a4e2-21eaebbd31ae"
   },
   "outputs": [],
   "source": [
    "m=100\n",
    "a=np.random.rand(m)\n",
    "b=np.random.rand(m)\n",
    "d(a,b)"
   ]
  },
  {
   "cell_type": "code",
   "execution_count": null,
   "metadata": {
    "colab": {
     "base_uri": "https://localhost:8080/"
    },
    "executionInfo": {
     "elapsed": 191,
     "status": "ok",
     "timestamp": 1651191552261,
     "user": {
      "displayName": "Carlos Arellano",
      "userId": "03055712073717640513"
     },
     "user_tz": 300
    },
    "id": "9_y20F_Appnx",
    "outputId": "4da61be2-a397-40a2-9186-0ddb1ba802f0"
   },
   "outputs": [],
   "source": [
    "d(a,2*a)"
   ]
  },
  {
   "cell_type": "code",
   "execution_count": null,
   "metadata": {
    "colab": {
     "base_uri": "https://localhost:8080/"
    },
    "executionInfo": {
     "elapsed": 163,
     "status": "ok",
     "timestamp": 1651191892570,
     "user": {
      "displayName": "Carlos Arellano",
      "userId": "03055712073717640513"
     },
     "user_tz": 300
    },
    "id": "RzQGVTFNpw2Z",
    "outputId": "1bb33eac-bfbf-4aea-8d24-add5002ed9cb"
   },
   "outputs": [],
   "source": [
    "np.round(C(a,2*a),5)"
   ]
  },
  {
   "cell_type": "code",
   "execution_count": null,
   "metadata": {
    "executionInfo": {
     "elapsed": 195,
     "status": "ok",
     "timestamp": 1651191898214,
     "user": {
      "displayName": "Carlos Arellano",
      "userId": "03055712073717640513"
     },
     "user_tz": 300
    },
    "id": "OSTKCWvnqFP2"
   },
   "outputs": [],
   "source": [
    "def C(a,b): # Correlación ('a' y 'b' tienen diferente longitud)\n",
    "    m=min(len(a),len(b))\n",
    "    n=max(len(a),len(b))\n",
    "    if len(a)>len(b):\n",
    "        B=a\n",
    "        A=b\n",
    "    else:\n",
    "        B=b\n",
    "        A=a\n",
    "    ma=np.mean(A)\n",
    "    mb=np.mean(B)\n",
    "    sa=np.std(A)\n",
    "    sb=np.std(B)\n",
    "    Corr=np.inf\n",
    "    for l in range(n-m):\n",
    "        Corr=min(Corr,(np.sum(A*B[l:l+m])-m*ma*mb)/(m*sa*sb))\n",
    "    return Corr"
   ]
  },
  {
   "cell_type": "code",
   "execution_count": null,
   "metadata": {
    "colab": {
     "base_uri": "https://localhost:8080/"
    },
    "executionInfo": {
     "elapsed": 181,
     "status": "ok",
     "timestamp": 1651191900994,
     "user": {
      "displayName": "Carlos Arellano",
      "userId": "03055712073717640513"
     },
     "user_tz": 300
    },
    "id": "7NZQZLTUrhsP",
    "outputId": "0b876981-b4bc-47a4-92b8-4356c6833c88"
   },
   "outputs": [],
   "source": [
    "a=np.random.rand(100)\n",
    "b=np.random.rand(150)\n",
    "d(a,b)"
   ]
  },
  {
   "cell_type": "code",
   "execution_count": null,
   "metadata": {
    "colab": {
     "base_uri": "https://localhost:8080/"
    },
    "executionInfo": {
     "elapsed": 173,
     "status": "ok",
     "timestamp": 1651191936116,
     "user": {
      "displayName": "Carlos Arellano",
      "userId": "03055712073717640513"
     },
     "user_tz": 300
    },
    "id": "x-KsPJK3sR_5",
    "outputId": "5958debc-efbb-48fc-b635-88ffb440db06"
   },
   "outputs": [],
   "source": [
    "a=np.random.rand(150)\n",
    "b=np.random.rand(100)\n",
    "d(a,b)"
   ]
  },
  {
   "cell_type": "code",
   "execution_count": null,
   "metadata": {
    "executionInfo": {
     "elapsed": 166,
     "status": "ok",
     "timestamp": 1651191988284,
     "user": {
      "displayName": "Carlos Arellano",
      "userId": "03055712073717640513"
     },
     "user_tz": 300
    },
    "id": "BdZPaBIyrqDn"
   },
   "outputs": [],
   "source": [
    "from scipy.optimize import minimize_scalar"
   ]
  },
  {
   "cell_type": "code",
   "execution_count": null,
   "metadata": {
    "executionInfo": {
     "elapsed": 164,
     "status": "ok",
     "timestamp": 1651191997925,
     "user": {
      "displayName": "Carlos Arellano",
      "userId": "03055712073717640513"
     },
     "user_tz": 300
    },
    "id": "4HLYsmThtj4c"
   },
   "outputs": [],
   "source": [
    "minimize_scalar?"
   ]
  },
  {
   "cell_type": "code",
   "execution_count": null,
   "metadata": {
    "colab": {
     "base_uri": "https://localhost:8080/"
    },
    "executionInfo": {
     "elapsed": 168,
     "status": "ok",
     "timestamp": 1651192089402,
     "user": {
      "displayName": "Carlos Arellano",
      "userId": "03055712073717640513"
     },
     "user_tz": 300
    },
    "id": "FQj_qwmit452",
    "outputId": "64357e68-e40c-4111-ee95-036d12b646bb"
   },
   "outputs": [],
   "source": [
    "d(s['x'],st['x'])"
   ]
  },
  {
   "cell_type": "code",
   "execution_count": null,
   "metadata": {
    "executionInfo": {
     "elapsed": 171,
     "status": "ok",
     "timestamp": 1651192175906,
     "user": {
      "displayName": "Carlos Arellano",
      "userId": "03055712073717640513"
     },
     "user_tz": 300
    },
    "id": "rema_9G2tmPm"
   },
   "outputs": [],
   "source": [
    "def obj(i,st):\n",
    "    i=int(np.round(i))\n",
    "    s=st[i:i+w]\n",
    "    return d(s,st)"
   ]
  },
  {
   "cell_type": "code",
   "execution_count": null,
   "metadata": {
    "colab": {
     "base_uri": "https://localhost:8080/"
    },
    "executionInfo": {
     "elapsed": 265,
     "status": "ok",
     "timestamp": 1651192192666,
     "user": {
      "displayName": "Carlos Arellano",
      "userId": "03055712073717640513"
     },
     "user_tz": 300
    },
    "id": "rr_pGjOiuRsA",
    "outputId": "0265f60b-a08a-405f-c9da-1d244aa5433f"
   },
   "outputs": [],
   "source": [
    "obj(i,st['x'])"
   ]
  },
  {
   "cell_type": "code",
   "execution_count": null,
   "metadata": {
    "executionInfo": {
     "elapsed": 198,
     "status": "ok",
     "timestamp": 1651192819457,
     "user": {
      "displayName": "Carlos Arellano",
      "userId": "03055712073717640513"
     },
     "user_tz": 300
    },
    "id": "2X_o5LB9wq3n"
   },
   "outputs": [],
   "source": [
    "# Modificar el valor de w\n",
    "w=100"
   ]
  },
  {
   "cell_type": "code",
   "execution_count": null,
   "metadata": {
    "colab": {
     "base_uri": "https://localhost:8080/"
    },
    "executionInfo": {
     "elapsed": 236,
     "status": "ok",
     "timestamp": 1651192820294,
     "user": {
      "displayName": "Carlos Arellano",
      "userId": "03055712073717640513"
     },
     "user_tz": 300
    },
    "id": "b4B8sZtKudTX",
    "outputId": "a3c7f92d-870f-4cc3-f865-d627cf51789a"
   },
   "outputs": [],
   "source": [
    "sol=minimize_scalar(obj,bounds=(0,N-w),method='Bounded',args=(st['x'],))\n",
    "sol"
   ]
  },
  {
   "cell_type": "code",
   "execution_count": null,
   "metadata": {
    "colab": {
     "base_uri": "https://localhost:8080/",
     "height": 294
    },
    "executionInfo": {
     "elapsed": 478,
     "status": "ok",
     "timestamp": 1651192832125,
     "user": {
      "displayName": "Carlos Arellano",
      "userId": "03055712073717640513"
     },
     "user_tz": 300
    },
    "id": "GK0QqfYgurrW",
    "outputId": "8380f33b-b532-4e7c-fa19-21f4a20856f4"
   },
   "outputs": [],
   "source": [
    "i1=int(np.round(sol.x))\n",
    "s1=st[i1:i1+w]\n",
    "s1.plot(grid=True)"
   ]
  },
  {
   "cell_type": "code",
   "execution_count": null,
   "metadata": {
    "colab": {
     "base_uri": "https://localhost:8080/"
    },
    "executionInfo": {
     "elapsed": 399,
     "status": "ok",
     "timestamp": 1651192839113,
     "user": {
      "displayName": "Carlos Arellano",
      "userId": "03055712073717640513"
     },
     "user_tz": 300
    },
    "id": "SfQpMClzu6NF",
    "outputId": "1c1f8ac3-c4af-4d21-f2fa-a06e64a008d4"
   },
   "outputs": [],
   "source": [
    "sol2=minimize_scalar(obj,bounds=(0,i1-w),method='Bounded',args=(st['x'],)) # Buscamos por la izquierda de la primera shapelet\n",
    "i2=int(np.round(sol2.x))\n",
    "i2,sol2.fun"
   ]
  },
  {
   "cell_type": "code",
   "execution_count": null,
   "metadata": {
    "colab": {
     "base_uri": "https://localhost:8080/",
     "height": 294
    },
    "executionInfo": {
     "elapsed": 478,
     "status": "ok",
     "timestamp": 1651192848144,
     "user": {
      "displayName": "Carlos Arellano",
      "userId": "03055712073717640513"
     },
     "user_tz": 300
    },
    "id": "8SvpFhNvvZpN",
    "outputId": "00fd8b67-190b-46cb-9c64-30a1355cf1f7"
   },
   "outputs": [],
   "source": [
    "s2=st[i2:i2+w]\n",
    "s2.plot(grid=True)"
   ]
  },
  {
   "cell_type": "code",
   "execution_count": null,
   "metadata": {
    "colab": {
     "base_uri": "https://localhost:8080/"
    },
    "executionInfo": {
     "elapsed": 431,
     "status": "ok",
     "timestamp": 1651192852473,
     "user": {
      "displayName": "Carlos Arellano",
      "userId": "03055712073717640513"
     },
     "user_tz": 300
    },
    "id": "VzGs8euIvsK2",
    "outputId": "7398802d-a4a7-4450-895a-b3cf9e51130c"
   },
   "outputs": [],
   "source": [
    "sol3=minimize_scalar(obj,bounds=(i1+w,N-w),method='Bounded',args=(st['x'],))\n",
    "i3=int(np.round(sol3.x))\n",
    "i3,sol3.fun"
   ]
  },
  {
   "cell_type": "code",
   "execution_count": null,
   "metadata": {
    "colab": {
     "base_uri": "https://localhost:8080/",
     "height": 294
    },
    "executionInfo": {
     "elapsed": 390,
     "status": "ok",
     "timestamp": 1651192863110,
     "user": {
      "displayName": "Carlos Arellano",
      "userId": "03055712073717640513"
     },
     "user_tz": 300
    },
    "id": "gPsTYyW9wSB5",
    "outputId": "50fe6f1a-75d1-4f4b-af19-525aa0f6e250"
   },
   "outputs": [],
   "source": [
    "s3=st[i3:i3+w]\n",
    "s3.plot(grid=True)"
   ]
  },
  {
   "cell_type": "code",
   "execution_count": null,
   "metadata": {
    "colab": {
     "base_uri": "https://localhost:8080/",
     "height": 594
    },
    "executionInfo": {
     "elapsed": 702,
     "status": "ok",
     "timestamp": 1651193849553,
     "user": {
      "displayName": "Carlos Arellano",
      "userId": "03055712073717640513"
     },
     "user_tz": 300
    },
    "id": "gvYdsIbZw5Z8",
    "outputId": "2ec93ae8-e5a1-4ff9-a238-3e908486a854"
   },
   "outputs": [],
   "source": [
    "# Diccionario de patrones\n",
    "#\n",
    "# Escogemos s2 y s3 para clasificar 'st'\n",
    "s1['clase']=1\n",
    "s2['clase']=2\n",
    "s3['clase']=3\n",
    "S=np.concatenate([s1.values,s2.values,s3.values])\n",
    "S=pd.DataFrame(S)\n",
    "S.plot(grid=True)"
   ]
  },
  {
   "cell_type": "code",
   "execution_count": null,
   "metadata": {
    "executionInfo": {
     "elapsed": 188,
     "status": "ok",
     "timestamp": 1651193856294,
     "user": {
      "displayName": "Carlos Arellano",
      "userId": "03055712073717640513"
     },
     "user_tz": 300
    },
    "id": "aUW0xPSLxv_m"
   },
   "outputs": [],
   "source": [
    "S.columns=['x','clase']"
   ]
  },
  {
   "cell_type": "code",
   "execution_count": null,
   "metadata": {
    "executionInfo": {
     "elapsed": 192,
     "status": "ok",
     "timestamp": 1651193301221,
     "user": {
      "displayName": "Carlos Arellano",
      "userId": "03055712073717640513"
     },
     "user_tz": 300
    },
    "id": "tAYIzohmyd7e"
   },
   "outputs": [],
   "source": [
    "from sklearn.tree import DecisionTreeClassifier"
   ]
  },
  {
   "cell_type": "code",
   "execution_count": null,
   "metadata": {
    "colab": {
     "base_uri": "https://localhost:8080/"
    },
    "executionInfo": {
     "elapsed": 1,
     "status": "ok",
     "timestamp": 1651193858927,
     "user": {
      "displayName": "Carlos Arellano",
      "userId": "03055712073717640513"
     },
     "user_tz": 300
    },
    "id": "JEJHRKyCykae",
    "outputId": "0e8d3bbd-8d39-4cff-9584-d7342867d2dc"
   },
   "outputs": [],
   "source": [
    "dtc=DecisionTreeClassifier(max_depth=5)\n",
    "dtc.fit(S[['x']],S['clase'])"
   ]
  },
  {
   "cell_type": "code",
   "execution_count": null,
   "metadata": {
    "colab": {
     "base_uri": "https://localhost:8080/",
     "height": 294
    },
    "executionInfo": {
     "elapsed": 430,
     "status": "ok",
     "timestamp": 1651193860686,
     "user": {
      "displayName": "Carlos Arellano",
      "userId": "03055712073717640513"
     },
     "user_tz": 300
    },
    "id": "OWTu4cRDy1Z_",
    "outputId": "f6508d70-5c4f-4ba3-b2f8-0e24245e7719"
   },
   "outputs": [],
   "source": [
    "st['clase']=dtc.predict(st[['x']])\n",
    "st.plot(grid=True)"
   ]
  },
  {
   "cell_type": "code",
   "execution_count": null,
   "metadata": {
    "colab": {
     "base_uri": "https://localhost:8080/"
    },
    "executionInfo": {
     "elapsed": 200,
     "status": "ok",
     "timestamp": 1651193933143,
     "user": {
      "displayName": "Carlos Arellano",
      "userId": "03055712073717640513"
     },
     "user_tz": 300
    },
    "id": "AAfmYadTzCjm",
    "outputId": "66b5a001-402d-42ec-fd4b-835ece9d137e"
   },
   "outputs": [],
   "source": [
    "st.groupby('clase')['x'].count()"
   ]
  },
  {
   "cell_type": "code",
   "execution_count": null,
   "metadata": {
    "id": "w7t7eZ19zcgt"
   },
   "outputs": [],
   "source": []
  }
 ],
 "metadata": {
  "colab": {
   "authorship_tag": "ABX9TyOwa+nPRB4XaMZTJ0y+9l3u",
   "collapsed_sections": [],
   "name": "Shapelets.ipynb",
   "provenance": []
  },
  "kernelspec": {
   "display_name": "Python 3 (ipykernel)",
   "language": "python",
   "name": "python3"
  },
  "language_info": {
   "codemirror_mode": {
    "name": "ipython",
    "version": 3
   },
   "file_extension": ".py",
   "mimetype": "text/x-python",
   "name": "python",
   "nbconvert_exporter": "python",
   "pygments_lexer": "ipython3",
   "version": "3.8.8"
  }
 },
 "nbformat": 4,
 "nbformat_minor": 1
}
