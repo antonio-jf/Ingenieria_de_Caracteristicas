{
 "cells": [
  {
   "cell_type": "markdown",
   "metadata": {},
   "source": [
    "<img style=\"float: left;;\" src='Figures/iteso.jpg' width=\"100\" height=\"200\"/></a>\n",
    "\n",
    "# <center> <font color= #000047> Intervalos </font> </center>"
   ]
  },
  {
   "cell_type": "code",
   "execution_count": null,
   "metadata": {
    "executionInfo": {
     "elapsed": 997,
     "status": "ok",
     "timestamp": 1651017271844,
     "user": {
      "displayName": "Carlos Arellano",
      "userId": "03055712073717640513"
     },
     "user_tz": 300
    },
    "id": "p-pAPIK2LpUG"
   },
   "outputs": [],
   "source": [
    "import pandas as pd\n",
    "import numpy as np\n",
    "import matplotlib.pyplot as plt\n",
    "import datetime\n",
    "from sklearn.linear_model import LinearRegression"
   ]
  },
  {
   "cell_type": "code",
   "execution_count": null,
   "metadata": {
    "colab": {
     "base_uri": "https://localhost:8080/",
     "height": 206
    },
    "executionInfo": {
     "elapsed": 318,
     "status": "ok",
     "timestamp": 1651017338506,
     "user": {
      "displayName": "Carlos Arellano",
      "userId": "03055712073717640513"
     },
     "user_tz": 300
    },
    "id": "rSjDOEcuLq3z",
    "outputId": "12f443c6-12e9-40bf-a450-801a676db631"
   },
   "outputs": [],
   "source": [
    "data=pd.read_csv('h2o.csv')\n",
    "data.head()"
   ]
  },
  {
   "cell_type": "code",
   "execution_count": null,
   "metadata": {
    "colab": {
     "base_uri": "https://localhost:8080/",
     "height": 206
    },
    "executionInfo": {
     "elapsed": 149,
     "status": "ok",
     "timestamp": 1651017370617,
     "user": {
      "displayName": "Carlos Arellano",
      "userId": "03055712073717640513"
     },
     "user_tz": 300
    },
    "id": "L6xhbHg6TUv3",
    "outputId": "eb3b8c47-e9b4-4ccd-eee1-8a351b7b8bd2"
   },
   "outputs": [],
   "source": [
    "data.tail()"
   ]
  },
  {
   "cell_type": "code",
   "execution_count": null,
   "metadata": {
    "colab": {
     "base_uri": "https://localhost:8080/"
    },
    "executionInfo": {
     "elapsed": 134,
     "status": "ok",
     "timestamp": 1651017498987,
     "user": {
      "displayName": "Carlos Arellano",
      "userId": "03055712073717640513"
     },
     "user_tz": 300
    },
    "id": "R5MfLXyJT5AR",
    "outputId": "49335d64-d7e5-4162-9669-d3ba763d2a97"
   },
   "outputs": [],
   "source": [
    "data['fecha'].dtype"
   ]
  },
  {
   "cell_type": "code",
   "execution_count": null,
   "metadata": {
    "colab": {
     "base_uri": "https://localhost:8080/",
     "height": 206
    },
    "executionInfo": {
     "elapsed": 185,
     "status": "ok",
     "timestamp": 1651017627203,
     "user": {
      "displayName": "Carlos Arellano",
      "userId": "03055712073717640513"
     },
     "user_tz": 300
    },
    "id": "ftcARxXFTbDX",
    "outputId": "fe726ba6-c279-413f-fb5c-32cd99e1bc95"
   },
   "outputs": [],
   "source": [
    "data['fecha']=pd.to_datetime(data['fecha'])\n",
    "data['año']=data.fecha.dt.year\n",
    "data['mes']=data.fecha.dt.month\n",
    "data.head()"
   ]
  },
  {
   "cell_type": "code",
   "execution_count": null,
   "metadata": {
    "colab": {
     "base_uri": "https://localhost:8080/"
    },
    "executionInfo": {
     "elapsed": 155,
     "status": "ok",
     "timestamp": 1651017722989,
     "user": {
      "displayName": "Carlos Arellano",
      "userId": "03055712073717640513"
     },
     "user_tz": 300
    },
    "id": "3HZR_JFTUbQO",
    "outputId": "f367d4e8-e27c-4b63-9bfc-048d21add9c1"
   },
   "outputs": [],
   "source": [
    "datetime.datetime.timestamp(data['fecha'][0])"
   ]
  },
  {
   "cell_type": "code",
   "execution_count": null,
   "metadata": {
    "colab": {
     "base_uri": "https://localhost:8080/",
     "height": 338
    },
    "executionInfo": {
     "elapsed": 994,
     "status": "ok",
     "timestamp": 1651018324897,
     "user": {
      "displayName": "Carlos Arellano",
      "userId": "03055712073717640513"
     },
     "user_tz": 300
    },
    "id": "i8NYlQtFU6a-",
    "outputId": "c55580b3-a0c2-4ff7-beaa-5b6198c1425b"
   },
   "outputs": [],
   "source": [
    "data['seg']=data['fecha'].map(datetime.datetime.timestamp)\n",
    "w=data['seg']/(60*60*24*365.2425)*2*np.pi\n",
    "data['sin t']=np.sin(w)\n",
    "data['cos t']=np.cos(w)\n",
    "data[['sin t','cos t']].plot(grid=True,figsize=(15,5))"
   ]
  },
  {
   "cell_type": "code",
   "execution_count": null,
   "metadata": {
    "colab": {
     "base_uri": "https://localhost:8080/",
     "height": 338
    },
    "executionInfo": {
     "elapsed": 679,
     "status": "ok",
     "timestamp": 1651018527387,
     "user": {
      "displayName": "Carlos Arellano",
      "userId": "03055712073717640513"
     },
     "user_tz": 300
    },
    "id": "DuVg2Q3QWVST",
    "outputId": "98bd8177-0ef9-49f5-da79-cd3529fedd07"
   },
   "outputs": [],
   "source": [
    "data['x'].plot(grid=True,figsize=(15,5))"
   ]
  },
  {
   "cell_type": "markdown",
   "metadata": {
    "id": "R8H2_bSqYV72"
   },
   "source": [
    "# Extracción de características por intervalos"
   ]
  },
  {
   "cell_type": "code",
   "execution_count": null,
   "metadata": {
    "colab": {
     "base_uri": "https://localhost:8080/",
     "height": 112
    },
    "executionInfo": {
     "elapsed": 147,
     "status": "ok",
     "timestamp": 1651018772434,
     "user": {
      "displayName": "Carlos Arellano",
      "userId": "03055712073717640513"
     },
     "user_tz": 300
    },
    "id": "6Y7MnId0YxgC",
    "outputId": "38123325-e7a6-4d8d-8de1-3ba8a810fe3d"
   },
   "outputs": [],
   "source": [
    "data.head(2)"
   ]
  },
  {
   "cell_type": "code",
   "execution_count": null,
   "metadata": {
    "executionInfo": {
     "elapsed": 335,
     "status": "ok",
     "timestamp": 1651019656197,
     "user": {
      "displayName": "Carlos Arellano",
      "userId": "03055712073717640513"
     },
     "user_tz": 300
    },
    "id": "FQtQajTWXyP5"
   },
   "outputs": [],
   "source": [
    "me=[]\n",
    "std=[]\n",
    "tendencia=[]\n",
    "w=6\n",
    "x=data['x']\n",
    "lin=LinearRegression()\n",
    "for i in range(len(x)-w):\n",
    "    me.append(x[i:i+w].mean())\n",
    "    std.append(x[i:i+w].std())\n",
    "    t=data['seg'][i:i+w].values/(60*60*24*365.2425)\n",
    "    lin.fit(t.reshape(-1,1),x[i:i+w])\n",
    "    tendencia.append(lin.coef_[0])"
   ]
  },
  {
   "cell_type": "code",
   "execution_count": null,
   "metadata": {
    "colab": {
     "base_uri": "https://localhost:8080/",
     "height": 623
    },
    "executionInfo": {
     "elapsed": 551,
     "status": "ok",
     "timestamp": 1651019657192,
     "user": {
      "displayName": "Carlos Arellano",
      "userId": "03055712073717640513"
     },
     "user_tz": 300
    },
    "id": "iHIGOqTZankZ",
    "outputId": "3bf68a60-f3d5-4d24-c1fe-82e38fdd9696"
   },
   "outputs": [],
   "source": [
    "plt.figure(figsize=(15,5))\n",
    "plt.plot(x)\n",
    "plt.plot(data.index[w:],me,label='media')\n",
    "plt.legend()\n",
    "plt.grid()\n",
    "\n",
    "plt.figure(figsize=(15,5))\n",
    "plt.plot(std,label='std')\n",
    "plt.plot(tendencia,label='tendencia')\n",
    "plt.legend()\n",
    "plt.grid()"
   ]
  },
  {
   "cell_type": "markdown",
   "metadata": {
    "id": "BYQZbo7QcWZH"
   },
   "source": [
    "# Regresión"
   ]
  },
  {
   "cell_type": "code",
   "execution_count": null,
   "metadata": {
    "executionInfo": {
     "elapsed": 152,
     "status": "ok",
     "timestamp": 1651019844541,
     "user": {
      "displayName": "Carlos Arellano",
      "userId": "03055712073717640513"
     },
     "user_tz": 300
    },
    "id": "R6VXjyzlc1F1"
   },
   "outputs": [],
   "source": [
    "from scipy.stats import zscore"
   ]
  },
  {
   "cell_type": "code",
   "execution_count": null,
   "metadata": {
    "colab": {
     "base_uri": "https://localhost:8080/"
    },
    "executionInfo": {
     "elapsed": 140,
     "status": "ok",
     "timestamp": 1651019925926,
     "user": {
      "displayName": "Carlos Arellano",
      "userId": "03055712073717640513"
     },
     "user_tz": 300
    },
    "id": "RVkE5Ylta0jg",
    "outputId": "086e7d78-6a2e-45af-8161-ae706fc9207e"
   },
   "outputs": [],
   "source": [
    "X=zscore(np.array([me,std,tendencia,data['sin t'].values[w:],data['cos t'].values[w:]]).T)\n",
    "Y=zscore(data['x'][w:])\n",
    "X.shape,Y.shape"
   ]
  },
  {
   "cell_type": "code",
   "execution_count": null,
   "metadata": {
    "executionInfo": {
     "elapsed": 3248,
     "status": "ok",
     "timestamp": 1651020009316,
     "user": {
      "displayName": "Carlos Arellano",
      "userId": "03055712073717640513"
     },
     "user_tz": 300
    },
    "id": "mctVZ0fBdInI"
   },
   "outputs": [],
   "source": [
    "import tensorflow as tf\n",
    "from tensorflow import keras\n",
    "from tensorflow.keras import layers"
   ]
  },
  {
   "cell_type": "code",
   "execution_count": null,
   "metadata": {
    "executionInfo": {
     "elapsed": 467,
     "status": "ok",
     "timestamp": 1651020443893,
     "user": {
      "displayName": "Carlos Arellano",
      "userId": "03055712073717640513"
     },
     "user_tz": 300
    },
    "id": "A73kEffbdgGS"
   },
   "outputs": [],
   "source": [
    "nnet=keras.Sequential([\n",
    "                       keras.Input(shape=(5,)),\n",
    "                       layers.Dense(5,activation=tf.nn.tanh),\n",
    "                       layers.Dense(1,activation=tf.nn.tanh)\n",
    "])\n",
    "nnet.compile(loss='mean_squared_error',optimizer='sgd')"
   ]
  },
  {
   "cell_type": "code",
   "execution_count": null,
   "metadata": {
    "colab": {
     "base_uri": "https://localhost:8080/"
    },
    "executionInfo": {
     "elapsed": 158,
     "status": "ok",
     "timestamp": 1651020454211,
     "user": {
      "displayName": "Carlos Arellano",
      "userId": "03055712073717640513"
     },
     "user_tz": 300
    },
    "id": "veySegXvfK4A",
    "outputId": "7396098a-5327-4a7c-9dbc-625e924143ad"
   },
   "outputs": [],
   "source": [
    "nnet.summary()"
   ]
  },
  {
   "cell_type": "code",
   "execution_count": null,
   "metadata": {
    "id": "hW-ZDrOYfNdQ"
   },
   "outputs": [],
   "source": [
    "nnet.fit(X,Y/2,epochs=500)"
   ]
  },
  {
   "cell_type": "code",
   "execution_count": null,
   "metadata": {
    "colab": {
     "base_uri": "https://localhost:8080/",
     "height": 265
    },
    "executionInfo": {
     "elapsed": 398,
     "status": "ok",
     "timestamp": 1651020794692,
     "user": {
      "displayName": "Carlos Arellano",
      "userId": "03055712073717640513"
     },
     "user_tz": 300
    },
    "id": "ovXwmu4ifbV_",
    "outputId": "56599635-92b0-4ef0-f7e7-b5296121a56a"
   },
   "outputs": [],
   "source": [
    "y=nnet(X)\n",
    "plt.plot(y,label='regresión')\n",
    "plt.plot(Y/2,label='Serie')\n",
    "plt.legend()\n",
    "plt.grid()"
   ]
  }
 ],
 "metadata": {
  "colab": {
   "authorship_tag": "ABX9TyMrgQk1wykQkPN4aH60J8JK",
   "collapsed_sections": [],
   "mount_file_id": "1pEQq9i8CtXLDiK6ZaV8gnCCoyOHhmKxY",
   "name": "Intervalos.ipynb",
   "provenance": []
  },
  "kernelspec": {
   "display_name": "Python 3 (ipykernel)",
   "language": "python",
   "name": "python3"
  },
  "language_info": {
   "codemirror_mode": {
    "name": "ipython",
    "version": 3
   },
   "file_extension": ".py",
   "mimetype": "text/x-python",
   "name": "python",
   "nbconvert_exporter": "python",
   "pygments_lexer": "ipython3",
   "version": "3.8.8"
  }
 },
 "nbformat": 4,
 "nbformat_minor": 1
}
